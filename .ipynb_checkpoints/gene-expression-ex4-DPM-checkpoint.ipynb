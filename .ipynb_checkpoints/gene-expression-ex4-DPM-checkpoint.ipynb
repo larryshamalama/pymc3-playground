{
 "cells": [
  {
   "cell_type": "code",
   "execution_count": 1,
   "metadata": {},
   "outputs": [],
   "source": [
    "import numpy as np\n",
    "import pandas as pd\n",
    "import matplotlib.pyplot as plt\n",
    "\n",
    "from scipy.stats import norm\n",
    "\n",
    "N_SAMPLES = 1000\n",
    "\n",
    "%config InlineBackend.figure_format = \"retina\"\n",
    "%matplotlib inline"
   ]
  },
  {
   "cell_type": "code",
   "execution_count": 2,
   "metadata": {},
   "outputs": [],
   "source": [
    "with open(\"data/EIG.txt\", \"r+\") as file:\n",
    "    raw_content = file.readlines()\n",
    "    file.seek(0)\n",
    "    if raw_content[1] == \"\\n\":\n",
    "        raw_content.pop(1)\n",
    "    file.writelines(raw_content)"
   ]
  },
  {
   "cell_type": "code",
   "execution_count": 3,
   "metadata": {},
   "outputs": [
    {
     "data": {
      "image/png": "[encoded data removed]",
      "text/plain": [
       "<Figure size 540x360 with 1 Axes>"
      ]
     },
     "metadata": {
      "image/png": {
       "height": 318,
       "width": 468
      },
      "needs_background": "light"
     },
     "output_type": "display_data"
    }
   ],
   "source": [
    "data = pd.read_csv(\"data/EIG.txt\", delimiter=\" \", skipinitialspace=True, index_col=0)\n",
    "y = data.filter(regex=\"recorded\").dropna().values.reshape(-1,)\n",
    "y = np.log(y); n = len(y)\n",
    "\n",
    "fig, ax = plt.subplots(nrows=1, ncols=1, figsize=(7.5, 5))\n",
    "_ = plt.hist(y, bins=11, range=[-10, 1])\n",
    "_ = ax.set_xlabel(\"log(EIG121)\", fontsize=12)\n",
    "_ = ax.set_ylabel(\"Counts\", fontsize=12)"
   ]
  },
  {
   "cell_type": "code",
   "execution_count": 4,
   "metadata": {},
   "outputs": [],
   "source": [
    "a = 1; b = 1 # 1/var ~ Gamma(a, b)\n",
    "m0 = -3; B0 = 4 # G0 \\equiv N(m0, B0)\n",
    "M = 1\n",
    "H = 10"
   ]
  },
  {
   "cell_type": "code",
   "execution_count": 5,
   "metadata": {},
   "outputs": [],
   "source": [
    "def init_dpk():\n",
    "    _mh = np.array(\n",
    "        [\n",
    "            -3.8463066, \n",
    "            -0.1905842,\n",
    "            -5.5525835,\n",
    "            -1.2400170,\n",
    "            -2.5141986,\n",
    "            -7.6999043,\n",
    "            -4.7465500,\n",
    "            -1.8224127,\n",
    "            -9.4334839,\n",
    "            -6.2554301,\n",
    "        ]\n",
    "    )\n",
    "    _wh = np.array(\n",
    "        [\n",
    "            0.29411765,\n",
    "            0.17647059,\n",
    "            0.11764706,\n",
    "            0.11764706,\n",
    "            0.07843137,\n",
    "            0.05882353,\n",
    "            0.05882353,\n",
    "            0.05882353,\n",
    "            0.01960784,\n",
    "            0.01960784,\n",
    "        ]\n",
    "    )\n",
    "    _r = np.array(\n",
    "        [1, 2, 3, 4, 5, 6, 2, 2, 2, 5, 2, 2, 5, 7, 1, 7, 2, 2, 2, 8, 8, 2, 8, 5, 9, 8, 8, 2, 10, 6, 2, 6, 4, 4, 8, 8, 1, 2, 9, 1, 4, 4, 8, 9, 2, 8, 2, 1, 1, 4, 7]\n",
    "    )\n",
    "    _sig = 0.1\n",
    "    \n",
    "    return _mh, _wh, _r, _sig"
   ]
  },
  {
   "cell_type": "code",
   "execution_count": 6,
   "metadata": {},
   "outputs": [
    {
     "data": {
      "text/plain": [
       "array([0.24197072, 0.39894228, 0.24197072])"
      ]
     },
     "execution_count": 6,
     "metadata": {},
     "output_type": "execute_result"
    }
   ],
   "source": [
    "norm.pdf(x=0, loc=np.array([-1, 0, 1]), scale=1)"
   ]
  },
  {
   "cell_type": "code",
   "execution_count": 16,
   "metadata": {},
   "outputs": [],
   "source": [
    "def sample_r(_wh, _mh, _sig, _y=y):\n",
    "    '''\n",
    "    sample allocation indicators...?\n",
    "    '''\n",
    "    _r = []\n",
    "    \n",
    "    for yi in _y:\n",
    "        ph = norm.pdf(x=yi, loc=_mh, scale=_sig)*_wh\n",
    "        _r.append(np.random.choice(range(H), size=1, replace=True, p=ph/ph.sum()))\n",
    "        \n",
    "    return np.array(_r).reshape(-1,)\n",
    "\n",
    "\n",
    "def sample_mh(_wh, _r, _sig):\n",
    "    _mh = []\n",
    "    \n",
    "    for h in range(H):\n",
    "        if any(_r == h):\n",
    "            Sh = np.where(_r == h)[0]\n",
    "            nh = len(Sh)\n",
    "            ybarh = y[Sh].mean()\n",
    "            varh = 1/(1/B0 + nh/(_sig**2))\n",
    "            meanh = varh*(m0/B0 + nh*ybarh/(_sig**2))\n",
    "        else:\n",
    "            varh = B0\n",
    "            meanh = B0\n",
    "        \n",
    "        _mh.append(np.random.normal(loc=meanh, scale=np.sqrt(varh), size=1))\n",
    "        \n",
    "    return np.array(_mh).reshape(-1,)\n",
    "\n",
    "\n",
    "def sample_vh(_r):\n",
    "    _vh = []\n",
    "    _wh = []\n",
    "    V = 1 # for stick-breaking process\n",
    "    \n",
    "    for h in range(H-1):\n",
    "        Ah = np.where(_r == h)[0]\n",
    "        Bh = np.where(_r > h)[0]\n",
    "        _vh.append(np.random.beta(1 + len(Ah), M + len(Bh), size=1))\n",
    "        _wh.append(_vh[-1]*V)\n",
    "        V *= (1 - _vh[-1])\n",
    "    \n",
    "    _vh.append(1)\n",
    "    _wh.append(V)\n",
    "    \n",
    "    return np.array(_wh).reshape(-1,) # sums to 1\n",
    "\n",
    "\n",
    "def sample_sig(_th):\n",
    "    s2 = ((y - _th)**2).sum()\n",
    "    a1 = a + 0.5*n\n",
    "    b1 = b + 0.5*s2\n",
    "    s2_inv = np.random.gamma(a1, b1, size=1)\n",
    "    \n",
    "    return float(1/np.sqrt(s2_inv))\n",
    "\n",
    "\n",
    "def fbar_H(_x_grid, _wh, _mh, _sig):\n",
    "    \n",
    "    fx = np.zeros_like(_x_grid)\n",
    "    \n",
    "    for h in range(H):\n",
    "        fx += _wh[h]*norm.pdf(x=_x_grid, loc=_mh[h], scale=_sig)\n",
    "        \n",
    "    return fx\n",
    "\n",
    "\n",
    "def gibbs_H(n_iter, return_all=True):\n",
    "    mh, wh, r, sig = init_dpk()\n",
    "    \n",
    "    x_grid = np.linspace(-10, 2, num=101)\n",
    "    \n",
    "    for _iter in range(n_iter):\n",
    "        r = sample_r(wh, mh, sig)\n",
    "        mh = sample_mh(wh, r, sig)\n",
    "        vh = sample_vh(r)\n",
    "        th = mh[r]\n",
    "        sig = sample_sig(th)\n",
    "        \n",
    "        f = fbar_H(x_grid, wh, mh, sig)\n",
    "        \n",
    "        if _iter == 0:\n",
    "            f_grid = f\n",
    "            r_acc = r\n",
    "            mh_acc = mh # acc for accumulation\n",
    "            vh_acc = vh\n",
    "            th_acc = th\n",
    "            sig_acc = [sig]\n",
    "        else:\n",
    "            f_grid = np.vstack((f_grid, f))\n",
    "            r_acc = np.vstack((r_acc, r))\n",
    "            mh_acc = np.vstack((mh_acc, mh))\n",
    "            vh_acc = np.vstack((vh_acc, vh))\n",
    "            th_acc = np.vstack((th_acc, th))\n",
    "            sig_acc.extend([sig])\n",
    "            \n",
    "    return {\n",
    "        \"f\": f_grid, \n",
    "        \"r\": r_acc, \n",
    "        \"mh\": mh_acc, \n",
    "        \"vh\": vh_acc, \n",
    "        \"th\": th_acc,\n",
    "        \"sig\": sig_acc,\n",
    "    }"
   ]
  },
  {
   "cell_type": "code",
   "execution_count": 17,
   "metadata": {},
   "outputs": [],
   "source": [
    "results = gibbs_H(n_iter=1000)"
   ]
  },
  {
   "cell_type": "code",
   "execution_count": null,
   "metadata": {},
   "outputs": [],
   "source": [
    "fig, ax = plt.subplots(nrows=1, ncols=1, figsize=(9, 5.5))\n",
    "\n",
    "x_grid = np.linspace(-10, 2, num=101)\n",
    "\n",
    "for i in range(N_SAMPLES):\n",
    "    plt.plot(x_grid, results[\"f\"][i], c=\"k\", linestyle=\"--\", alpha=0.2)"
   ]
  },
  {
   "cell_type": "raw",
   "metadata": {},
   "source": []
  }
 ],
 "metadata": {
  "kernelspec": {
   "display_name": "py38",
   "language": "python",
   "name": "py38"
  },
  "language_info": {
   "codemirror_mode": {
    "name": "ipython",
    "version": 3
   },
   "file_extension": ".py",
   "mimetype": "text/x-python",
   "name": "python",
   "nbconvert_exporter": "python",
   "pygments_lexer": "ipython3",
   "version": "3.8.10"
  }
 },
 "nbformat": 4,
 "nbformat_minor": 4
}
