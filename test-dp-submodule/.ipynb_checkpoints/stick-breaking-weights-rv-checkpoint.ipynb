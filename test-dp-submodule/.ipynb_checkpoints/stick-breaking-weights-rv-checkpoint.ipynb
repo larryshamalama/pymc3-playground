{
 "cells": [
  {
   "cell_type": "code",
   "execution_count": 1,
   "id": "8533bf00",
   "metadata": {},
   "outputs": [
    {
     "name": "stderr",
     "output_type": "stream",
     "text": [
      "You are running the v4 development version of PyMC3 which currently still lacks key features. You probably want to use the stable v3 instead which you can either install via conda or find on the v3 GitHub branch: https://github.com/pymc-devs/pymc3/tree/v3\n"
     ]
    }
   ],
   "source": [
    "import numpy as np\n",
    "import pymc3 as pm\n",
    "\n",
    "from aesara import tensor as at\n",
    "\n",
    "import aesara, warnings"
   ]
  },
  {
   "cell_type": "code",
   "execution_count": 15,
   "id": "845f0772",
   "metadata": {},
   "outputs": [],
   "source": [
    "def stick_breaking(betas):\n",
    "    R\"\"\"\n",
    "    betas: vector of Beta random variables\n",
    "    \"\"\"\n",
    "    # need to make sure that betas is one-dimensional\n",
    "\n",
    "    # if (betas.shape.eval()[0] <= 2):\n",
    "    #     raise AttributeError(\n",
    "    #         \"More betas are needed to generate stick-breaking weights.\"\n",
    "    #     )\n",
    "\n",
    "    sticks = at.concatenate(\n",
    "            [\n",
    "                [1],\n",
    "                at.cumprod(1 - betas[:-1]),\n",
    "            ]\n",
    "        )\n",
    "\n",
    "    return betas*sticks\n",
    "\n",
    "class DirichletProcess:\n",
    "    R\"\"\"\n",
    "    Dirichlet Process Base class\n",
    "    \"\"\"\n",
    "\n",
    "    def __init__(self, name, alpha, base_dist, K=None):\n",
    "        \"\"\"\n",
    "        Examples\n",
    "        --------\n",
    "        .. code:: python\n",
    "\n",
    "            with pm.Model() as model:\n",
    "                alpha = pm.Gamma(\"concentration\", 1, 1)\n",
    "                base_dist = pm.Normal(\"base_dist\", 0, 3)\n",
    "                dp = DirichletProcess(\"dp\", alpha, base_dist, 20)\n",
    "        \"\"\"\n",
    "        if isinstance(alpha, (int, float)):\n",
    "            self.alpha = np.tile(alpha, reps=(K,))\n",
    "        else:\n",
    "            # at this point, self.alpha can be of length different than K, which is not okay\n",
    "            if isinstance(alpha, (np.ndarray, aesara.graph.basic.Variable)):\n",
    "                self.alpha = alpha\n",
    "            else:\n",
    "                raise ValueError(\n",
    "                    \"alpha parameter must be of type float, numpy.ndarray or \"\n",
    "                    f\"pymc3.distributions.Distribution, but got {type(alpha)}\"\n",
    "                    \"instead.\"\n",
    "                )\n",
    "\n",
    "        if not isinstance(base_dist, aesara.graph.basic.Variable):\n",
    "            raise ValueError(\n",
    "                \"base_dist must be of type pymc3.distributions.Distribution\"\n",
    "                f\"but got {type(base_dist)} instead.\"\n",
    "            )\n",
    "\n",
    "        if K is not None:\n",
    "            try:\n",
    "                if not isinstance(K, int):\n",
    "                    assert K.is_integer()\n",
    "            except (AssertionError, AttributeError):\n",
    "                raise AttributeError(\n",
    "                    \"K need to be an int if specified.\"\n",
    "                )\n",
    "\n",
    "            try:\n",
    "                base_dist_shape = base_dist.shape.eval()\n",
    "\n",
    "                assert len(base_dist_shape) == 1\n",
    "                assert base_dist_shape[0] == K\n",
    "            except AssertionError:\n",
    "                raise AttributeError(\n",
    "                    f\"The dimension of base_dist must be ({K},), \"\n",
    "                    f\"but got {tuple(base_dist_shape)} instead\"\n",
    "                )\n",
    "\n",
    "            if K < 30:\n",
    "                # temporary, can think about raising a warning for too small K\n",
    "                warnings.warn(\n",
    "                    \"You should specify K to be greater than 30.\"\n",
    "                )\n",
    "\n",
    "        else:\n",
    "            K = 30\n",
    "            # temporary, needs to be > 5*alpha + 2\n",
    "            # raise error if not enough sticks\n",
    "\n",
    "        self.name = name\n",
    "        self.base_dist = base_dist\n",
    "        self.K = K\n",
    "        \n",
    "        betas = pm.Beta(\"betas\", 1., self.alpha, shape=(self.K,))\n",
    "        self.weights = pm.Deterministic(\"weights\", stick_breaking(betas))\n",
    "\n",
    "    def __add__(self, other):\n",
    "        return self.__class__(self.alpha, self.base_dist)\n",
    "\n",
    "    def __str__(self):\n",
    "        return self.name\n",
    "\n",
    "#     @property\n",
    "#     def weights(self):\n",
    "\n",
    "#         betas = pm.Beta(\"betas\", 1., self.alpha)\n",
    "\n",
    "#         return pm.Deterministic(\"weights\", stick_breaking(betas))\n",
    "\n",
    "    def dp(self):\n",
    "        pass"
   ]
  },
  {
   "cell_type": "code",
   "execution_count": 18,
   "id": "36ff69e4",
   "metadata": {},
   "outputs": [
    {
     "ename": "AttributeError",
     "evalue": "The dimension of base_dist must be (18,), but got [19] instead",
     "output_type": "error",
     "traceback": [
      "\u001b[0;31m---------------------------------------------------------------------------\u001b[0m",
      "\u001b[0;31mAssertionError\u001b[0m                            Traceback (most recent call last)",
      "\u001b[0;32m<ipython-input-15-592bb7f4f3eb>\u001b[0m in \u001b[0;36m__init__\u001b[0;34m(self, name, alpha, base_dist, K)\u001b[0m\n\u001b[1;32m     68\u001b[0m                 \u001b[0;32massert\u001b[0m \u001b[0mlen\u001b[0m\u001b[0;34m(\u001b[0m\u001b[0mbase_dist_shape\u001b[0m\u001b[0;34m)\u001b[0m \u001b[0;34m==\u001b[0m \u001b[0;36m1\u001b[0m\u001b[0;34m\u001b[0m\u001b[0;34m\u001b[0m\u001b[0m\n\u001b[0;32m---> 69\u001b[0;31m                 \u001b[0;32massert\u001b[0m \u001b[0mbase_dist_shape\u001b[0m\u001b[0;34m[\u001b[0m\u001b[0;36m0\u001b[0m\u001b[0;34m]\u001b[0m \u001b[0;34m==\u001b[0m \u001b[0mK\u001b[0m\u001b[0;34m\u001b[0m\u001b[0;34m\u001b[0m\u001b[0m\n\u001b[0m\u001b[1;32m     70\u001b[0m             \u001b[0;32mexcept\u001b[0m \u001b[0mAssertionError\u001b[0m\u001b[0;34m:\u001b[0m\u001b[0;34m\u001b[0m\u001b[0;34m\u001b[0m\u001b[0m\n",
      "\u001b[0;31mAssertionError\u001b[0m: ",
      "\nDuring handling of the above exception, another exception occurred:\n",
      "\u001b[0;31mAttributeError\u001b[0m                            Traceback (most recent call last)",
      "\u001b[0;32m<ipython-input-18-88719b223951>\u001b[0m in \u001b[0;36m<module>\u001b[0;34m\u001b[0m\n\u001b[1;32m     17\u001b[0m     \u001b[0malpha\u001b[0m \u001b[0;34m=\u001b[0m \u001b[0mpm\u001b[0m\u001b[0;34m.\u001b[0m\u001b[0mGamma\u001b[0m\u001b[0;34m(\u001b[0m\u001b[0;34m\"alpha\"\u001b[0m\u001b[0;34m,\u001b[0m \u001b[0;36m1\u001b[0m\u001b[0;34m,\u001b[0m \u001b[0;36m1\u001b[0m\u001b[0;34m)\u001b[0m\u001b[0;34m\u001b[0m\u001b[0;34m\u001b[0m\u001b[0m\n\u001b[1;32m     18\u001b[0m \u001b[0;34m\u001b[0m\u001b[0m\n\u001b[0;32m---> 19\u001b[0;31m     dp = DirichletProcess(\n\u001b[0m\u001b[1;32m     20\u001b[0m         \u001b[0mname\u001b[0m\u001b[0;34m=\u001b[0m\u001b[0;34m\"dp\"\u001b[0m\u001b[0;34m,\u001b[0m\u001b[0;34m\u001b[0m\u001b[0;34m\u001b[0m\u001b[0m\n\u001b[1;32m     21\u001b[0m         \u001b[0malpha\u001b[0m\u001b[0;34m=\u001b[0m\u001b[0malpha\u001b[0m\u001b[0;34m,\u001b[0m\u001b[0;34m\u001b[0m\u001b[0;34m\u001b[0m\u001b[0m\n",
      "\u001b[0;32m<ipython-input-15-592bb7f4f3eb>\u001b[0m in \u001b[0;36m__init__\u001b[0;34m(self, name, alpha, base_dist, K)\u001b[0m\n\u001b[1;32m     69\u001b[0m                 \u001b[0;32massert\u001b[0m \u001b[0mbase_dist_shape\u001b[0m\u001b[0;34m[\u001b[0m\u001b[0;36m0\u001b[0m\u001b[0;34m]\u001b[0m \u001b[0;34m==\u001b[0m \u001b[0mK\u001b[0m\u001b[0;34m\u001b[0m\u001b[0;34m\u001b[0m\u001b[0m\n\u001b[1;32m     70\u001b[0m             \u001b[0;32mexcept\u001b[0m \u001b[0mAssertionError\u001b[0m\u001b[0;34m:\u001b[0m\u001b[0;34m\u001b[0m\u001b[0;34m\u001b[0m\u001b[0m\n\u001b[0;32m---> 71\u001b[0;31m                 raise AttributeError(\n\u001b[0m\u001b[1;32m     72\u001b[0m                     \u001b[0;34mf\"The dimension of base_dist must be ({K},), \"\u001b[0m\u001b[0;34m\u001b[0m\u001b[0;34m\u001b[0m\u001b[0m\n\u001b[1;32m     73\u001b[0m                     \u001b[0;34mf\"but got {base_dist_shape} instead\"\u001b[0m\u001b[0;34m\u001b[0m\u001b[0;34m\u001b[0m\u001b[0m\n",
      "\u001b[0;31mAttributeError\u001b[0m: The dimension of base_dist must be (18,), but got [19] instead"
     ]
    }
   ],
   "source": [
    "Xs = np.array([-1, 0, 1])\n",
    "Xnew = np.array([-3, -1, 0.5, 3.2, 4])\n",
    "K = 19\n",
    "\n",
    "with pm.Model() as model:\n",
    "    try:\n",
    "        Xs.shape[1]\n",
    "    except IndexError as e:\n",
    "        Xs = Xs[..., np.newaxis]\n",
    "\n",
    "    try:\n",
    "        Xnew.shape[1]\n",
    "    except IndexError as e:\n",
    "        Xnew = Xnew[..., np.newaxis]\n",
    "\n",
    "    base_dist = pm.Normal(\"G0\", 0, 3, shape=(K,))\n",
    "    alpha = pm.Gamma(\"alpha\", 1, 1)\n",
    "    \n",
    "    dp = DirichletProcess(\n",
    "        name=\"dp\",\n",
    "        alpha=alpha,\n",
    "        base_dist=base_dist,\n",
    "        K=18,\n",
    "    )\n",
    "\n",
    "    trace = pm.sample(\n",
    "        draws=1000,\n",
    "        chains=1,\n",
    "    )"
   ]
  },
  {
   "cell_type": "code",
   "execution_count": 17,
   "id": "821a3398",
   "metadata": {},
   "outputs": [
    {
     "name": "stderr",
     "output_type": "stream",
     "text": [
      "/Users/larryshamalama/anaconda3/envs/pymc3-dev-py38/lib/python3.8/site-packages/arviz/data/inference_data.py:436: UserWarning: The attributes are not same for all groups. Considering only the first group `attrs`\n",
      "  warnings.warn(\n"
     ]
    },
    {
     "data": {
      "text/plain": [
       "array([6.77618913e-01, 5.88360496e-02, 2.23881820e-01, 1.24105942e-02,\n",
       "       2.35100154e-02, 3.37824918e-03, 9.98258287e-05, 1.55017990e-04,\n",
       "       1.08908040e-04, 4.20109479e-07, 3.14956528e-08, 1.34607778e-07,\n",
       "       1.32231992e-08, 2.30673854e-09, 2.18372092e-09, 8.83414202e-10,\n",
       "       1.23216027e-10, 2.28902297e-10, 7.12857266e-11])"
      ]
     },
     "execution_count": 17,
     "metadata": {},
     "output_type": "execute_result"
    }
   ],
   "source": [
    "trace.to_dict()[\"posterior\"][\"weights\"][0][0]"
   ]
  },
  {
   "cell_type": "code",
   "execution_count": null,
   "id": "5ca1d268",
   "metadata": {},
   "outputs": [],
   "source": []
  }
 ],
 "metadata": {
  "kernelspec": {
   "display_name": "pymc3-dev-py38",
   "language": "python",
   "name": "pymc3-dev-py38"
  },
  "language_info": {
   "codemirror_mode": {
    "name": "ipython",
    "version": 3
   },
   "file_extension": ".py",
   "mimetype": "text/x-python",
   "name": "python",
   "nbconvert_exporter": "python",
   "pygments_lexer": "ipython3",
   "version": "3.8.10"
  }
 },
 "nbformat": 4,
 "nbformat_minor": 5
}
