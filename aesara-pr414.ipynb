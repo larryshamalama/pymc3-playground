{
 "cells": [
  {
   "cell_type": "code",
   "execution_count": 1,
   "id": "5c78b489",
   "metadata": {},
   "outputs": [
    {
     "name": "stderr",
     "output_type": "stream",
     "text": [
      "WARNING (aesara.tensor.blas): Using NumPy C-API based implementation for BLAS functions.\n"
     ]
    }
   ],
   "source": [
    "from typing import List, Optional, Union\n",
    "\n",
    "import pickle\n",
    "from functools import partial\n",
    "\n",
    "import numpy as np\n",
    "import scipy.stats as stats\n",
    "from pytest import fixture, importorskip, raises\n",
    "\n",
    "import aesara.tensor as aet\n",
    "from aesara import shared\n",
    "from aesara.configdefaults import config\n",
    "from aesara.graph.basic import Constant, Variable, graph_inputs\n",
    "from aesara.graph.fg import FunctionGraph\n",
    "from aesara.graph.op import get_test_value\n",
    "from aesara.tensor.basic_opt import ShapeFeature\n",
    "from aesara.tensor.random.basic import (\n",
    "    bernoulli,\n",
    "    beta,\n",
    "    betabinom,\n",
    "    binomial,\n",
    "    categorical,\n",
    "    cauchy,\n",
    "    choice,\n",
    "    dirichlet,\n",
    "    exponential,\n",
    "    gamma,\n",
    "    geometric,\n",
    "    gumbel,\n",
    "    halfcauchy,\n",
    "    halfnormal,\n",
    "    hypergeometric,\n",
    "    invgamma,\n",
    "    laplace,\n",
    "    logistic,\n",
    "    lognormal,\n",
    "    multinomial,\n",
    "    multivariate_normal,\n",
    "    nbinom,\n",
    "    normal,\n",
    "    pareto,\n",
    "    permutation,\n",
    "    poisson,\n",
    "    polyagamma,\n",
    "    randint,\n",
    "    triangular,\n",
    "    truncexpon,\n",
    "    uniform,\n",
    "    vonmises,\n",
    "    wald,\n",
    "    weibull,\n",
    ")\n",
    "from aesara.tensor.type import iscalar, scalar, tensor"
   ]
  },
  {
   "cell_type": "markdown",
   "id": "e8ddaa81",
   "metadata": {},
   "source": [
    "## Creating a `RandomVariable`"
   ]
  },
  {
   "cell_type": "code",
   "execution_count": 2,
   "id": "ff03c997",
   "metadata": {},
   "outputs": [],
   "source": [
    "from aesara.tensor.random.op import RandomVariable\n",
    "\n",
    "class ChiSquareRV(RandomVariable):\n",
    "    name = \"chisquare\" # anything else wouldn't work\n",
    "    ndim_supp = 0\n",
    "    ndims_params = [0]\n",
    "    dtype = \"floatX\"\n",
    "    _print_name = (\"ChiSquare\", \"\\\\operatorname{ChiSquare}\")\n",
    "\n",
    "\n",
    "chisquare = ChiSquareRV()"
   ]
  },
  {
   "cell_type": "code",
   "execution_count": 3,
   "id": "582aebad",
   "metadata": {},
   "outputs": [
    {
     "data": {
      "text/plain": [
       "array([3.57924635, 2.04721171, 1.86317567, 1.8632062 , 7.67752559])"
      ]
     },
     "execution_count": 3,
     "metadata": {},
     "output_type": "execute_result"
    }
   ],
   "source": [
    "rng = np.random.RandomState(42)\n",
    "chisquare.rng_fn(rng=rng, df=3, size=5)"
   ]
  },
  {
   "cell_type": "markdown",
   "id": "1a2e3a2e",
   "metadata": {},
   "source": [
    "## Testing"
   ]
  },
  {
   "cell_type": "code",
   "execution_count": 7,
   "id": "c782d0f7",
   "metadata": {},
   "outputs": [],
   "source": [
    "def rv_numpy_tester(rv, *params, **kwargs):\n",
    "    \"\"\"Test for correspondence between `RandomVariable` and NumPy shape and\n",
    "    broadcast dimensions.\n",
    "    \"\"\"\n",
    "    test_fn = kwargs.pop(\"test_fn\", None)\n",
    "\n",
    "    if test_fn is None:\n",
    "        name = getattr(rv, \"name\", None)\n",
    "\n",
    "        if name is None:\n",
    "            name = rv.__name__\n",
    "\n",
    "        test_fn = getattr(np.random, name)\n",
    "\n",
    "    aesara_res = rv(*params, **kwargs)\n",
    "\n",
    "    param_vals = [get_test_value(p) if isinstance(p, Variable) else p for p in params]\n",
    "    kwargs_vals = {\n",
    "        k: get_test_value(v) if isinstance(v, Variable) else v\n",
    "        for k, v in kwargs.items()\n",
    "    }\n",
    "\n",
    "    if \"size\" in kwargs:\n",
    "        kwargs[\"size\"] = get_test_value(kwargs[\"size\"])\n",
    "\n",
    "    numpy_res = np.asarray(test_fn(*param_vals, **kwargs_vals))\n",
    "\n",
    "    assert aesara_res.type.numpy_dtype.kind == numpy_res.dtype.kind\n",
    "\n",
    "    numpy_shape = np.shape(numpy_res)\n",
    "    numpy_bcast = [s == 1 for s in numpy_shape]\n",
    "    np.testing.assert_array_equal(aesara_res.type.broadcastable, numpy_bcast)\n",
    "\n",
    "    aesara_res_val = aesara_res.get_test_value()\n",
    "    np.testing.assert_array_equal(aesara_res_val.shape, numpy_res.shape)\n",
    "    \n",
    "def test_uniform_samples():\n",
    "\n",
    "\n",
    "    test_low = np.array(10, dtype=config.floatX)\n",
    "    test_high = np.array(20, dtype=config.floatX)\n",
    "\n",
    "    rv_numpy_tester(uniform, test_low, test_high)\n",
    "    rv_numpy_tester(uniform, test_low, test_high, size=[3])"
   ]
  },
  {
   "cell_type": "code",
   "execution_count": 5,
   "id": "7f099021",
   "metadata": {},
   "outputs": [
    {
     "ename": "TestValueError",
     "evalue": "uniform_rv.out has no test value  \nBacktrace when that variable is created:\n\n  File \"/Users/larryshamalama/opt/anaconda3/envs/pymc3-dev-py37/lib/python3.7/site-packages/IPython/core/interactiveshell.py\", line 2895, in run_cell\n    raw_cell, store_history, silent, shell_futures)\n  File \"/Users/larryshamalama/opt/anaconda3/envs/pymc3-dev-py37/lib/python3.7/site-packages/IPython/core/interactiveshell.py\", line 2940, in _run_cell\n    return runner(coro)\n  File \"/Users/larryshamalama/opt/anaconda3/envs/pymc3-dev-py37/lib/python3.7/site-packages/IPython/core/async_helpers.py\", line 68, in _pseudo_sync_runner\n    coro.send(None)\n  File \"/Users/larryshamalama/opt/anaconda3/envs/pymc3-dev-py37/lib/python3.7/site-packages/IPython/core/interactiveshell.py\", line 3166, in run_cell_async\n    interactivity=interactivity, compiler=compiler, result=result)\n  File \"/Users/larryshamalama/opt/anaconda3/envs/pymc3-dev-py37/lib/python3.7/site-packages/IPython/core/interactiveshell.py\", line 3357, in run_ast_nodes\n    if (await self.run_code(code, result,  async_=asy)):\n  File \"/Users/larryshamalama/opt/anaconda3/envs/pymc3-dev-py37/lib/python3.7/site-packages/IPython/core/interactiveshell.py\", line 3437, in run_code\n    exec(code_obj, self.user_global_ns, self.user_ns)\n  File \"<ipython-input-5-d8c0932ae9b4>\", line 1, in <module>\n    rv_numpy_tester(uniform)\n  File \"<ipython-input-4-4f6fd970662a>\", line 15, in rv_numpy_tester\n    aesara_res = rv(*params, **kwargs)\n",
     "output_type": "error",
     "traceback": [
      "\u001b[0;31m---------------------------------------------------------------------------\u001b[0m",
      "\u001b[0;31mTestValueError\u001b[0m                            Traceback (most recent call last)",
      "\u001b[0;32m<ipython-input-5-d8c0932ae9b4>\u001b[0m in \u001b[0;36m<module>\u001b[0;34m\u001b[0m\n\u001b[0;32m----> 1\u001b[0;31m \u001b[0mrv_numpy_tester\u001b[0m\u001b[0;34m(\u001b[0m\u001b[0muniform\u001b[0m\u001b[0;34m)\u001b[0m\u001b[0;34m\u001b[0m\u001b[0;34m\u001b[0m\u001b[0m\n\u001b[0m",
      "\u001b[0;32m<ipython-input-4-4f6fd970662a>\u001b[0m in \u001b[0;36mrv_numpy_tester\u001b[0;34m(rv, *params, **kwargs)\u001b[0m\n\u001b[1;32m     32\u001b[0m     \u001b[0mnp\u001b[0m\u001b[0;34m.\u001b[0m\u001b[0mtesting\u001b[0m\u001b[0;34m.\u001b[0m\u001b[0massert_array_equal\u001b[0m\u001b[0;34m(\u001b[0m\u001b[0maesara_res\u001b[0m\u001b[0;34m.\u001b[0m\u001b[0mtype\u001b[0m\u001b[0;34m.\u001b[0m\u001b[0mbroadcastable\u001b[0m\u001b[0;34m,\u001b[0m \u001b[0mnumpy_bcast\u001b[0m\u001b[0;34m)\u001b[0m\u001b[0;34m\u001b[0m\u001b[0;34m\u001b[0m\u001b[0m\n\u001b[1;32m     33\u001b[0m \u001b[0;34m\u001b[0m\u001b[0m\n\u001b[0;32m---> 34\u001b[0;31m     \u001b[0maesara_res_val\u001b[0m \u001b[0;34m=\u001b[0m \u001b[0maesara_res\u001b[0m\u001b[0;34m.\u001b[0m\u001b[0mget_test_value\u001b[0m\u001b[0;34m(\u001b[0m\u001b[0;34m)\u001b[0m\u001b[0;34m\u001b[0m\u001b[0;34m\u001b[0m\u001b[0m\n\u001b[0m\u001b[1;32m     35\u001b[0m     \u001b[0mnp\u001b[0m\u001b[0;34m.\u001b[0m\u001b[0mtesting\u001b[0m\u001b[0;34m.\u001b[0m\u001b[0massert_array_equal\u001b[0m\u001b[0;34m(\u001b[0m\u001b[0maesara_res_val\u001b[0m\u001b[0;34m.\u001b[0m\u001b[0mshape\u001b[0m\u001b[0;34m,\u001b[0m \u001b[0mnumpy_res\u001b[0m\u001b[0;34m.\u001b[0m\u001b[0mshape\u001b[0m\u001b[0;34m)\u001b[0m\u001b[0;34m\u001b[0m\u001b[0;34m\u001b[0m\u001b[0m\n\u001b[1;32m     36\u001b[0m \u001b[0;34m\u001b[0m\u001b[0m\n",
      "\u001b[0;32m~/opt/anaconda3/envs/pymc3-dev-py37/lib/python3.7/site-packages/aesara/graph/basic.py\u001b[0m in \u001b[0;36mget_test_value\u001b[0;34m(self)\u001b[0m\n\u001b[1;32m    417\u001b[0m         \u001b[0;32mif\u001b[0m \u001b[0;32mnot\u001b[0m \u001b[0mhasattr\u001b[0m\u001b[0;34m(\u001b[0m\u001b[0mself\u001b[0m\u001b[0;34m.\u001b[0m\u001b[0mtag\u001b[0m\u001b[0;34m,\u001b[0m \u001b[0;34m\"test_value\"\u001b[0m\u001b[0;34m)\u001b[0m\u001b[0;34m:\u001b[0m\u001b[0;34m\u001b[0m\u001b[0;34m\u001b[0m\u001b[0m\n\u001b[1;32m    418\u001b[0m             \u001b[0mdetailed_err_msg\u001b[0m \u001b[0;34m=\u001b[0m \u001b[0mget_variable_trace_string\u001b[0m\u001b[0;34m(\u001b[0m\u001b[0mself\u001b[0m\u001b[0;34m)\u001b[0m\u001b[0;34m\u001b[0m\u001b[0;34m\u001b[0m\u001b[0m\n\u001b[0;32m--> 419\u001b[0;31m             \u001b[0;32mraise\u001b[0m \u001b[0mTestValueError\u001b[0m\u001b[0;34m(\u001b[0m\u001b[0;34mf\"{self} has no test value {detailed_err_msg}\"\u001b[0m\u001b[0;34m)\u001b[0m\u001b[0;34m\u001b[0m\u001b[0;34m\u001b[0m\u001b[0m\n\u001b[0m\u001b[1;32m    420\u001b[0m \u001b[0;34m\u001b[0m\u001b[0m\n\u001b[1;32m    421\u001b[0m         \u001b[0;32mreturn\u001b[0m \u001b[0mself\u001b[0m\u001b[0;34m.\u001b[0m\u001b[0mtag\u001b[0m\u001b[0;34m.\u001b[0m\u001b[0mtest_value\u001b[0m\u001b[0;34m\u001b[0m\u001b[0;34m\u001b[0m\u001b[0m\n",
      "\u001b[0;31mTestValueError\u001b[0m: uniform_rv.out has no test value  \nBacktrace when that variable is created:\n\n  File \"/Users/larryshamalama/opt/anaconda3/envs/pymc3-dev-py37/lib/python3.7/site-packages/IPython/core/interactiveshell.py\", line 2895, in run_cell\n    raw_cell, store_history, silent, shell_futures)\n  File \"/Users/larryshamalama/opt/anaconda3/envs/pymc3-dev-py37/lib/python3.7/site-packages/IPython/core/interactiveshell.py\", line 2940, in _run_cell\n    return runner(coro)\n  File \"/Users/larryshamalama/opt/anaconda3/envs/pymc3-dev-py37/lib/python3.7/site-packages/IPython/core/async_helpers.py\", line 68, in _pseudo_sync_runner\n    coro.send(None)\n  File \"/Users/larryshamalama/opt/anaconda3/envs/pymc3-dev-py37/lib/python3.7/site-packages/IPython/core/interactiveshell.py\", line 3166, in run_cell_async\n    interactivity=interactivity, compiler=compiler, result=result)\n  File \"/Users/larryshamalama/opt/anaconda3/envs/pymc3-dev-py37/lib/python3.7/site-packages/IPython/core/interactiveshell.py\", line 3357, in run_ast_nodes\n    if (await self.run_code(code, result,  async_=asy)):\n  File \"/Users/larryshamalama/opt/anaconda3/envs/pymc3-dev-py37/lib/python3.7/site-packages/IPython/core/interactiveshell.py\", line 3437, in run_code\n    exec(code_obj, self.user_global_ns, self.user_ns)\n  File \"<ipython-input-5-d8c0932ae9b4>\", line 1, in <module>\n    rv_numpy_tester(uniform)\n  File \"<ipython-input-4-4f6fd970662a>\", line 15, in rv_numpy_tester\n    aesara_res = rv(*params, **kwargs)\n"
     ]
    }
   ],
   "source": [
    "rv_numpy_tester(uniform)"
   ]
  },
  {
   "cell_type": "code",
   "execution_count": 6,
   "id": "e9dd7130",
   "metadata": {},
   "outputs": [
    {
     "name": "stdout",
     "output_type": "stream",
     "text": [
      "Last updated: Mon May 17 2021\n",
      "\n",
      "Python implementation: CPython\n",
      "Python version       : 3.7.10\n",
      "IPython version      : 7.22.0\n",
      "\n",
      "numpy : 1.20.2\n",
      "scipy : 1.2.1\n",
      "aesara: 2.0.7\n",
      "\n",
      "Watermark: 2.2.0\n",
      "\n"
     ]
    }
   ],
   "source": [
    "%load_ext watermark\n",
    "%watermark -n -u -v -iv -w"
   ]
  },
  {
   "cell_type": "code",
   "execution_count": null,
   "id": "bc3d4c31",
   "metadata": {},
   "outputs": [],
   "source": []
  }
 ],
 "metadata": {
  "kernelspec": {
   "display_name": "pymc3-dev-py37",
   "language": "python",
   "name": "pymc3-dev-py37"
  },
  "language_info": {
   "codemirror_mode": {
    "name": "ipython",
    "version": 3
   },
   "file_extension": ".py",
   "mimetype": "text/x-python",
   "name": "python",
   "nbconvert_exporter": "python",
   "pygments_lexer": "ipython3",
   "version": "3.7.10"
  }
 },
 "nbformat": 4,
 "nbformat_minor": 5
}
