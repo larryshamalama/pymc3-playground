{
 "cells": [
  {
   "cell_type": "code",
   "execution_count": 43,
   "id": "45da7c7a",
   "metadata": {},
   "outputs": [],
   "source": [
    "import numpy as np\n",
    "import pymc3 as pm\n",
    "import pandas as pd\n",
    "\n",
    "from aesara import tensor as at\n",
    "from matplotlib import pyplot as plt\n",
    "\n",
    "from scipy import stats as st\n",
    "from scipy import optimize as opt\n",
    "from scipy.special import gamma\n",
    "\n",
    "import aesara\n",
    "\n",
    "%config InlineBackend.figure_format = \"retina\"\n",
    "%matplotlib inline"
   ]
  },
  {
   "cell_type": "code",
   "execution_count": 2,
   "id": "d5cd3e69",
   "metadata": {},
   "outputs": [],
   "source": [
    "# fix rng seed\n",
    "rng = np.random.RandomState(seed=34) # Giannis Antetokounmpo's number!"
   ]
  },
  {
   "cell_type": "markdown",
   "id": "3bb3eb61",
   "metadata": {},
   "source": [
    "### Checking if I am able to recover Beta realizations from weights\n",
    "\n",
    "According to my math, given our stick-breaking weights $w_h$, i.i.d. beta realizations $v_h$ can be recovered as followed:\n",
    "\n",
    "\\begin{align*}\n",
    "    v_h = \\frac{w_h}{1 - \\sum_{\\ell < h} w_\\ell} \\, .\n",
    "\\end{align*}"
   ]
  },
  {
   "cell_type": "code",
   "execution_count": 3,
   "id": "5c4b3748",
   "metadata": {},
   "outputs": [],
   "source": [
    "betas_np = rng.beta(1., 1., size=[7,])\n",
    "weights_np = np.concatenate(([1], np.cumprod(1 - betas_np[:-1])))\n",
    "weights_np = weights_np*betas_np\n",
    "\n",
    "recover_betas = weights_np/np.cumsum(np.concatenate(([1], -weights_np[:-1])))"
   ]
  },
  {
   "cell_type": "code",
   "execution_count": 4,
   "id": "ad3f2c29",
   "metadata": {},
   "outputs": [
    {
     "data": {
      "text/plain": [
       "array([0.04710329, 0.12776214, 0.01462119, 0.62762831, 0.3141013 ,\n",
       "       0.02027609, 0.67135888])"
      ]
     },
     "execution_count": 4,
     "metadata": {},
     "output_type": "execute_result"
    }
   ],
   "source": [
    "recover_betas"
   ]
  },
  {
   "cell_type": "code",
   "execution_count": 5,
   "id": "9760785b",
   "metadata": {},
   "outputs": [
    {
     "data": {
      "text/plain": [
       "array([0.04710329, 0.12776214, 0.01462119, 0.62762831, 0.3141013 ,\n",
       "       0.02027609, 0.67135888])"
      ]
     },
     "execution_count": 5,
     "metadata": {},
     "output_type": "execute_result"
    }
   ],
   "source": [
    "betas_np"
   ]
  },
  {
   "cell_type": "markdown",
   "id": "5e82b03b",
   "metadata": {},
   "source": [
    "I follow **Example 9** from [here](https://projecteuclid.org/ebooks/nsf-cbms-regional-conference-series-in-probability-and-statistics/Nonparametric-Bayesian-Inference/Chapter/Chapter-3-Dirichlet-Process/10.1214/cbms/1362163748) (displayed below) and attempt to also replicate the results shown in Figure 3.2. They assume that data are drawn i.i.d. from $\\mathcal{N}(2, 4)$ but assume a base distribution $G_0 = \\mathcal{N}(0, 1)$."
   ]
  },
  {
   "cell_type": "markdown",
   "id": "52691dfd",
   "metadata": {},
   "source": [
    "<img src=\"dp-example-9.png\" width=500>"
   ]
  },
  {
   "cell_type": "code",
   "execution_count": 6,
   "id": "ca6120ff",
   "metadata": {},
   "outputs": [],
   "source": [
    "K = 19\n",
    "x = np.random.normal(loc=2., scale=2., size=[50,])\n",
    "\n",
    "def stick_breaking(betas):\n",
    "\n",
    "    sticks = at.concatenate(\n",
    "        [\n",
    "            [1],\n",
    "            at.cumprod(1 - betas[:-1]),\n",
    "        ]\n",
    "    )\n",
    "\n",
    "    return betas * sticks\n",
    "\n",
    "\n",
    "def stick_glueing(weights):\n",
    "    \n",
    "    denominator = at.cumsum(\n",
    "        at.concatenate(\n",
    "            [\n",
    "                [1],\n",
    "                -weights[:-1]\n",
    "            ]\n",
    "        )\n",
    "    )\n",
    "    \n",
    "    return weights/denominator\n",
    "\n",
    "\n",
    "def digitize(x, atoms):\n",
    "    \n",
    "    x_2d = at.atleast_2d(x).T\n",
    "    atoms_2d = at.atleast_2d(atoms)\n",
    "    \n",
    "    x_ge_atoms = at.cast(at.ge(x_2d, atoms_2d), int)\n",
    "    digitized_x = x_ge_atoms.sum(axis=1)\n",
    "    \n",
    "    return at.as_tensor_variable(digitized_x)\n",
    "\n",
    "\n",
    "def logp_dp(wh, mh, x=None, alpha=None):\n",
    "    \"\"\"\n",
    "    vh ~ Beta(1, M)\n",
    "    wh = vh*(1 - vh-1)*(1 - vh-2)*...*(1 - v1)\n",
    "    mh ~ G0 (which I assume is Normal for now)\n",
    "    alpha is the concentration parameter\n",
    "    \n",
    "    • vh are the beta realizations\n",
    "    • wh are stick-breaking weights\n",
    "    • vh and mh should be of same dimensions\n",
    "    \n",
    "    As of now:\n",
    "    - G0 is assumed to be N(0, 1)\n",
    "    - no prior on alpha (assumed to be just 1)\n",
    "    \n",
    "    Where does the observed x (e.g. np.random.normal(loc=2, scale=2, size=[7,])) come into the likelihood?\n",
    "    \"\"\"\n",
    "    digitized_x = digitize(x, mh)\n",
    "    \n",
    "    weights = at.concatenate(\n",
    "        [\n",
    "            wh,\n",
    "            [1 - wh.sum()],\n",
    "        ]\n",
    "    )\n",
    "    values, counts = at.unique(digitized_x, return_counts=True)\n",
    "\n",
    "    if x is not None:\n",
    "        logp_obs = at.dot(counts, at.log(weights[values])) # not differentiable\n",
    "    else:\n",
    "        logp_obs = 0\n",
    "    \n",
    "    vh = stick_glueing(wh)\n",
    "    \n",
    "    logp_vh = pm.Beta.logp(vh, 1., 1.).sum()\n",
    "    logp_G0 = pm.Normal.logp(mh, 0, 1.).sum()\n",
    "    \n",
    "    return logp_obs + logp_vh + logp_G0 # shape is (K,) I believe...?"
   ]
  },
  {
   "cell_type": "markdown",
   "id": "7275fc9e",
   "metadata": {},
   "source": [
    "The posterior distribution of $G$ is denoted by $\\pi_n(G \\, | \\, \\pmb{x})$:\n",
    "\n",
    "\\begin{align*}\n",
    "    \\pi_n(G \\, | \\, x) &\\propto \\mathcal{L}(\\pmb{x}; \\, G) \\pi_0(G) \\, .\n",
    "\\end{align*}\n",
    "\n",
    "where $\\pi_0(G) = \\prod_{h=1}^K f_{G_0}(m_h) \\text{Beta.pdf}(v_h)$. Notation is as followed:\n",
    "\n",
    "- $f_{G_0}$ is the probability density/mass function of $G_0$ (can be continuous or discrete);\n",
    "- $K$ is the truncation parameter;\n",
    "- $v_h \\stackrel{\\small{\\text{i.i.d.}}}{\\sim} \\text{Beta}$ used to generate the stick-breaking weights.\n",
    "\n",
    "The likelihood of $\\pmb{x} = (x_1, \\dots, x_n)$ with respect to $G$ (or a draw from $G \\sim \\text{DP}$ requires the partition of $\\mathcal{X}$ (assumed to be $\\mathbb{R}$ without loss of generality) to be defined by the atoms $m_1, \\dots, m_K$. Also assume without loss of generality that the atoms form an increasing sequence $m_1 < \\dots < m_K$ (for notational simplicity). Consider the disjoint sets $M_1, \\dots, M_K$ defined as followed:\n",
    "\n",
    "\\begin{align*}\n",
    "    M_1 &= (- \\infty, m_1]\\\\\n",
    "    M_2 &= (m_1, m_2]\\\\\n",
    "    &\\vdots\\\\\n",
    "    M_K &= (m_{K-1}, m_K]\\\\\n",
    "    M_{K+1} &= [m_K, \\infty)\n",
    "\\end{align*}\n",
    "\n",
    "To each set $M_h$ is associated some a stick-breaking weight $w_h^*$ (not necessarily $w_h$ but this is notationally clunky...). Set $M_{K+1}$ is associated weight $1 - \\sum_{h=1}^K w_h$. Then, the likelihood of $\\pmb{x}$ uses the categorical/multinomial distribution:\n",
    "\n",
    "\\begin{align*}\n",
    "    \\mathcal{L}(\\pmb{x}; \\, G) &= \\prod_{i=1}^n w_{j: x_i \\in M_j}\\\\\n",
    "    &= \\prod_{h=1}^{K+1} w_h^{\\{\\# x_i\\text{'s } \\in M_h\\}} \\, .\n",
    "\\end{align*}\n",
    "\n",
    "Putting it all together, the posterior can be written as:\n",
    "\n",
    "\\begin{align*}\n",
    "    \\pi_n(G \\, | \\, x) &\\propto \\underbrace{\\prod_{h=1}^{K+1} w_h^{\\{\\# x_i\\text{'s } \\in M_h\\}}}_{\\mathcal{L}(\\pmb{x}; \\, G)} \\, \\,\n",
    "    \\underbrace{\\prod_{h=1}^K f_{G_0}(m_h) \\text{Beta.pdf}(v_h)}_{\\pi_0(G)}\n",
    "\\end{align*}"
   ]
  },
  {
   "cell_type": "code",
   "execution_count": 7,
   "id": "967dd7ac",
   "metadata": {},
   "outputs": [
    {
     "name": "stderr",
     "output_type": "stream",
     "text": [
      "<ipython-input-7-dda6129fe0b9>:13: UserWarning: The effect of Potentials on other parameters is ignored during prior predictive sampling. This is likely to lead to invalid or biased predictive samples.\n",
      "  prior = pm.sample_prior_predictive(samples=1000)\n",
      "Auto-assigning NUTS sampler...\n",
      "Initializing NUTS using jitter+adapt_diag...\n",
      "Initializing NUTS failed. Falling back to elementwise auto-assignment.\n",
      "Multiprocess sampling (2 chains in 2 jobs)\n",
      "CompoundStep\n",
      ">NUTS: [vh]\n",
      ">Metropolis: [base-dist]\n"
     ]
    },
    {
     "data": {
      "text/html": [
       "\n",
       "    <div>\n",
       "        <style>\n",
       "            /* Turns off some styling */\n",
       "            progress {\n",
       "                /* gets rid of default border in Firefox and Opera. */\n",
       "                border: none;\n",
       "                /* Needs to be in here for Safari polyfill so background images work as expected. */\n",
       "                background-size: auto;\n",
       "            }\n",
       "            .progress-bar-interrupted, .progress-bar-interrupted::-webkit-progress-bar {\n",
       "                background: #F44336;\n",
       "            }\n",
       "        </style>\n",
       "      <progress value='0' class='' max='4000' style='width:300px; height:20px; vertical-align: middle;'></progress>\n",
       "      0.00% [0/4000 00:00<00:00 Sampling 2 chains, 0 divergences]\n",
       "    </div>\n",
       "    "
      ],
      "text/plain": [
       "<IPython.core.display.HTML object>"
      ]
     },
     "metadata": {},
     "output_type": "display_data"
    },
    {
     "ename": "RuntimeError",
     "evalue": "Chain 0 failed.",
     "output_type": "error",
     "traceback": [
      "\u001b[0;31m---------------------------------------------------------------------------\u001b[0m",
      "\u001b[0;31mRemoteTraceback\u001b[0m                           Traceback (most recent call last)",
      "\u001b[0;31mRemoteTraceback\u001b[0m: \n\"\"\"\nTraceback (most recent call last):\n  File \"/Users/larryshamalama/anaconda3/envs/pymc3-dev-py38/lib/python3.8/site-packages/pymc3/parallel_sampling.py\", line 138, in run\n    self._start_loop()\n  File \"/Users/larryshamalama/anaconda3/envs/pymc3-dev-py38/lib/python3.8/site-packages/pymc3/parallel_sampling.py\", line 191, in _start_loop\n    point, stats = self._compute_point()\n  File \"/Users/larryshamalama/anaconda3/envs/pymc3-dev-py38/lib/python3.8/site-packages/pymc3/parallel_sampling.py\", line 216, in _compute_point\n    point, stats = self._step_method.step(self._point)\n  File \"/Users/larryshamalama/anaconda3/envs/pymc3-dev-py38/lib/python3.8/site-packages/pymc3/step_methods/compound.py\", line 42, in step\n    point, state = method.step(point)\n  File \"/Users/larryshamalama/anaconda3/envs/pymc3-dev-py38/lib/python3.8/site-packages/pymc3/step_methods/arraystep.py\", line 286, in step\n    return super().step(point)\n  File \"/Users/larryshamalama/anaconda3/envs/pymc3-dev-py38/lib/python3.8/site-packages/pymc3/step_methods/arraystep.py\", line 208, in step\n    step_res = self.astep(q)\n  File \"/Users/larryshamalama/anaconda3/envs/pymc3-dev-py38/lib/python3.8/site-packages/pymc3/step_methods/hmc/base_hmc.py\", line 179, in astep\n    hmc_step = self._hamiltonian_step(start, p0.data, step_size)\n  File \"/Users/larryshamalama/anaconda3/envs/pymc3-dev-py38/lib/python3.8/site-packages/pymc3/step_methods/hmc/nuts.py\", line 184, in _hamiltonian_step\n    divergence_info, turning = tree.extend(direction)\n  File \"/Users/larryshamalama/anaconda3/envs/pymc3-dev-py38/lib/python3.8/site-packages/pymc3/step_methods/hmc/nuts.py\", line 286, in extend\n    tree, diverging, turning = self._build_subtree(\n  File \"/Users/larryshamalama/anaconda3/envs/pymc3-dev-py38/lib/python3.8/site-packages/pymc3/step_methods/hmc/nuts.py\", line 368, in _build_subtree\n    return self._single_step(left, epsilon)\n  File \"/Users/larryshamalama/anaconda3/envs/pymc3-dev-py38/lib/python3.8/site-packages/pymc3/step_methods/hmc/nuts.py\", line 328, in _single_step\n    right = self.integrator.step(epsilon, left)\n  File \"/Users/larryshamalama/anaconda3/envs/pymc3-dev-py38/lib/python3.8/site-packages/pymc3/step_methods/hmc/integration.py\", line 73, in step\n    return self._step(epsilon, state)\n  File \"/Users/larryshamalama/anaconda3/envs/pymc3-dev-py38/lib/python3.8/site-packages/pymc3/step_methods/hmc/integration.py\", line 101, in _step\n    pot.velocity(p_new, out=v_new)\n  File \"/Users/larryshamalama/anaconda3/envs/pymc3-dev-py38/lib/python3.8/site-packages/pymc3/step_methods/hmc/quadpotential.py\", line 199, in velocity\n    return np.multiply(self._var, x, out=out)\nValueError: operands could not be broadcast together with shapes (38,) (38,) (19,) \n\"\"\"",
      "\nThe above exception was the direct cause of the following exception:\n",
      "\u001b[0;31mValueError\u001b[0m                                Traceback (most recent call last)",
      "\u001b[0;31mValueError\u001b[0m: operands could not be broadcast together with shapes (38,) (38,) (19,) ",
      "\nThe above exception was the direct cause of the following exception:\n",
      "\u001b[0;31mRuntimeError\u001b[0m                              Traceback (most recent call last)",
      "\u001b[0;32m<ipython-input-7-dda6129fe0b9>\u001b[0m in \u001b[0;36m<module>\u001b[0;34m\u001b[0m\n\u001b[1;32m     12\u001b[0m \u001b[0;34m\u001b[0m\u001b[0m\n\u001b[1;32m     13\u001b[0m     \u001b[0mprior\u001b[0m \u001b[0;34m=\u001b[0m \u001b[0mpm\u001b[0m\u001b[0;34m.\u001b[0m\u001b[0msample_prior_predictive\u001b[0m\u001b[0;34m(\u001b[0m\u001b[0msamples\u001b[0m\u001b[0;34m=\u001b[0m\u001b[0;36m1000\u001b[0m\u001b[0;34m)\u001b[0m\u001b[0;34m\u001b[0m\u001b[0;34m\u001b[0m\u001b[0m\n\u001b[0;32m---> 14\u001b[0;31m     \u001b[0mposterior\u001b[0m \u001b[0;34m=\u001b[0m \u001b[0mpm\u001b[0m\u001b[0;34m.\u001b[0m\u001b[0msample\u001b[0m\u001b[0;34m(\u001b[0m\u001b[0mdraws\u001b[0m\u001b[0;34m=\u001b[0m\u001b[0;36m1000\u001b[0m\u001b[0;34m)\u001b[0m\u001b[0;34m\u001b[0m\u001b[0;34m\u001b[0m\u001b[0m\n\u001b[0m",
      "\u001b[0;32m~/anaconda3/envs/pymc3-dev-py38/lib/python3.8/site-packages/pymc3/sampling.py\u001b[0m in \u001b[0;36msample\u001b[0;34m(draws, step, init, n_init, start, trace, chain_idx, chains, cores, tune, progressbar, model, random_seed, discard_tuned_samples, compute_convergence_checks, callback, jitter_max_retries, return_inferencedata, idata_kwargs, mp_ctx, pickle_backend, **kwargs)\u001b[0m\n\u001b[1;32m    568\u001b[0m         \u001b[0m_print_step_hierarchy\u001b[0m\u001b[0;34m(\u001b[0m\u001b[0mstep\u001b[0m\u001b[0;34m)\u001b[0m\u001b[0;34m\u001b[0m\u001b[0;34m\u001b[0m\u001b[0m\n\u001b[1;32m    569\u001b[0m         \u001b[0;32mtry\u001b[0m\u001b[0;34m:\u001b[0m\u001b[0;34m\u001b[0m\u001b[0;34m\u001b[0m\u001b[0m\n\u001b[0;32m--> 570\u001b[0;31m             \u001b[0mtrace\u001b[0m \u001b[0;34m=\u001b[0m \u001b[0m_mp_sample\u001b[0m\u001b[0;34m(\u001b[0m\u001b[0;34m**\u001b[0m\u001b[0msample_args\u001b[0m\u001b[0;34m,\u001b[0m \u001b[0;34m**\u001b[0m\u001b[0mparallel_args\u001b[0m\u001b[0;34m)\u001b[0m\u001b[0;34m\u001b[0m\u001b[0;34m\u001b[0m\u001b[0m\n\u001b[0m\u001b[1;32m    571\u001b[0m         \u001b[0;32mexcept\u001b[0m \u001b[0mpickle\u001b[0m\u001b[0;34m.\u001b[0m\u001b[0mPickleError\u001b[0m\u001b[0;34m:\u001b[0m\u001b[0;34m\u001b[0m\u001b[0;34m\u001b[0m\u001b[0m\n\u001b[1;32m    572\u001b[0m             \u001b[0m_log\u001b[0m\u001b[0;34m.\u001b[0m\u001b[0mwarning\u001b[0m\u001b[0;34m(\u001b[0m\u001b[0;34m\"Could not pickle model, sampling singlethreaded.\"\u001b[0m\u001b[0;34m)\u001b[0m\u001b[0;34m\u001b[0m\u001b[0;34m\u001b[0m\u001b[0m\n",
      "\u001b[0;32m~/anaconda3/envs/pymc3-dev-py38/lib/python3.8/site-packages/pymc3/sampling.py\u001b[0m in \u001b[0;36m_mp_sample\u001b[0;34m(draws, tune, step, chains, cores, chain, random_seed, start, progressbar, trace, model, callback, discard_tuned_samples, mp_ctx, pickle_backend, **kwargs)\u001b[0m\n\u001b[1;32m   1497\u001b[0m         \u001b[0;32mtry\u001b[0m\u001b[0;34m:\u001b[0m\u001b[0;34m\u001b[0m\u001b[0;34m\u001b[0m\u001b[0m\n\u001b[1;32m   1498\u001b[0m             \u001b[0;32mwith\u001b[0m \u001b[0msampler\u001b[0m\u001b[0;34m:\u001b[0m\u001b[0;34m\u001b[0m\u001b[0;34m\u001b[0m\u001b[0m\n\u001b[0;32m-> 1499\u001b[0;31m                 \u001b[0;32mfor\u001b[0m \u001b[0mdraw\u001b[0m \u001b[0;32min\u001b[0m \u001b[0msampler\u001b[0m\u001b[0;34m:\u001b[0m\u001b[0;34m\u001b[0m\u001b[0;34m\u001b[0m\u001b[0m\n\u001b[0m\u001b[1;32m   1500\u001b[0m                     \u001b[0mtrace\u001b[0m \u001b[0;34m=\u001b[0m \u001b[0mtraces\u001b[0m\u001b[0;34m[\u001b[0m\u001b[0mdraw\u001b[0m\u001b[0;34m.\u001b[0m\u001b[0mchain\u001b[0m \u001b[0;34m-\u001b[0m \u001b[0mchain\u001b[0m\u001b[0;34m]\u001b[0m\u001b[0;34m\u001b[0m\u001b[0;34m\u001b[0m\u001b[0m\n\u001b[1;32m   1501\u001b[0m                     \u001b[0;32mif\u001b[0m \u001b[0mtrace\u001b[0m\u001b[0;34m.\u001b[0m\u001b[0msupports_sampler_stats\u001b[0m \u001b[0;32mand\u001b[0m \u001b[0mdraw\u001b[0m\u001b[0;34m.\u001b[0m\u001b[0mstats\u001b[0m \u001b[0;32mis\u001b[0m \u001b[0;32mnot\u001b[0m \u001b[0;32mNone\u001b[0m\u001b[0;34m:\u001b[0m\u001b[0;34m\u001b[0m\u001b[0;34m\u001b[0m\u001b[0m\n",
      "\u001b[0;32m~/anaconda3/envs/pymc3-dev-py38/lib/python3.8/site-packages/pymc3/parallel_sampling.py\u001b[0m in \u001b[0;36m__iter__\u001b[0;34m(self)\u001b[0m\n\u001b[1;32m    478\u001b[0m \u001b[0;34m\u001b[0m\u001b[0m\n\u001b[1;32m    479\u001b[0m         \u001b[0;32mwhile\u001b[0m \u001b[0mself\u001b[0m\u001b[0;34m.\u001b[0m\u001b[0m_active\u001b[0m\u001b[0;34m:\u001b[0m\u001b[0;34m\u001b[0m\u001b[0;34m\u001b[0m\u001b[0m\n\u001b[0;32m--> 480\u001b[0;31m             \u001b[0mdraw\u001b[0m \u001b[0;34m=\u001b[0m \u001b[0mProcessAdapter\u001b[0m\u001b[0;34m.\u001b[0m\u001b[0mrecv_draw\u001b[0m\u001b[0;34m(\u001b[0m\u001b[0mself\u001b[0m\u001b[0;34m.\u001b[0m\u001b[0m_active\u001b[0m\u001b[0;34m)\u001b[0m\u001b[0;34m\u001b[0m\u001b[0;34m\u001b[0m\u001b[0m\n\u001b[0m\u001b[1;32m    481\u001b[0m             \u001b[0mproc\u001b[0m\u001b[0;34m,\u001b[0m \u001b[0mis_last\u001b[0m\u001b[0;34m,\u001b[0m \u001b[0mdraw\u001b[0m\u001b[0;34m,\u001b[0m \u001b[0mtuning\u001b[0m\u001b[0;34m,\u001b[0m \u001b[0mstats\u001b[0m\u001b[0;34m,\u001b[0m \u001b[0mwarns\u001b[0m \u001b[0;34m=\u001b[0m \u001b[0mdraw\u001b[0m\u001b[0;34m\u001b[0m\u001b[0;34m\u001b[0m\u001b[0m\n\u001b[1;32m    482\u001b[0m             \u001b[0mself\u001b[0m\u001b[0;34m.\u001b[0m\u001b[0m_total_draws\u001b[0m \u001b[0;34m+=\u001b[0m \u001b[0;36m1\u001b[0m\u001b[0;34m\u001b[0m\u001b[0;34m\u001b[0m\u001b[0m\n",
      "\u001b[0;32m~/anaconda3/envs/pymc3-dev-py38/lib/python3.8/site-packages/pymc3/parallel_sampling.py\u001b[0m in \u001b[0;36mrecv_draw\u001b[0;34m(processes, timeout)\u001b[0m\n\u001b[1;32m    358\u001b[0m             \u001b[0;32melse\u001b[0m\u001b[0;34m:\u001b[0m\u001b[0;34m\u001b[0m\u001b[0;34m\u001b[0m\u001b[0m\n\u001b[1;32m    359\u001b[0m                 \u001b[0merror\u001b[0m \u001b[0;34m=\u001b[0m \u001b[0mRuntimeError\u001b[0m\u001b[0;34m(\u001b[0m\u001b[0;34m\"Chain %s failed.\"\u001b[0m \u001b[0;34m%\u001b[0m \u001b[0mproc\u001b[0m\u001b[0;34m.\u001b[0m\u001b[0mchain\u001b[0m\u001b[0;34m)\u001b[0m\u001b[0;34m\u001b[0m\u001b[0;34m\u001b[0m\u001b[0m\n\u001b[0;32m--> 360\u001b[0;31m             \u001b[0;32mraise\u001b[0m \u001b[0merror\u001b[0m \u001b[0;32mfrom\u001b[0m \u001b[0mold_error\u001b[0m\u001b[0;34m\u001b[0m\u001b[0;34m\u001b[0m\u001b[0m\n\u001b[0m\u001b[1;32m    361\u001b[0m         \u001b[0;32melif\u001b[0m \u001b[0mmsg\u001b[0m\u001b[0;34m[\u001b[0m\u001b[0;36m0\u001b[0m\u001b[0;34m]\u001b[0m \u001b[0;34m==\u001b[0m \u001b[0;34m\"writing_done\"\u001b[0m\u001b[0;34m:\u001b[0m\u001b[0;34m\u001b[0m\u001b[0;34m\u001b[0m\u001b[0m\n\u001b[1;32m    362\u001b[0m             \u001b[0mproc\u001b[0m\u001b[0;34m.\u001b[0m\u001b[0m_readable\u001b[0m \u001b[0;34m=\u001b[0m \u001b[0;32mTrue\u001b[0m\u001b[0;34m\u001b[0m\u001b[0;34m\u001b[0m\u001b[0m\n",
      "\u001b[0;31mRuntimeError\u001b[0m: Chain 0 failed."
     ]
    }
   ],
   "source": [
    "with pm.Model(rng_seeder=rng) as model:\n",
    "#     alpha = pm.Gamma(\"alpha\", 1., 1.)\n",
    "    betas = pm.Beta(\"vh\", 1., 1., shape=(K,)) # not to order\n",
    "    weights = pm.Deterministic(\"wh\", stick_breaking(betas))\n",
    "    \n",
    "    G0 = pm.Normal(\"base-dist\", 0., 1., shape=(K,))\n",
    "    \n",
    "    dp_posterior = pm.Potential(\n",
    "        name=\"dp-posterior\",\n",
    "        var=logp_dp(weights, G0, x)\n",
    "    )\n",
    "    \n",
    "    prior = pm.sample_prior_predictive(samples=1000)\n",
    "    posterior = pm.sample(draws=1000)"
   ]
  },
  {
   "cell_type": "code",
   "execution_count": null,
   "id": "512bc894",
   "metadata": {},
   "outputs": [],
   "source": [
    "_ = pm.plot_trace(posterior)"
   ]
  },
  {
   "cell_type": "code",
   "execution_count": 10,
   "id": "35f51c89",
   "metadata": {},
   "outputs": [],
   "source": [
    "n_sample_plot = 30# number of DP draws to be plotted, otherwise kernel will die\n",
    "\n",
    "# mh_posterior = posterior.to_dict()[\"posterior\"][\"base-dist\"][0][-n_sample_plot:, :]\n",
    "# wh_posterior = posterior.to_dict()[\"posterior\"][\"wh\"][0][-n_sample_plot:, :]\n",
    "\n",
    "mh_prior = prior[\"base-dist\"][-n_sample_plot:, :]\n",
    "wh_prior = prior[\"wh\"][-n_sample_plot:, :]"
   ]
  },
  {
   "cell_type": "code",
   "execution_count": 11,
   "id": "f53b7c77",
   "metadata": {},
   "outputs": [],
   "source": [
    "def plot_dp(x_plot, mh_samples, wh_samples, true_dist_cdf):\n",
    "    \"\"\"\n",
    "    • true_dist_cdf = lambda x: st.norm.cdf(x, loc=0, scale=1)\n",
    "    \"\"\"\n",
    "    dirac = np.less.outer(mh_samples, x_plot).astype(int)\n",
    "    empirical_cdf = dirac*wh_samples[..., np.newaxis]\n",
    "    empirical_cdf = empirical_cdf.sum(axis=1)\n",
    "    \n",
    "    fig, ax = plt.subplots(figsize=(8, 5))\n",
    "\n",
    "    for e_cdf in empirical_cdf:\n",
    "        ax.plot(x_plot, e_cdf, c=\"k\", alpha=0.15)\n",
    "\n",
    "    _ = ax.plot(x_plot, true_dist_cdf(x_plot), c=\"k\")\n",
    "    \n",
    "x_plot = np.linspace(-2, 4, num=701)"
   ]
  },
  {
   "cell_type": "markdown",
   "id": "775d1bcf",
   "metadata": {},
   "source": [
    "### Dirichlet process prior plot"
   ]
  },
  {
   "cell_type": "markdown",
   "id": "a7cba1af",
   "metadata": {},
   "source": [
    "Black line is $\\mathcal{N}(0, 1)$, what was used as the base distribution $G0$."
   ]
  },
  {
   "cell_type": "code",
   "execution_count": 12,
   "id": "653a2b34",
   "metadata": {},
   "outputs": [
    {
     "data": {
      "image/png": "[encoded data removed]",
      "text/plain": [
       "<Figure size 576x360 with 1 Axes>"
      ]
     },
     "metadata": {
      "image/png": {
       "height": 302,
       "width": 483
      },
      "needs_background": "light"
     },
     "output_type": "display_data"
    }
   ],
   "source": [
    "plot_dp(x_plot, mh_prior, wh_prior, lambda x: st.norm.cdf(x, loc=0, scale=1))"
   ]
  },
  {
   "cell_type": "markdown",
   "id": "c18bbee1",
   "metadata": {},
   "source": [
    "### Dirichlet process posterior plot"
   ]
  },
  {
   "cell_type": "markdown",
   "id": "e12c9678",
   "metadata": {},
   "source": [
    "The black line is the target true data-generating distribution $\\mathcal{N}(2, 4)$, which was used to generate samples `x` and as per **Example 9** above."
   ]
  },
  {
   "cell_type": "code",
   "execution_count": null,
   "id": "b5d5825f",
   "metadata": {},
   "outputs": [],
   "source": [
    "plot_dp(x_plot, mh_posterior, wh_posterior, lambda x: st.norm.cdf(x, loc=2, scale=2))"
   ]
  },
  {
   "cell_type": "markdown",
   "id": "2c67523e",
   "metadata": {},
   "source": [
    "### Retrieve Concentration Parameter from Weights"
   ]
  },
  {
   "cell_type": "code",
   "execution_count": 14,
   "id": "a02c2d95",
   "metadata": {},
   "outputs": [
    {
     "data": {
      "text/plain": [
       "array([0.04710329, 0.12776214, 0.01462119, 0.62762831, 0.3141013 ,\n",
       "       0.02027609, 0.67135888])"
      ]
     },
     "execution_count": 14,
     "metadata": {},
     "output_type": "execute_result"
    }
   ],
   "source": [
    "weights_np/np.cumsum(np.concatenate(([1], -weights_np[:-1])))"
   ]
  },
  {
   "cell_type": "code",
   "execution_count": 22,
   "id": "789b40ab",
   "metadata": {},
   "outputs": [],
   "source": [
    "wh_prior = prior[\"wh\"]"
   ]
  },
  {
   "cell_type": "code",
   "execution_count": 55,
   "id": "509cf2a2",
   "metadata": {},
   "outputs": [],
   "source": [
    "def beta_log_lik(x, log_alpha, log_beta):\n",
    "    \n",
    "    alpha = np.exp(log_alpha)\n",
    "    beta = np.exp(log_beta)\n",
    "    \n",
    "    constant = np.log(gamma(alpha + beta)) - np.log(gamma(alpha)) - np.log(gamma(beta))\n",
    "    \n",
    "    return constant + (alpha - 1)*(np.log(x)).sum() + (beta - 1)*(np.log(1 - x)).sum()"
   ]
  },
  {
   "cell_type": "code",
   "execution_count": 63,
   "id": "509e7699",
   "metadata": {},
   "outputs": [],
   "source": [
    "M_estimates = []\n",
    "\n",
    "for wh in wh_prior:\n",
    "    vh = wh/np.cumsum(np.concatenate(([1], -wh[:-1])))\n",
    "    temp_neg_log_lik = lambda M: -beta_log_lik(vh, 1, M)\n",
    "    \n",
    "    results = opt.minimize(temp_neg_log_lik, x0=5) # point estimate of concentration parameter\n",
    "    M_estimates.append(results.x[0])\n",
    "    \n",
    "M_estimates = np.exp(M_estimates)"
   ]
  },
  {
   "cell_type": "code",
   "execution_count": 65,
   "id": "91d7dd88",
   "metadata": {},
   "outputs": [
    {
     "data": {
      "text/plain": [
       "0.06018118118789077"
      ]
     },
     "execution_count": 65,
     "metadata": {},
     "output_type": "execute_result"
    }
   ],
   "source": [
    "M_estimates.mean()"
   ]
  },
  {
   "cell_type": "code",
   "execution_count": null,
   "id": "d862819e",
   "metadata": {},
   "outputs": [],
   "source": []
  }
 ],
 "metadata": {
  "kernelspec": {
   "display_name": "pymc3-dev-py38",
   "language": "python",
   "name": "pymc3-dev-py38"
  },
  "language_info": {
   "codemirror_mode": {
    "name": "ipython",
    "version": 3
   },
   "file_extension": ".py",
   "mimetype": "text/x-python",
   "name": "python",
   "nbconvert_exporter": "python",
   "pygments_lexer": "ipython3",
   "version": "3.8.10"
  }
 },
 "nbformat": 4,
 "nbformat_minor": 5
}
