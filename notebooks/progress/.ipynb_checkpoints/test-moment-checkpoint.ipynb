{
 "cells": [
  {
   "cell_type": "code",
   "execution_count": 1,
   "id": "2482cdb2",
   "metadata": {},
   "outputs": [
    {
     "name": "stderr",
     "output_type": "stream",
     "text": [
      "You are running the v4 development version of PyMC which currently still lacks key features. You probably want to use the stable v3 instead which you can either install via conda or find on the v3 GitHub branch: https://github.com/pymc-devs/pymc/tree/v3\n"
     ]
    },
    {
     "name": "stdout",
     "output_type": "stream",
     "text": [
      "pymc version: 4.0.0\n",
      "Aesara version: 2.2.1\n",
      "pymc location: /Users/larryshamalama/Documents/GitHub/pymc/pymc/__init__.py\n"
     ]
    }
   ],
   "source": [
    "import numpy as np\n",
    "\n",
    "import aesara.tensor as at\n",
    "from aesara.tensor.random.op import RandomVariable, default_shape_from_params\n",
    "\n",
    "import sys\n",
    "\n",
    "sys.path.insert(0, \"/Users/larryshamalama/Documents/GitHub/pymc\")\n",
    "\n",
    "import pymc as pm\n",
    "\n",
    "from pymc.distributions.continuous import assert_negative_support, UnitContinuous\n",
    "from pymc.distributions.dist_math import betaln, bound, normal_lcdf\n",
    "from pymc.distributions.distribution import Continuous\n",
    "\n",
    "from pymc.distributions import transforms\n",
    "\n",
    "from pymc.aesaraf import floatX, intX\n",
    "\n",
    "# a bunch of imports for testing and printing\n",
    "\n",
    "from aesara.tensor.basic import get_vector_length\n",
    "from aesara.tensor.random.utils import params_broadcast_shapes\n",
    "from aesara.tensor.shape import shape_tuple\n",
    "\n",
    "import aesara\n",
    "\n",
    "import matplotlib.pyplot as plt\n",
    "import scipy.stats as st\n",
    "\n",
    "from aeppl import joint_logprob, pprint\n",
    "\n",
    "%config InlineBackend.figure_format = \"retina\"\n",
    "%matplotlib inline\n",
    "\n",
    "print(f\"pymc version: {pm.__version__}\")\n",
    "print(f\"Aesara version: {aesara.__version__}\")\n",
    "print(f\"pymc location: {pm.__file__}\")"
   ]
  },
  {
   "cell_type": "code",
   "execution_count": 2,
   "id": "1d328b45",
   "metadata": {},
   "outputs": [
    {
     "data": {
      "text/plain": [
       "array([-1.49219917, -0.07027045, -0.45229898,  0.0935041 ])"
      ]
     },
     "execution_count": 2,
     "metadata": {},
     "output_type": "execute_result"
    }
   ],
   "source": [
    "pm.Normal.rv_op(size=[4,]).eval()"
   ]
  },
  {
   "cell_type": "code",
   "execution_count": 3,
   "id": "d086c895",
   "metadata": {},
   "outputs": [],
   "source": [
    "# A simple scale mixture model\n",
    "S_rv = at.random.invgamma(0.5, 0.5)\n",
    "Y_rv = at.random.normal(0.0, at.sqrt(S_rv))\n",
    "\n",
    "# Compute the joint log-probability\n",
    "y = at.scalar(\"y\")\n",
    "s = at.scalar(\"s\")\n",
    "logprob = joint_logprob({Y_rv: y, S_rv: s})"
   ]
  },
  {
   "cell_type": "code",
   "execution_count": null,
   "id": "8ab8e4f9",
   "metadata": {},
   "outputs": [],
   "source": []
  }
 ],
 "metadata": {
  "kernelspec": {
   "display_name": "pymc3-dev-py38",
   "language": "python",
   "name": "pymc3-dev-py38"
  },
  "language_info": {
   "codemirror_mode": {
    "name": "ipython",
    "version": 3
   },
   "file_extension": ".py",
   "mimetype": "text/x-python",
   "name": "python",
   "nbconvert_exporter": "python",
   "pygments_lexer": "ipython3",
   "version": "3.8.10"
  }
 },
 "nbformat": 4,
 "nbformat_minor": 5
}
