{
 "cells": [
  {
   "cell_type": "code",
   "execution_count": 1,
   "id": "dce14a97",
   "metadata": {},
   "outputs": [
    {
     "name": "stderr",
     "output_type": "stream",
     "text": [
      "You are running the v4 development version of PyMC which currently still lacks key features. You probably want to use the stable v3 instead which you can either install via conda or find on the v3 GitHub branch: https://github.com/pymc-devs/pymc/tree/v3\n"
     ]
    },
    {
     "name": "stdout",
     "output_type": "stream",
     "text": [
      "pymc version: 4.0.0\n",
      "Aesara version: 2.2.1\n",
      "pymc location: /Users/larryshamalama/Documents/GitHub/pymc/pymc/__init__.py\n"
     ]
    }
   ],
   "source": [
    "import numpy as np\n",
    "\n",
    "import aesara.tensor as at\n",
    "from aesara.tensor.random.op import RandomVariable, default_shape_from_params\n",
    "\n",
    "import sys\n",
    "\n",
    "sys.path.insert(0, \"/Users/larryshamalama/Documents/GitHub/pymc\")\n",
    "\n",
    "import pymc as pm\n",
    "\n",
    "from pymc.distributions.continuous import assert_negative_support, UnitContinuous\n",
    "from pymc.distributions.dist_math import betaln, bound, normal_lcdf\n",
    "from pymc.distributions.distribution import Continuous\n",
    "\n",
    "from pymc.distributions import transforms\n",
    "\n",
    "from pymc.aesaraf import floatX, intX\n",
    "\n",
    "# a bunch of imports for testing and printing\n",
    "\n",
    "from aesara.tensor.basic import get_vector_length\n",
    "from aesara.tensor.random.utils import params_broadcast_shapes\n",
    "from aesara.tensor.shape import shape_tuple\n",
    "\n",
    "import aesara\n",
    "\n",
    "import matplotlib.pyplot as plt\n",
    "import scipy.stats as st\n",
    "\n",
    "%config InlineBackend.figure_format = \"retina\"\n",
    "%matplotlib inline\n",
    "\n",
    "print(f\"pymc version: {pm.__version__}\")\n",
    "print(f\"Aesara version: {aesara.__version__}\")\n",
    "print(f\"pymc location: {pm.__file__}\")"
   ]
  },
  {
   "cell_type": "code",
   "execution_count": 2,
   "id": "0686cb22",
   "metadata": {},
   "outputs": [],
   "source": [
    "M = 3; K = 19"
   ]
  },
  {
   "cell_type": "code",
   "execution_count": 3,
   "id": "0d41591e",
   "metadata": {},
   "outputs": [],
   "source": [
    "def stick_glueing(weights):\n",
    "    shape = tuple(weights.shape or ())\n",
    "    \n",
    "    denominator = np.cumsum(\n",
    "        np.concatenate(\n",
    "            [\n",
    "                np.ones(shape=shape[:-1] + (1,)),\n",
    "                - weights,\n",
    "            ],\n",
    "            axis=-1,\n",
    "        ),\n",
    "        axis=-1,\n",
    "    )\n",
    "    \n",
    "    output = (weights/(denominator[..., :-1]))\n",
    "    \n",
    "    return output[..., :-1]"
   ]
  },
  {
   "cell_type": "markdown",
   "id": "0b4146b8",
   "metadata": {},
   "source": [
    "## `GeneralizedDirichlet`"
   ]
  },
  {
   "cell_type": "code",
   "execution_count": 4,
   "id": "27c5a350",
   "metadata": {},
   "outputs": [
    {
     "name": "stderr",
     "output_type": "stream",
     "text": [
      "Auto-assigning NUTS sampler...\n",
      "Initializing NUTS using jitter+adapt_diag...\n",
      "Sequential sampling (1 chains in 1 job)\n",
      "NUTS: [dirichlet-test]\n"
     ]
    },
    {
     "data": {
      "text/html": [
       "\n",
       "    <div>\n",
       "        <style>\n",
       "            /* Turns off some styling */\n",
       "            progress {\n",
       "                /* gets rid of default border in Firefox and Opera. */\n",
       "                border: none;\n",
       "                /* Needs to be in here for Safari polyfill so background images work as expected. */\n",
       "                background-size: auto;\n",
       "            }\n",
       "            .progress-bar-interrupted, .progress-bar-interrupted::-webkit-progress-bar {\n",
       "                background: #F44336;\n",
       "            }\n",
       "        </style>\n",
       "      <progress value='2000' class='' max='2000' style='width:300px; height:20px; vertical-align: middle;'></progress>\n",
       "      100.00% [2000/2000 00:07<00:00 Sampling chain 0, 0 divergences]\n",
       "    </div>\n",
       "    "
      ],
      "text/plain": [
       "<IPython.core.display.HTML object>"
      ]
     },
     "metadata": {},
     "output_type": "display_data"
    },
    {
     "name": "stderr",
     "output_type": "stream",
     "text": [
      "Sampling 1 chain for 1_000 tune and 1_000 draw iterations (1_000 + 1_000 draws total) took 8 seconds.\n"
     ]
    },
    {
     "ename": "TypeError",
     "evalue": "dict_to_dataset() got an unexpected keyword argument 'default_dims'",
     "output_type": "error",
     "traceback": [
      "\u001b[0;31m---------------------------------------------------------------------------\u001b[0m",
      "\u001b[0;31mTypeError\u001b[0m                                 Traceback (most recent call last)",
      "\u001b[0;32m<ipython-input-4-cb7abe3b1865>\u001b[0m in \u001b[0;36m<module>\u001b[0;34m\u001b[0m\n\u001b[1;32m      5\u001b[0m     \u001b[0md\u001b[0m \u001b[0;34m=\u001b[0m \u001b[0mpm\u001b[0m\u001b[0;34m.\u001b[0m\u001b[0mDirichlet\u001b[0m\u001b[0;34m(\u001b[0m\u001b[0mname\u001b[0m\u001b[0;34m=\u001b[0m\u001b[0;34m\"dirichlet-test\"\u001b[0m\u001b[0;34m,\u001b[0m \u001b[0ma\u001b[0m\u001b[0;34m=\u001b[0m\u001b[0mnp\u001b[0m\u001b[0;34m.\u001b[0m\u001b[0marray\u001b[0m\u001b[0;34m(\u001b[0m\u001b[0;34m[\u001b[0m\u001b[0;34m[\u001b[0m\u001b[0;36m1\u001b[0m\u001b[0;34m,\u001b[0m \u001b[0;36m2\u001b[0m\u001b[0;34m,\u001b[0m \u001b[0;36m3\u001b[0m\u001b[0;34m]\u001b[0m\u001b[0;34m,\u001b[0m \u001b[0;34m[\u001b[0m\u001b[0;36m4\u001b[0m\u001b[0;34m,\u001b[0m \u001b[0;36m5\u001b[0m\u001b[0;34m,\u001b[0m \u001b[0;36m6\u001b[0m\u001b[0;34m]\u001b[0m\u001b[0;34m]\u001b[0m\u001b[0;34m)\u001b[0m\u001b[0;34m)\u001b[0m\u001b[0;34m\u001b[0m\u001b[0;34m\u001b[0m\u001b[0m\n\u001b[1;32m      6\u001b[0m \u001b[0;34m\u001b[0m\u001b[0m\n\u001b[0;32m----> 7\u001b[0;31m     \u001b[0msample\u001b[0m \u001b[0;34m=\u001b[0m \u001b[0mpm\u001b[0m\u001b[0;34m.\u001b[0m\u001b[0msample\u001b[0m\u001b[0;34m(\u001b[0m\u001b[0;36m1000\u001b[0m\u001b[0;34m,\u001b[0m \u001b[0mchains\u001b[0m\u001b[0;34m=\u001b[0m\u001b[0;36m1\u001b[0m\u001b[0;34m)\u001b[0m\u001b[0;34m\u001b[0m\u001b[0;34m\u001b[0m\u001b[0m\n\u001b[0m\u001b[1;32m      8\u001b[0m \u001b[0;34m\u001b[0m\u001b[0m\n\u001b[1;32m      9\u001b[0m \u001b[0msample\u001b[0m\u001b[0;34m.\u001b[0m\u001b[0mto_dict\u001b[0m\u001b[0;34m(\u001b[0m\u001b[0;34m)\u001b[0m\u001b[0;34m[\u001b[0m\u001b[0;34m\"posterior\"\u001b[0m\u001b[0;34m]\u001b[0m\u001b[0;34m[\u001b[0m\u001b[0;34m\"dirichlet-test\"\u001b[0m\u001b[0;34m]\u001b[0m\u001b[0;34m[\u001b[0m\u001b[0;36m0\u001b[0m\u001b[0;34m]\u001b[0m\u001b[0;34m.\u001b[0m\u001b[0mmean\u001b[0m\u001b[0;34m(\u001b[0m\u001b[0maxis\u001b[0m\u001b[0;34m=\u001b[0m\u001b[0;36m0\u001b[0m\u001b[0;34m)\u001b[0m\u001b[0;34m\u001b[0m\u001b[0;34m\u001b[0m\u001b[0m\n",
      "\u001b[0;32m~/Documents/GitHub/pymc/pymc/sampling.py\u001b[0m in \u001b[0;36msample\u001b[0;34m(draws, step, init, n_init, initvals, trace, chain_idx, chains, cores, tune, progressbar, model, random_seed, discard_tuned_samples, compute_convergence_checks, callback, jitter_max_retries, return_inferencedata, idata_kwargs, mp_ctx, **kwargs)\u001b[0m\n\u001b[1;32m    641\u001b[0m         \u001b[0;32mif\u001b[0m \u001b[0midata_kwargs\u001b[0m\u001b[0;34m:\u001b[0m\u001b[0;34m\u001b[0m\u001b[0;34m\u001b[0m\u001b[0m\n\u001b[1;32m    642\u001b[0m             \u001b[0mikwargs\u001b[0m\u001b[0;34m.\u001b[0m\u001b[0mupdate\u001b[0m\u001b[0;34m(\u001b[0m\u001b[0midata_kwargs\u001b[0m\u001b[0;34m)\u001b[0m\u001b[0;34m\u001b[0m\u001b[0;34m\u001b[0m\u001b[0m\n\u001b[0;32m--> 643\u001b[0;31m         \u001b[0midata\u001b[0m \u001b[0;34m=\u001b[0m \u001b[0mpm\u001b[0m\u001b[0;34m.\u001b[0m\u001b[0mto_inference_data\u001b[0m\u001b[0;34m(\u001b[0m\u001b[0mtrace\u001b[0m\u001b[0;34m,\u001b[0m \u001b[0;34m**\u001b[0m\u001b[0mikwargs\u001b[0m\u001b[0;34m)\u001b[0m\u001b[0;34m\u001b[0m\u001b[0;34m\u001b[0m\u001b[0m\n\u001b[0m\u001b[1;32m    644\u001b[0m \u001b[0;34m\u001b[0m\u001b[0m\n\u001b[1;32m    645\u001b[0m     \u001b[0;32mif\u001b[0m \u001b[0mcompute_convergence_checks\u001b[0m\u001b[0;34m:\u001b[0m\u001b[0;34m\u001b[0m\u001b[0;34m\u001b[0m\u001b[0m\n",
      "\u001b[0;32m~/Documents/GitHub/pymc/pymc/backends/arviz.py\u001b[0m in \u001b[0;36mto_inference_data\u001b[0;34m(trace, prior, posterior_predictive, log_likelihood, coords, dims, model, save_warmup, density_dist_obs)\u001b[0m\n\u001b[1;32m    585\u001b[0m         \u001b[0;32mreturn\u001b[0m \u001b[0mtrace\u001b[0m\u001b[0;34m\u001b[0m\u001b[0;34m\u001b[0m\u001b[0m\n\u001b[1;32m    586\u001b[0m \u001b[0;34m\u001b[0m\u001b[0m\n\u001b[0;32m--> 587\u001b[0;31m     return InferenceDataConverter(\n\u001b[0m\u001b[1;32m    588\u001b[0m         \u001b[0mtrace\u001b[0m\u001b[0;34m=\u001b[0m\u001b[0mtrace\u001b[0m\u001b[0;34m,\u001b[0m\u001b[0;34m\u001b[0m\u001b[0;34m\u001b[0m\u001b[0m\n\u001b[1;32m    589\u001b[0m         \u001b[0mprior\u001b[0m\u001b[0;34m=\u001b[0m\u001b[0mprior\u001b[0m\u001b[0;34m,\u001b[0m\u001b[0;34m\u001b[0m\u001b[0;34m\u001b[0m\u001b[0m\n",
      "\u001b[0;32m~/Documents/GitHub/pymc/pymc/backends/arviz.py\u001b[0m in \u001b[0;36mto_inference_data\u001b[0;34m(self)\u001b[0m\n\u001b[1;32m    522\u001b[0m             \u001b[0;34m\"predictions\"\u001b[0m\u001b[0;34m:\u001b[0m \u001b[0mself\u001b[0m\u001b[0;34m.\u001b[0m\u001b[0mpredictions_to_xarray\u001b[0m\u001b[0;34m(\u001b[0m\u001b[0;34m)\u001b[0m\u001b[0;34m,\u001b[0m\u001b[0;34m\u001b[0m\u001b[0;34m\u001b[0m\u001b[0m\n\u001b[1;32m    523\u001b[0m             \u001b[0;34m**\u001b[0m\u001b[0mself\u001b[0m\u001b[0;34m.\u001b[0m\u001b[0mpriors_to_xarray\u001b[0m\u001b[0;34m(\u001b[0m\u001b[0;34m)\u001b[0m\u001b[0;34m,\u001b[0m\u001b[0;34m\u001b[0m\u001b[0;34m\u001b[0m\u001b[0m\n\u001b[0;32m--> 524\u001b[0;31m             \u001b[0;34m\"observed_data\"\u001b[0m\u001b[0;34m:\u001b[0m \u001b[0mself\u001b[0m\u001b[0;34m.\u001b[0m\u001b[0mobserved_data_to_xarray\u001b[0m\u001b[0;34m(\u001b[0m\u001b[0;34m)\u001b[0m\u001b[0;34m,\u001b[0m\u001b[0;34m\u001b[0m\u001b[0;34m\u001b[0m\u001b[0m\n\u001b[0m\u001b[1;32m    525\u001b[0m         }\n\u001b[1;32m    526\u001b[0m         \u001b[0;32mif\u001b[0m \u001b[0mself\u001b[0m\u001b[0;34m.\u001b[0m\u001b[0mpredictions\u001b[0m\u001b[0;34m:\u001b[0m\u001b[0;34m\u001b[0m\u001b[0;34m\u001b[0m\u001b[0m\n",
      "\u001b[0;32m~/anaconda3/envs/pymc3-dev-py38/lib/python3.8/site-packages/arviz/data/base.py\u001b[0m in \u001b[0;36mwrapped\u001b[0;34m(cls, *args, **kwargs)\u001b[0m\n\u001b[1;32m     44\u001b[0m                 \u001b[0;32mif\u001b[0m \u001b[0mall\u001b[0m\u001b[0;34m(\u001b[0m\u001b[0;34m[\u001b[0m\u001b[0mgetattr\u001b[0m\u001b[0;34m(\u001b[0m\u001b[0mcls\u001b[0m\u001b[0;34m,\u001b[0m \u001b[0mprop_i\u001b[0m\u001b[0;34m)\u001b[0m \u001b[0;32mis\u001b[0m \u001b[0;32mNone\u001b[0m \u001b[0;32mfor\u001b[0m \u001b[0mprop_i\u001b[0m \u001b[0;32min\u001b[0m \u001b[0mprop\u001b[0m\u001b[0;34m]\u001b[0m\u001b[0;34m)\u001b[0m\u001b[0;34m:\u001b[0m\u001b[0;34m\u001b[0m\u001b[0;34m\u001b[0m\u001b[0m\n\u001b[1;32m     45\u001b[0m                     \u001b[0;32mreturn\u001b[0m \u001b[0;32mNone\u001b[0m\u001b[0;34m\u001b[0m\u001b[0;34m\u001b[0m\u001b[0m\n\u001b[0;32m---> 46\u001b[0;31m             \u001b[0;32mreturn\u001b[0m \u001b[0mfunc\u001b[0m\u001b[0;34m(\u001b[0m\u001b[0mcls\u001b[0m\u001b[0;34m,\u001b[0m \u001b[0;34m*\u001b[0m\u001b[0margs\u001b[0m\u001b[0;34m,\u001b[0m \u001b[0;34m**\u001b[0m\u001b[0mkwargs\u001b[0m\u001b[0;34m)\u001b[0m\u001b[0;34m\u001b[0m\u001b[0;34m\u001b[0m\u001b[0m\n\u001b[0m\u001b[1;32m     47\u001b[0m \u001b[0;34m\u001b[0m\u001b[0m\n\u001b[1;32m     48\u001b[0m         \u001b[0;32mreturn\u001b[0m \u001b[0mwrapped\u001b[0m\u001b[0;34m\u001b[0m\u001b[0;34m\u001b[0m\u001b[0m\n",
      "\u001b[0;32m~/anaconda3/envs/pymc3-dev-py38/lib/python3.8/site-packages/arviz/data/base.py\u001b[0m in \u001b[0;36mwrapped\u001b[0;34m(cls, *args, **kwargs)\u001b[0m\n\u001b[1;32m     44\u001b[0m                 \u001b[0;32mif\u001b[0m \u001b[0mall\u001b[0m\u001b[0;34m(\u001b[0m\u001b[0;34m[\u001b[0m\u001b[0mgetattr\u001b[0m\u001b[0;34m(\u001b[0m\u001b[0mcls\u001b[0m\u001b[0;34m,\u001b[0m \u001b[0mprop_i\u001b[0m\u001b[0;34m)\u001b[0m \u001b[0;32mis\u001b[0m \u001b[0;32mNone\u001b[0m \u001b[0;32mfor\u001b[0m \u001b[0mprop_i\u001b[0m \u001b[0;32min\u001b[0m \u001b[0mprop\u001b[0m\u001b[0;34m]\u001b[0m\u001b[0;34m)\u001b[0m\u001b[0;34m:\u001b[0m\u001b[0;34m\u001b[0m\u001b[0;34m\u001b[0m\u001b[0m\n\u001b[1;32m     45\u001b[0m                     \u001b[0;32mreturn\u001b[0m \u001b[0;32mNone\u001b[0m\u001b[0;34m\u001b[0m\u001b[0;34m\u001b[0m\u001b[0m\n\u001b[0;32m---> 46\u001b[0;31m             \u001b[0;32mreturn\u001b[0m \u001b[0mfunc\u001b[0m\u001b[0;34m(\u001b[0m\u001b[0mcls\u001b[0m\u001b[0;34m,\u001b[0m \u001b[0;34m*\u001b[0m\u001b[0margs\u001b[0m\u001b[0;34m,\u001b[0m \u001b[0;34m**\u001b[0m\u001b[0mkwargs\u001b[0m\u001b[0;34m)\u001b[0m\u001b[0;34m\u001b[0m\u001b[0;34m\u001b[0m\u001b[0m\n\u001b[0m\u001b[1;32m     47\u001b[0m \u001b[0;34m\u001b[0m\u001b[0m\n\u001b[1;32m     48\u001b[0m         \u001b[0;32mreturn\u001b[0m \u001b[0mwrapped\u001b[0m\u001b[0;34m\u001b[0m\u001b[0;34m\u001b[0m\u001b[0m\n",
      "\u001b[0;32m~/Documents/GitHub/pymc/pymc/backends/arviz.py\u001b[0m in \u001b[0;36mobserved_data_to_xarray\u001b[0;34m(self)\u001b[0m\n\u001b[1;32m    454\u001b[0m         \u001b[0;32mif\u001b[0m \u001b[0mself\u001b[0m\u001b[0;34m.\u001b[0m\u001b[0mpredictions\u001b[0m\u001b[0;34m:\u001b[0m\u001b[0;34m\u001b[0m\u001b[0;34m\u001b[0m\u001b[0m\n\u001b[1;32m    455\u001b[0m             \u001b[0;32mreturn\u001b[0m \u001b[0;32mNone\u001b[0m\u001b[0;34m\u001b[0m\u001b[0;34m\u001b[0m\u001b[0m\n\u001b[0;32m--> 456\u001b[0;31m         return dict_to_dataset(\n\u001b[0m\u001b[1;32m    457\u001b[0m             \u001b[0mself\u001b[0m\u001b[0;34m.\u001b[0m\u001b[0mobservations\u001b[0m\u001b[0;34m,\u001b[0m\u001b[0;34m\u001b[0m\u001b[0;34m\u001b[0m\u001b[0m\n\u001b[1;32m    458\u001b[0m             \u001b[0mlibrary\u001b[0m\u001b[0;34m=\u001b[0m\u001b[0mpymc\u001b[0m\u001b[0;34m,\u001b[0m\u001b[0;34m\u001b[0m\u001b[0;34m\u001b[0m\u001b[0m\n",
      "\u001b[0;31mTypeError\u001b[0m: dict_to_dataset() got an unexpected keyword argument 'default_dims'"
     ]
    }
   ],
   "source": [
    "class GeneralizedDirichletRV(RandomVariable):\n",
    "    pass\n",
    "\n",
    "with pm.Model() as model:\n",
    "    d = pm.Dirichlet(name=\"dirichlet-test\", a=np.array([[1, 2, 3], [4, 5, 6]]))\n",
    "    \n",
    "    sample = pm.sample(1000, chains=1)\n",
    "    \n",
    "sample.to_dict()[\"posterior\"][\"dirichlet-test\"][0].mean(axis=0)"
   ]
  },
  {
   "cell_type": "markdown",
   "id": "f9f86ffb",
   "metadata": {},
   "source": [
    "## `StickBreakingWeightsRV`"
   ]
  },
  {
   "cell_type": "code",
   "execution_count": null,
   "id": "e4eca9cf",
   "metadata": {},
   "outputs": [],
   "source": [
    "class StickBreakingWeightsRV(RandomVariable):\n",
    "    name = \"stick_breaking_weights\"\n",
    "    ndim_supp = 1\n",
    "    ndims_params = [0]\n",
    "    dtype = \"floatX\"\n",
    "    _print_name = (\"StickBreakingWeights\", \"\\\\operatorname{StickBreakingWeights}\")\n",
    "    \n",
    "    def __call__(self, alpha=1., size=None, **kwargs):\n",
    "        return super().__call__(alpha, size=size, **kwargs)\n",
    "\n",
    "    def _infer_shape(self, size, dist_params, param_shapes=None):\n",
    "        return size\n",
    "    \n",
    "    @classmethod\n",
    "    def rng_fn(cls, rng, alpha, size):\n",
    "        if size is None:\n",
    "            raise ValueError(\"size cannot be None\")  \n",
    "        elif isinstance(size, int):\n",
    "            size = (size,)\n",
    "        else:\n",
    "            size = tuple(size)\n",
    "        \n",
    "        if np.ndim(alpha) == 0:\n",
    "            betas = rng.beta(1, alpha, size=size)\n",
    "        else:\n",
    "            betas = np.empty(alpha.size + size)\n",
    "\n",
    "            for idx in np.ndindex(size):\n",
    "                betas[idx] = rng.beta(1, alpha[idx], size=size)\n",
    "        \n",
    "        sticks = np.concatenate(\n",
    "            (\n",
    "                np.ones(shape=(size[:-1] + (1,))),\n",
    "                np.cumprod(1 - betas[..., :-1], axis=-1),\n",
    "            ),\n",
    "            axis=-1,\n",
    "        )\n",
    "        \n",
    "        weights = sticks * betas\n",
    "        weights = np.concatenate(\n",
    "            (\n",
    "                weights,\n",
    "                1 - weights.sum(axis=-1)[..., np.newaxis]\n",
    "            ),\n",
    "            axis=-1,\n",
    "        )\n",
    "\n",
    "        return weights\n",
    "    \n",
    "\n",
    "stickbreakingweights = StickBreakingWeightsRV()"
   ]
  },
  {
   "cell_type": "code",
   "execution_count": null,
   "id": "f94deda5",
   "metadata": {},
   "outputs": [],
   "source": [
    "# all test points working\n",
    "_ = stickbreakingweights(alpha=M, size=7).eval()\n",
    "_ = stickbreakingweights(alpha=M, size=[100, 7]).eval()\n",
    "_ = stickbreakingweights(alpha=M, size=[10, 11, 7]).eval()\n",
    "\n",
    "_ = stickbreakingweights(alpha=np.array([[1, 2], [4, 5]]), size=[10, 11, 7])"
   ]
  },
  {
   "cell_type": "markdown",
   "id": "192040d7",
   "metadata": {},
   "source": [
    "## Testing `rng_fn`"
   ]
  },
  {
   "cell_type": "code",
   "execution_count": null,
   "id": "7e64a349",
   "metadata": {},
   "outputs": [],
   "source": [
    "rng = np.random.RandomState(seed=34)\n",
    "beta_draws = stick_glueing(stickbreakingweights(alpha=M, size=[1000, K]).eval()).reshape(-1,)\n",
    "\n",
    "x_plot = np.linspace(start=0.001, stop=0.999, num=10001)\n",
    "\n",
    "_ = plt.hist(beta_draws, bins=100, density=True)\n",
    "_ = plt.plot(\n",
    "    x_plot,\n",
    "    st.beta.pdf(x_plot, a=1., b=M)\n",
    ")\n",
    "_ = plt.title(f\"Mean = {np.around(beta_draws.mean(), 2)}\")"
   ]
  },
  {
   "cell_type": "code",
   "execution_count": null,
   "id": "6d44685b",
   "metadata": {},
   "outputs": [],
   "source": [
    "class StickBreakingWeights(Continuous):\n",
    "    rv_op = stickbreakingweights\n",
    "    \n",
    "    def __new__(cls, name, *args, **kwargs):\n",
    "        kwargs.setdefault(\"transform\", transforms.stick_breaking)\n",
    "        return super().__new__(cls, name, *args, **kwargs)\n",
    "\n",
    "    @classmethod\n",
    "    def dist(cls, alpha, *args, **kwargs):\n",
    "        alpha = at.as_tensor_variable(floatX(alpha))\n",
    "\n",
    "        assert_negative_support(alpha, \"alpha\", \"StickBreakingWeights\")\n",
    "\n",
    "        return super().dist([alpha], **kwargs)\n",
    "\n",
    "    def logp(value, alpha):\n",
    "        K = floatX(value.shape[-1])\n",
    "        \n",
    "        print(value.eval())\n",
    "        logp = -at.sum(\n",
    "            at.log(\n",
    "                at.cumsum(\n",
    "                    value[..., ::-1],\n",
    "                    axis=-1,\n",
    "                )\n",
    "            ),\n",
    "            axis=-1,\n",
    "        )\n",
    "        print(logp.eval())\n",
    "        print(\"\")\n",
    "        logp -= -K * betaln(1, alpha)\n",
    "        logp += alpha * at.log(value[..., -1])\n",
    "\n",
    "        return bound(\n",
    "            logp,\n",
    "            alpha > 0,\n",
    "            at.all(value >= 0),\n",
    "            at.all(value <= 1),\n",
    "        )"
   ]
  },
  {
   "cell_type": "code",
   "execution_count": null,
   "id": "983da07a",
   "metadata": {},
   "outputs": [],
   "source": [
    "with pm.Model() as model:\n",
    "    α = pm.Gamma(name=\"α\", alpha=4., beta=2.)\n",
    "    sbw = StickBreakingWeights(name=\"sbw\", alpha=α, size=[K,])\n",
    "    prior = pm.sample_prior_predictive(samples=2000,)\n",
    "    trace = pm.sample(draws=2000, chains=1, target_accept=0.95)"
   ]
  },
  {
   "cell_type": "code",
   "execution_count": null,
   "id": "66c22f99",
   "metadata": {},
   "outputs": [],
   "source": [
    "trace.to_dict()[\"posterior\"]"
   ]
  },
  {
   "cell_type": "code",
   "execution_count": null,
   "id": "39b03a5f",
   "metadata": {},
   "outputs": [],
   "source": [
    "_ = pm.plot_trace(trace)"
   ]
  },
  {
   "cell_type": "code",
   "execution_count": null,
   "id": "7f44876f",
   "metadata": {},
   "outputs": [],
   "source": [
    "prior_beta_draws = stick_glueing(prior[\"sbw\"]).reshape(-1,)\n",
    "post_beta_draws = stick_glueing(trace.to_dict()[\"posterior\"][\"sbw\"][0]).reshape(-1,)\n",
    "\n",
    "fig, axes = plt.subplots(nrows=1, ncols=2, figsize=(14, 5))\n",
    "\n",
    "x_plot = np.linspace(start=0.001, stop=0.999, num=10001)\n",
    "\n",
    "_ = axes[0].hist(prior_beta_draws, bins=100, density=True)\n",
    "_ = axes[0].plot(\n",
    "    x_plot,\n",
    "    st.beta.pdf(x_plot, a=1., b=M),\n",
    ")\n",
    "_ = axes[0].set_title(f\"Histogram of prior, M = {M}\", fontsize=12)\n",
    "\n",
    "_ = axes[1].hist(post_beta_draws, bins=100, density=True)\n",
    "_ = axes[1].plot(\n",
    "    x_plot,\n",
    "    st.beta.pdf(x_plot, a=1., b=M),\n",
    ")\n",
    "_ = axes[1].set_title(f\"Histogram of posterior, M = {M}\", fontsize=12)"
   ]
  },
  {
   "cell_type": "markdown",
   "id": "146f6a4d",
   "metadata": {},
   "source": [
    "## Testing the equivalence between `pm.sample_prior_predictive` and `pm.sample` without any observations"
   ]
  },
  {
   "cell_type": "code",
   "execution_count": null,
   "id": "fdb21841",
   "metadata": {},
   "outputs": [],
   "source": [
    "with pm.Model() as model:\n",
    "    norm = pm.Normal(\"norm\", mu=2., sigma=2.)\n",
    "    prior_norm = pm.sample_prior_predictive(samples=10000,)\n",
    "    trace_norm = pm.sample(draws=10000, chains=1,)"
   ]
  },
  {
   "cell_type": "code",
   "execution_count": null,
   "id": "da11e6aa",
   "metadata": {},
   "outputs": [],
   "source": [
    "fig, axes = plt.subplots(nrows=1, ncols=2, figsize=(14, 5))\n",
    "\n",
    "x_norm_plot = np.linspace(-4, 8, num=10001,)\n",
    "\n",
    "_ = axes[0].hist(prior_norm[\"norm\"], bins=100, density=True)\n",
    "_ = axes[0].plot(x_norm_plot, st.norm.pdf(x_norm_plot, 2, 2))\n",
    "_ = axes[0].set_title(\"Histogram of prior\", fontsize=12)\n",
    "\n",
    "_ = axes[1].hist(trace_norm.to_dict()[\"posterior\"][\"norm\"][0], bins=100, density=True)\n",
    "_ = axes[1].plot(\n",
    "    x_norm_plot,\n",
    "    st.norm.pdf(x_norm_plot, 2, 2),\n",
    ")\n",
    "_ = axes[1].set_title(\"Histogram of posterior\", fontsize=12)"
   ]
  },
  {
   "cell_type": "markdown",
   "id": "5ff3b995",
   "metadata": {},
   "source": [
    "## Testing"
   ]
  },
  {
   "cell_type": "code",
   "execution_count": null,
   "id": "8d9ec005",
   "metadata": {},
   "outputs": [],
   "source": [
    "from pymc.tests.test_distributions import TestMatchesScipy\n",
    "\n",
    "test_obj = TestMatchesScipy()"
   ]
  },
  {
   "cell_type": "code",
   "execution_count": null,
   "id": "18ae3ed6",
   "metadata": {},
   "outputs": [],
   "source": []
  }
 ],
 "metadata": {
  "kernelspec": {
   "display_name": "pymc3-dev-py38",
   "language": "python",
   "name": "pymc3-dev-py38"
  },
  "language_info": {
   "codemirror_mode": {
    "name": "ipython",
    "version": 3
   },
   "file_extension": ".py",
   "mimetype": "text/x-python",
   "name": "python",
   "nbconvert_exporter": "python",
   "pygments_lexer": "ipython3",
   "version": "3.8.10"
  }
 },
 "nbformat": 4,
 "nbformat_minor": 5
}
