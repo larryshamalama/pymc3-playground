{
 "cells": [
  {
   "cell_type": "code",
   "execution_count": 1,
   "id": "dce14a97",
   "metadata": {},
   "outputs": [
    {
     "name": "stderr",
     "output_type": "stream",
     "text": [
      "You are running the v4 development version of PyMC which currently still lacks key features. You probably want to use the stable v3 instead which you can either install via conda or find on the v3 GitHub branch: https://github.com/pymc-devs/pymc/tree/v3\n"
     ]
    },
    {
     "name": "stdout",
     "output_type": "stream",
     "text": [
      "pymc version: 4.0.0\n",
      "Aesara version: 2.2.1\n",
      "pymc location: /Users/larryshamalama/Documents/GitHub/pymc/pymc/__init__.py\n"
     ]
    }
   ],
   "source": [
    "import numpy as np\n",
    "\n",
    "import aesara.tensor as at\n",
    "from aesara.tensor.random.op import RandomVariable, default_shape_from_params\n",
    "\n",
    "import sys\n",
    "\n",
    "sys.path.insert(0, \"/Users/larryshamalama/Documents/GitHub/pymc\")\n",
    "\n",
    "import pymc as pm\n",
    "\n",
    "from pymc.distributions.continuous import assert_negative_support, UnitContinuous\n",
    "from pymc.distributions.dist_math import betaln, bound, normal_lcdf\n",
    "from pymc.distributions.distribution import Continuous\n",
    "\n",
    "from pymc.distributions import transforms\n",
    "\n",
    "from pymc.aesaraf import floatX, intX\n",
    "\n",
    "# a bunch of imports for testing and printing\n",
    "\n",
    "from aesara.tensor.basic import get_vector_length\n",
    "from aesara.tensor.random.utils import params_broadcast_shapes\n",
    "from aesara.tensor.shape import shape_tuple\n",
    "\n",
    "import aesara\n",
    "\n",
    "import matplotlib.pyplot as plt\n",
    "import scipy.stats as st\n",
    "\n",
    "%config InlineBackend.figure_format = \"retina\"\n",
    "%matplotlib inline\n",
    "\n",
    "print(f\"pymc version: {pm.__version__}\")\n",
    "print(f\"Aesara version: {aesara.__version__}\")\n",
    "print(f\"pymc location: {pm.__file__}\")"
   ]
  },
  {
   "cell_type": "code",
   "execution_count": 2,
   "id": "0686cb22",
   "metadata": {},
   "outputs": [],
   "source": [
    "M = 3; K = 19"
   ]
  },
  {
   "cell_type": "code",
   "execution_count": 3,
   "id": "0d41591e",
   "metadata": {},
   "outputs": [],
   "source": [
    "def stick_glueing(weights):\n",
    "    shape = tuple(weights.shape or ())\n",
    "    \n",
    "    denominator = np.cumsum(\n",
    "        np.concatenate(\n",
    "            [\n",
    "                np.ones(shape=shape[:-1] + (1,)),\n",
    "                - weights,\n",
    "            ],\n",
    "            axis=-1,\n",
    "        ),\n",
    "        axis=-1,\n",
    "    )\n",
    "    \n",
    "    output = (weights/(denominator[..., :-1]))\n",
    "    \n",
    "    return output[..., :-1]"
   ]
  },
  {
   "cell_type": "markdown",
   "id": "f9f86ffb",
   "metadata": {},
   "source": [
    "## `StickBreakingWeightsRV`"
   ]
  },
  {
   "cell_type": "code",
   "execution_count": 4,
   "id": "e4eca9cf",
   "metadata": {},
   "outputs": [],
   "source": [
    "class StickBreakingWeightsRV(RandomVariable):\n",
    "    name = \"stick_breaking_weights\"\n",
    "    ndim_supp = 1\n",
    "    ndims_params = [0, 0]\n",
    "    dtype = \"floatX\"\n",
    "    _print_name = (\"StickBreakingWeights\", \"\\\\operatorname{StickBreakingWeights}\")\n",
    "    \n",
    "    def __call__(self, alpha=1., K=7, size=None, **kwargs):\n",
    "        return super().__call__(alpha, K, size=size, **kwargs)\n",
    "\n",
    "    def _infer_shape(self, size, dist_params, param_shapes=None):\n",
    "        alpha, K = dist_params\n",
    "        return [K + 1,]\n",
    "    \n",
    "    @classmethod\n",
    "    def rng_fn(cls, rng, alpha, K, size):\n",
    "        if K < 0:\n",
    "            raise ValueError(\"K needs to be a positive integer.\")\n",
    "        \n",
    "        if np.ndim(alpha) > 0:\n",
    "            raise ValueError(\"The concentration parameter needs to be a scalar.\")\n",
    "            \n",
    "        if size is None:\n",
    "            size = (K,)\n",
    "        elif isinstance(size, int):\n",
    "            size = (size,) + (K,)\n",
    "        else:\n",
    "            size = tuple(size) + (K,)\n",
    "            \n",
    "        betas = rng.beta(1, alpha, size=size)\n",
    "        \n",
    "        sticks = np.concatenate(\n",
    "            (\n",
    "                np.ones(shape=(size[:-1] + (1,))),\n",
    "                np.cumprod(1 - betas[..., :-1], axis=-1),\n",
    "            ),\n",
    "            axis=-1,\n",
    "        )\n",
    "        \n",
    "        weights = sticks * betas\n",
    "        weights = np.concatenate(\n",
    "            (\n",
    "                weights,\n",
    "                1 - weights.sum(axis=-1)[..., np.newaxis]\n",
    "            ),\n",
    "            axis=-1,\n",
    "        )\n",
    "\n",
    "        return weights\n",
    "    \n",
    "\n",
    "stickbreakingweights = StickBreakingWeightsRV()"
   ]
  },
  {
   "cell_type": "code",
   "execution_count": 5,
   "id": "f94deda5",
   "metadata": {},
   "outputs": [],
   "source": [
    "_ = stickbreakingweights(alpha=M, K=7, size=[10,]).eval()\n",
    "# _ = stickbreakingweights(alpha=M, size=[100, 7]).eval()\n",
    "# _ = stickbreakingweights(alpha=M, size=[10, 11, 7]).eval()\n",
    "\n",
    "# stickbreakingweights(alpha=np.array([[1, 2], [4, 5]]), size=[10, 11, 7]).eval() # error"
   ]
  },
  {
   "cell_type": "code",
   "execution_count": 6,
   "id": "44251403",
   "metadata": {},
   "outputs": [
    {
     "data": {
      "text/plain": [
       "(4, 5, 20)"
      ]
     },
     "execution_count": 6,
     "metadata": {},
     "output_type": "execute_result"
    }
   ],
   "source": [
    "stickbreakingweights(alpha=M, K=19, size=(4, 5)).eval().shape"
   ]
  },
  {
   "cell_type": "markdown",
   "id": "192040d7",
   "metadata": {},
   "source": [
    "## Testing `rng_fn`"
   ]
  },
  {
   "cell_type": "code",
   "execution_count": 7,
   "id": "7e64a349",
   "metadata": {},
   "outputs": [
    {
     "data": {
      "image/png": "[encoded data removed]",
      "text/plain": [
       "<Figure size 432x288 with 1 Axes>"
      ]
     },
     "metadata": {
      "image/png": {
       "height": 263,
       "width": 372
      },
      "needs_background": "light"
     },
     "output_type": "display_data"
    }
   ],
   "source": [
    "rng = np.random.RandomState(seed=34)\n",
    "beta_draws = stick_glueing(stickbreakingweights(alpha=M, size=[1000, K]).eval()).reshape(-1,)\n",
    "\n",
    "x_plot = np.linspace(start=0.001, stop=0.999, num=10001)\n",
    "\n",
    "_ = plt.hist(beta_draws, bins=100, density=True)\n",
    "_ = plt.plot(\n",
    "    x_plot,\n",
    "    st.beta.pdf(x_plot, a=1., b=M)\n",
    ")\n",
    "_ = plt.title(f\"Mean = {np.around(beta_draws.mean(), 2)}\")"
   ]
  },
  {
   "cell_type": "code",
   "execution_count": 8,
   "id": "6d44685b",
   "metadata": {},
   "outputs": [],
   "source": [
    "class StickBreakingWeights(Continuous):\n",
    "    rv_op = stickbreakingweights\n",
    "    \n",
    "    def __new__(cls, name, *args, **kwargs):\n",
    "        kwargs.setdefault(\"transform\", transforms.simplex)\n",
    "        return super().__new__(cls, name, *args, **kwargs)\n",
    "\n",
    "    @classmethod\n",
    "    def dist(cls, alpha, K, *args, **kwargs):\n",
    "        alpha = at.as_tensor_variable(floatX(alpha))\n",
    "        K = at.as_tensor_variable(intX(K))\n",
    "        \n",
    "        if alpha.ndim > 0:\n",
    "            raise ValueError(\"alpha must be a scalar.\")\n",
    "            \n",
    "        if K.ndim > 0:\n",
    "            raise ValueError(\"K must be a scalar.\")\n",
    "\n",
    "        assert_negative_support(alpha, \"alpha\", \"StickBreakingWeights\")\n",
    "\n",
    "        return super().dist([alpha, K], **kwargs)\n",
    "    \n",
    "    def get_moment(rv, size, alpha, K):\n",
    "        moment = (alpha / (1 + alpha)) ** at.arange(K + 1)\n",
    "        moment *= 1 / (1 + alpha)\n",
    "        if not rv_size_is_none(size):\n",
    "            moment = at.full(*size + (K + 1,), moment)\n",
    "        return moment\n",
    "\n",
    "    def logp(value, alpha, K):\n",
    "        if at.lt(K, 0).eval():\n",
    "            raise ValueError(\"K needs to be a positive integer.\")\n",
    "            \n",
    "        if at.lt(alpha, 0).eval():\n",
    "            raise ValueError(\"K needs to be a positive integer.\") \n",
    "        \n",
    "        print(value.shape.eval())\n",
    "        \n",
    "        logp = -at.sum(\n",
    "            at.log(\n",
    "                at.cumsum(\n",
    "                    value[..., ::-1],\n",
    "                    axis=-1,\n",
    "                )\n",
    "            ),\n",
    "            axis=-1,\n",
    "        )\n",
    "\n",
    "        logp += -(K - 1) * betaln(1, alpha)\n",
    "        logp += alpha * at.log(value[..., -1])\n",
    "\n",
    "        return bound(\n",
    "            logp,\n",
    "            alpha > 0,\n",
    "            at.all(value >= 0),\n",
    "            at.all(value <= 1),\n",
    "        )"
   ]
  },
  {
   "cell_type": "code",
   "execution_count": 10,
   "id": "3983d982",
   "metadata": {},
   "outputs": [
    {
     "name": "stdout",
     "output_type": "stream",
     "text": [
      "[5]\n"
     ]
    },
    {
     "data": {
      "text/plain": [
       "Elemwise{switch,no_inplace}.0"
      ]
     },
     "execution_count": 10,
     "metadata": {},
     "output_type": "execute_result"
    }
   ],
   "source": [
    "a = at.as_tensor(np.array([0.2, 0.2, 0.2, 0.2, 0.2]))\n",
    "StickBreakingWeights.logp(a, 3, 4)"
   ]
  },
  {
   "cell_type": "code",
   "execution_count": 9,
   "id": "983da07a",
   "metadata": {},
   "outputs": [
    {
     "name": "stderr",
     "output_type": "stream",
     "text": [
      "Auto-assigning NUTS sampler...\n",
      "Initializing NUTS using jitter+adapt_diag...\n"
     ]
    },
    {
     "ename": "MissingInputError",
     "evalue": "Input 0 (sbw_simplex__) of the graph (indices start from 0), used to compute Sum{axis=[0], acc_dtype=float64}(sbw_simplex__), was not provided and not given a value. Use the Aesara flag exception_verbosity='high', for more information on this error.\n \nBacktrace when that variable is created:\n\n  File \"/Users/larryshamalama/anaconda3/envs/pymc3-dev-py38/lib/python3.8/site-packages/IPython/core/interactiveshell.py\", line 3169, in run_cell_async\n    has_raised = await self.run_ast_nodes(code_ast.body, cell_name,\n  File \"/Users/larryshamalama/anaconda3/envs/pymc3-dev-py38/lib/python3.8/site-packages/IPython/core/interactiveshell.py\", line 3361, in run_ast_nodes\n    if (await self.run_code(code, result,  async_=asy)):\n  File \"/Users/larryshamalama/anaconda3/envs/pymc3-dev-py38/lib/python3.8/site-packages/IPython/core/interactiveshell.py\", line 3441, in run_code\n    exec(code_obj, self.user_global_ns, self.user_ns)\n  File \"<ipython-input-9-f15892e5f6ad>\", line 8, in <module>\n    sbw = StickBreakingWeights(name=\"sbw\", alpha=M, K=19, shape=[3,])\n  File \"<ipython-input-8-cab582672dce>\", line 6, in __new__\n    return super().__new__(cls, name, *args, **kwargs)\n  File \"/Users/larryshamalama/Documents/GitHub/pymc/pymc/distributions/distribution.py\", line 241, in __new__\n    rv_out = model.register_rv(\n  File \"/Users/larryshamalama/Documents/GitHub/pymc/pymc/model.py\", line 1172, in register_rv\n    self.create_value_var(rv_var, transform)\n  File \"/Users/larryshamalama/Documents/GitHub/pymc/pymc/model.py\", line 1314, in create_value_var\n    value_var = rv_var.type()\n",
     "output_type": "error",
     "traceback": [
      "\u001b[0;31m---------------------------------------------------------------------------\u001b[0m",
      "\u001b[0;31mMissingInputError\u001b[0m                         Traceback (most recent call last)",
      "\u001b[0;32m<ipython-input-9-f15892e5f6ad>\u001b[0m in \u001b[0;36m<module>\u001b[0;34m\u001b[0m\n\u001b[1;32m      8\u001b[0m     \u001b[0msbw\u001b[0m \u001b[0;34m=\u001b[0m \u001b[0mStickBreakingWeights\u001b[0m\u001b[0;34m(\u001b[0m\u001b[0mname\u001b[0m\u001b[0;34m=\u001b[0m\u001b[0;34m\"sbw\"\u001b[0m\u001b[0;34m,\u001b[0m \u001b[0malpha\u001b[0m\u001b[0;34m=\u001b[0m\u001b[0mM\u001b[0m\u001b[0;34m,\u001b[0m \u001b[0mK\u001b[0m\u001b[0;34m=\u001b[0m\u001b[0;36m19\u001b[0m\u001b[0;34m,\u001b[0m \u001b[0mshape\u001b[0m\u001b[0;34m=\u001b[0m\u001b[0;34m[\u001b[0m\u001b[0;36m3\u001b[0m\u001b[0;34m,\u001b[0m\u001b[0;34m]\u001b[0m\u001b[0;34m)\u001b[0m\u001b[0;34m\u001b[0m\u001b[0;34m\u001b[0m\u001b[0m\n\u001b[1;32m      9\u001b[0m     \u001b[0mprior\u001b[0m \u001b[0;34m=\u001b[0m \u001b[0mpm\u001b[0m\u001b[0;34m.\u001b[0m\u001b[0msample_prior_predictive\u001b[0m\u001b[0;34m(\u001b[0m\u001b[0msamples\u001b[0m\u001b[0;34m=\u001b[0m\u001b[0;36m2000\u001b[0m\u001b[0;34m,\u001b[0m\u001b[0;34m)\u001b[0m\u001b[0;34m\u001b[0m\u001b[0;34m\u001b[0m\u001b[0m\n\u001b[0;32m---> 10\u001b[0;31m     \u001b[0mtrace\u001b[0m \u001b[0;34m=\u001b[0m \u001b[0mpm\u001b[0m\u001b[0;34m.\u001b[0m\u001b[0msample\u001b[0m\u001b[0;34m(\u001b[0m\u001b[0mdraws\u001b[0m\u001b[0;34m=\u001b[0m\u001b[0;36m2000\u001b[0m\u001b[0;34m,\u001b[0m \u001b[0mchains\u001b[0m\u001b[0;34m=\u001b[0m\u001b[0;36m1\u001b[0m\u001b[0;34m)\u001b[0m\u001b[0;34m\u001b[0m\u001b[0;34m\u001b[0m\u001b[0m\n\u001b[0m",
      "\u001b[0;32m~/Documents/GitHub/pymc/pymc/sampling.py\u001b[0m in \u001b[0;36msample\u001b[0;34m(draws, step, init, n_init, initvals, trace, chain_idx, chains, cores, tune, progressbar, model, random_seed, discard_tuned_samples, compute_convergence_checks, callback, jitter_max_retries, return_inferencedata, idata_kwargs, mp_ctx, **kwargs)\u001b[0m\n\u001b[1;32m    480\u001b[0m             \u001b[0;31m# By default, try to use NUTS\u001b[0m\u001b[0;34m\u001b[0m\u001b[0;34m\u001b[0m\u001b[0;34m\u001b[0m\u001b[0m\n\u001b[1;32m    481\u001b[0m             \u001b[0m_log\u001b[0m\u001b[0;34m.\u001b[0m\u001b[0minfo\u001b[0m\u001b[0;34m(\u001b[0m\u001b[0;34m\"Auto-assigning NUTS sampler...\"\u001b[0m\u001b[0;34m)\u001b[0m\u001b[0;34m\u001b[0m\u001b[0;34m\u001b[0m\u001b[0m\n\u001b[0;32m--> 482\u001b[0;31m             initial_points, step = init_nuts(\n\u001b[0m\u001b[1;32m    483\u001b[0m                 \u001b[0minit\u001b[0m\u001b[0;34m=\u001b[0m\u001b[0minit\u001b[0m\u001b[0;34m,\u001b[0m\u001b[0;34m\u001b[0m\u001b[0;34m\u001b[0m\u001b[0m\n\u001b[1;32m    484\u001b[0m                 \u001b[0mchains\u001b[0m\u001b[0;34m=\u001b[0m\u001b[0mchains\u001b[0m\u001b[0;34m,\u001b[0m\u001b[0;34m\u001b[0m\u001b[0;34m\u001b[0m\u001b[0m\n",
      "\u001b[0;32m~/Documents/GitHub/pymc/pymc/sampling.py\u001b[0m in \u001b[0;36minit_nuts\u001b[0;34m(init, chains, n_init, model, seeds, progressbar, jitter_max_retries, tune, initvals, **kwargs)\u001b[0m\n\u001b[1;32m   2191\u001b[0m     ]\n\u001b[1;32m   2192\u001b[0m \u001b[0;34m\u001b[0m\u001b[0m\n\u001b[0;32m-> 2193\u001b[0;31m     initial_points = _init_jitter(\n\u001b[0m\u001b[1;32m   2194\u001b[0m         \u001b[0mmodel\u001b[0m\u001b[0;34m,\u001b[0m\u001b[0;34m\u001b[0m\u001b[0;34m\u001b[0m\u001b[0m\n\u001b[1;32m   2195\u001b[0m         \u001b[0minitvals\u001b[0m\u001b[0;34m,\u001b[0m\u001b[0;34m\u001b[0m\u001b[0;34m\u001b[0m\u001b[0m\n",
      "\u001b[0;32m~/Documents/GitHub/pymc/pymc/sampling.py\u001b[0m in \u001b[0;36m_init_jitter\u001b[0;34m(model, initvals, seeds, jitter, jitter_max_retries)\u001b[0m\n\u001b[1;32m   2077\u001b[0m             \u001b[0;32mif\u001b[0m \u001b[0mi\u001b[0m \u001b[0;34m<\u001b[0m \u001b[0mjitter_max_retries\u001b[0m\u001b[0;34m:\u001b[0m\u001b[0;34m\u001b[0m\u001b[0;34m\u001b[0m\u001b[0m\n\u001b[1;32m   2078\u001b[0m                 \u001b[0;32mtry\u001b[0m\u001b[0;34m:\u001b[0m\u001b[0;34m\u001b[0m\u001b[0;34m\u001b[0m\u001b[0m\n\u001b[0;32m-> 2079\u001b[0;31m                     \u001b[0mmodel\u001b[0m\u001b[0;34m.\u001b[0m\u001b[0mcheck_start_vals\u001b[0m\u001b[0;34m(\u001b[0m\u001b[0mpoint\u001b[0m\u001b[0;34m)\u001b[0m\u001b[0;34m\u001b[0m\u001b[0;34m\u001b[0m\u001b[0m\n\u001b[0m\u001b[1;32m   2080\u001b[0m                 \u001b[0;32mexcept\u001b[0m \u001b[0mSamplingError\u001b[0m\u001b[0;34m:\u001b[0m\u001b[0;34m\u001b[0m\u001b[0;34m\u001b[0m\u001b[0m\n\u001b[1;32m   2081\u001b[0m                     \u001b[0;31m# Retry with a new seed\u001b[0m\u001b[0;34m\u001b[0m\u001b[0;34m\u001b[0m\u001b[0;34m\u001b[0m\u001b[0m\n",
      "\u001b[0;32m~/Documents/GitHub/pymc/pymc/model.py\u001b[0m in \u001b[0;36mcheck_start_vals\u001b[0;34m(self, start)\u001b[0m\n\u001b[1;32m   1592\u001b[0m                 )\n\u001b[1;32m   1593\u001b[0m \u001b[0;34m\u001b[0m\u001b[0m\n\u001b[0;32m-> 1594\u001b[0;31m             \u001b[0minitial_eval\u001b[0m \u001b[0;34m=\u001b[0m \u001b[0mself\u001b[0m\u001b[0;34m.\u001b[0m\u001b[0mpoint_logps\u001b[0m\u001b[0;34m(\u001b[0m\u001b[0mpoint\u001b[0m\u001b[0;34m=\u001b[0m\u001b[0melem\u001b[0m\u001b[0;34m)\u001b[0m\u001b[0;34m\u001b[0m\u001b[0;34m\u001b[0m\u001b[0m\n\u001b[0m\u001b[1;32m   1595\u001b[0m \u001b[0;34m\u001b[0m\u001b[0m\n\u001b[1;32m   1596\u001b[0m             \u001b[0;32mif\u001b[0m \u001b[0;32mnot\u001b[0m \u001b[0mnp\u001b[0m\u001b[0;34m.\u001b[0m\u001b[0mall\u001b[0m\u001b[0;34m(\u001b[0m\u001b[0mnp\u001b[0m\u001b[0;34m.\u001b[0m\u001b[0misfinite\u001b[0m\u001b[0;34m(\u001b[0m\u001b[0minitial_eval\u001b[0m\u001b[0;34m)\u001b[0m\u001b[0;34m)\u001b[0m\u001b[0;34m:\u001b[0m\u001b[0;34m\u001b[0m\u001b[0;34m\u001b[0m\u001b[0m\n",
      "\u001b[0;32m~/Documents/GitHub/pymc/pymc/model.py\u001b[0m in \u001b[0;36mpoint_logps\u001b[0;34m(self, point, round_vals)\u001b[0m\n\u001b[1;32m   1627\u001b[0m \u001b[0;34m\u001b[0m\u001b[0m\n\u001b[1;32m   1628\u001b[0m         return Series(\n\u001b[0;32m-> 1629\u001b[0;31m             {\n\u001b[0m\u001b[1;32m   1630\u001b[0m                 rv.name: np.round(\n\u001b[1;32m   1631\u001b[0m                     \u001b[0mself\u001b[0m\u001b[0;34m.\u001b[0m\u001b[0mfn\u001b[0m\u001b[0;34m(\u001b[0m\u001b[0mlogpt_sum\u001b[0m\u001b[0;34m(\u001b[0m\u001b[0mrv\u001b[0m\u001b[0;34m,\u001b[0m \u001b[0mgetattr\u001b[0m\u001b[0;34m(\u001b[0m\u001b[0mrv\u001b[0m\u001b[0;34m.\u001b[0m\u001b[0mtag\u001b[0m\u001b[0;34m,\u001b[0m \u001b[0;34m\"observations\"\u001b[0m\u001b[0;34m,\u001b[0m \u001b[0;32mNone\u001b[0m\u001b[0;34m)\u001b[0m\u001b[0;34m)\u001b[0m\u001b[0;34m)\u001b[0m\u001b[0;34m(\u001b[0m\u001b[0mpoint\u001b[0m\u001b[0;34m)\u001b[0m\u001b[0;34m,\u001b[0m\u001b[0;34m\u001b[0m\u001b[0;34m\u001b[0m\u001b[0m\n",
      "\u001b[0;32m~/Documents/GitHub/pymc/pymc/model.py\u001b[0m in \u001b[0;36m<dictcomp>\u001b[0;34m(.0)\u001b[0m\n\u001b[1;32m   1629\u001b[0m             {\n\u001b[1;32m   1630\u001b[0m                 rv.name: np.round(\n\u001b[0;32m-> 1631\u001b[0;31m                     \u001b[0mself\u001b[0m\u001b[0;34m.\u001b[0m\u001b[0mfn\u001b[0m\u001b[0;34m(\u001b[0m\u001b[0mlogpt_sum\u001b[0m\u001b[0;34m(\u001b[0m\u001b[0mrv\u001b[0m\u001b[0;34m,\u001b[0m \u001b[0mgetattr\u001b[0m\u001b[0;34m(\u001b[0m\u001b[0mrv\u001b[0m\u001b[0;34m.\u001b[0m\u001b[0mtag\u001b[0m\u001b[0;34m,\u001b[0m \u001b[0;34m\"observations\"\u001b[0m\u001b[0;34m,\u001b[0m \u001b[0;32mNone\u001b[0m\u001b[0;34m)\u001b[0m\u001b[0;34m)\u001b[0m\u001b[0;34m)\u001b[0m\u001b[0;34m(\u001b[0m\u001b[0mpoint\u001b[0m\u001b[0;34m)\u001b[0m\u001b[0;34m,\u001b[0m\u001b[0;34m\u001b[0m\u001b[0;34m\u001b[0m\u001b[0m\n\u001b[0m\u001b[1;32m   1632\u001b[0m                     \u001b[0mround_vals\u001b[0m\u001b[0;34m,\u001b[0m\u001b[0;34m\u001b[0m\u001b[0;34m\u001b[0m\u001b[0m\n\u001b[1;32m   1633\u001b[0m                 )\n",
      "\u001b[0;32m~/Documents/GitHub/pymc/pymc/distributions/logprob.py\u001b[0m in \u001b[0;36mlogpt_sum\u001b[0;34m(*args, **kwargs)\u001b[0m\n\u001b[1;32m    296\u001b[0m     \"\"\"\n\u001b[1;32m    297\u001b[0m     \u001b[0;31m# TODO: Deprecate this\u001b[0m\u001b[0;34m\u001b[0m\u001b[0;34m\u001b[0m\u001b[0;34m\u001b[0m\u001b[0m\n\u001b[0;32m--> 298\u001b[0;31m     \u001b[0;32mreturn\u001b[0m \u001b[0mlogpt\u001b[0m\u001b[0;34m(\u001b[0m\u001b[0;34m*\u001b[0m\u001b[0margs\u001b[0m\u001b[0;34m,\u001b[0m \u001b[0msum\u001b[0m\u001b[0;34m=\u001b[0m\u001b[0;32mTrue\u001b[0m\u001b[0;34m,\u001b[0m \u001b[0;34m**\u001b[0m\u001b[0mkwargs\u001b[0m\u001b[0;34m)\u001b[0m\u001b[0;34m\u001b[0m\u001b[0;34m\u001b[0m\u001b[0m\n\u001b[0m",
      "\u001b[0;32m~/Documents/GitHub/pymc/pymc/distributions/logprob.py\u001b[0m in \u001b[0;36mlogpt\u001b[0;34m(var, rv_values, jacobian, scaling, transformed, sum, **kwargs)\u001b[0m\n\u001b[1;32m    220\u001b[0m \u001b[0;34m\u001b[0m\u001b[0m\n\u001b[1;32m    221\u001b[0m     \u001b[0mtransform_opt\u001b[0m \u001b[0;34m=\u001b[0m \u001b[0mTransformValuesOpt\u001b[0m\u001b[0;34m(\u001b[0m\u001b[0mtransform_map\u001b[0m\u001b[0;34m)\u001b[0m\u001b[0;34m\u001b[0m\u001b[0;34m\u001b[0m\u001b[0m\n\u001b[0;32m--> 222\u001b[0;31m     temp_logp_var_dict = factorized_joint_logprob(\n\u001b[0m\u001b[1;32m    223\u001b[0m         \u001b[0mtmp_rvs_to_values\u001b[0m\u001b[0;34m,\u001b[0m \u001b[0mextra_rewrites\u001b[0m\u001b[0;34m=\u001b[0m\u001b[0mtransform_opt\u001b[0m\u001b[0;34m,\u001b[0m \u001b[0muse_jacobian\u001b[0m\u001b[0;34m=\u001b[0m\u001b[0mjacobian\u001b[0m\u001b[0;34m,\u001b[0m \u001b[0;34m**\u001b[0m\u001b[0mkwargs\u001b[0m\u001b[0;34m\u001b[0m\u001b[0;34m\u001b[0m\u001b[0m\n\u001b[1;32m    224\u001b[0m     )\n",
      "\u001b[0;32m~/anaconda3/envs/pymc3-dev-py38/lib/python3.8/site-packages/aeppl/joint_logprob.py\u001b[0m in \u001b[0;36mfactorized_joint_logprob\u001b[0;34m(rv_values, warn_missing_rvs, extra_rewrites, **kwargs)\u001b[0m\n\u001b[1;32m    184\u001b[0m         \u001b[0mvalue_var_inputs\u001b[0m \u001b[0;34m=\u001b[0m \u001b[0mremapped_vars\u001b[0m\u001b[0;34m[\u001b[0m\u001b[0mlen\u001b[0m\u001b[0;34m(\u001b[0m\u001b[0mq_rv_value_vars\u001b[0m\u001b[0;34m)\u001b[0m \u001b[0;34m:\u001b[0m\u001b[0;34m]\u001b[0m\u001b[0;34m\u001b[0m\u001b[0;34m\u001b[0m\u001b[0m\n\u001b[1;32m    185\u001b[0m \u001b[0;34m\u001b[0m\u001b[0m\n\u001b[0;32m--> 186\u001b[0;31m         q_logprob_vars = _logprob(\n\u001b[0m\u001b[1;32m    187\u001b[0m             \u001b[0mnode\u001b[0m\u001b[0;34m.\u001b[0m\u001b[0mop\u001b[0m\u001b[0;34m,\u001b[0m\u001b[0;34m\u001b[0m\u001b[0;34m\u001b[0m\u001b[0m\n\u001b[1;32m    188\u001b[0m             \u001b[0mq_rv_value_vars\u001b[0m\u001b[0;34m,\u001b[0m\u001b[0;34m\u001b[0m\u001b[0;34m\u001b[0m\u001b[0m\n",
      "\u001b[0;32m~/anaconda3/envs/pymc3-dev-py38/lib/python3.8/functools.py\u001b[0m in \u001b[0;36mwrapper\u001b[0;34m(*args, **kw)\u001b[0m\n\u001b[1;32m    873\u001b[0m                             '1 positional argument')\n\u001b[1;32m    874\u001b[0m \u001b[0;34m\u001b[0m\u001b[0m\n\u001b[0;32m--> 875\u001b[0;31m         \u001b[0;32mreturn\u001b[0m \u001b[0mdispatch\u001b[0m\u001b[0;34m(\u001b[0m\u001b[0margs\u001b[0m\u001b[0;34m[\u001b[0m\u001b[0;36m0\u001b[0m\u001b[0;34m]\u001b[0m\u001b[0;34m.\u001b[0m\u001b[0m__class__\u001b[0m\u001b[0;34m)\u001b[0m\u001b[0;34m(\u001b[0m\u001b[0;34m*\u001b[0m\u001b[0margs\u001b[0m\u001b[0;34m,\u001b[0m \u001b[0;34m**\u001b[0m\u001b[0mkw\u001b[0m\u001b[0;34m)\u001b[0m\u001b[0;34m\u001b[0m\u001b[0;34m\u001b[0m\u001b[0m\n\u001b[0m\u001b[1;32m    876\u001b[0m \u001b[0;34m\u001b[0m\u001b[0m\n\u001b[1;32m    877\u001b[0m     \u001b[0mfuncname\u001b[0m \u001b[0;34m=\u001b[0m \u001b[0mgetattr\u001b[0m\u001b[0;34m(\u001b[0m\u001b[0mfunc\u001b[0m\u001b[0;34m,\u001b[0m \u001b[0;34m'__name__'\u001b[0m\u001b[0;34m,\u001b[0m \u001b[0;34m'singledispatch function'\u001b[0m\u001b[0;34m)\u001b[0m\u001b[0;34m\u001b[0m\u001b[0;34m\u001b[0m\u001b[0m\n",
      "\u001b[0;32m~/anaconda3/envs/pymc3-dev-py38/lib/python3.8/site-packages/aeppl/transforms.py\u001b[0m in \u001b[0;36mtransformed_logprob\u001b[0;34m(op, values, use_jacobian, *inputs, **kwargs)\u001b[0m\n\u001b[1;32m    359\u001b[0m         \u001b[0;34m(\u001b[0m\u001b[0mvalue\u001b[0m\u001b[0;34m,\u001b[0m\u001b[0;34m)\u001b[0m \u001b[0;34m=\u001b[0m \u001b[0mvalues\u001b[0m\u001b[0;34m\u001b[0m\u001b[0;34m\u001b[0m\u001b[0m\n\u001b[1;32m    360\u001b[0m \u001b[0;34m\u001b[0m\u001b[0m\n\u001b[0;32m--> 361\u001b[0;31m         \u001b[0mlogprob\u001b[0m \u001b[0;34m=\u001b[0m \u001b[0m_logprob\u001b[0m\u001b[0;34m(\u001b[0m\u001b[0mrv_op\u001b[0m\u001b[0;34m,\u001b[0m \u001b[0mvalues\u001b[0m\u001b[0;34m,\u001b[0m \u001b[0;34m*\u001b[0m\u001b[0minputs\u001b[0m\u001b[0;34m,\u001b[0m \u001b[0;34m**\u001b[0m\u001b[0mkwargs\u001b[0m\u001b[0;34m)\u001b[0m\u001b[0;34m\u001b[0m\u001b[0;34m\u001b[0m\u001b[0m\n\u001b[0m\u001b[1;32m    362\u001b[0m \u001b[0;34m\u001b[0m\u001b[0m\n\u001b[1;32m    363\u001b[0m         \u001b[0;32mif\u001b[0m \u001b[0muse_jacobian\u001b[0m\u001b[0;34m:\u001b[0m\u001b[0;34m\u001b[0m\u001b[0;34m\u001b[0m\u001b[0m\n",
      "\u001b[0;32m~/anaconda3/envs/pymc3-dev-py38/lib/python3.8/functools.py\u001b[0m in \u001b[0;36mwrapper\u001b[0;34m(*args, **kw)\u001b[0m\n\u001b[1;32m    873\u001b[0m                             '1 positional argument')\n\u001b[1;32m    874\u001b[0m \u001b[0;34m\u001b[0m\u001b[0m\n\u001b[0;32m--> 875\u001b[0;31m         \u001b[0;32mreturn\u001b[0m \u001b[0mdispatch\u001b[0m\u001b[0;34m(\u001b[0m\u001b[0margs\u001b[0m\u001b[0;34m[\u001b[0m\u001b[0;36m0\u001b[0m\u001b[0;34m]\u001b[0m\u001b[0;34m.\u001b[0m\u001b[0m__class__\u001b[0m\u001b[0;34m)\u001b[0m\u001b[0;34m(\u001b[0m\u001b[0;34m*\u001b[0m\u001b[0margs\u001b[0m\u001b[0;34m,\u001b[0m \u001b[0;34m**\u001b[0m\u001b[0mkw\u001b[0m\u001b[0;34m)\u001b[0m\u001b[0;34m\u001b[0m\u001b[0;34m\u001b[0m\u001b[0m\n\u001b[0m\u001b[1;32m    876\u001b[0m \u001b[0;34m\u001b[0m\u001b[0m\n\u001b[1;32m    877\u001b[0m     \u001b[0mfuncname\u001b[0m \u001b[0;34m=\u001b[0m \u001b[0mgetattr\u001b[0m\u001b[0;34m(\u001b[0m\u001b[0mfunc\u001b[0m\u001b[0;34m,\u001b[0m \u001b[0;34m'__name__'\u001b[0m\u001b[0;34m,\u001b[0m \u001b[0;34m'singledispatch function'\u001b[0m\u001b[0;34m)\u001b[0m\u001b[0;34m\u001b[0m\u001b[0;34m\u001b[0m\u001b[0m\n",
      "\u001b[0;32m~/Documents/GitHub/pymc/pymc/distributions/distribution.py\u001b[0m in \u001b[0;36mlogp\u001b[0;34m(op, values, *dist_params, **kwargs)\u001b[0m\n\u001b[1;32m    101\u001b[0m                     \u001b[0mdist_params\u001b[0m \u001b[0;34m=\u001b[0m \u001b[0mdist_params\u001b[0m\u001b[0;34m[\u001b[0m\u001b[0;36m3\u001b[0m\u001b[0;34m:\u001b[0m\u001b[0;34m]\u001b[0m\u001b[0;34m\u001b[0m\u001b[0;34m\u001b[0m\u001b[0m\n\u001b[1;32m    102\u001b[0m                     \u001b[0;34m(\u001b[0m\u001b[0mvalue\u001b[0m\u001b[0;34m,\u001b[0m\u001b[0;34m)\u001b[0m \u001b[0;34m=\u001b[0m \u001b[0mvalues\u001b[0m\u001b[0;34m\u001b[0m\u001b[0;34m\u001b[0m\u001b[0m\n\u001b[0;32m--> 103\u001b[0;31m                     \u001b[0;32mreturn\u001b[0m \u001b[0mclass_logp\u001b[0m\u001b[0;34m(\u001b[0m\u001b[0mvalue\u001b[0m\u001b[0;34m,\u001b[0m \u001b[0;34m*\u001b[0m\u001b[0mdist_params\u001b[0m\u001b[0;34m)\u001b[0m\u001b[0;34m\u001b[0m\u001b[0;34m\u001b[0m\u001b[0m\n\u001b[0m\u001b[1;32m    104\u001b[0m \u001b[0;34m\u001b[0m\u001b[0m\n\u001b[1;32m    105\u001b[0m             \u001b[0mclass_logcdf\u001b[0m \u001b[0;34m=\u001b[0m \u001b[0mclsdict\u001b[0m\u001b[0;34m.\u001b[0m\u001b[0mget\u001b[0m\u001b[0;34m(\u001b[0m\u001b[0;34m\"logcdf\"\u001b[0m\u001b[0;34m)\u001b[0m\u001b[0;34m\u001b[0m\u001b[0;34m\u001b[0m\u001b[0m\n",
      "\u001b[0;32m<ipython-input-8-cab582672dce>\u001b[0m in \u001b[0;36mlogp\u001b[0;34m(value, alpha, K)\u001b[0m\n\u001b[1;32m     35\u001b[0m             \u001b[0;32mraise\u001b[0m \u001b[0mValueError\u001b[0m\u001b[0;34m(\u001b[0m\u001b[0;34m\"K needs to be a positive integer.\"\u001b[0m\u001b[0;34m)\u001b[0m\u001b[0;34m\u001b[0m\u001b[0;34m\u001b[0m\u001b[0m\n\u001b[1;32m     36\u001b[0m \u001b[0;34m\u001b[0m\u001b[0m\n\u001b[0;32m---> 37\u001b[0;31m         \u001b[0mprint\u001b[0m\u001b[0;34m(\u001b[0m\u001b[0mvalue\u001b[0m\u001b[0;34m.\u001b[0m\u001b[0mshape\u001b[0m\u001b[0;34m.\u001b[0m\u001b[0meval\u001b[0m\u001b[0;34m(\u001b[0m\u001b[0;34m)\u001b[0m\u001b[0;34m)\u001b[0m\u001b[0;34m\u001b[0m\u001b[0;34m\u001b[0m\u001b[0m\n\u001b[0m\u001b[1;32m     38\u001b[0m \u001b[0;34m\u001b[0m\u001b[0m\n\u001b[1;32m     39\u001b[0m         logp = -at.sum(\n",
      "\u001b[0;32m~/anaconda3/envs/pymc3-dev-py38/lib/python3.8/site-packages/aesara/graph/basic.py\u001b[0m in \u001b[0;36meval\u001b[0;34m(self, inputs_to_values)\u001b[0m\n\u001b[1;32m    548\u001b[0m         \u001b[0minputs\u001b[0m \u001b[0;34m=\u001b[0m \u001b[0mtuple\u001b[0m\u001b[0;34m(\u001b[0m\u001b[0msorted\u001b[0m\u001b[0;34m(\u001b[0m\u001b[0minputs_to_values\u001b[0m\u001b[0;34m.\u001b[0m\u001b[0mkeys\u001b[0m\u001b[0;34m(\u001b[0m\u001b[0;34m)\u001b[0m\u001b[0;34m,\u001b[0m \u001b[0mkey\u001b[0m\u001b[0;34m=\u001b[0m\u001b[0mid\u001b[0m\u001b[0;34m)\u001b[0m\u001b[0;34m)\u001b[0m\u001b[0;34m\u001b[0m\u001b[0;34m\u001b[0m\u001b[0m\n\u001b[1;32m    549\u001b[0m         \u001b[0;32mif\u001b[0m \u001b[0minputs\u001b[0m \u001b[0;32mnot\u001b[0m \u001b[0;32min\u001b[0m \u001b[0mself\u001b[0m\u001b[0;34m.\u001b[0m\u001b[0m_fn_cache\u001b[0m\u001b[0;34m:\u001b[0m\u001b[0;34m\u001b[0m\u001b[0;34m\u001b[0m\u001b[0m\n\u001b[0;32m--> 550\u001b[0;31m             \u001b[0mself\u001b[0m\u001b[0;34m.\u001b[0m\u001b[0m_fn_cache\u001b[0m\u001b[0;34m[\u001b[0m\u001b[0minputs\u001b[0m\u001b[0;34m]\u001b[0m \u001b[0;34m=\u001b[0m \u001b[0mfunction\u001b[0m\u001b[0;34m(\u001b[0m\u001b[0minputs\u001b[0m\u001b[0;34m,\u001b[0m \u001b[0mself\u001b[0m\u001b[0;34m)\u001b[0m\u001b[0;34m\u001b[0m\u001b[0;34m\u001b[0m\u001b[0m\n\u001b[0m\u001b[1;32m    551\u001b[0m         \u001b[0margs\u001b[0m \u001b[0;34m=\u001b[0m \u001b[0;34m[\u001b[0m\u001b[0minputs_to_values\u001b[0m\u001b[0;34m[\u001b[0m\u001b[0mparam\u001b[0m\u001b[0;34m]\u001b[0m \u001b[0;32mfor\u001b[0m \u001b[0mparam\u001b[0m \u001b[0;32min\u001b[0m \u001b[0minputs\u001b[0m\u001b[0;34m]\u001b[0m\u001b[0;34m\u001b[0m\u001b[0;34m\u001b[0m\u001b[0m\n\u001b[1;32m    552\u001b[0m \u001b[0;34m\u001b[0m\u001b[0m\n",
      "\u001b[0;32m~/anaconda3/envs/pymc3-dev-py38/lib/python3.8/site-packages/aesara/compile/function/__init__.py\u001b[0m in \u001b[0;36mfunction\u001b[0;34m(inputs, outputs, mode, updates, givens, no_default_updates, accept_inplace, name, rebuild_strict, allow_input_downcast, profile, on_unused_input)\u001b[0m\n\u001b[1;32m    335\u001b[0m         \u001b[0;31m# note: pfunc will also call orig_function -- orig_function is\u001b[0m\u001b[0;34m\u001b[0m\u001b[0;34m\u001b[0m\u001b[0;34m\u001b[0m\u001b[0m\n\u001b[1;32m    336\u001b[0m         \u001b[0;31m#      a choke point that all compilation must pass through\u001b[0m\u001b[0;34m\u001b[0m\u001b[0;34m\u001b[0m\u001b[0;34m\u001b[0m\u001b[0m\n\u001b[0;32m--> 337\u001b[0;31m         fn = pfunc(\n\u001b[0m\u001b[1;32m    338\u001b[0m             \u001b[0mparams\u001b[0m\u001b[0;34m=\u001b[0m\u001b[0minputs\u001b[0m\u001b[0;34m,\u001b[0m\u001b[0;34m\u001b[0m\u001b[0;34m\u001b[0m\u001b[0m\n\u001b[1;32m    339\u001b[0m             \u001b[0moutputs\u001b[0m\u001b[0;34m=\u001b[0m\u001b[0moutputs\u001b[0m\u001b[0;34m,\u001b[0m\u001b[0;34m\u001b[0m\u001b[0;34m\u001b[0m\u001b[0m\n",
      "\u001b[0;32m~/anaconda3/envs/pymc3-dev-py38/lib/python3.8/site-packages/aesara/compile/function/pfunc.py\u001b[0m in \u001b[0;36mpfunc\u001b[0;34m(params, outputs, mode, updates, givens, no_default_updates, accept_inplace, name, rebuild_strict, allow_input_downcast, profile, on_unused_input, output_keys)\u001b[0m\n\u001b[1;32m    522\u001b[0m         \u001b[0minputs\u001b[0m\u001b[0;34m.\u001b[0m\u001b[0mappend\u001b[0m\u001b[0;34m(\u001b[0m\u001b[0msi\u001b[0m\u001b[0;34m)\u001b[0m\u001b[0;34m\u001b[0m\u001b[0;34m\u001b[0m\u001b[0m\n\u001b[1;32m    523\u001b[0m \u001b[0;34m\u001b[0m\u001b[0m\n\u001b[0;32m--> 524\u001b[0;31m     return orig_function(\n\u001b[0m\u001b[1;32m    525\u001b[0m         \u001b[0minputs\u001b[0m\u001b[0;34m,\u001b[0m\u001b[0;34m\u001b[0m\u001b[0;34m\u001b[0m\u001b[0m\n\u001b[1;32m    526\u001b[0m         \u001b[0mcloned_outputs\u001b[0m\u001b[0;34m,\u001b[0m\u001b[0;34m\u001b[0m\u001b[0;34m\u001b[0m\u001b[0m\n",
      "\u001b[0;32m~/anaconda3/envs/pymc3-dev-py38/lib/python3.8/site-packages/aesara/compile/function/types.py\u001b[0m in \u001b[0;36morig_function\u001b[0;34m(inputs, outputs, mode, accept_inplace, name, profile, on_unused_input, output_keys)\u001b[0m\n\u001b[1;32m   1970\u001b[0m     \u001b[0;32mtry\u001b[0m\u001b[0;34m:\u001b[0m\u001b[0;34m\u001b[0m\u001b[0;34m\u001b[0m\u001b[0m\n\u001b[1;32m   1971\u001b[0m         \u001b[0mMaker\u001b[0m \u001b[0;34m=\u001b[0m \u001b[0mgetattr\u001b[0m\u001b[0;34m(\u001b[0m\u001b[0mmode\u001b[0m\u001b[0;34m,\u001b[0m \u001b[0;34m\"function_maker\"\u001b[0m\u001b[0;34m,\u001b[0m \u001b[0mFunctionMaker\u001b[0m\u001b[0;34m)\u001b[0m\u001b[0;34m\u001b[0m\u001b[0;34m\u001b[0m\u001b[0m\n\u001b[0;32m-> 1972\u001b[0;31m         m = Maker(\n\u001b[0m\u001b[1;32m   1973\u001b[0m             \u001b[0minputs\u001b[0m\u001b[0;34m,\u001b[0m\u001b[0;34m\u001b[0m\u001b[0;34m\u001b[0m\u001b[0m\n\u001b[1;32m   1974\u001b[0m             \u001b[0moutputs\u001b[0m\u001b[0;34m,\u001b[0m\u001b[0;34m\u001b[0m\u001b[0;34m\u001b[0m\u001b[0m\n",
      "\u001b[0;32m~/anaconda3/envs/pymc3-dev-py38/lib/python3.8/site-packages/aesara/compile/function/types.py\u001b[0m in \u001b[0;36m__init__\u001b[0;34m(self, inputs, outputs, mode, accept_inplace, function_builder, profile, on_unused_input, fgraph, output_keys, name)\u001b[0m\n\u001b[1;32m   1584\u001b[0m             \u001b[0;31m# make the fgraph (copies the graph, creates NEW INPUT AND\u001b[0m\u001b[0;34m\u001b[0m\u001b[0;34m\u001b[0m\u001b[0;34m\u001b[0m\u001b[0m\n\u001b[1;32m   1585\u001b[0m             \u001b[0;31m# OUTPUT VARIABLES)\u001b[0m\u001b[0;34m\u001b[0m\u001b[0;34m\u001b[0m\u001b[0;34m\u001b[0m\u001b[0m\n\u001b[0;32m-> 1586\u001b[0;31m             \u001b[0mfgraph\u001b[0m\u001b[0;34m,\u001b[0m \u001b[0madditional_outputs\u001b[0m \u001b[0;34m=\u001b[0m \u001b[0mstd_fgraph\u001b[0m\u001b[0;34m(\u001b[0m\u001b[0minputs\u001b[0m\u001b[0;34m,\u001b[0m \u001b[0moutputs\u001b[0m\u001b[0;34m,\u001b[0m \u001b[0maccept_inplace\u001b[0m\u001b[0;34m)\u001b[0m\u001b[0;34m\u001b[0m\u001b[0;34m\u001b[0m\u001b[0m\n\u001b[0m\u001b[1;32m   1587\u001b[0m             \u001b[0mfgraph\u001b[0m\u001b[0;34m.\u001b[0m\u001b[0mprofile\u001b[0m \u001b[0;34m=\u001b[0m \u001b[0mprofile\u001b[0m\u001b[0;34m\u001b[0m\u001b[0;34m\u001b[0m\u001b[0m\n\u001b[1;32m   1588\u001b[0m         \u001b[0;32melse\u001b[0m\u001b[0;34m:\u001b[0m\u001b[0;34m\u001b[0m\u001b[0;34m\u001b[0m\u001b[0m\n",
      "\u001b[0;32m~/anaconda3/envs/pymc3-dev-py38/lib/python3.8/site-packages/aesara/compile/function/types.py\u001b[0m in \u001b[0;36mstd_fgraph\u001b[0;34m(input_specs, output_specs, accept_inplace)\u001b[0m\n\u001b[1;32m    188\u001b[0m     \u001b[0morig_outputs\u001b[0m \u001b[0;34m=\u001b[0m \u001b[0;34m[\u001b[0m\u001b[0mspec\u001b[0m\u001b[0;34m.\u001b[0m\u001b[0mvariable\u001b[0m \u001b[0;32mfor\u001b[0m \u001b[0mspec\u001b[0m \u001b[0;32min\u001b[0m \u001b[0moutput_specs\u001b[0m\u001b[0;34m]\u001b[0m \u001b[0;34m+\u001b[0m \u001b[0mupdates\u001b[0m\u001b[0;34m\u001b[0m\u001b[0;34m\u001b[0m\u001b[0m\n\u001b[1;32m    189\u001b[0m \u001b[0;34m\u001b[0m\u001b[0m\n\u001b[0;32m--> 190\u001b[0;31m     \u001b[0mfgraph\u001b[0m \u001b[0;34m=\u001b[0m \u001b[0mFunctionGraph\u001b[0m\u001b[0;34m(\u001b[0m\u001b[0morig_inputs\u001b[0m\u001b[0;34m,\u001b[0m \u001b[0morig_outputs\u001b[0m\u001b[0;34m,\u001b[0m \u001b[0mupdate_mapping\u001b[0m\u001b[0;34m=\u001b[0m\u001b[0mupdate_mapping\u001b[0m\u001b[0;34m)\u001b[0m\u001b[0;34m\u001b[0m\u001b[0;34m\u001b[0m\u001b[0m\n\u001b[0m\u001b[1;32m    191\u001b[0m \u001b[0;34m\u001b[0m\u001b[0m\n\u001b[1;32m    192\u001b[0m     \u001b[0;32mfor\u001b[0m \u001b[0mnode\u001b[0m \u001b[0;32min\u001b[0m \u001b[0mfgraph\u001b[0m\u001b[0;34m.\u001b[0m\u001b[0mapply_nodes\u001b[0m\u001b[0;34m:\u001b[0m\u001b[0;34m\u001b[0m\u001b[0;34m\u001b[0m\u001b[0m\n",
      "\u001b[0;32m~/anaconda3/envs/pymc3-dev-py38/lib/python3.8/site-packages/aesara/graph/fg.py\u001b[0m in \u001b[0;36m__init__\u001b[0;34m(self, inputs, outputs, features, clone, update_mapping, memo, copy_inputs, copy_orphans)\u001b[0m\n\u001b[1;32m    165\u001b[0m \u001b[0;34m\u001b[0m\u001b[0m\n\u001b[1;32m    166\u001b[0m         \u001b[0;32mfor\u001b[0m \u001b[0moutput\u001b[0m \u001b[0;32min\u001b[0m \u001b[0moutputs\u001b[0m\u001b[0;34m:\u001b[0m\u001b[0;34m\u001b[0m\u001b[0;34m\u001b[0m\u001b[0m\n\u001b[0;32m--> 167\u001b[0;31m             \u001b[0mself\u001b[0m\u001b[0;34m.\u001b[0m\u001b[0mimport_var\u001b[0m\u001b[0;34m(\u001b[0m\u001b[0moutput\u001b[0m\u001b[0;34m,\u001b[0m \u001b[0mreason\u001b[0m\u001b[0;34m=\u001b[0m\u001b[0;34m\"init\"\u001b[0m\u001b[0;34m)\u001b[0m\u001b[0;34m\u001b[0m\u001b[0;34m\u001b[0m\u001b[0m\n\u001b[0m\u001b[1;32m    168\u001b[0m         \u001b[0;32mfor\u001b[0m \u001b[0mi\u001b[0m\u001b[0;34m,\u001b[0m \u001b[0moutput\u001b[0m \u001b[0;32min\u001b[0m \u001b[0menumerate\u001b[0m\u001b[0;34m(\u001b[0m\u001b[0moutputs\u001b[0m\u001b[0;34m)\u001b[0m\u001b[0;34m:\u001b[0m\u001b[0;34m\u001b[0m\u001b[0;34m\u001b[0m\u001b[0m\n\u001b[1;32m    169\u001b[0m             \u001b[0mself\u001b[0m\u001b[0;34m.\u001b[0m\u001b[0mclients\u001b[0m\u001b[0;34m[\u001b[0m\u001b[0moutput\u001b[0m\u001b[0;34m]\u001b[0m\u001b[0;34m.\u001b[0m\u001b[0mappend\u001b[0m\u001b[0;34m(\u001b[0m\u001b[0;34m(\u001b[0m\u001b[0;34m\"output\"\u001b[0m\u001b[0;34m,\u001b[0m \u001b[0mi\u001b[0m\u001b[0;34m)\u001b[0m\u001b[0;34m)\u001b[0m\u001b[0;34m\u001b[0m\u001b[0;34m\u001b[0m\u001b[0m\n",
      "\u001b[0;32m~/anaconda3/envs/pymc3-dev-py38/lib/python3.8/site-packages/aesara/graph/fg.py\u001b[0m in \u001b[0;36mimport_var\u001b[0;34m(self, var, reason, import_missing)\u001b[0m\n\u001b[1;32m    335\u001b[0m         \u001b[0;31m# Imports the owners of the variables\u001b[0m\u001b[0;34m\u001b[0m\u001b[0;34m\u001b[0m\u001b[0;34m\u001b[0m\u001b[0m\n\u001b[1;32m    336\u001b[0m         \u001b[0;32mif\u001b[0m \u001b[0mvar\u001b[0m\u001b[0;34m.\u001b[0m\u001b[0mowner\u001b[0m \u001b[0;32mand\u001b[0m \u001b[0mvar\u001b[0m\u001b[0;34m.\u001b[0m\u001b[0mowner\u001b[0m \u001b[0;32mnot\u001b[0m \u001b[0;32min\u001b[0m \u001b[0mself\u001b[0m\u001b[0;34m.\u001b[0m\u001b[0mapply_nodes\u001b[0m\u001b[0;34m:\u001b[0m\u001b[0;34m\u001b[0m\u001b[0;34m\u001b[0m\u001b[0m\n\u001b[0;32m--> 337\u001b[0;31m             \u001b[0mself\u001b[0m\u001b[0;34m.\u001b[0m\u001b[0mimport_node\u001b[0m\u001b[0;34m(\u001b[0m\u001b[0mvar\u001b[0m\u001b[0;34m.\u001b[0m\u001b[0mowner\u001b[0m\u001b[0;34m,\u001b[0m \u001b[0mreason\u001b[0m\u001b[0;34m=\u001b[0m\u001b[0mreason\u001b[0m\u001b[0;34m,\u001b[0m \u001b[0mimport_missing\u001b[0m\u001b[0;34m=\u001b[0m\u001b[0mimport_missing\u001b[0m\u001b[0;34m)\u001b[0m\u001b[0;34m\u001b[0m\u001b[0;34m\u001b[0m\u001b[0m\n\u001b[0m\u001b[1;32m    338\u001b[0m         elif (\n\u001b[1;32m    339\u001b[0m             \u001b[0mvar\u001b[0m\u001b[0;34m.\u001b[0m\u001b[0mowner\u001b[0m \u001b[0;32mis\u001b[0m \u001b[0;32mNone\u001b[0m\u001b[0;34m\u001b[0m\u001b[0;34m\u001b[0m\u001b[0m\n",
      "\u001b[0;32m~/anaconda3/envs/pymc3-dev-py38/lib/python3.8/site-packages/aesara/graph/fg.py\u001b[0m in \u001b[0;36mimport_node\u001b[0;34m(self, apply_node, check, reason, import_missing)\u001b[0m\n\u001b[1;32m    400\u001b[0m                                 \u001b[0;34m\"for more information on this error.\"\u001b[0m\u001b[0;34m\u001b[0m\u001b[0;34m\u001b[0m\u001b[0m\n\u001b[1;32m    401\u001b[0m                             )\n\u001b[0;32m--> 402\u001b[0;31m                             \u001b[0;32mraise\u001b[0m \u001b[0mMissingInputError\u001b[0m\u001b[0;34m(\u001b[0m\u001b[0merror_msg\u001b[0m\u001b[0;34m,\u001b[0m \u001b[0mvariable\u001b[0m\u001b[0;34m=\u001b[0m\u001b[0mvar\u001b[0m\u001b[0;34m)\u001b[0m\u001b[0;34m\u001b[0m\u001b[0;34m\u001b[0m\u001b[0m\n\u001b[0m\u001b[1;32m    403\u001b[0m \u001b[0;34m\u001b[0m\u001b[0m\n\u001b[1;32m    404\u001b[0m         \u001b[0;32mfor\u001b[0m \u001b[0mnode\u001b[0m \u001b[0;32min\u001b[0m \u001b[0mnew_nodes\u001b[0m\u001b[0;34m:\u001b[0m\u001b[0;34m\u001b[0m\u001b[0;34m\u001b[0m\u001b[0m\n",
      "\u001b[0;31mMissingInputError\u001b[0m: Input 0 (sbw_simplex__) of the graph (indices start from 0), used to compute Sum{axis=[0], acc_dtype=float64}(sbw_simplex__), was not provided and not given a value. Use the Aesara flag exception_verbosity='high', for more information on this error.\n \nBacktrace when that variable is created:\n\n  File \"/Users/larryshamalama/anaconda3/envs/pymc3-dev-py38/lib/python3.8/site-packages/IPython/core/interactiveshell.py\", line 3169, in run_cell_async\n    has_raised = await self.run_ast_nodes(code_ast.body, cell_name,\n  File \"/Users/larryshamalama/anaconda3/envs/pymc3-dev-py38/lib/python3.8/site-packages/IPython/core/interactiveshell.py\", line 3361, in run_ast_nodes\n    if (await self.run_code(code, result,  async_=asy)):\n  File \"/Users/larryshamalama/anaconda3/envs/pymc3-dev-py38/lib/python3.8/site-packages/IPython/core/interactiveshell.py\", line 3441, in run_code\n    exec(code_obj, self.user_global_ns, self.user_ns)\n  File \"<ipython-input-9-f15892e5f6ad>\", line 8, in <module>\n    sbw = StickBreakingWeights(name=\"sbw\", alpha=M, K=19, shape=[3,])\n  File \"<ipython-input-8-cab582672dce>\", line 6, in __new__\n    return super().__new__(cls, name, *args, **kwargs)\n  File \"/Users/larryshamalama/Documents/GitHub/pymc/pymc/distributions/distribution.py\", line 241, in __new__\n    rv_out = model.register_rv(\n  File \"/Users/larryshamalama/Documents/GitHub/pymc/pymc/model.py\", line 1172, in register_rv\n    self.create_value_var(rv_var, transform)\n  File \"/Users/larryshamalama/Documents/GitHub/pymc/pymc/model.py\", line 1314, in create_value_var\n    value_var = rv_var.type()\n"
     ]
    }
   ],
   "source": [
    "with pm.Model() as model:\n",
    "    # check K = 5, something less crazy, 19 might run into precision issues quickly\n",
    "    # check expectation of last bin\n",
    "    # need upper bound to K with respect to M\n",
    "    # if last value is 0, then inf would arise in one but not all\n",
    "    \n",
    "    # gradually grow α and see when it starts breaking\n",
    "    sbw = StickBreakingWeights(name=\"sbw\", alpha=M, K=19, shape=[3,])\n",
    "    prior = pm.sample_prior_predictive(samples=2000,)\n",
    "    trace = pm.sample(draws=2000, chains=1)"
   ]
  },
  {
   "cell_type": "code",
   "execution_count": null,
   "id": "2e831f52",
   "metadata": {},
   "outputs": [],
   "source": [
    "trace.to_dict()[\"posterior\"][\"sbw\"][0].shape"
   ]
  },
  {
   "cell_type": "code",
   "execution_count": null,
   "id": "39b03a5f",
   "metadata": {},
   "outputs": [],
   "source": [
    "_ = pm.plot_trace(trace)"
   ]
  },
  {
   "cell_type": "code",
   "execution_count": null,
   "id": "7f44876f",
   "metadata": {},
   "outputs": [],
   "source": [
    "prior_beta_draws = stick_glueing(prior.to_dict()[\"prior\"][\"sbw\"]).reshape(-1,)\n",
    "post_beta_draws = stick_glueing(trace.to_dict()[\"posterior\"][\"sbw\"][0]).reshape(-1,)\n",
    "\n",
    "fig, axes = plt.subplots(nrows=1, ncols=2, figsize=(14, 5))\n",
    "\n",
    "x_plot = np.linspace(start=0.001, stop=0.999, num=10001)\n",
    "\n",
    "_ = axes[0].hist(prior_beta_draws, bins=100, density=True)\n",
    "_ = axes[0].plot(\n",
    "    x_plot,\n",
    "    st.beta.pdf(x_plot, a=1., b=M),\n",
    ")\n",
    "_ = axes[0].set_title(f\"Histogram of prior, M = {M}\", fontsize=12)\n",
    "\n",
    "_ = axes[1].hist(post_beta_draws, bins=100, density=True)\n",
    "_ = axes[1].plot(\n",
    "    x_plot,\n",
    "    st.beta.pdf(x_plot, a=1., b=M),\n",
    ")\n",
    "_ = axes[1].set_title(f\"Histogram of posterior, M = {M}\", fontsize=12)"
   ]
  },
  {
   "cell_type": "markdown",
   "id": "48befa23",
   "metadata": {},
   "source": [
    "## Hierarchical Sample"
   ]
  },
  {
   "cell_type": "code",
   "execution_count": null,
   "id": "9d8516d2",
   "metadata": {},
   "outputs": [],
   "source": [
    "with pm.Model() as model:\n",
    "    α = pm.Gamma(name=\"α\", alpha=4., beta=2.)\n",
    "    sbw = StickBreakingWeights(name=\"sbw\", alpha=α, K=11, shape=[3,])\n",
    "    prior = pm.sample_prior_predictive(samples=2000,)\n",
    "    trace = pm.sample(draws=2000, chains=1)"
   ]
  },
  {
   "cell_type": "code",
   "execution_count": null,
   "id": "03dfae2c",
   "metadata": {},
   "outputs": [],
   "source": []
  }
 ],
 "metadata": {
  "kernelspec": {
   "display_name": "pymc3-dev-py38",
   "language": "python",
   "name": "pymc3-dev-py38"
  },
  "language_info": {
   "codemirror_mode": {
    "name": "ipython",
    "version": 3
   },
   "file_extension": ".py",
   "mimetype": "text/x-python",
   "name": "python",
   "nbconvert_exporter": "python",
   "pygments_lexer": "ipython3",
   "version": "3.8.10"
  }
 },
 "nbformat": 4,
 "nbformat_minor": 5
}
