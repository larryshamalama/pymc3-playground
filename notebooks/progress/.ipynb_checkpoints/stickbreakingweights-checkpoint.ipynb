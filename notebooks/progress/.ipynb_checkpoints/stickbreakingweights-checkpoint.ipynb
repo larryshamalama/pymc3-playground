{
 "cells": [
  {
   "cell_type": "markdown",
   "id": "f652412e",
   "metadata": {},
   "source": [
    "- `TruncatedStickBreakingWeights` or `StickBreakingWeights` as name"
   ]
  },
  {
   "cell_type": "code",
   "execution_count": 1,
   "id": "465bed97",
   "metadata": {},
   "outputs": [
    {
     "name": "stderr",
     "output_type": "stream",
     "text": [
      "You are running the v4 development version of PyMC3 which currently still lacks key features. You probably want to use the stable v3 instead which you can either install via conda or find on the v3 GitHub branch: https://github.com/pymc-devs/pymc3/tree/v3\n"
     ]
    }
   ],
   "source": [
    "import numpy as np\n",
    "\n",
    "import aesara.tensor as at\n",
    "from aesara.tensor.random.op import RandomVariable, default_shape_from_params\n",
    "\n",
    "import pymc3 as pm\n",
    "\n",
    "from pymc3.distributions.continuous import assert_negative_support\n",
    "from pymc3.distributions.dist_math import bound, normal_lcdf\n",
    "from pymc3.distributions.distribution import Continuous"
   ]
  },
  {
   "cell_type": "markdown",
   "id": "5751acbb",
   "metadata": {},
   "source": [
    "## `StickBreakingWeightsRV`"
   ]
  },
  {
   "cell_type": "code",
   "execution_count": 2,
   "id": "95ace48f",
   "metadata": {},
   "outputs": [],
   "source": [
    "class StickBreakingWeightsRV(RandomVariable):\n",
    "    name = \"stick_breaking_weights\"\n",
    "    ndim_supp = 1\n",
    "    ndims_params = [0]\n",
    "    dtype = \"floatX\"\n",
    "    _print_name = (\"StickBreakingWeights\", \"\\\\operatorname{StickBreakingWeights}\")\n",
    "\n",
    "    def _shape_from_params(self, dist_params, rep_param_idx=1, param_shapes=None):\n",
    "        return default_shape_from_params(\n",
    "            self.ndim_supp, dist_params, rep_param_idx, param_shapes\n",
    "        )\n",
    "    \n",
    "    def __call__(self, alpha, size=None, **kwargs):\n",
    "        return super().__call__(alpha, size=size, **kwargs)\n",
    "\n",
    "    @classmethod\n",
    "    def rng_fn(cls, rng, alpha, size):\n",
    "        size = tuple(size or ())\n",
    "        \n",
    "        betas = rng.beta(1, alpha, size=size)\n",
    "        sticks = np.concatenate(\n",
    "            (\n",
    "                np.ones(shape=(size[:-1] + (1,))),\n",
    "                np.cumprod(1 - betas[..., :-1], axis=-1),\n",
    "            ),\n",
    "            axis=-1,\n",
    "        )\n",
    "        \n",
    "        weights = sticks * betas\n",
    "        weights = np.concatenate(\n",
    "            (\n",
    "                weights,\n",
    "                1 - weights.sum(axis=-1)[..., np.newaxis]\n",
    "            ),\n",
    "            axis=-1,\n",
    "        )\n",
    "\n",
    "        return weights\n",
    "\n",
    "\n",
    "stickbreakingweights = StickBreakingWeightsRV()"
   ]
  },
  {
   "cell_type": "code",
   "execution_count": 3,
   "id": "1ad45ec4",
   "metadata": {},
   "outputs": [
    {
     "data": {
      "text/plain": [
       "array([[[0.01619353, 0.00477256, 0.2507677 , 0.72826621],\n",
       "        [0.00744523, 0.27839675, 0.06021795, 0.65394007],\n",
       "        [0.08845704, 0.29959431, 0.33366337, 0.27828527],\n",
       "        [0.14233668, 0.24819568, 0.22722516, 0.38224248]],\n",
       "\n",
       "       [[0.18058677, 0.31910632, 0.25701285, 0.24329406],\n",
       "        [0.23584613, 0.06854922, 0.06169366, 0.63391099],\n",
       "        [0.01599996, 0.15505591, 0.37165029, 0.45729384],\n",
       "        [0.22766902, 0.12326135, 0.04006222, 0.60900741]]])"
      ]
     },
     "execution_count": 3,
     "metadata": {},
     "output_type": "execute_result"
    }
   ],
   "source": [
    "rng = np.random.RandomState(seed=34)\n",
    "stickbreakingweights.rng_fn(rng, alpha=3., size=[2, 4, 3])"
   ]
  },
  {
   "cell_type": "code",
   "execution_count": 4,
   "id": "6a3206a4",
   "metadata": {},
   "outputs": [
    {
     "ename": "IndexError",
     "evalue": "list index out of range",
     "output_type": "error",
     "traceback": [
      "\u001b[0;31m---------------------------------------------------------------------------\u001b[0m",
      "\u001b[0;31mIndexError\u001b[0m                                Traceback (most recent call last)",
      "\u001b[0;32m<ipython-input-4-62f6dc204053>\u001b[0m in \u001b[0;36m<module>\u001b[0;34m\u001b[0m\n\u001b[0;32m----> 1\u001b[0;31m \u001b[0mstickbreakingweights\u001b[0m\u001b[0;34m(\u001b[0m\u001b[0;36m2.\u001b[0m\u001b[0;34m)\u001b[0m\u001b[0;34m.\u001b[0m\u001b[0meval\u001b[0m\u001b[0;34m(\u001b[0m\u001b[0;34m)\u001b[0m\u001b[0;34m\u001b[0m\u001b[0;34m\u001b[0m\u001b[0m\n\u001b[0m",
      "\u001b[0;32m<ipython-input-2-40894a036451>\u001b[0m in \u001b[0;36m__call__\u001b[0;34m(self, alpha, size, **kwargs)\u001b[0m\n\u001b[1;32m     12\u001b[0m \u001b[0;34m\u001b[0m\u001b[0m\n\u001b[1;32m     13\u001b[0m     \u001b[0;32mdef\u001b[0m \u001b[0m__call__\u001b[0m\u001b[0;34m(\u001b[0m\u001b[0mself\u001b[0m\u001b[0;34m,\u001b[0m \u001b[0malpha\u001b[0m\u001b[0;34m,\u001b[0m \u001b[0msize\u001b[0m\u001b[0;34m=\u001b[0m\u001b[0;32mNone\u001b[0m\u001b[0;34m,\u001b[0m \u001b[0;34m**\u001b[0m\u001b[0mkwargs\u001b[0m\u001b[0;34m)\u001b[0m\u001b[0;34m:\u001b[0m\u001b[0;34m\u001b[0m\u001b[0;34m\u001b[0m\u001b[0m\n\u001b[0;32m---> 14\u001b[0;31m         \u001b[0;32mreturn\u001b[0m \u001b[0msuper\u001b[0m\u001b[0;34m(\u001b[0m\u001b[0;34m)\u001b[0m\u001b[0;34m.\u001b[0m\u001b[0m__call__\u001b[0m\u001b[0;34m(\u001b[0m\u001b[0malpha\u001b[0m\u001b[0;34m,\u001b[0m \u001b[0msize\u001b[0m\u001b[0;34m=\u001b[0m\u001b[0msize\u001b[0m\u001b[0;34m,\u001b[0m \u001b[0;34m**\u001b[0m\u001b[0mkwargs\u001b[0m\u001b[0;34m)\u001b[0m\u001b[0;34m\u001b[0m\u001b[0;34m\u001b[0m\u001b[0m\n\u001b[0m\u001b[1;32m     15\u001b[0m \u001b[0;34m\u001b[0m\u001b[0m\n\u001b[1;32m     16\u001b[0m     \u001b[0;34m@\u001b[0m\u001b[0mclassmethod\u001b[0m\u001b[0;34m\u001b[0m\u001b[0;34m\u001b[0m\u001b[0m\n",
      "\u001b[0;32m~/anaconda3/envs/pymc3-dev-py38/lib/python3.8/site-packages/aesara/tensor/random/op.py\u001b[0m in \u001b[0;36m__call__\u001b[0;34m(self, size, name, rng, dtype, *args, **kwargs)\u001b[0m\n\u001b[1;32m    321\u001b[0m \u001b[0;34m\u001b[0m\u001b[0m\n\u001b[1;32m    322\u001b[0m     \u001b[0;32mdef\u001b[0m \u001b[0m__call__\u001b[0m\u001b[0;34m(\u001b[0m\u001b[0mself\u001b[0m\u001b[0;34m,\u001b[0m \u001b[0;34m*\u001b[0m\u001b[0margs\u001b[0m\u001b[0;34m,\u001b[0m \u001b[0msize\u001b[0m\u001b[0;34m=\u001b[0m\u001b[0;32mNone\u001b[0m\u001b[0;34m,\u001b[0m \u001b[0mname\u001b[0m\u001b[0;34m=\u001b[0m\u001b[0;32mNone\u001b[0m\u001b[0;34m,\u001b[0m \u001b[0mrng\u001b[0m\u001b[0;34m=\u001b[0m\u001b[0;32mNone\u001b[0m\u001b[0;34m,\u001b[0m \u001b[0mdtype\u001b[0m\u001b[0;34m=\u001b[0m\u001b[0;32mNone\u001b[0m\u001b[0;34m,\u001b[0m \u001b[0;34m**\u001b[0m\u001b[0mkwargs\u001b[0m\u001b[0;34m)\u001b[0m\u001b[0;34m:\u001b[0m\u001b[0;34m\u001b[0m\u001b[0;34m\u001b[0m\u001b[0m\n\u001b[0;32m--> 323\u001b[0;31m         \u001b[0mres\u001b[0m \u001b[0;34m=\u001b[0m \u001b[0msuper\u001b[0m\u001b[0;34m(\u001b[0m\u001b[0;34m)\u001b[0m\u001b[0;34m.\u001b[0m\u001b[0m__call__\u001b[0m\u001b[0;34m(\u001b[0m\u001b[0mrng\u001b[0m\u001b[0;34m,\u001b[0m \u001b[0msize\u001b[0m\u001b[0;34m,\u001b[0m \u001b[0mdtype\u001b[0m\u001b[0;34m,\u001b[0m \u001b[0;34m*\u001b[0m\u001b[0margs\u001b[0m\u001b[0;34m,\u001b[0m \u001b[0;34m**\u001b[0m\u001b[0mkwargs\u001b[0m\u001b[0;34m)\u001b[0m\u001b[0;34m\u001b[0m\u001b[0;34m\u001b[0m\u001b[0m\n\u001b[0m\u001b[1;32m    324\u001b[0m \u001b[0;34m\u001b[0m\u001b[0m\n\u001b[1;32m    325\u001b[0m         \u001b[0;32mif\u001b[0m \u001b[0mname\u001b[0m \u001b[0;32mis\u001b[0m \u001b[0;32mnot\u001b[0m \u001b[0;32mNone\u001b[0m\u001b[0;34m:\u001b[0m\u001b[0;34m\u001b[0m\u001b[0;34m\u001b[0m\u001b[0m\n",
      "\u001b[0;32m~/anaconda3/envs/pymc3-dev-py38/lib/python3.8/site-packages/aesara/graph/op.py\u001b[0m in \u001b[0;36m__call__\u001b[0;34m(self, *inputs, **kwargs)\u001b[0m\n\u001b[1;32m    269\u001b[0m         \"\"\"\n\u001b[1;32m    270\u001b[0m         \u001b[0mreturn_list\u001b[0m \u001b[0;34m=\u001b[0m \u001b[0mkwargs\u001b[0m\u001b[0;34m.\u001b[0m\u001b[0mpop\u001b[0m\u001b[0;34m(\u001b[0m\u001b[0;34m\"return_list\"\u001b[0m\u001b[0;34m,\u001b[0m \u001b[0;32mFalse\u001b[0m\u001b[0;34m)\u001b[0m\u001b[0;34m\u001b[0m\u001b[0;34m\u001b[0m\u001b[0m\n\u001b[0;32m--> 271\u001b[0;31m         \u001b[0mnode\u001b[0m \u001b[0;34m=\u001b[0m \u001b[0mself\u001b[0m\u001b[0;34m.\u001b[0m\u001b[0mmake_node\u001b[0m\u001b[0;34m(\u001b[0m\u001b[0;34m*\u001b[0m\u001b[0minputs\u001b[0m\u001b[0;34m,\u001b[0m \u001b[0;34m**\u001b[0m\u001b[0mkwargs\u001b[0m\u001b[0;34m)\u001b[0m\u001b[0;34m\u001b[0m\u001b[0;34m\u001b[0m\u001b[0m\n\u001b[0m\u001b[1;32m    272\u001b[0m \u001b[0;34m\u001b[0m\u001b[0m\n\u001b[1;32m    273\u001b[0m         \u001b[0;32mif\u001b[0m \u001b[0mconfig\u001b[0m\u001b[0;34m.\u001b[0m\u001b[0mcompute_test_value\u001b[0m \u001b[0;34m!=\u001b[0m \u001b[0;34m\"off\"\u001b[0m\u001b[0;34m:\u001b[0m\u001b[0;34m\u001b[0m\u001b[0;34m\u001b[0m\u001b[0m\n",
      "\u001b[0;32m~/anaconda3/envs/pymc3-dev-py38/lib/python3.8/site-packages/aesara/tensor/random/op.py\u001b[0m in \u001b[0;36mmake_node\u001b[0;34m(self, rng, size, dtype, *dist_params)\u001b[0m\n\u001b[1;32m    368\u001b[0m             \u001b[0;32mraise\u001b[0m \u001b[0mTypeError\u001b[0m\u001b[0;34m(\u001b[0m\u001b[0;34m\"The type of rng should be an instance of RandomStateType\"\u001b[0m\u001b[0;34m)\u001b[0m\u001b[0;34m\u001b[0m\u001b[0;34m\u001b[0m\u001b[0m\n\u001b[1;32m    369\u001b[0m \u001b[0;34m\u001b[0m\u001b[0m\n\u001b[0;32m--> 370\u001b[0;31m         \u001b[0mbcast\u001b[0m \u001b[0;34m=\u001b[0m \u001b[0mself\u001b[0m\u001b[0;34m.\u001b[0m\u001b[0mcompute_bcast\u001b[0m\u001b[0;34m(\u001b[0m\u001b[0mdist_params\u001b[0m\u001b[0;34m,\u001b[0m \u001b[0msize\u001b[0m\u001b[0;34m)\u001b[0m\u001b[0;34m\u001b[0m\u001b[0;34m\u001b[0m\u001b[0m\n\u001b[0m\u001b[1;32m    371\u001b[0m         \u001b[0mdtype\u001b[0m \u001b[0;34m=\u001b[0m \u001b[0mself\u001b[0m\u001b[0;34m.\u001b[0m\u001b[0mdtype\u001b[0m \u001b[0;32mor\u001b[0m \u001b[0mdtype\u001b[0m\u001b[0;34m\u001b[0m\u001b[0;34m\u001b[0m\u001b[0m\n\u001b[1;32m    372\u001b[0m \u001b[0;34m\u001b[0m\u001b[0m\n",
      "\u001b[0;32m~/anaconda3/envs/pymc3-dev-py38/lib/python3.8/site-packages/aesara/configparser.py\u001b[0m in \u001b[0;36mres\u001b[0;34m(*args, **kwargs)\u001b[0m\n\u001b[1;32m     47\u001b[0m         \u001b[0;32mdef\u001b[0m \u001b[0mres\u001b[0m\u001b[0;34m(\u001b[0m\u001b[0;34m*\u001b[0m\u001b[0margs\u001b[0m\u001b[0;34m,\u001b[0m \u001b[0;34m**\u001b[0m\u001b[0mkwargs\u001b[0m\u001b[0;34m)\u001b[0m\u001b[0;34m:\u001b[0m\u001b[0;34m\u001b[0m\u001b[0;34m\u001b[0m\u001b[0m\n\u001b[1;32m     48\u001b[0m             \u001b[0;32mwith\u001b[0m \u001b[0mself\u001b[0m\u001b[0;34m:\u001b[0m\u001b[0;34m\u001b[0m\u001b[0;34m\u001b[0m\u001b[0m\n\u001b[0;32m---> 49\u001b[0;31m                 \u001b[0;32mreturn\u001b[0m \u001b[0mf\u001b[0m\u001b[0;34m(\u001b[0m\u001b[0;34m*\u001b[0m\u001b[0margs\u001b[0m\u001b[0;34m,\u001b[0m \u001b[0;34m**\u001b[0m\u001b[0mkwargs\u001b[0m\u001b[0;34m)\u001b[0m\u001b[0;34m\u001b[0m\u001b[0;34m\u001b[0m\u001b[0m\n\u001b[0m\u001b[1;32m     50\u001b[0m \u001b[0;34m\u001b[0m\u001b[0m\n\u001b[1;32m     51\u001b[0m         \u001b[0;32mreturn\u001b[0m \u001b[0mres\u001b[0m\u001b[0;34m\u001b[0m\u001b[0;34m\u001b[0m\u001b[0m\n",
      "\u001b[0;32m~/anaconda3/envs/pymc3-dev-py38/lib/python3.8/site-packages/aesara/tensor/random/op.py\u001b[0m in \u001b[0;36mcompute_bcast\u001b[0;34m(self, dist_params, size)\u001b[0m\n\u001b[1;32m    285\u001b[0m \u001b[0;34m\u001b[0m\u001b[0m\n\u001b[1;32m    286\u001b[0m         \"\"\"\n\u001b[0;32m--> 287\u001b[0;31m         \u001b[0mshape\u001b[0m \u001b[0;34m=\u001b[0m \u001b[0mself\u001b[0m\u001b[0;34m.\u001b[0m\u001b[0m_infer_shape\u001b[0m\u001b[0;34m(\u001b[0m\u001b[0msize\u001b[0m\u001b[0;34m,\u001b[0m \u001b[0mdist_params\u001b[0m\u001b[0;34m)\u001b[0m\u001b[0;34m\u001b[0m\u001b[0;34m\u001b[0m\u001b[0m\n\u001b[0m\u001b[1;32m    288\u001b[0m \u001b[0;34m\u001b[0m\u001b[0m\n\u001b[1;32m    289\u001b[0m         \u001b[0;31m# Ignore `Cast`s, since they do not affect broadcastables\u001b[0m\u001b[0;34m\u001b[0m\u001b[0;34m\u001b[0m\u001b[0;34m\u001b[0m\u001b[0m\n",
      "\u001b[0;32m~/anaconda3/envs/pymc3-dev-py38/lib/python3.8/site-packages/aesara/tensor/random/op.py\u001b[0m in \u001b[0;36m_infer_shape\u001b[0;34m(self, size, dist_params, param_shapes)\u001b[0m\n\u001b[1;32m    253\u001b[0m             \u001b[0mndim_reps\u001b[0m \u001b[0;34m=\u001b[0m \u001b[0mlen\u001b[0m\u001b[0;34m(\u001b[0m\u001b[0mshape_reps\u001b[0m\u001b[0;34m)\u001b[0m\u001b[0;34m\u001b[0m\u001b[0;34m\u001b[0m\u001b[0m\n\u001b[1;32m    254\u001b[0m         \u001b[0;32melse\u001b[0m\u001b[0;34m:\u001b[0m\u001b[0;34m\u001b[0m\u001b[0;34m\u001b[0m\u001b[0m\n\u001b[0;32m--> 255\u001b[0;31m             shape_supp = self._shape_from_params(\n\u001b[0m\u001b[1;32m    256\u001b[0m                 \u001b[0mdist_params\u001b[0m\u001b[0;34m,\u001b[0m\u001b[0;34m\u001b[0m\u001b[0;34m\u001b[0m\u001b[0m\n\u001b[1;32m    257\u001b[0m                 \u001b[0mparam_shapes\u001b[0m\u001b[0;34m=\u001b[0m\u001b[0mparam_shapes\u001b[0m\u001b[0;34m,\u001b[0m\u001b[0;34m\u001b[0m\u001b[0;34m\u001b[0m\u001b[0m\n",
      "\u001b[0;32m<ipython-input-2-40894a036451>\u001b[0m in \u001b[0;36m_shape_from_params\u001b[0;34m(self, dist_params, rep_param_idx, param_shapes)\u001b[0m\n\u001b[1;32m      7\u001b[0m \u001b[0;34m\u001b[0m\u001b[0m\n\u001b[1;32m      8\u001b[0m     \u001b[0;32mdef\u001b[0m \u001b[0m_shape_from_params\u001b[0m\u001b[0;34m(\u001b[0m\u001b[0mself\u001b[0m\u001b[0;34m,\u001b[0m \u001b[0mdist_params\u001b[0m\u001b[0;34m,\u001b[0m \u001b[0mrep_param_idx\u001b[0m\u001b[0;34m=\u001b[0m\u001b[0;36m1\u001b[0m\u001b[0;34m,\u001b[0m \u001b[0mparam_shapes\u001b[0m\u001b[0;34m=\u001b[0m\u001b[0;32mNone\u001b[0m\u001b[0;34m)\u001b[0m\u001b[0;34m:\u001b[0m\u001b[0;34m\u001b[0m\u001b[0;34m\u001b[0m\u001b[0m\n\u001b[0;32m----> 9\u001b[0;31m         return default_shape_from_params(\n\u001b[0m\u001b[1;32m     10\u001b[0m             \u001b[0mself\u001b[0m\u001b[0;34m.\u001b[0m\u001b[0mndim_supp\u001b[0m\u001b[0;34m,\u001b[0m \u001b[0mdist_params\u001b[0m\u001b[0;34m,\u001b[0m \u001b[0mrep_param_idx\u001b[0m\u001b[0;34m,\u001b[0m \u001b[0mparam_shapes\u001b[0m\u001b[0;34m\u001b[0m\u001b[0;34m\u001b[0m\u001b[0m\n\u001b[1;32m     11\u001b[0m         )\n",
      "\u001b[0;32m~/anaconda3/envs/pymc3-dev-py38/lib/python3.8/site-packages/aesara/tensor/random/op.py\u001b[0m in \u001b[0;36mdefault_shape_from_params\u001b[0;34m(ndim_supp, dist_params, rep_param_idx, param_shapes)\u001b[0m\n\u001b[1;32m     67\u001b[0m         \u001b[0;32mraise\u001b[0m \u001b[0mValueError\u001b[0m\u001b[0;34m(\u001b[0m\u001b[0;34m\"ndim_supp must be greater than 0\"\u001b[0m\u001b[0;34m)\u001b[0m\u001b[0;34m\u001b[0m\u001b[0;34m\u001b[0m\u001b[0m\n\u001b[1;32m     68\u001b[0m     \u001b[0;32mif\u001b[0m \u001b[0mparam_shapes\u001b[0m \u001b[0;32mis\u001b[0m \u001b[0;32mnot\u001b[0m \u001b[0;32mNone\u001b[0m\u001b[0;34m:\u001b[0m\u001b[0;34m\u001b[0m\u001b[0;34m\u001b[0m\u001b[0m\n\u001b[0;32m---> 69\u001b[0;31m         \u001b[0mref_param\u001b[0m \u001b[0;34m=\u001b[0m \u001b[0mparam_shapes\u001b[0m\u001b[0;34m[\u001b[0m\u001b[0mrep_param_idx\u001b[0m\u001b[0;34m]\u001b[0m\u001b[0;34m\u001b[0m\u001b[0;34m\u001b[0m\u001b[0m\n\u001b[0m\u001b[1;32m     70\u001b[0m         \u001b[0;32mreturn\u001b[0m \u001b[0;34m(\u001b[0m\u001b[0mref_param\u001b[0m\u001b[0;34m[\u001b[0m\u001b[0;34m-\u001b[0m\u001b[0mndim_supp\u001b[0m\u001b[0;34m]\u001b[0m\u001b[0;34m,\u001b[0m\u001b[0;34m)\u001b[0m\u001b[0;34m\u001b[0m\u001b[0;34m\u001b[0m\u001b[0m\n\u001b[1;32m     71\u001b[0m     \u001b[0;32melse\u001b[0m\u001b[0;34m:\u001b[0m\u001b[0;34m\u001b[0m\u001b[0;34m\u001b[0m\u001b[0m\n",
      "\u001b[0;31mIndexError\u001b[0m: list index out of range"
     ]
    }
   ],
   "source": [
    "stickbreakingweights(2.).eval()"
   ]
  },
  {
   "cell_type": "markdown",
   "id": "a0ee4fd7",
   "metadata": {},
   "source": [
    "`stickbreakingweights` works, but is not flexible at all towards different shapes"
   ]
  },
  {
   "cell_type": "code",
   "execution_count": null,
   "id": "b56c098d",
   "metadata": {},
   "outputs": [],
   "source": [
    "class StickBreakingWeights(Continuous):\n",
    "    rv_op = stickbreakingweights\n",
    "\n",
    "    @classmethod\n",
    "    def dist(cls, alpha, *args, **kwargs):\n",
    "        alpha = at.as_tensor_variable(alpha)\n",
    "\n",
    "        assert_negative_support(alpha, \"alpha\", \"StickBreakingWeights\")\n",
    "\n",
    "        return super().dist([alpha], **kwargs)\n",
    "\n",
    "    def logp(value, alpha):\n",
    "        return bound(\n",
    "            at.sum(pm.Beta.logp(value, 1, alpha)),\n",
    "            alpha > 0,\n",
    "        )\n",
    "\n",
    "    def _distr_parameters_for_repr(self):\n",
    "        return [\"alpha\"]"
   ]
  },
  {
   "cell_type": "code",
   "execution_count": null,
   "id": "4211f544",
   "metadata": {},
   "outputs": [],
   "source": [
    "with pm.Model() as model:\n",
    "    sbw = StickBreakingWeights(name=\"sbw\", alpha=2.)"
   ]
  },
  {
   "cell_type": "code",
   "execution_count": null,
   "id": "9fddd51d",
   "metadata": {},
   "outputs": [],
   "source": []
  }
 ],
 "metadata": {
  "kernelspec": {
   "display_name": "pymc3-dev-py38",
   "language": "python",
   "name": "pymc3-dev-py38"
  },
  "language_info": {
   "codemirror_mode": {
    "name": "ipython",
    "version": 3
   },
   "file_extension": ".py",
   "mimetype": "text/x-python",
   "name": "python",
   "nbconvert_exporter": "python",
   "pygments_lexer": "ipython3",
   "version": "3.8.10"
  }
 },
 "nbformat": 4,
 "nbformat_minor": 5
}
