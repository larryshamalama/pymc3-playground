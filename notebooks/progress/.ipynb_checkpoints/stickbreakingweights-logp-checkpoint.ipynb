{
 "cells": [
  {
   "cell_type": "code",
   "execution_count": 1,
   "id": "b160e7fd",
   "metadata": {},
   "outputs": [
    {
     "name": "stderr",
     "output_type": "stream",
     "text": [
      "You are running the v4 development version of PyMC which currently still lacks key features. You probably want to use the stable v3 instead which you can either install via conda or find on the v3 GitHub branch: https://github.com/pymc-devs/pymc/tree/v3\n"
     ]
    },
    {
     "name": "stdout",
     "output_type": "stream",
     "text": [
      "pymc version: 4.0.0\n",
      "Aesara version: 2.2.1\n",
      "pymc location: /Users/larryshamalama/Documents/GitHub/pymc/pymc/__init__.py\n"
     ]
    }
   ],
   "source": [
    "import numpy as np\n",
    "\n",
    "import aesara.tensor as at\n",
    "from aesara.tensor.random.op import RandomVariable, default_shape_from_params\n",
    "\n",
    "import sys\n",
    "\n",
    "sys.path.insert(0, \"/Users/larryshamalama/Documents/GitHub/pymc\")\n",
    "\n",
    "import pymc as pm\n",
    "\n",
    "from pymc.distributions.continuous import assert_negative_support, UnitContinuous\n",
    "from pymc.distributions.dist_math import betaln, bound, normal_lcdf\n",
    "from pymc.distributions.distribution import Continuous\n",
    "\n",
    "from pymc.distributions import transforms\n",
    "\n",
    "from pymc.aesaraf import floatX, intX\n",
    "\n",
    "# a bunch of imports for testing and printing\n",
    "\n",
    "from aesara.tensor.basic import get_vector_length\n",
    "from aesara.tensor.random.utils import params_broadcast_shapes\n",
    "from aesara.tensor.shape import shape_tuple\n",
    "\n",
    "import aesara\n",
    "\n",
    "import matplotlib.pyplot as plt\n",
    "import scipy.stats as st\n",
    "\n",
    "from scipy.special import beta\n",
    "\n",
    "%config InlineBackend.figure_format = \"retina\"\n",
    "%matplotlib inline\n",
    "\n",
    "print(f\"pymc version: {pm.__version__}\")\n",
    "print(f\"Aesara version: {aesara.__version__}\")\n",
    "print(f\"pymc location: {pm.__file__}\")"
   ]
  },
  {
   "cell_type": "code",
   "execution_count": 2,
   "id": "bc85cfe2",
   "metadata": {},
   "outputs": [],
   "source": [
    "def logp(value, alpha, K):\n",
    "    output = 0\n",
    "    \n",
    "    assert len(value) == K + 1\n",
    "    assert np.allclose(value.sum(), 1)\n",
    "    \n",
    "    output += -(K-1)*np.log(beta(1, alpha))\n",
    "    output += (alpha)*np.log(value[-1])\n",
    "    output += -np.log(np.cumsum(value[::-1])).sum()\n",
    "    \n",
    "    return output"
   ]
  },
  {
   "cell_type": "code",
   "execution_count": 3,
   "id": "c77f2a39",
   "metadata": {},
   "outputs": [],
   "source": [
    "test_cases = [\n",
    "    (np.array([5, 4, 3, 2, 1]) / 15, 0.5, 4, 0.8194829501677985),\n",
    "    (np.tile(1, 13) / 13, 2, 12, 13.980045245672827),\n",
    "    (np.array([0.001] * 10 + [0.99]), 0.1, 10, -22.971662448814723),\n",
    "    (np.append(0.5 ** np.arange(1, 20), 0.5 ** 20), 5, 19, -1),\n",
    "]"
   ]
  },
  {
   "cell_type": "code",
   "execution_count": 4,
   "id": "33428d62",
   "metadata": {},
   "outputs": [
    {
     "name": "stdout",
     "output_type": "stream",
     "text": [
      "2.2057773112876893\n",
      "2.2057773055737258\n",
      "\n",
      "13.286898065112881\n",
      "13.286898086064078\n",
      "\n",
      "-20.66907735582068\n",
      "-20.66907735582068\n",
      "\n",
      "92.59518981534681\n",
      "92.59519035662093\n",
      "\n"
     ]
    }
   ],
   "source": [
    "for tup in test_cases:\n",
    "    print(logp(*tup[:-1]))\n",
    "    print(pm.StickBreakingWeights.logp(*tup[:-1]).eval())\n",
    "    print()"
   ]
  },
  {
   "cell_type": "code",
   "execution_count": null,
   "id": "7d6b49d6",
   "metadata": {},
   "outputs": [],
   "source": []
  }
 ],
 "metadata": {
  "kernelspec": {
   "display_name": "pymc3-dev-py38",
   "language": "python",
   "name": "pymc3-dev-py38"
  },
  "language_info": {
   "codemirror_mode": {
    "name": "ipython",
    "version": 3
   },
   "file_extension": ".py",
   "mimetype": "text/x-python",
   "name": "python",
   "nbconvert_exporter": "python",
   "pygments_lexer": "ipython3",
   "version": "3.8.10"
  }
 },
 "nbformat": 4,
 "nbformat_minor": 5
}
