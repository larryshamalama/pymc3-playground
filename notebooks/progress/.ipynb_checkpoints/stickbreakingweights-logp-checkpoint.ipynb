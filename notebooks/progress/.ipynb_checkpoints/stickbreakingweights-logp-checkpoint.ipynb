{
 "cells": [
  {
   "cell_type": "code",
   "execution_count": 1,
   "id": "b160e7fd",
   "metadata": {},
   "outputs": [
    {
     "name": "stdout",
     "output_type": "stream",
     "text": [
      "pymc version: 4.0.0b2\n",
      "Aesara version: 2.3.2\n",
      "pymc location: /Users/larryshamalama/Documents/GitHub/pymc/pymc/__init__.py\n"
     ]
    }
   ],
   "source": [
    "import numpy as np\n",
    "\n",
    "import aesara.tensor as at\n",
    "from aesara.tensor.random.op import RandomVariable, default_shape_from_params\n",
    "\n",
    "import sys\n",
    "\n",
    "sys.path.insert(0, \"/Users/larryshamalama/Documents/GitHub/pymc\")\n",
    "\n",
    "import pymc as pm\n",
    "\n",
    "from pymc.distributions.continuous import assert_negative_support, UnitContinuous\n",
    "from pymc.distributions.dist_math import betaln, normal_lcdf\n",
    "from pymc.distributions.distribution import Continuous\n",
    "\n",
    "from pymc.distributions import transforms\n",
    "\n",
    "from pymc.aesaraf import floatX, intX\n",
    "\n",
    "# a bunch of imports for testing and printing\n",
    "\n",
    "from aesara.tensor.basic import get_vector_length\n",
    "from aesara.tensor.random.utils import params_broadcast_shapes\n",
    "from aesara.tensor.shape import shape_tuple\n",
    "\n",
    "import aesara\n",
    "\n",
    "import matplotlib.pyplot as plt\n",
    "import scipy.stats as st\n",
    "\n",
    "from scipy.special import beta\n",
    "\n",
    "%config InlineBackend.figure_format = \"retina\"\n",
    "%matplotlib inline\n",
    "\n",
    "print(f\"pymc version: {pm.__version__}\")\n",
    "print(f\"Aesara version: {aesara.__version__}\")\n",
    "print(f\"pymc location: {pm.__file__}\")"
   ]
  },
  {
   "cell_type": "code",
   "execution_count": 2,
   "id": "bc85cfe2",
   "metadata": {},
   "outputs": [],
   "source": [
    "def logp(value, alpha, K):\n",
    "    output = 0\n",
    "    \n",
    "#     assert len(value) == K + 1\n",
    "#     assert np.allclose(value.sum(), 1)\n",
    "    \n",
    "    output += -(K)*np.log(beta(1, alpha))\n",
    "    output += (alpha)*np.log(value[..., -1])\n",
    "    output += -np.log(np.cumsum(value[..., ::-1], axis=-1)).sum(axis=-1)\n",
    "    \n",
    "    return output"
   ]
  },
  {
   "cell_type": "code",
   "execution_count": 3,
   "id": "5473966e",
   "metadata": {},
   "outputs": [
    {
     "data": {
      "text/plain": [
       "array([1., 1.])"
      ]
     },
     "execution_count": 3,
     "metadata": {},
     "output_type": "execute_result"
    }
   ],
   "source": [
    "(np.array([[7, 5, 3, 2], [19, 17, 13, 11]])/np.array([[17], [60]])).sum(axis=1)"
   ]
  },
  {
   "cell_type": "code",
   "execution_count": 4,
   "id": "c77f2a39",
   "metadata": {},
   "outputs": [],
   "source": [
    "test_cases = [\n",
    "    (np.array([5, 4, 3, 2, 1]) / 15, 0.5, 4, 0.8194829501677985),\n",
    "    (np.tile(1, 13) / 13, 2, 12, 13.980045245672827),\n",
    "    (np.array([0.001] * 10 + [0.99]), 0.1, 10, -22.971662448814723),\n",
    "    (np.append(0.5 ** np.arange(1, 20), 0.5 ** 20), 5, 19, -1),\n",
    "    ((np.array([[7, 5, 3, 2], [19, 17, 13, 11]])/np.array([[17], [60]])), 2.5, 3, -1)\n",
    "]"
   ]
  },
  {
   "cell_type": "code",
   "execution_count": 5,
   "id": "33428d62",
   "metadata": {},
   "outputs": [
    {
     "name": "stdout",
     "output_type": "stream",
     "text": [
      "1.5126301307277439\n",
      "1.5126301231091264\n",
      "\n",
      "13.980045245672827\n",
      "13.980045268528677\n",
      "\n",
      "-22.971662448814723\n",
      "-22.971662448814723\n",
      "\n",
      "94.20462772778092\n",
      "94.20462829912582\n",
      "\n",
      "[1.29317663 1.50126149]\n",
      "[1.29317672 1.50126157]\n",
      "\n"
     ]
    }
   ],
   "source": [
    "for tup in test_cases:\n",
    "    print(logp(*tup[:-1]))\n",
    "    print(pm.StickBreakingWeights.logp(*tup[:-1]).eval())\n",
    "    print()"
   ]
  },
  {
   "cell_type": "code",
   "execution_count": 7,
   "id": "7d6b49d6",
   "metadata": {},
   "outputs": [
    {
     "name": "stdout",
     "output_type": "stream",
     "text": [
      "[1.29317663 1.50126149]\n"
     ]
    },
    {
     "ename": "TypeError",
     "evalue": "Function object argument after ** must be a mapping, not numpy.ndarray",
     "output_type": "error",
     "traceback": [
      "\u001b[0;31m---------------------------------------------------------------------------\u001b[0m",
      "\u001b[0;31mTypeError\u001b[0m                                 Traceback (most recent call last)",
      "\u001b[0;32m/var/folders/wd/mvn7fc5s33s6zd4ttj9fvtd40000gn/T/ipykernel_54912/1864311625.py\u001b[0m in \u001b[0;36m<module>\u001b[0;34m\u001b[0m\n\u001b[1;32m      3\u001b[0m     \u001b[0mtest_pt\u001b[0m \u001b[0;34m=\u001b[0m \u001b[0mnp\u001b[0m\u001b[0;34m.\u001b[0m\u001b[0marray\u001b[0m\u001b[0;34m(\u001b[0m\u001b[0;34m[\u001b[0m\u001b[0;34m[\u001b[0m\u001b[0;36m7\u001b[0m\u001b[0;34m,\u001b[0m \u001b[0;36m5\u001b[0m\u001b[0;34m,\u001b[0m \u001b[0;36m3\u001b[0m\u001b[0;34m,\u001b[0m \u001b[0;36m2\u001b[0m\u001b[0;34m]\u001b[0m\u001b[0;34m,\u001b[0m \u001b[0;34m[\u001b[0m\u001b[0;36m19\u001b[0m\u001b[0;34m,\u001b[0m \u001b[0;36m17\u001b[0m\u001b[0;34m,\u001b[0m \u001b[0;36m13\u001b[0m\u001b[0;34m,\u001b[0m \u001b[0;36m11\u001b[0m\u001b[0;34m]\u001b[0m\u001b[0;34m]\u001b[0m\u001b[0;34m)\u001b[0m \u001b[0;34m/\u001b[0m \u001b[0mnp\u001b[0m\u001b[0;34m.\u001b[0m\u001b[0marray\u001b[0m\u001b[0;34m(\u001b[0m\u001b[0;34m[\u001b[0m\u001b[0;34m[\u001b[0m\u001b[0;36m17\u001b[0m\u001b[0;34m]\u001b[0m\u001b[0;34m,\u001b[0m \u001b[0;34m[\u001b[0m\u001b[0;36m60\u001b[0m\u001b[0;34m]\u001b[0m\u001b[0;34m]\u001b[0m\u001b[0;34m)\u001b[0m\u001b[0;34m\u001b[0m\u001b[0;34m\u001b[0m\u001b[0m\n\u001b[1;32m      4\u001b[0m     \u001b[0mprint\u001b[0m\u001b[0;34m(\u001b[0m\u001b[0mpm\u001b[0m\u001b[0;34m.\u001b[0m\u001b[0mlogp\u001b[0m\u001b[0;34m(\u001b[0m\u001b[0msbw\u001b[0m\u001b[0;34m,\u001b[0m \u001b[0mtest_pt\u001b[0m\u001b[0;34m)\u001b[0m\u001b[0;34m.\u001b[0m\u001b[0meval\u001b[0m\u001b[0;34m(\u001b[0m\u001b[0;34m)\u001b[0m\u001b[0;34m)\u001b[0m\u001b[0;34m\u001b[0m\u001b[0;34m\u001b[0m\u001b[0m\n\u001b[0;32m----> 5\u001b[0;31m     \u001b[0mprint\u001b[0m\u001b[0;34m(\u001b[0m\u001b[0mmodel\u001b[0m\u001b[0;34m.\u001b[0m\u001b[0mcompile_logp\u001b[0m\u001b[0;34m(\u001b[0m\u001b[0;34m)\u001b[0m\u001b[0;34m(\u001b[0m\u001b[0mtest_pt\u001b[0m\u001b[0;34m)\u001b[0m\u001b[0;34m)\u001b[0m\u001b[0;34m\u001b[0m\u001b[0;34m\u001b[0m\u001b[0m\n\u001b[0m",
      "\u001b[0;32m~/Documents/GitHub/pymc/pymc/model.py\u001b[0m in \u001b[0;36m__call__\u001b[0;34m(self, state)\u001b[0m\n\u001b[1;32m   1811\u001b[0m \u001b[0;34m\u001b[0m\u001b[0m\n\u001b[1;32m   1812\u001b[0m     \u001b[0;32mdef\u001b[0m \u001b[0m__call__\u001b[0m\u001b[0;34m(\u001b[0m\u001b[0mself\u001b[0m\u001b[0;34m,\u001b[0m \u001b[0mstate\u001b[0m\u001b[0;34m)\u001b[0m\u001b[0;34m:\u001b[0m\u001b[0;34m\u001b[0m\u001b[0;34m\u001b[0m\u001b[0m\n\u001b[0;32m-> 1813\u001b[0;31m         \u001b[0;32mreturn\u001b[0m \u001b[0mself\u001b[0m\u001b[0;34m.\u001b[0m\u001b[0mf\u001b[0m\u001b[0;34m(\u001b[0m\u001b[0;34m**\u001b[0m\u001b[0mstate\u001b[0m\u001b[0;34m)\u001b[0m\u001b[0;34m\u001b[0m\u001b[0;34m\u001b[0m\u001b[0m\n\u001b[0m\u001b[1;32m   1814\u001b[0m \u001b[0;34m\u001b[0m\u001b[0m\n\u001b[1;32m   1815\u001b[0m \u001b[0;34m\u001b[0m\u001b[0m\n",
      "\u001b[0;31mTypeError\u001b[0m: Function object argument after ** must be a mapping, not numpy.ndarray"
     ]
    }
   ],
   "source": [
    "with pm.Model() as model:\n",
    "    sbw = pm.StickBreakingWeights(\"sbw\", alpha=2.5, K=3, transform=None)\n",
    "    test_pt = np.array([[7, 5, 3, 2], [19, 17, 13, 11]]) / np.array([[17], [60]])\n",
    "    print(pm.logp(sbw, test_pt).eval())\n",
    "    print(model.compile_logp()(test_pt))"
   ]
  },
  {
   "cell_type": "code",
   "execution_count": null,
   "id": "7faaa1a9",
   "metadata": {},
   "outputs": [],
   "source": []
  }
 ],
 "metadata": {
  "kernelspec": {
   "display_name": "pymc3-dev-py38",
   "language": "python",
   "name": "pymc3-dev-py38"
  },
  "language_info": {
   "codemirror_mode": {
    "name": "ipython",
    "version": 3
   },
   "file_extension": ".py",
   "mimetype": "text/x-python",
   "name": "python",
   "nbconvert_exporter": "python",
   "pygments_lexer": "ipython3",
   "version": "3.8.10"
  }
 },
 "nbformat": 4,
 "nbformat_minor": 5
}
