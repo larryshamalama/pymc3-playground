{
 "cells": [
  {
   "cell_type": "code",
   "execution_count": 1,
   "id": "c5fb5d6c",
   "metadata": {},
   "outputs": [
    {
     "name": "stderr",
     "output_type": "stream",
     "text": [
      "You are running the v4 development version of PyMC3 which currently still lacks key features. You probably want to use the stable v3 instead which you can either install via conda or find on the v3 GitHub branch: https://github.com/pymc-devs/pymc3/tree/v3\n"
     ]
    }
   ],
   "source": [
    "import numpy as np\n",
    "import pandas as pd\n",
    "import pymc3 as pm\n",
    "import seaborn as sns\n",
    "\n",
    "import matplotlib.pyplot as plt\n",
    "import aesara.tensor as at\n",
    "import scipy.stats as st\n",
    "\n",
    "from pymc3.math import logsumexp\n",
    "\n",
    "%matplotlib inline\n",
    "%config InlineBackend.figure_format = \"retina\""
   ]
  },
  {
   "cell_type": "code",
   "execution_count": 11,
   "id": "2d4969bb",
   "metadata": {},
   "outputs": [],
   "source": [
    "with pm.Model() as model:\n",
    "    test = pm.Normal(\"test\", 0, 1)\n",
    "    norm = pm.Normal"
   ]
  },
  {
   "cell_type": "markdown",
   "id": "2f577bdd",
   "metadata": {},
   "source": [
    "### Simpler Example"
   ]
  },
  {
   "cell_type": "code",
   "execution_count": 3,
   "id": "33e1fe93",
   "metadata": {},
   "outputs": [
    {
     "name": "stderr",
     "output_type": "stream",
     "text": [
      "Auto-assigning NUTS sampler...\n",
      "Initializing NUTS using jitter+adapt_diag...\n",
      "Sequential sampling (1 chains in 1 job)\n",
      "NUTS: [mu]\n"
     ]
    },
    {
     "data": {
      "text/html": [
       "\n",
       "    <div>\n",
       "        <style>\n",
       "            /* Turns off some styling */\n",
       "            progress {\n",
       "                /* gets rid of default border in Firefox and Opera. */\n",
       "                border: none;\n",
       "                /* Needs to be in here for Safari polyfill so background images work as expected. */\n",
       "                background-size: auto;\n",
       "            }\n",
       "            .progress-bar-interrupted, .progress-bar-interrupted::-webkit-progress-bar {\n",
       "                background: #F44336;\n",
       "            }\n",
       "        </style>\n",
       "      <progress value='2000' class='' max='2000' style='width:300px; height:20px; vertical-align: middle;'></progress>\n",
       "      100.00% [2000/2000 00:03<00:00 Sampling chain 0, 0 divergences]\n",
       "    </div>\n",
       "    "
      ],
      "text/plain": [
       "<IPython.core.display.HTML object>"
      ]
     },
     "metadata": {},
     "output_type": "display_data"
    },
    {
     "name": "stderr",
     "output_type": "stream",
     "text": [
      "Sampling 1 chain for 1_000 tune and 1_000 draw iterations (1_000 + 1_000 draws total) took 4 seconds.\n",
      "Only one chain was sampled, this makes it impossible to run some convergence checks\n",
      "/Users/larryshamalama/anaconda3/envs/pymc3-dev-py38/lib/python3.8/site-packages/arviz/data/inference_data.py:436: UserWarning: The attributes are not same for all groups. Considering only the first group `attrs`\n",
      "  warnings.warn(\n",
      "Auto-assigning NUTS sampler...\n",
      "Initializing NUTS using jitter+adapt_diag...\n",
      "Sequential sampling (1 chains in 1 job)\n",
      "NUTS: [mu]\n"
     ]
    },
    {
     "data": {
      "text/html": [
       "\n",
       "    <div>\n",
       "        <style>\n",
       "            /* Turns off some styling */\n",
       "            progress {\n",
       "                /* gets rid of default border in Firefox and Opera. */\n",
       "                border: none;\n",
       "                /* Needs to be in here for Safari polyfill so background images work as expected. */\n",
       "                background-size: auto;\n",
       "            }\n",
       "            .progress-bar-interrupted, .progress-bar-interrupted::-webkit-progress-bar {\n",
       "                background: #F44336;\n",
       "            }\n",
       "        </style>\n",
       "      <progress value='2000' class='' max='2000' style='width:300px; height:20px; vertical-align: middle;'></progress>\n",
       "      100.00% [2000/2000 00:01<00:00 Sampling chain 0, 0 divergences]\n",
       "    </div>\n",
       "    "
      ],
      "text/plain": [
       "<IPython.core.display.HTML object>"
      ]
     },
     "metadata": {},
     "output_type": "display_data"
    },
    {
     "name": "stderr",
     "output_type": "stream",
     "text": [
      "Sampling 1 chain for 1_000 tune and 1_000 draw iterations (1_000 + 1_000 draws total) took 2 seconds.\n",
      "Only one chain was sampled, this makes it impossible to run some convergence checks\n",
      "Auto-assigning NUTS sampler...\n",
      "Initializing NUTS using jitter+adapt_diag...\n",
      "Sequential sampling (1 chains in 1 job)\n",
      "NUTS: [mu]\n"
     ]
    },
    {
     "data": {
      "text/html": [
       "\n",
       "    <div>\n",
       "        <style>\n",
       "            /* Turns off some styling */\n",
       "            progress {\n",
       "                /* gets rid of default border in Firefox and Opera. */\n",
       "                border: none;\n",
       "                /* Needs to be in here for Safari polyfill so background images work as expected. */\n",
       "                background-size: auto;\n",
       "            }\n",
       "            .progress-bar-interrupted, .progress-bar-interrupted::-webkit-progress-bar {\n",
       "                background: #F44336;\n",
       "            }\n",
       "        </style>\n",
       "      <progress value='2000' class='' max='2000' style='width:300px; height:20px; vertical-align: middle;'></progress>\n",
       "      100.00% [2000/2000 00:01<00:00 Sampling chain 0, 0 divergences]\n",
       "    </div>\n",
       "    "
      ],
      "text/plain": [
       "<IPython.core.display.HTML object>"
      ]
     },
     "metadata": {},
     "output_type": "display_data"
    },
    {
     "name": "stderr",
     "output_type": "stream",
     "text": [
      "Sampling 1 chain for 1_000 tune and 1_000 draw iterations (1_000 + 1_000 draws total) took 1 seconds.\n",
      "Only one chain was sampled, this makes it impossible to run some convergence checks\n",
      "Auto-assigning NUTS sampler...\n",
      "Initializing NUTS using jitter+adapt_diag...\n",
      "Sequential sampling (1 chains in 1 job)\n",
      "NUTS: [mu]\n"
     ]
    },
    {
     "data": {
      "text/html": [
       "\n",
       "    <div>\n",
       "        <style>\n",
       "            /* Turns off some styling */\n",
       "            progress {\n",
       "                /* gets rid of default border in Firefox and Opera. */\n",
       "                border: none;\n",
       "                /* Needs to be in here for Safari polyfill so background images work as expected. */\n",
       "                background-size: auto;\n",
       "            }\n",
       "            .progress-bar-interrupted, .progress-bar-interrupted::-webkit-progress-bar {\n",
       "                background: #F44336;\n",
       "            }\n",
       "        </style>\n",
       "      <progress value='2000' class='' max='2000' style='width:300px; height:20px; vertical-align: middle;'></progress>\n",
       "      100.00% [2000/2000 00:01<00:00 Sampling chain 0, 0 divergences]\n",
       "    </div>\n",
       "    "
      ],
      "text/plain": [
       "<IPython.core.display.HTML object>"
      ]
     },
     "metadata": {},
     "output_type": "display_data"
    },
    {
     "name": "stderr",
     "output_type": "stream",
     "text": [
      "Sampling 1 chain for 1_000 tune and 1_000 draw iterations (1_000 + 1_000 draws total) took 1 seconds.\n",
      "Only one chain was sampled, this makes it impossible to run some convergence checks\n",
      "Auto-assigning NUTS sampler...\n",
      "Initializing NUTS using jitter+adapt_diag...\n",
      "Sequential sampling (1 chains in 1 job)\n",
      "NUTS: [mu]\n"
     ]
    },
    {
     "data": {
      "text/html": [
       "\n",
       "    <div>\n",
       "        <style>\n",
       "            /* Turns off some styling */\n",
       "            progress {\n",
       "                /* gets rid of default border in Firefox and Opera. */\n",
       "                border: none;\n",
       "                /* Needs to be in here for Safari polyfill so background images work as expected. */\n",
       "                background-size: auto;\n",
       "            }\n",
       "            .progress-bar-interrupted, .progress-bar-interrupted::-webkit-progress-bar {\n",
       "                background: #F44336;\n",
       "            }\n",
       "        </style>\n",
       "      <progress value='2000' class='' max='2000' style='width:300px; height:20px; vertical-align: middle;'></progress>\n",
       "      100.00% [2000/2000 00:01<00:00 Sampling chain 0, 0 divergences]\n",
       "    </div>\n",
       "    "
      ],
      "text/plain": [
       "<IPython.core.display.HTML object>"
      ]
     },
     "metadata": {},
     "output_type": "display_data"
    },
    {
     "name": "stderr",
     "output_type": "stream",
     "text": [
      "Sampling 1 chain for 1_000 tune and 1_000 draw iterations (1_000 + 1_000 draws total) took 2 seconds.\n",
      "Only one chain was sampled, this makes it impossible to run some convergence checks\n",
      "Auto-assigning NUTS sampler...\n",
      "Initializing NUTS using jitter+adapt_diag...\n",
      "Sequential sampling (1 chains in 1 job)\n",
      "NUTS: [mu]\n"
     ]
    },
    {
     "data": {
      "text/html": [
       "\n",
       "    <div>\n",
       "        <style>\n",
       "            /* Turns off some styling */\n",
       "            progress {\n",
       "                /* gets rid of default border in Firefox and Opera. */\n",
       "                border: none;\n",
       "                /* Needs to be in here for Safari polyfill so background images work as expected. */\n",
       "                background-size: auto;\n",
       "            }\n",
       "            .progress-bar-interrupted, .progress-bar-interrupted::-webkit-progress-bar {\n",
       "                background: #F44336;\n",
       "            }\n",
       "        </style>\n",
       "      <progress value='2000' class='' max='2000' style='width:300px; height:20px; vertical-align: middle;'></progress>\n",
       "      100.00% [2000/2000 00:01<00:00 Sampling chain 0, 0 divergences]\n",
       "    </div>\n",
       "    "
      ],
      "text/plain": [
       "<IPython.core.display.HTML object>"
      ]
     },
     "metadata": {},
     "output_type": "display_data"
    },
    {
     "name": "stderr",
     "output_type": "stream",
     "text": [
      "Sampling 1 chain for 1_000 tune and 1_000 draw iterations (1_000 + 1_000 draws total) took 2 seconds.\n",
      "Only one chain was sampled, this makes it impossible to run some convergence checks\n",
      "Auto-assigning NUTS sampler...\n",
      "Initializing NUTS using jitter+adapt_diag...\n",
      "Sequential sampling (1 chains in 1 job)\n",
      "NUTS: [mu]\n"
     ]
    },
    {
     "data": {
      "text/html": [
       "\n",
       "    <div>\n",
       "        <style>\n",
       "            /* Turns off some styling */\n",
       "            progress {\n",
       "                /* gets rid of default border in Firefox and Opera. */\n",
       "                border: none;\n",
       "                /* Needs to be in here for Safari polyfill so background images work as expected. */\n",
       "                background-size: auto;\n",
       "            }\n",
       "            .progress-bar-interrupted, .progress-bar-interrupted::-webkit-progress-bar {\n",
       "                background: #F44336;\n",
       "            }\n",
       "        </style>\n",
       "      <progress value='2000' class='' max='2000' style='width:300px; height:20px; vertical-align: middle;'></progress>\n",
       "      100.00% [2000/2000 00:01<00:00 Sampling chain 0, 0 divergences]\n",
       "    </div>\n",
       "    "
      ],
      "text/plain": [
       "<IPython.core.display.HTML object>"
      ]
     },
     "metadata": {},
     "output_type": "display_data"
    },
    {
     "name": "stderr",
     "output_type": "stream",
     "text": [
      "Sampling 1 chain for 1_000 tune and 1_000 draw iterations (1_000 + 1_000 draws total) took 1 seconds.\n",
      "Only one chain was sampled, this makes it impossible to run some convergence checks\n"
     ]
    }
   ],
   "source": [
    "sigma = 2 # known mu for simplicity\n",
    "sample_sizes = [5, 10, 25, 50, 100, 500, 1000]\n",
    "\n",
    "posterior_samples = {}\n",
    "\n",
    "for n in sample_sizes:\n",
    "    rng = np.random.RandomState(seed=123)\n",
    "    x = rng.normal(loc=1, scale=sigma, size=[n,])\n",
    "    \n",
    "    with pm.Model() as model:\n",
    "        mu = pm.Normal(\"mu\", mu=0, sigma=5)\n",
    "        potential = pm.Potential(\n",
    "            name=\"potential-test\",\n",
    "            var=pm.Normal.logp(x, mu=mu, sigma=sigma)\n",
    "        )\n",
    "\n",
    "        trace = pm.sample(\n",
    "            draws=1000,\n",
    "            chains=1,\n",
    "        )\n",
    "        \n",
    "        posterior_samples[n] = trace.to_dict()[\"posterior\"][\"mu\"][0]\n",
    "        # should tend towards 1 as n increases"
   ]
  },
  {
   "cell_type": "code",
   "execution_count": 4,
   "id": "57a5a119",
   "metadata": {},
   "outputs": [],
   "source": [
    "df = pd.DataFrame(posterior_samples)"
   ]
  },
  {
   "cell_type": "code",
   "execution_count": 5,
   "id": "3ca246c9",
   "metadata": {},
   "outputs": [
    {
     "data": {
      "image/png": "[encoded data removed]",
      "text/plain": [
       "<Figure size 432x288 with 1 Axes>"
      ]
     },
     "metadata": {
      "image/png": {
       "height": 248,
       "width": 370
      },
      "needs_background": "light"
     },
     "output_type": "display_data"
    }
   ],
   "source": [
    "fig, ax = plt.subplots(nrows=1, ncols=1, figsize=(6, 4))\n",
    "sns.boxplot(data=df, palette=\"Set2\")\n",
    "plt.axhline(y=1, linestyle=\"-.\", c=\"k\")\n",
    "plt.show()"
   ]
  },
  {
   "cell_type": "markdown",
   "id": "9dbd6c0f",
   "metadata": {},
   "source": [
    "### Testing `pm.Potential` on Mixture distributions"
   ]
  },
  {
   "cell_type": "code",
   "execution_count": 6,
   "id": "e13cc18f",
   "metadata": {},
   "outputs": [],
   "source": [
    "sunspot_df = pd.read_csv(\n",
    "    pm.get_data(\"sunspot.csv\"), sep=\";\", names=[\"time\", \"sunspot.year\"], usecols=[0, 1]\n",
    ")\n",
    "\n",
    "def mixture_logp(weights, comp_dist, atoms, obs):\n",
    "    # comp_dist is something like lambda obs, atoms: pm.Normal.logp(obs, atoms, 1)\n",
    "\n",
    "    atoms_shape = atoms.shape\n",
    "    obs_shape = obs.shape\n",
    "\n",
    "    try:\n",
    "        atoms_shape = tuple(atoms_shape.eval())\n",
    "    except Exception as e:\n",
    "        atoms_shape = tuple(atoms_shape)\n",
    "\n",
    "    weights = at.broadcast_to(weights, shape=obs_shape + atoms_shape)\n",
    "    log_weights = at.log(weights)\n",
    "    atoms_logp = comp_dist(\n",
    "        at.broadcast_to(obs, atoms_shape + obs_shape),\n",
    "        at.broadcast_to(atoms, obs_shape + atoms_shape).T,\n",
    "    ).T\n",
    "    \n",
    "    return at.squeeze(logsumexp(log_weights + atoms_logp, axis=-1))\n",
    "\n",
    "def stick_breaking(beta):\n",
    "    portion_remaining = at.concatenate([[1], at.cumprod(1 - beta)[:-1]])\n",
    "\n",
    "    return beta * portion_remaining"
   ]
  },
  {
   "cell_type": "markdown",
   "id": "e6428a81",
   "metadata": {},
   "source": [
    "Testing `mixture_logp`"
   ]
  },
  {
   "cell_type": "code",
   "execution_count": 7,
   "id": "03449f62",
   "metadata": {},
   "outputs": [
    {
     "data": {
      "text/plain": [
       "array([-1.41555994, -1.12855441, -1.05153424, -1.16088829, -1.39174782])"
      ]
     },
     "execution_count": 7,
     "metadata": {},
     "output_type": "execute_result"
    }
   ],
   "source": [
    "alpha = [1, 1, 1,]; K = 19\n",
    "\n",
    "weights = np.random.dirichlet(alpha=alpha, size=[]) # placeholder\n",
    "atoms = np.random.normal(size=[len(alpha),])\n",
    "observations = np.array([-1, -0.5, 0, 0.5, 1])\n",
    "\n",
    "mixture_logp(\n",
    "    weights=weights,\n",
    "    comp_dist=lambda obs, atoms: pm.Normal.logp(obs, atoms, 1),\n",
    "    atoms=atoms,\n",
    "    obs=observations,\n",
    ").eval()"
   ]
  },
  {
   "cell_type": "code",
   "execution_count": 9,
   "id": "ab7b70db",
   "metadata": {},
   "outputs": [
    {
     "ename": "SamplingError",
     "evalue": "Initial evaluation of model at starting point failed!\nStarting values:\n{'α_log__': array(0.26395058), 'β_logodds__': array([ 1.54279543,  0.25942381, -0.17025127, -4.05610788, -0.77195843,\n        0.48438479, -0.92830811, -1.380321  ,  0.96324017,  2.39698777,\n       -0.96632582, -2.22756314, -1.85413697,  0.31957625, -1.19821692,\n       -1.0826252 , -0.70411968,  1.52258737, -0.04707122, -3.25430502,\n        0.64765081, -0.69192262, -1.78742892, -1.65459336, -0.70263937,\n        1.61758883,  0.69128504, -4.09150942, -1.66391214,  1.79102554,\n       -1.70493669,  2.61142364, -1.52111097, -2.16167042, -1.00306387,\n       -1.1208109 , -0.35001172, -0.79672696, -0.09825387,  0.45025529,\n       -0.83736466, -0.1834055 , -0.09642759,  1.41410367,  2.94087708,\n       -0.99682079,  1.31341954, -2.00899883,  0.26017393, -0.0223154 ]), 'μ_ordered__': array([68.54103485,  3.36820714,  4.30278641,         nan,         nan,\n        5.49110126,         nan,         nan,  2.38311496,  2.57106418,\n        3.5009611 ,  4.31250094,  3.44120302,         nan,  4.80485627,\n               nan,  4.98984009,         nan,  3.88425027,         nan,\n        4.1021746 ,         nan,         nan,  5.59446137,         nan,\n        3.51115106,         nan,         nan,  4.26924573,         nan,\n        4.59108961,         nan,         nan,  5.23001765,         nan,\n        3.97581287,         nan,  4.8893939 ,  3.62861871,         nan,\n        2.60268957,  3.56089759,         nan,  5.41210446,         nan,\n               nan,         nan,  4.18806824,  4.33533756,         nan])}\n\nInitial evaluation results:\nα    -1.04\nβ   -92.69\nμ      NaN\nName: Log-probability of test_point, dtype: float64",
     "output_type": "error",
     "traceback": [
      "\u001b[0;31m---------------------------------------------------------------------------\u001b[0m",
      "\u001b[0;31mSamplingError\u001b[0m                             Traceback (most recent call last)",
      "\u001b[0;32m<ipython-input-9-f24d9108d1cc>\u001b[0m in \u001b[0;36m<module>\u001b[0;34m\u001b[0m\n\u001b[1;32m     20\u001b[0m     )\n\u001b[1;32m     21\u001b[0m \u001b[0;34m\u001b[0m\u001b[0m\n\u001b[0;32m---> 22\u001b[0;31m     trace = pm.sample(\n\u001b[0m\u001b[1;32m     23\u001b[0m         \u001b[0;36m10000\u001b[0m\u001b[0;34m,\u001b[0m\u001b[0;34m\u001b[0m\u001b[0;34m\u001b[0m\u001b[0m\n\u001b[1;32m     24\u001b[0m         \u001b[0mcores\u001b[0m\u001b[0;34m=\u001b[0m\u001b[0;36m2\u001b[0m\u001b[0;34m,\u001b[0m\u001b[0;34m\u001b[0m\u001b[0;34m\u001b[0m\u001b[0m\n",
      "\u001b[0;32m~/anaconda3/envs/pymc3-dev-py38/lib/python3.8/site-packages/pymc3/sampling.py\u001b[0m in \u001b[0;36msample\u001b[0;34m(draws, step, init, n_init, start, trace, chain_idx, chains, cores, tune, progressbar, model, random_seed, discard_tuned_samples, compute_convergence_checks, callback, jitter_max_retries, return_inferencedata, idata_kwargs, mp_ctx, pickle_backend, **kwargs)\u001b[0m\n\u001b[1;32m    442\u001b[0m     \u001b[0mmodel_initial_point\u001b[0m \u001b[0;34m=\u001b[0m \u001b[0mmodel\u001b[0m\u001b[0;34m.\u001b[0m\u001b[0minitial_point\u001b[0m\u001b[0;34m\u001b[0m\u001b[0;34m\u001b[0m\u001b[0m\n\u001b[1;32m    443\u001b[0m     \u001b[0;32mif\u001b[0m \u001b[0mstart\u001b[0m \u001b[0;32mis\u001b[0m \u001b[0;32mNone\u001b[0m\u001b[0;34m:\u001b[0m\u001b[0;34m\u001b[0m\u001b[0;34m\u001b[0m\u001b[0m\n\u001b[0;32m--> 444\u001b[0;31m         \u001b[0mmodel\u001b[0m\u001b[0;34m.\u001b[0m\u001b[0mcheck_start_vals\u001b[0m\u001b[0;34m(\u001b[0m\u001b[0mmodel_initial_point\u001b[0m\u001b[0;34m)\u001b[0m\u001b[0;34m\u001b[0m\u001b[0;34m\u001b[0m\u001b[0m\n\u001b[0m\u001b[1;32m    445\u001b[0m     \u001b[0;32melse\u001b[0m\u001b[0;34m:\u001b[0m\u001b[0;34m\u001b[0m\u001b[0;34m\u001b[0m\u001b[0m\n\u001b[1;32m    446\u001b[0m         \u001b[0;32mif\u001b[0m \u001b[0misinstance\u001b[0m\u001b[0;34m(\u001b[0m\u001b[0mstart\u001b[0m\u001b[0;34m,\u001b[0m \u001b[0mdict\u001b[0m\u001b[0;34m)\u001b[0m\u001b[0;34m:\u001b[0m\u001b[0;34m\u001b[0m\u001b[0;34m\u001b[0m\u001b[0m\n",
      "\u001b[0;32m~/anaconda3/envs/pymc3-dev-py38/lib/python3.8/site-packages/pymc3/model.py\u001b[0m in \u001b[0;36mcheck_start_vals\u001b[0;34m(self, start)\u001b[0m\n\u001b[1;32m   1587\u001b[0m \u001b[0;34m\u001b[0m\u001b[0m\n\u001b[1;32m   1588\u001b[0m             \u001b[0;32mif\u001b[0m \u001b[0;32mnot\u001b[0m \u001b[0mnp\u001b[0m\u001b[0;34m.\u001b[0m\u001b[0mall\u001b[0m\u001b[0;34m(\u001b[0m\u001b[0mnp\u001b[0m\u001b[0;34m.\u001b[0m\u001b[0misfinite\u001b[0m\u001b[0;34m(\u001b[0m\u001b[0minitial_eval\u001b[0m\u001b[0;34m)\u001b[0m\u001b[0;34m)\u001b[0m\u001b[0;34m:\u001b[0m\u001b[0;34m\u001b[0m\u001b[0;34m\u001b[0m\u001b[0m\n\u001b[0;32m-> 1589\u001b[0;31m                 raise SamplingError(\n\u001b[0m\u001b[1;32m   1590\u001b[0m                     \u001b[0;34m\"Initial evaluation of model at starting point failed!\\n\"\u001b[0m\u001b[0;34m\u001b[0m\u001b[0;34m\u001b[0m\u001b[0m\n\u001b[1;32m   1591\u001b[0m                     \u001b[0;34mf\"Starting values:\\n{elem}\\n\\n\"\u001b[0m\u001b[0;34m\u001b[0m\u001b[0;34m\u001b[0m\u001b[0m\n",
      "\u001b[0;31mSamplingError\u001b[0m: Initial evaluation of model at starting point failed!\nStarting values:\n{'α_log__': array(0.26395058), 'β_logodds__': array([ 1.54279543,  0.25942381, -0.17025127, -4.05610788, -0.77195843,\n        0.48438479, -0.92830811, -1.380321  ,  0.96324017,  2.39698777,\n       -0.96632582, -2.22756314, -1.85413697,  0.31957625, -1.19821692,\n       -1.0826252 , -0.70411968,  1.52258737, -0.04707122, -3.25430502,\n        0.64765081, -0.69192262, -1.78742892, -1.65459336, -0.70263937,\n        1.61758883,  0.69128504, -4.09150942, -1.66391214,  1.79102554,\n       -1.70493669,  2.61142364, -1.52111097, -2.16167042, -1.00306387,\n       -1.1208109 , -0.35001172, -0.79672696, -0.09825387,  0.45025529,\n       -0.83736466, -0.1834055 , -0.09642759,  1.41410367,  2.94087708,\n       -0.99682079,  1.31341954, -2.00899883,  0.26017393, -0.0223154 ]), 'μ_ordered__': array([68.54103485,  3.36820714,  4.30278641,         nan,         nan,\n        5.49110126,         nan,         nan,  2.38311496,  2.57106418,\n        3.5009611 ,  4.31250094,  3.44120302,         nan,  4.80485627,\n               nan,  4.98984009,         nan,  3.88425027,         nan,\n        4.1021746 ,         nan,         nan,  5.59446137,         nan,\n        3.51115106,         nan,         nan,  4.26924573,         nan,\n        4.59108961,         nan,         nan,  5.23001765,         nan,\n        3.97581287,         nan,  4.8893939 ,  3.62861871,         nan,\n        2.60268957,  3.56089759,         nan,  5.41210446,         nan,\n               nan,         nan,  4.18806824,  4.33533756,         nan])}\n\nInitial evaluation results:\nα    -1.04\nβ   -92.69\nμ      NaN\nName: Log-probability of test_point, dtype: float64"
     ]
    }
   ],
   "source": [
    "K = 50\n",
    "rng = np.random.RandomState(seed=123) # doesn't work with seed=123, 12, etc.\n",
    "\n",
    "with pm.Model(rng_seeder=rng) as model:\n",
    "    α = pm.Gamma('α', 1., 1.)\n",
    "    β = pm.Beta('β', 1, α, shape=K)\n",
    "    w = pm.Deterministic('w', stick_breaking(β))\n",
    "    \n",
    "    μ = pm.Uniform(\n",
    "        'μ', \n",
    "        0., \n",
    "        300., \n",
    "        shape=K, \n",
    "        transform=pm.transforms.ordered\n",
    "    )\n",
    "    comp_ix = pm.Categorical(\"comp_ix\", w, shape=(K,))\n",
    "    obs = pm.Poisson(\"obs\", mu)\n",
    "                             \n",
    "#     comp_dist = pm.Poisson.logp # x is data, normally we would use obs=...\n",
    "#     obs = pm.Potential(\n",
    "#         \"obs\",\n",
    "#         mixture_logp(w, comp_dist, μ, sunspot_df[\"sunspot.year\"].values)\n",
    "#     )\n",
    "    \n",
    "    trace = pm.sample(\n",
    "        10000,\n",
    "        cores=2,\n",
    "        chains=1,\n",
    "    ) # sometimes needs to rerun due to bad energy...?"
   ]
  },
  {
   "cell_type": "code",
   "execution_count": null,
   "id": "b484a99a",
   "metadata": {},
   "outputs": [],
   "source": [
    "_ = pm.plot_trace(trace)"
   ]
  },
  {
   "cell_type": "code",
   "execution_count": null,
   "id": "c44b74da",
   "metadata": {},
   "outputs": [],
   "source": [
    "x_plot = np.arange(250)\n",
    "\n",
    "post_pmf_contribs = st.poisson.pmf(np.atleast_3d(x_plot),\n",
    "                                         trace.to_dict()[\"posterior\"][\"μ\"][0][:, np.newaxis, :])\n",
    "post_pmfs = (trace.to_dict()[\"posterior\"]['w'][0][:, np.newaxis, :] * post_pmf_contribs).sum(axis=-1)\n",
    "\n",
    "post_pmf_low, post_pmf_high = np.percentile(post_pmfs, [2.5, 97.5], axis=0)\n",
    "\n",
    "fig, ax = plt.subplots(figsize=(8, 6))\n",
    "\n",
    "ax.hist(sunspot_df['sunspot.year'].values, bins=40, density=True, lw=0, alpha=0.75);\n",
    "\n",
    "ax.fill_between(x_plot, post_pmf_low, post_pmf_high,\n",
    "                 color='gray', alpha=0.45)\n",
    "ax.plot(x_plot, post_pmfs[0],\n",
    "        c='gray', label='Posterior sample densities');\n",
    "ax.plot(x_plot, post_pmfs[::200].T, c='gray');\n",
    "ax.plot(x_plot, post_pmfs.mean(axis=0),\n",
    "        c='k', label='Posterior expected density');\n",
    "\n",
    "ax.legend(loc=1);"
   ]
  },
  {
   "cell_type": "code",
   "execution_count": null,
   "id": "3bccafcf",
   "metadata": {},
   "outputs": [],
   "source": []
  }
 ],
 "metadata": {
  "kernelspec": {
   "display_name": "pymc3-dev-py38",
   "language": "python",
   "name": "pymc3-dev-py38"
  },
  "language_info": {
   "codemirror_mode": {
    "name": "ipython",
    "version": 3
   },
   "file_extension": ".py",
   "mimetype": "text/x-python",
   "name": "python",
   "nbconvert_exporter": "python",
   "pygments_lexer": "ipython3",
   "version": "3.8.10"
  }
 },
 "nbformat": 4,
 "nbformat_minor": 5
}
