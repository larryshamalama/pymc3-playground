{
 "cells": [
  {
   "cell_type": "markdown",
   "id": "b7ab4029",
   "metadata": {},
   "source": [
    "- `TruncatedStickBreakingWeights` or `StickBreakingWeights` as name"
   ]
  },
  {
   "cell_type": "code",
   "execution_count": 9,
   "id": "dce14a97",
   "metadata": {},
   "outputs": [
    {
     "name": "stdout",
     "output_type": "stream",
     "text": [
      "PyMC3 version: 4.0\n",
      "Aesara version: 2.2.1\n"
     ]
    }
   ],
   "source": [
    "import numpy as np\n",
    "\n",
    "import aesara.tensor as at\n",
    "from aesara.tensor.random.op import RandomVariable, default_shape_from_params\n",
    "\n",
    "import pymc3 as pm\n",
    "\n",
    "from pymc3.distributions.continuous import assert_negative_support, UnitContinuous\n",
    "from pymc3.distributions.dist_math import bound, normal_lcdf\n",
    "from pymc3.distributions.distribution import Continuous\n",
    "\n",
    "from pymc3.distributions import transforms\n",
    "\n",
    "from pymc3.aesaraf import floatX\n",
    "\n",
    "# a bunch of imports for testing and printing\n",
    "\n",
    "from aesara.tensor.basic import get_vector_length\n",
    "from aesara.tensor.random.utils import params_broadcast_shapes\n",
    "from aesara.tensor.shape import shape_tuple\n",
    "\n",
    "import aesara\n",
    "\n",
    "print(f\"PyMC3 version: {pm.__version__}\")\n",
    "print(f\"Aesara version: {aesara.__version__}\")"
   ]
  },
  {
   "cell_type": "markdown",
   "id": "f9f86ffb",
   "metadata": {},
   "source": [
    "## `StickBreakingWeightsRV`"
   ]
  },
  {
   "cell_type": "code",
   "execution_count": 10,
   "id": "e4eca9cf",
   "metadata": {},
   "outputs": [],
   "source": [
    "class StickBreakingWeightsRV(RandomVariable):\n",
    "    name = \"stick_breaking_weights\"\n",
    "    ndim_supp = 1\n",
    "    ndims_params = [0, 0]\n",
    "    dtype = \"floatX\"\n",
    "    _print_name = (\"StickBreakingWeights\", \"\\\\operatorname{StickBreakingWeights}\")\n",
    "    \n",
    "    def _shape_from_params(self, dist_params, **kwargs):\n",
    "        # [dist_params[1]] seems to work too... to be revisited with Ricardo soon\n",
    "        return [dist_params[1] + 1]\n",
    "    \n",
    "    def __call__(self, alpha=1., K=10, size=None, **kwargs):\n",
    "        return super().__call__(alpha, K, size=size, **kwargs)\n",
    "\n",
    "    @classmethod\n",
    "    def rng_fn(cls, rng, alpha, K, size):\n",
    "        size = tuple(size or ()) + (K,)\n",
    "        \n",
    "        betas = rng.beta(1, alpha, size=size)\n",
    "        \n",
    "        sticks = np.concatenate(\n",
    "            (\n",
    "                np.ones(shape=(size[:-1] + (1,))),\n",
    "                np.cumprod(1 - betas[..., :-1], axis=-1),\n",
    "            ),\n",
    "            axis=-1,\n",
    "        )\n",
    "        \n",
    "        weights = sticks * betas\n",
    "        weights = np.concatenate(\n",
    "            (\n",
    "                weights,\n",
    "                1 - weights.sum(axis=-1)[..., np.newaxis]\n",
    "            ),\n",
    "            axis=-1,\n",
    "        )\n",
    "\n",
    "        return weights\n",
    "    \n",
    "\n",
    "stickbreakingweights = StickBreakingWeightsRV()"
   ]
  },
  {
   "cell_type": "code",
   "execution_count": 11,
   "id": "7e64a349",
   "metadata": {},
   "outputs": [
    {
     "data": {
      "text/plain": [
       "array([0.01619353, 0.00477256, 0.2507677 , 0.00542211, 0.20274694,\n",
       "       0.52009715])"
      ]
     },
     "execution_count": 11,
     "metadata": {},
     "output_type": "execute_result"
    }
   ],
   "source": [
    "rng = np.random.RandomState(seed=34)\n",
    "stickbreakingweights.rng_fn(rng, alpha=3., K=5, size=None)"
   ]
  },
  {
   "cell_type": "code",
   "execution_count": 28,
   "id": "f2acb7ba",
   "metadata": {},
   "outputs": [
    {
     "data": {
      "text/plain": [
       "array([0.50850852, 0.25177869, 0.11937933, 0.05986549, 0.02913299,\n",
       "       0.016599  , 0.00723665, 0.00386232, 0.00180895, 0.00096784,\n",
       "       0.00086021])"
      ]
     },
     "execution_count": 28,
     "metadata": {},
     "output_type": "execute_result"
    }
   ],
   "source": [
    "# alpha is an int\n",
    "stickbreakingweights(size=[1000,]).eval().mean(axis=0)"
   ]
  },
  {
   "cell_type": "code",
   "execution_count": 13,
   "id": "f3261593",
   "metadata": {},
   "outputs": [
    {
     "data": {
      "text/plain": [
       "array([0.07436803, 0.7066776 , 0.1130719 , 0.05965465, 0.00364148,\n",
       "       0.04258634])"
      ]
     },
     "execution_count": 13,
     "metadata": {},
     "output_type": "execute_result"
    }
   ],
   "source": [
    "# alpha is a float\n",
    "stickbreakingweights(2., 5).eval()"
   ]
  },
  {
   "cell_type": "markdown",
   "id": "5d61f489",
   "metadata": {},
   "source": [
    "`stickbreakingweights` works, but is not flexible at all towards different shapes"
   ]
  },
  {
   "cell_type": "code",
   "execution_count": 31,
   "id": "6d44685b",
   "metadata": {},
   "outputs": [],
   "source": [
    "class StickBreakingWeights(UnitContinuous):\n",
    "    rv_op = stickbreakingweights\n",
    "\n",
    "    @classmethod\n",
    "    def dist(cls, alpha, K, *args, **kwargs):\n",
    "        alpha = at.as_tensor_variable(floatX(alpha))\n",
    "        K = at.as_tensor_variable(K)\n",
    "\n",
    "        assert_negative_support(alpha, \"alpha\", \"StickBreakingWeights\")\n",
    "        assert_negative_support(K, \"K\", \"StickBreakingWeights\")\n",
    "\n",
    "        return super().dist([alpha, K], **kwargs)\n",
    "\n",
    "    def logp(value, alpha, K):\n",
    "        \"\"\"        \n",
    "        K not involved in computation of log-likelihood\n",
    "        \"\"\"\n",
    "        ones = at.ones(\n",
    "            shape=at.concatenate([value.shape[:-1], [1,]])\n",
    "        )\n",
    "        \n",
    "        denominator = at.cumsum(\n",
    "            at.concatenate(\n",
    "                [\n",
    "                    ones,\n",
    "                    -value,\n",
    "                ],\n",
    "                axis=-1,\n",
    "            ),\n",
    "            axis=-1,\n",
    "        )\n",
    "        \n",
    "        recovered_betas = value/(denominator[..., :-1])\n",
    "        \n",
    "        return bound(\n",
    "            at.sum(pm.Beta.logp(recovered_betas, 1, alpha)),\n",
    "            alpha > 0,\n",
    "        )"
   ]
  },
  {
   "cell_type": "code",
   "execution_count": 45,
   "id": "f48aaae6",
   "metadata": {},
   "outputs": [
    {
     "data": {
      "text/plain": [
       "array([0.71215566, 0.52551224, 1.07031334, 0.89084316, 0.57506967,\n",
       "       0.90659357, 1.08438032, 0.95287008, 1.03640663, 1.07660894,\n",
       "       1.08384835, 1.0896562 , 1.09586601, 1.09665641, 1.09794618,\n",
       "       1.09437604, 1.09473795, 1.09700879, 1.09786841, 1.09807821,\n",
       "       1.09534444])"
      ]
     },
     "execution_count": 45,
     "metadata": {},
     "output_type": "execute_result"
    }
   ],
   "source": [
    "a = np.exp(model.test_point[\"sbw_logodds__\"])\n",
    "\n",
    "pm.Beta.logp(a/(1 + a), 1, 3).eval()"
   ]
  },
  {
   "cell_type": "code",
   "execution_count": 33,
   "id": "4b5d7ad1",
   "metadata": {},
   "outputs": [
    {
     "name": "stdout",
     "output_type": "stream",
     "text": [
      "[0.14445765 0.04812014 0.25554401 0.06841977 0.04819675 0.00746598\n",
      " 0.00885084 0.03550965 0.12636324 0.08568541 0.00104528 0.0373895\n",
      " 0.01804259 0.00453264 0.06960788 0.00794837 0.00092497 0.00795368\n",
      " 0.00645531 0.0026909  0.01479547]\n"
     ]
    },
    {
     "ename": "SamplingError",
     "evalue": "Initial evaluation of model at starting point failed!\nStarting values:\n{'sbw_logodds__': array([-1.54571337, -1.10314815, -4.25099402, -2.21208292, -1.20654477,\n       -2.29492077, -4.94185021, -2.58240618, -3.45486446, -4.50420087,\n       -4.90502039, -5.40632714, -6.58996306, -6.92956161, -8.00701404,\n       -6.15615967, -6.24555367, -7.12830186, -7.89656817, -8.22793875,\n       -6.41594652])}\n\nInitial evaluation results:\nsbw   -inf\nName: Log-probability of test_point, dtype: float64",
     "output_type": "error",
     "traceback": [
      "\u001b[0;31m---------------------------------------------------------------------------\u001b[0m",
      "\u001b[0;31mSamplingError\u001b[0m                             Traceback (most recent call last)",
      "\u001b[0;32m<ipython-input-33-e2a1138ca11c>\u001b[0m in \u001b[0;36m<module>\u001b[0;34m\u001b[0m\n\u001b[1;32m      1\u001b[0m \u001b[0;32mwith\u001b[0m \u001b[0mpm\u001b[0m\u001b[0;34m.\u001b[0m\u001b[0mModel\u001b[0m\u001b[0;34m(\u001b[0m\u001b[0;34m)\u001b[0m \u001b[0;32mas\u001b[0m \u001b[0mmodel\u001b[0m\u001b[0;34m:\u001b[0m\u001b[0;34m\u001b[0m\u001b[0;34m\u001b[0m\u001b[0m\n\u001b[1;32m      2\u001b[0m     \u001b[0msbw\u001b[0m \u001b[0;34m=\u001b[0m \u001b[0mStickBreakingWeights\u001b[0m\u001b[0;34m(\u001b[0m\u001b[0mname\u001b[0m\u001b[0;34m=\u001b[0m\u001b[0;34m\"sbw\"\u001b[0m\u001b[0;34m,\u001b[0m \u001b[0malpha\u001b[0m\u001b[0;34m=\u001b[0m\u001b[0;36m3.\u001b[0m\u001b[0;34m,\u001b[0m \u001b[0mK\u001b[0m\u001b[0;34m=\u001b[0m\u001b[0;36m20\u001b[0m\u001b[0;34m)\u001b[0m\u001b[0;34m\u001b[0m\u001b[0;34m\u001b[0m\u001b[0m\n\u001b[0;32m----> 3\u001b[0;31m     \u001b[0mtrace\u001b[0m \u001b[0;34m=\u001b[0m \u001b[0mpm\u001b[0m\u001b[0;34m.\u001b[0m\u001b[0msample\u001b[0m\u001b[0;34m(\u001b[0m\u001b[0mchains\u001b[0m\u001b[0;34m=\u001b[0m\u001b[0;36m1\u001b[0m\u001b[0;34m)\u001b[0m\u001b[0;34m\u001b[0m\u001b[0;34m\u001b[0m\u001b[0m\n\u001b[0m\u001b[1;32m      4\u001b[0m \u001b[0;31m#     prior = pm.sample_prior_predictive(samples=1000,)\u001b[0m\u001b[0;34m\u001b[0m\u001b[0;34m\u001b[0m\u001b[0;34m\u001b[0m\u001b[0m\n",
      "\u001b[0;32m~/anaconda3/envs/pymc3-dev-py38/lib/python3.8/site-packages/pymc3/sampling.py\u001b[0m in \u001b[0;36msample\u001b[0;34m(draws, step, init, n_init, start, trace, chain_idx, chains, cores, tune, progressbar, model, random_seed, discard_tuned_samples, compute_convergence_checks, callback, jitter_max_retries, return_inferencedata, idata_kwargs, mp_ctx, pickle_backend, **kwargs)\u001b[0m\n\u001b[1;32m    442\u001b[0m     \u001b[0mmodel_initial_point\u001b[0m \u001b[0;34m=\u001b[0m \u001b[0mmodel\u001b[0m\u001b[0;34m.\u001b[0m\u001b[0minitial_point\u001b[0m\u001b[0;34m\u001b[0m\u001b[0;34m\u001b[0m\u001b[0m\n\u001b[1;32m    443\u001b[0m     \u001b[0;32mif\u001b[0m \u001b[0mstart\u001b[0m \u001b[0;32mis\u001b[0m \u001b[0;32mNone\u001b[0m\u001b[0;34m:\u001b[0m\u001b[0;34m\u001b[0m\u001b[0;34m\u001b[0m\u001b[0m\n\u001b[0;32m--> 444\u001b[0;31m         \u001b[0mmodel\u001b[0m\u001b[0;34m.\u001b[0m\u001b[0mcheck_start_vals\u001b[0m\u001b[0;34m(\u001b[0m\u001b[0mmodel_initial_point\u001b[0m\u001b[0;34m)\u001b[0m\u001b[0;34m\u001b[0m\u001b[0;34m\u001b[0m\u001b[0m\n\u001b[0m\u001b[1;32m    445\u001b[0m     \u001b[0;32melse\u001b[0m\u001b[0;34m:\u001b[0m\u001b[0;34m\u001b[0m\u001b[0;34m\u001b[0m\u001b[0m\n\u001b[1;32m    446\u001b[0m         \u001b[0;32mif\u001b[0m \u001b[0misinstance\u001b[0m\u001b[0;34m(\u001b[0m\u001b[0mstart\u001b[0m\u001b[0;34m,\u001b[0m \u001b[0mdict\u001b[0m\u001b[0;34m)\u001b[0m\u001b[0;34m:\u001b[0m\u001b[0;34m\u001b[0m\u001b[0;34m\u001b[0m\u001b[0m\n",
      "\u001b[0;32m~/anaconda3/envs/pymc3-dev-py38/lib/python3.8/site-packages/pymc3/model.py\u001b[0m in \u001b[0;36mcheck_start_vals\u001b[0;34m(self, start)\u001b[0m\n\u001b[1;32m   1587\u001b[0m \u001b[0;34m\u001b[0m\u001b[0m\n\u001b[1;32m   1588\u001b[0m             \u001b[0;32mif\u001b[0m \u001b[0;32mnot\u001b[0m \u001b[0mnp\u001b[0m\u001b[0;34m.\u001b[0m\u001b[0mall\u001b[0m\u001b[0;34m(\u001b[0m\u001b[0mnp\u001b[0m\u001b[0;34m.\u001b[0m\u001b[0misfinite\u001b[0m\u001b[0;34m(\u001b[0m\u001b[0minitial_eval\u001b[0m\u001b[0;34m)\u001b[0m\u001b[0;34m)\u001b[0m\u001b[0;34m:\u001b[0m\u001b[0;34m\u001b[0m\u001b[0;34m\u001b[0m\u001b[0m\n\u001b[0;32m-> 1589\u001b[0;31m                 raise SamplingError(\n\u001b[0m\u001b[1;32m   1590\u001b[0m                     \u001b[0;34m\"Initial evaluation of model at starting point failed!\\n\"\u001b[0m\u001b[0;34m\u001b[0m\u001b[0;34m\u001b[0m\u001b[0m\n\u001b[1;32m   1591\u001b[0m                     \u001b[0;34mf\"Starting values:\\n{elem}\\n\\n\"\u001b[0m\u001b[0;34m\u001b[0m\u001b[0;34m\u001b[0m\u001b[0m\n",
      "\u001b[0;31mSamplingError\u001b[0m: Initial evaluation of model at starting point failed!\nStarting values:\n{'sbw_logodds__': array([-1.54571337, -1.10314815, -4.25099402, -2.21208292, -1.20654477,\n       -2.29492077, -4.94185021, -2.58240618, -3.45486446, -4.50420087,\n       -4.90502039, -5.40632714, -6.58996306, -6.92956161, -8.00701404,\n       -6.15615967, -6.24555367, -7.12830186, -7.89656817, -8.22793875,\n       -6.41594652])}\n\nInitial evaluation results:\nsbw   -inf\nName: Log-probability of test_point, dtype: float64"
     ]
    }
   ],
   "source": [
    "with pm.Model() as model:\n",
    "    sbw = StickBreakingWeights(name=\"sbw\", alpha=3., K=20)\n",
    "    trace = pm.sample(chains=1)\n",
    "#     prior = pm.sample_prior_predictive(samples=1000,)"
   ]
  },
  {
   "cell_type": "code",
   "execution_count": 18,
   "id": "425c0e3a",
   "metadata": {},
   "outputs": [],
   "source": [
    "def stick_glueing(weights):\n",
    "    shape = tuple(weights.shape or ())\n",
    "    \n",
    "    denominator = np.cumsum(\n",
    "        np.concatenate(\n",
    "            [\n",
    "                np.ones(shape=shape[:-1] + (1,)),\n",
    "                - weights,\n",
    "            ],\n",
    "            axis=-1,\n",
    "        ),\n",
    "        axis=-1,\n",
    "    )\n",
    "    \n",
    "    output = (weights/(denominator[..., :-1]))\n",
    "    \n",
    "    return output[..., :-1]"
   ]
  },
  {
   "cell_type": "code",
   "execution_count": 25,
   "id": "66aa6ac7",
   "metadata": {},
   "outputs": [
    {
     "data": {
      "text/plain": [
       "array([0.01501586, 0.01560199, 0.0151462 , 0.01641252, 0.01528429,\n",
       "       0.01589282, 0.01537624, 0.01608853, 0.01560842, 0.01576931,\n",
       "       0.01612808, 0.01559368, 0.01583146, 0.01516723, 0.01584735,\n",
       "       0.01481523, 0.01588369, 0.0150291 , 0.01570933, 0.01533384,\n",
       "       0.01594096])"
      ]
     },
     "execution_count": 25,
     "metadata": {},
     "output_type": "execute_result"
    }
   ],
   "source": [
    "trace.to_dict()[\"posterior\"][\"sbw\"][0].mean(axis=0)"
   ]
  },
  {
   "cell_type": "code",
   "execution_count": 22,
   "id": "818835e6",
   "metadata": {},
   "outputs": [
    {
     "name": "stderr",
     "output_type": "stream",
     "text": [
      "/Users/larryshamalama/anaconda3/envs/pymc3-dev-py38/lib/python3.8/site-packages/arviz/data/inference_data.py:436: UserWarning: The attributes are not same for all groups. Considering only the first group `attrs`\n",
      "  warnings.warn(\n"
     ]
    },
    {
     "data": {
      "image/png": "[encoded data removed]",
      "text/plain": [
       "<Figure size 432x288 with 1 Axes>"
      ]
     },
     "metadata": {
      "needs_background": "light"
     },
     "output_type": "display_data"
    }
   ],
   "source": [
    "import matplotlib.pyplot as plt\n",
    "import scipy.stats as st\n",
    "\n",
    "%matplotlib inline\n",
    "\n",
    "beta_draws = stick_glueing(trace.to_dict()[\"posterior\"][\"sbw\"][0]).reshape(-1,)\n",
    "\n",
    "x_plot = np.linspace(start=0.001, stop=0.999, num=10001)\n",
    "\n",
    "_ = plt.hist(beta_draws, bins=100, density=True)\n",
    "_ = plt.plot(\n",
    "    x_plot,\n",
    "    st.beta.pdf(x_plot, a=1., b=3.)\n",
    ")"
   ]
  },
  {
   "cell_type": "code",
   "execution_count": 20,
   "id": "cfe71bdf",
   "metadata": {},
   "outputs": [
    {
     "data": {
      "text/plain": [
       "[<matplotlib.lines.Line2D at 0x7f996b858730>]"
      ]
     },
     "execution_count": 20,
     "metadata": {},
     "output_type": "execute_result"
    },
    {
     "data": {
      "image/png": "[encoded data removed]",
      "text/plain": [
       "<Figure size 432x288 with 1 Axes>"
      ]
     },
     "metadata": {
      "needs_background": "light"
     },
     "output_type": "display_data"
    }
   ],
   "source": [
    "plt.plot(x_plot, st.beta.pdf(x_plot, a=1., b=2.))"
   ]
  },
  {
   "cell_type": "code",
   "execution_count": 21,
   "id": "16535daf",
   "metadata": {},
   "outputs": [
    {
     "data": {
      "text/plain": [
       "array([0.001    , 0.0010998, 0.0011996, ..., 0.9988004, 0.9989002,\n",
       "       0.999    ])"
      ]
     },
     "execution_count": 21,
     "metadata": {},
     "output_type": "execute_result"
    }
   ],
   "source": [
    "x_plot"
   ]
  },
  {
   "cell_type": "code",
   "execution_count": null,
   "id": "4ac80f44",
   "metadata": {},
   "outputs": [],
   "source": []
  }
 ],
 "metadata": {
  "kernelspec": {
   "display_name": "pymc3-dev-py38",
   "language": "python",
   "name": "pymc3-dev-py38"
  },
  "language_info": {
   "codemirror_mode": {
    "name": "ipython",
    "version": 3
   },
   "file_extension": ".py",
   "mimetype": "text/x-python",
   "name": "python",
   "nbconvert_exporter": "python",
   "pygments_lexer": "ipython3",
   "version": "3.8.10"
  }
 },
 "nbformat": 4,
 "nbformat_minor": 5
}
