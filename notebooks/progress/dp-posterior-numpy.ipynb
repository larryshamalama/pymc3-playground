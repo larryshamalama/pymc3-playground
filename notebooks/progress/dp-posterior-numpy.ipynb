{
 "cells": [
  {
   "cell_type": "code",
   "execution_count": 1,
   "id": "726929f2",
   "metadata": {},
   "outputs": [
    {
     "name": "stderr",
     "output_type": "stream",
     "text": [
      "You are running the v4 development version of PyMC3 which currently still lacks key features. You probably want to use the stable v3 instead which you can either install via conda or find on the v3 GitHub branch: https://github.com/pymc-devs/pymc3/tree/v3\n"
     ]
    }
   ],
   "source": [
    "import numpy as np\n",
    "import matplotlib.pyplot as plt\n",
    "import scipy.stats as st\n",
    "\n",
    "import pymc3 as pm\n",
    "\n",
    "%config InlineBackend.figure_format = \"retina\"\n",
    "%matplotlib inline"
   ]
  },
  {
   "cell_type": "code",
   "execution_count": 2,
   "id": "ba3e265d",
   "metadata": {},
   "outputs": [],
   "source": [
    "N = 40 # number of samples from Dirichlet Process\n",
    "K = 50 # number of mini-sticks, higher number needed for larger alpha\n",
    "\n",
    "P0 = np.random.normal\n",
    "x_plot = np.linspace(-3.2, 3.2, num=1001)\n",
    "\n",
    "def cdf(alpha):\n",
    "    betas = np.random.beta(1, alpha, size=[N, K])\n",
    "    betas[:, 1:] = betas[:, 1:] * (1 - betas[:, :-1]).cumprod(axis=1)\n",
    "\n",
    "    w = betas.copy() # weights\n",
    "    m = P0(size=[N, K])\n",
    "\n",
    "    dirac = np.less.outer(m, x_plot).astype(int)\n",
    "    return (w[..., np.newaxis]*dirac).sum(axis=1)"
   ]
  },
  {
   "cell_type": "code",
   "execution_count": null,
   "id": "a29aed01",
   "metadata": {},
   "outputs": [],
   "source": []
  }
 ],
 "metadata": {
  "kernelspec": {
   "display_name": "pymc3-dev-py38",
   "language": "python",
   "name": "pymc3-dev-py38"
  },
  "language_info": {
   "codemirror_mode": {
    "name": "ipython",
    "version": 3
   },
   "file_extension": ".py",
   "mimetype": "text/x-python",
   "name": "python",
   "nbconvert_exporter": "python",
   "pygments_lexer": "ipython3",
   "version": "3.8.10"
  }
 },
 "nbformat": 4,
 "nbformat_minor": 5
}
