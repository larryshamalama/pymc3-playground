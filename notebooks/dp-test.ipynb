{
 "cells": [
  {
   "cell_type": "code",
   "execution_count": 1,
   "id": "fe2cf2ea",
   "metadata": {},
   "outputs": [
    {
     "ename": "ModuleNotFoundError",
     "evalue": "No module named 'pymc3'",
     "output_type": "error",
     "traceback": [
      "\u001b[0;31m---------------------------------------------------------------------------\u001b[0m",
      "\u001b[0;31mModuleNotFoundError\u001b[0m                       Traceback (most recent call last)",
      "\u001b[0;32m<ipython-input-1-39291b3ab2d9>\u001b[0m in \u001b[0;36m<module>\u001b[0;34m\u001b[0m\n\u001b[1;32m      1\u001b[0m \u001b[0;32mimport\u001b[0m \u001b[0mnumpy\u001b[0m \u001b[0;32mas\u001b[0m \u001b[0mnp\u001b[0m\u001b[0;34m\u001b[0m\u001b[0;34m\u001b[0m\u001b[0m\n\u001b[1;32m      2\u001b[0m \u001b[0;32mimport\u001b[0m \u001b[0mpandas\u001b[0m \u001b[0;32mas\u001b[0m \u001b[0mpd\u001b[0m\u001b[0;34m\u001b[0m\u001b[0;34m\u001b[0m\u001b[0m\n\u001b[0;32m----> 3\u001b[0;31m \u001b[0;32mimport\u001b[0m \u001b[0mpymc3\u001b[0m \u001b[0;32mas\u001b[0m \u001b[0mpm\u001b[0m\u001b[0;34m\u001b[0m\u001b[0;34m\u001b[0m\u001b[0m\n\u001b[0m\u001b[1;32m      4\u001b[0m \u001b[0;32mimport\u001b[0m \u001b[0marviz\u001b[0m \u001b[0;32mas\u001b[0m \u001b[0maz\u001b[0m\u001b[0;34m\u001b[0m\u001b[0;34m\u001b[0m\u001b[0m\n\u001b[1;32m      5\u001b[0m \u001b[0;34m\u001b[0m\u001b[0m\n",
      "\u001b[0;31mModuleNotFoundError\u001b[0m: No module named 'pymc3'"
     ]
    }
   ],
   "source": [
    "import numpy as np\n",
    "import pandas as pd\n",
    "import pymc3 as pm\n",
    "import arviz as az\n",
    "\n",
    "from aesara import tensor as at\n",
    "from matplotlib import pyplot as plt"
   ]
  },
  {
   "cell_type": "code",
   "execution_count": null,
   "id": "ac1c6643",
   "metadata": {},
   "outputs": [],
   "source": [
    "old_faithful_df = pd.read_csv(pm.get_data(\"old_faithful.csv\"))\n",
    "waiting_times = old_faithful_df[\"waiting\"]\n",
    "waiting_times = ((waiting_times - waiting_times.mean())/waiting_times.std()).values"
   ]
  },
  {
   "cell_type": "code",
   "execution_count": null,
   "id": "19448be5",
   "metadata": {},
   "outputs": [],
   "source": [
    "K = 20"
   ]
  },
  {
   "cell_type": "code",
   "execution_count": null,
   "id": "19435586",
   "metadata": {},
   "outputs": [],
   "source": [
    "def stick_breaking(betas):\n",
    "    '''\n",
    "    betas is a K-vector of iid draws from a Beta distribution\n",
    "    '''\n",
    "    sticks = at.concatenate(\n",
    "        [\n",
    "            [1],\n",
    "            (1 - betas[:-1])\n",
    "        ]\n",
    "    )\n",
    "    \n",
    "    return at.mul(betas, at.cumprod(sticks))"
   ]
  },
  {
   "cell_type": "code",
   "execution_count": null,
   "id": "6db70dc1",
   "metadata": {},
   "outputs": [],
   "source": [
    "with pm.Model() as model:\n",
    "    alpha = pm.Gamma(name=\"alpha\", alpha=1, beta=1)\n",
    "    v = pm.Beta(name=\"v\", alpha=1, beta=alpha, shape=(K,)) # beta=alpha kinda confusing here\n",
    "    \n",
    "    w = pm.Deterministic(name=\"w\", var=stick_breaking(v))\n",
    "    mu = pm.Normal(name=\"mu\", mu=0, sigma=5)\n",
    "    sigma = pm.InverseGamma(name=\"sigma\", alpha=1, beta=1, shape=(K,))\n",
    "    obs = pm.NormalMixture(name=\"theta\", w=w, mu=mu, tau=1/sigma, observed=waiting_times)"
   ]
  },
  {
   "cell_type": "code",
   "execution_count": null,
   "id": "febee124",
   "metadata": {},
   "outputs": [],
   "source": [
    "SAMPLES = 20000\n",
    "BURN = 10000\n",
    "\n",
    "with model:\n",
    "    step = pm.Metropolis(target_accept=0.9)\n",
    "    trace = pm.sample(\n",
    "        SAMPLES, \n",
    "        step=step, \n",
    "        tune=BURN, \n",
    "        chains=4, \n",
    "        random_seed=123, \n",
    "        return_inferencedata=True, \n",
    "        init=\"advi\",\n",
    "    )"
   ]
  },
  {
   "cell_type": "code",
   "execution_count": null,
   "id": "a2bc57ff",
   "metadata": {},
   "outputs": [],
   "source": [
    "az.plot_trace(trace)"
   ]
  },
  {
   "cell_type": "code",
   "execution_count": null,
   "id": "dc765e0f",
   "metadata": {},
   "outputs": [],
   "source": []
  }
 ],
 "metadata": {
  "kernelspec": {
   "display_name": "pymc3-dev-py39",
   "language": "python",
   "name": "pymc3-dev-py39"
  },
  "language_info": {
   "codemirror_mode": {
    "name": "ipython",
    "version": 3
   },
   "file_extension": ".py",
   "mimetype": "text/x-python",
   "name": "python",
   "nbconvert_exporter": "python",
   "pygments_lexer": "ipython3",
   "version": "3.9.4"
  }
 },
 "nbformat": 4,
 "nbformat_minor": 5
}
