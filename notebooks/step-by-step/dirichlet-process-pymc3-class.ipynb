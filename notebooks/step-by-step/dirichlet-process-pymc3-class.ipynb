{
 "cells": [
  {
   "cell_type": "code",
   "execution_count": 14,
   "id": "f900d8f4",
   "metadata": {},
   "outputs": [],
   "source": [
    "import numpy as np\n",
    "import pymc3 as pm\n",
    "\n",
    "import aesara.tensor as at\n",
    "from aesara.tensor.random.op import RandomVariable\n",
    "\n",
    "from scipy import stats as st\n",
    "\n",
    "import aesara\n",
    "\n",
    "import arviz as az\n",
    "\n",
    "%config InlineBackend.figure_format = \"retina\"\n",
    "%matplotlib inline"
   ]
  },
  {
   "cell_type": "code",
   "execution_count": 2,
   "id": "c52418a4",
   "metadata": {},
   "outputs": [],
   "source": [
    "K = 50; N = 50\n",
    "M = 2; mu = 2.\n",
    "rng = np.random.RandomState(seed=34)\n",
    "y = rng.normal(loc=mu, scale=2., size=[N,])"
   ]
  },
  {
   "cell_type": "code",
   "execution_count": 3,
   "id": "77325ee7",
   "metadata": {},
   "outputs": [],
   "source": [
    "def stick_breaking(betas):\n",
    "    \"\"\"\n",
    "    betas ~ Beta(1, alpha)\n",
    "    \"\"\"\n",
    "    sticks = at.concatenate(\n",
    "        [[1]],\n",
    "        at.cumprod(1 - betas[:-1])\n",
    "    )\n",
    "    \n",
    "    product = at.mul(betas, sticks)\n",
    "    \n",
    "    return at.concatenate(\n",
    "        [\n",
    "            product,\n",
    "            [1 - at.sum(product)],\n",
    "        ]\n",
    "    )"
   ]
  },
  {
   "cell_type": "code",
   "execution_count": 61,
   "id": "5e77e97e",
   "metadata": {},
   "outputs": [],
   "source": [
    "with pm.Model() as model:\n",
    "    \n",
    "    concentration = pm.InverseGamma(\"concentration\", alpha=0.1, beta=0.1)\n",
    "    \n",
    "    betas = pm.Beta(\"betas\", 1., concentration, shape=(K,))\n",
    "    weights = pm.Deterministic(\"weights\", stick_breaking(betas))\n",
    "    \n",
    "    G0 = pm.Normal(name=\"G0\", mu=0., sigma=3., shape=(K+1,))\n",
    "    idx = pm.Bernoulli(name=\"post-mixture-idx\", p=at.mul(concentration, at.inv(concentration + len(y))))\n",
    "    \n",
    "\n",
    "#     y_atoms = pm.Deterministic(\n",
    "#         name=\"post-atoms\", \n",
    "#         var=at.as_tensor_variable(y)[cat_idx],\n",
    "#     )\n",
    "    \n",
    "#     Gn = pm.Deterministic(\n",
    "#         name=\"Gn\",\n",
    "#         var=G0[idx],\n",
    "#     )\n",
    "    \n",
    "    prior = pm.sample_prior_predictive(samples=1000,)"
   ]
  },
  {
   "cell_type": "code",
   "execution_count": 66,
   "id": "99ed9ad3",
   "metadata": {},
   "outputs": [
    {
     "data": {
      "text/plain": [
       "0.1774097049859114"
      ]
     },
     "execution_count": 66,
     "metadata": {},
     "output_type": "execute_result"
    }
   ],
   "source": [
    "prior[\"betas\"].mean()"
   ]
  },
  {
   "cell_type": "code",
   "execution_count": null,
   "id": "0e89f2ce",
   "metadata": {},
   "outputs": [],
   "source": [
    "with pm.Model():\n",
    "    norm_obj = pm.Normal(\"norm\", mu=0., sigma=1.)\n",
    "    norm = pm.Normal"
   ]
  },
  {
   "cell_type": "code",
   "execution_count": null,
   "id": "ed22d3ce",
   "metadata": {},
   "outputs": [],
   "source": [
    "norm.rv_op.rng_fn(rng, size=[4, 2, 3])"
   ]
  },
  {
   "cell_type": "code",
   "execution_count": null,
   "id": "d631ba7f",
   "metadata": {},
   "outputs": [],
   "source": [
    "with pm.Model() as model:\n",
    "    idx = pm.Categorical(name=\"cat\", p=np.array([0.1, 0.2, 0.3, 0.4]))\n",
    "    \n",
    "    y_tensor = at.as_tensor_variable(y)\n",
    "    y_atoms = pm.Deterministic(name=\"y_atoms\", var=y_tensor[idx])\n",
    "    \n",
    "    prior = pm.sample_prior_predictive(samples=1000)"
   ]
  },
  {
   "cell_type": "code",
   "execution_count": null,
   "id": "645a5cb0",
   "metadata": {},
   "outputs": [],
   "source": [
    "np.unique(prior[\"y_atoms\"])"
   ]
  },
  {
   "cell_type": "code",
   "execution_count": null,
   "id": "fac77e20",
   "metadata": {},
   "outputs": [],
   "source": [
    "class DirichletProcess:\n",
    "    \n",
    "    def __init__(self, M, rng, K):\n",
    "        self.M = M\n",
    "        self.K = K\n",
    "        \n",
    "        self.samples = create_dp_samples(M, rng, K)\n",
    "        self.rng = rng\n",
    "    \n",
    "    def run(self):\n",
    "        \n",
    "        atoms, counts = np.unique(self.samples, return_counts=True)\n",
    "        \n",
    "        # stick-glueing assumes decreasing weights\n",
    "        index = np.argsort(counts)\n",
    "        counts = counts[index][::-1]\n",
    "        atoms = atoms[index][::-1]\n",
    "        \n",
    "        weights = np.array(counts)/counts.sum() # empirical weights\n",
    "        \n",
    "        recovered_betas = stick_glueing(weights)\n",
    "        \n",
    "        with pm.Model(rng_seeder=rng) as model:\n",
    "            α = pm.Uniform(\"α\", 0., 10.)\n",
    "            \n",
    "            # K - 1 because the Kth weight is 1 - weights.sum()\n",
    "            β = pm.Beta(\"β\", 1., α, observed=recovered_betas)\n",
    "            µ = pm.Normal(\"µ\", mu=0., sigma=5.)\n",
    "            \n",
    "            G0 = pm.Normal(\"G0\", mu=µ, sigma=3., observed=atoms)\n",
    "            \n",
    "            self.posterior = pm.sample(draws=2000, chains=1)"
   ]
  },
  {
   "cell_type": "code",
   "execution_count": null,
   "id": "50825527",
   "metadata": {},
   "outputs": [],
   "source": [
    "dp = DirichletProcess(M, rng, K)\n",
    "dp.run()"
   ]
  },
  {
   "cell_type": "code",
   "execution_count": null,
   "id": "bb8b2e43",
   "metadata": {},
   "outputs": [],
   "source": [
    "_ = pm.plot_trace(dp.posterior)"
   ]
  },
  {
   "cell_type": "code",
   "execution_count": null,
   "id": "e2dec1ee",
   "metadata": {},
   "outputs": [],
   "source": [
    "dp.posterior.to_dict()[\"posterior\"][\"α\"].mean()"
   ]
  },
  {
   "cell_type": "code",
   "execution_count": null,
   "id": "d19225da",
   "metadata": {},
   "outputs": [],
   "source": [
    "dp.samples"
   ]
  },
  {
   "cell_type": "code",
   "execution_count": null,
   "id": "97ea98b6",
   "metadata": {},
   "outputs": [],
   "source": []
  }
 ],
 "metadata": {
  "kernelspec": {
   "display_name": "pymc3-dev-py38",
   "language": "python",
   "name": "pymc3-dev-py38"
  },
  "language_info": {
   "codemirror_mode": {
    "name": "ipython",
    "version": 3
   },
   "file_extension": ".py",
   "mimetype": "text/x-python",
   "name": "python",
   "nbconvert_exporter": "python",
   "pygments_lexer": "ipython3",
   "version": "3.8.10"
  }
 },
 "nbformat": 4,
 "nbformat_minor": 5
}
