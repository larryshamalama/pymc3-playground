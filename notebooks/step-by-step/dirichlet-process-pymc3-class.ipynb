{
 "cells": [
  {
   "cell_type": "code",
   "execution_count": 1,
   "id": "f900d8f4",
   "metadata": {},
   "outputs": [
    {
     "name": "stderr",
     "output_type": "stream",
     "text": [
      "You are running the v4 development version of PyMC3 which currently still lacks key features. You probably want to use the stable v3 instead which you can either install via conda or find on the v3 GitHub branch: https://github.com/pymc-devs/pymc3/tree/v3\n"
     ]
    },
    {
     "data": {
      "text/plain": [
       "'2.0.12'"
      ]
     },
     "execution_count": 1,
     "metadata": {},
     "output_type": "execute_result"
    }
   ],
   "source": [
    "import numpy as np\n",
    "import pymc3 as pm\n",
    "\n",
    "import aesara.tensor as at\n",
    "from aesara.tensor.random.op import RandomVariable\n",
    "\n",
    "from scipy import stats as st\n",
    "\n",
    "import aesara\n",
    "\n",
    "import arviz as az\n",
    "\n",
    "%config InlineBackend.figure_format = \"retina\"\n",
    "%matplotlib inline\n",
    "\n",
    "aesara.__version__"
   ]
  },
  {
   "cell_type": "code",
   "execution_count": 34,
   "id": "c52418a4",
   "metadata": {},
   "outputs": [],
   "source": [
    "K = 20; N = 50\n",
    "M = 5; mu = 2.\n",
    "rng = np.random.RandomState(seed=34)\n",
    "y = rng.normal(loc=mu, scale=2., size=[N,])"
   ]
  },
  {
   "cell_type": "code",
   "execution_count": 3,
   "id": "77325ee7",
   "metadata": {},
   "outputs": [],
   "source": [
    "def stick_breaking(betas):\n",
    "    \"\"\"\n",
    "    betas ~ Beta(1, alpha)\n",
    "    \"\"\"\n",
    "    sticks = at.concatenate(\n",
    "        [\n",
    "            [1],\n",
    "            at.cumprod(1 - betas[:-1])\n",
    "        ],\n",
    "    )\n",
    "    \n",
    "    product = at.mul(betas, sticks)\n",
    "    \n",
    "    return at.concatenate(\n",
    "        [\n",
    "            product,\n",
    "            [1 - at.sum(product)],\n",
    "        ]\n",
    "    )"
   ]
  },
  {
   "cell_type": "code",
   "execution_count": 57,
   "id": "5e77e97e",
   "metadata": {},
   "outputs": [],
   "source": [
    "with pm.Model() as model:\n",
    "    \n",
    "    concentration = pm.InverseGamma(\"concentration\", alpha=1, beta=1)\n",
    "\n",
    "    betas = pm.Beta(\"betas\", 1., concentration + len(y), shape=(K,))\n",
    "    weights = pm.Deterministic(\"weights\", stick_breaking(betas))\n",
    "\n",
    "    G0 = pm.Normal(name=\"G0\", mu=0., sigma=3.)\n",
    "    \n",
    "    # idx only used for posterior sampling\n",
    "    idx = pm.Bernoulli(name=\"post-mixture-idx\", p=at.mul(concentration, at.inv(concentration + len(y))))\n",
    "\n",
    "    cat_idx = pm.Categorical(name=\"cat-idx\", p=np.ones_like(y)/len(y), shape=(K+1,))\n",
    "    \n",
    "    y_atoms = pm.Potential(\n",
    "        name=\"atoms\",\n",
    "        var=lambda \n",
    "    )\n",
    "    \n",
    "    #     Gn = pm.Deterministic(\n",
    "    #         name=\"Gn\",\n",
    "    #         var=G0[idx],\n",
    "    #     )\n",
    "    prior = pm.sample_prior_predictive(samples=1000,)"
   ]
  },
  {
   "cell_type": "code",
   "execution_count": 58,
   "id": "31232d37",
   "metadata": {},
   "outputs": [
    {
     "data": {
      "text/plain": [
       "array([0.01781906, 0.0188505 , 0.01723841, 0.01735289, 0.01597581,\n",
       "       0.01756036, 0.01639762, 0.01645864, 0.01592132, 0.01568358,\n",
       "       0.01564189, 0.01474068, 0.01410327, 0.01428455, 0.01398772,\n",
       "       0.75798372])"
      ]
     },
     "execution_count": 58,
     "metadata": {},
     "output_type": "execute_result"
    }
   ],
   "source": [
    "prior[\"weights\"].mean(axis=0)"
   ]
  },
  {
   "cell_type": "code",
   "execution_count": 67,
   "id": "99ed9ad3",
   "metadata": {},
   "outputs": [
    {
     "data": {
      "text/plain": [
       "array([ 1.29587531,  4.52209386, -0.60050415,  1.53567575, -0.56298375,\n",
       "        1.44354261,  3.67770284,  3.8512128 ,  1.29587531, -1.12235399,\n",
       "        1.29587531, -0.92795379,  0.90935141,  0.70988939,  0.41779605,\n",
       "        3.8512128 ])"
      ]
     },
     "execution_count": 67,
     "metadata": {},
     "output_type": "execute_result"
    }
   ],
   "source": [
    "y[prior[\"cat-idx\"][0]]"
   ]
  },
  {
   "cell_type": "code",
   "execution_count": null,
   "id": "d631ba7f",
   "metadata": {},
   "outputs": [],
   "source": [
    "with pm.Model() as model:\n",
    "    idx = pm.Categorical(name=\"cat\", p=np.array([0.1, 0.2, 0.3, 0.4]))\n",
    "    \n",
    "    y_tensor = at.as_tensor_variable(y)\n",
    "    y_atoms = pm.Deterministic(name=\"y_atoms\", var=y_tensor[idx])\n",
    "    \n",
    "    prior = pm.sample_prior_predictive(samples=1000)"
   ]
  },
  {
   "cell_type": "code",
   "execution_count": null,
   "id": "3b1adeba",
   "metadata": {},
   "outputs": [],
   "source": []
  }
 ],
 "metadata": {
  "kernelspec": {
   "display_name": "pymc3-dev-py38",
   "language": "python",
   "name": "pymc3-dev-py38"
  },
  "language_info": {
   "codemirror_mode": {
    "name": "ipython",
    "version": 3
   },
   "file_extension": ".py",
   "mimetype": "text/x-python",
   "name": "python",
   "nbconvert_exporter": "python",
   "pygments_lexer": "ipython3",
   "version": "3.8.10"
  }
 },
 "nbformat": 4,
 "nbformat_minor": 5
}
