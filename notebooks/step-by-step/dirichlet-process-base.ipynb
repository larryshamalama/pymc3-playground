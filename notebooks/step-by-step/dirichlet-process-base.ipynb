{
 "cells": [
  {
   "cell_type": "code",
   "execution_count": 1,
   "id": "f900d8f4",
   "metadata": {},
   "outputs": [
    {
     "name": "stderr",
     "output_type": "stream",
     "text": [
      "You are running the v4 development version of PyMC3 which currently still lacks key features. You probably want to use the stable v3 instead which you can either install via conda or find on the v3 GitHub branch: https://github.com/pymc-devs/pymc3/tree/v3\n"
     ]
    }
   ],
   "source": [
    "import numpy as np\n",
    "import pymc3 as pm\n",
    "\n",
    "import aesara.tensor as at\n",
    "from aesara.tensor.random.op import RandomVariable\n",
    "\n",
    "from scipy import stats as st\n",
    "\n",
    "import aesara\n",
    "\n",
    "%config InlineBackend.figure_format = \"retina\"\n",
    "%matplotlib inline"
   ]
  },
  {
   "cell_type": "code",
   "execution_count": 2,
   "id": "c52418a4",
   "metadata": {},
   "outputs": [],
   "source": [
    "K = 50; N = 300\n",
    "M = 2; mu = 2.\n",
    "rng = np.random.RandomState(seed=34)"
   ]
  },
  {
   "cell_type": "code",
   "execution_count": 8,
   "id": "98b933fb",
   "metadata": {},
   "outputs": [],
   "source": [
    "def generate_weights(M, rng, K):\n",
    "\n",
    "    betas = rng.beta(1., M, size=(K-1,))\n",
    "    \n",
    "    sticks = np.concatenate(([1], np.cumprod(1 - betas[:-1])))\n",
    "\n",
    "    product = betas * sticks\n",
    "    \n",
    "    return np.append(product, 1 - product.sum()) # shape = (K,)\n",
    "\n",
    "\n",
    "def stick_glueing(weights):\n",
    "    \n",
    "    denominator = np.concatenate(([1], -weights[:-1]))\n",
    "    denominator = np.cumsum(denominator)\n",
    "    \n",
    "    return weights[:-1]/denominator[:-1] # shape = (K - 1,)\n",
    "\n",
    "\n",
    "def create_dp_samples(M, rng, K):\n",
    "    \n",
    "    atoms = rng.normal(loc=mu, scale=3., size=(K,))\n",
    "    weights = generate_weights(M, rng, K)\n",
    "\n",
    "    return rng.choice(a=atoms, p=weights, size=(K,))"
   ]
  },
  {
   "cell_type": "code",
   "execution_count": 9,
   "id": "d631ba7f",
   "metadata": {},
   "outputs": [
    {
     "data": {
      "text/plain": [
       "array([[ 2.72786108,  3.57974145, -1.86273651, ...,  3.57974145,\n",
       "        -0.46265869, -0.46265869],\n",
       "       [-0.84844108,  3.57974145,  3.57974145, ...,  3.57974145,\n",
       "         3.57974145,  3.57974145],\n",
       "       [ 2.72786108,  3.57974145,  3.57974145, ..., -1.00996505,\n",
       "         3.57974145,  3.57974145],\n",
       "       ...,\n",
       "       [-2.07445279, -1.00996505,  3.57974145, ...,  3.57974145,\n",
       "        -0.84844108,  3.57974145],\n",
       "       [-0.84844108,  3.57974145, -0.84844108, ..., -1.00996505,\n",
       "        -1.00996505, -0.46265869],\n",
       "       [ 0.84400093,  2.88729209, -1.00996505, ..., -0.84844108,\n",
       "         2.72786108,  3.57974145]])"
      ]
     },
     "execution_count": 9,
     "metadata": {},
     "output_type": "execute_result"
    }
   ],
   "source": [
    "dp_samples = create_dp_samples(M=3., rng=rng, K=50)\n",
    "dp_samples"
   ]
  },
  {
   "cell_type": "code",
   "execution_count": null,
   "id": "fac77e20",
   "metadata": {},
   "outputs": [],
   "source": [
    "class DirichletProcess:\n",
    "    \n",
    "    def __init__(self, M, rng, K):\n",
    "        self.M = M\n",
    "        self.K = K\n",
    "        \n",
    "        self.samples = create_dp_samples(M, rng, K)\n",
    "        self.rng = rng\n",
    "    \n",
    "    def run(self):\n",
    "        \n",
    "        atoms, counts = np.unique(self.samples, return_counts=True)\n",
    "        \n",
    "        # stick-glueing assumes decreasing weights\n",
    "        index = np.argsort(counts)\n",
    "        counts = counts[index][::-1]\n",
    "        atoms = atoms[index][::-1]\n",
    "        \n",
    "        weights = np.array(counts)/counts.sum() # empirical weights\n",
    "        \n",
    "        recovered_betas = stick_glueing(weights)\n",
    "        \n",
    "        with pm.Model(rng_seeder=rng) as model:\n",
    "            α = pm.Uniform(\"α\", 0., 10.)\n",
    "            \n",
    "            # K - 1 because the Kth weight is 1 - weights.sum()\n",
    "            β = pm.Beta(\"β\", 1., α, observed=recovered_betas)\n",
    "            µ = pm.Normal(\"µ\", mu=0., sigma=5.)\n",
    "            \n",
    "            G0 = pm.Normal(\"G0\", mu=µ, sigma=3., observed=atoms)\n",
    "            \n",
    "            self.posterior = pm.sample(draws=2000, chains=1)"
   ]
  },
  {
   "cell_type": "code",
   "execution_count": null,
   "id": "50825527",
   "metadata": {},
   "outputs": [],
   "source": [
    "dp = DirichletProcess(M, rng, K)\n",
    "dp.run()"
   ]
  },
  {
   "cell_type": "code",
   "execution_count": null,
   "id": "bb8b2e43",
   "metadata": {},
   "outputs": [],
   "source": [
    "_ = pm.plot_trace(dp.posterior)"
   ]
  },
  {
   "cell_type": "code",
   "execution_count": null,
   "id": "e2dec1ee",
   "metadata": {},
   "outputs": [],
   "source": [
    "dp.posterior.to_dict()[\"posterior\"][\"α\"].mean()"
   ]
  },
  {
   "cell_type": "code",
   "execution_count": null,
   "id": "d19225da",
   "metadata": {},
   "outputs": [],
   "source": [
    "dp.samples"
   ]
  },
  {
   "cell_type": "code",
   "execution_count": null,
   "id": "97ea98b6",
   "metadata": {},
   "outputs": [],
   "source": []
  }
 ],
 "metadata": {
  "kernelspec": {
   "display_name": "pymc3-dev-py38",
   "language": "python",
   "name": "pymc3-dev-py38"
  },
  "language_info": {
   "codemirror_mode": {
    "name": "ipython",
    "version": 3
   },
   "file_extension": ".py",
   "mimetype": "text/x-python",
   "name": "python",
   "nbconvert_exporter": "python",
   "pygments_lexer": "ipython3",
   "version": "3.8.10"
  }
 },
 "nbformat": 4,
 "nbformat_minor": 5
}
