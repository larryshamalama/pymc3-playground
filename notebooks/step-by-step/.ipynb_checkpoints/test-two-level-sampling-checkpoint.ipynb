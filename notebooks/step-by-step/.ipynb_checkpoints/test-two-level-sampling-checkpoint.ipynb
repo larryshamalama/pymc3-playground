{
 "cells": [
  {
   "cell_type": "code",
   "execution_count": 1,
   "id": "bd49aa18",
   "metadata": {},
   "outputs": [
    {
     "name": "stderr",
     "output_type": "stream",
     "text": [
      "You are running the v4 development version of PyMC3 which currently still lacks key features. You probably want to use the stable v3 instead which you can either install via conda or find on the v3 GitHub branch: https://github.com/pymc-devs/pymc3/tree/v3\n"
     ]
    }
   ],
   "source": [
    "import numpy as np\n",
    "import pymc3 as pm\n",
    "import pandas as pd\n",
    "\n",
    "import matplotlib.pyplot as plt\n",
    "import seaborn as sns\n",
    "\n",
    "import aesara.tensor as at\n",
    "from aesara.tensor.random.op import RandomVariable\n",
    "\n",
    "from scipy import stats as st\n",
    "\n",
    "import aesara\n",
    "\n",
    "%config InlineBackend.figure_format = \"retina\"\n",
    "%matplotlib inline"
   ]
  },
  {
   "cell_type": "markdown",
   "id": "6ae327a2",
   "metadata": {},
   "source": [
    "**Hypothesis**: unstick-breaking ran on empirical frequencies are **biased** estimates of Beta realizations"
   ]
  },
  {
   "cell_type": "code",
   "execution_count": 2,
   "id": "6af69590",
   "metadata": {},
   "outputs": [],
   "source": [
    "K = 20\n",
    "N = 1000\n",
    "N_dp = K*1000 # needs to be large with increasing K and decreasing M\n",
    "\n",
    "# data-generating parameters\n",
    "M = 4\n",
    "mu = 2.\n",
    "sigma = 3.\n",
    "\n",
    "rng = np.random.RandomState(seed=34)\n",
    "\n",
    "epsilon = 1e-8"
   ]
  },
  {
   "cell_type": "code",
   "execution_count": 13,
   "id": "4fdb21e1",
   "metadata": {},
   "outputs": [],
   "source": [
    "def generate_weights(M, rng, size):\n",
    "    \n",
    "    global betas\n",
    "    \n",
    "    N, K = size\n",
    "    betas = rng.beta(1., M, size=[N, K-1])\n",
    "    \n",
    "    sticks = np.hstack(\n",
    "        [\n",
    "            np.ones(shape=[N, 1]),\n",
    "            np.cumprod(1 - betas[:, :-1], axis=1),\n",
    "        ]\n",
    "    )\n",
    "\n",
    "    product = betas * sticks\n",
    "    \n",
    "    last_column = 1 - product.sum(axis=1)[..., np.newaxis]\n",
    "    \n",
    "    output_weights = np.hstack((product, last_column))\n",
    "    \n",
    "    assert all([w_sum == 1 for w_sum in output_weights.sum(axis=1)])\n",
    "    assert np.all(output_weights >= 0)\n",
    "    assert np.all(output_weights <= 1)\n",
    "    \n",
    "    return output_weights\n",
    "\n",
    "\n",
    "def stick_glueing(weights):\n",
    "    \"\"\"\n",
    "    weights = [w1, w2, ..., wK] such that:\n",
    "    • weights.sum() = 1\n",
    "    • wK = 1 - w1 - w2 - ... - wK-1\n",
    "    \n",
    "    denominator = [1, -w1, -w2, ..., wK]\n",
    "    • length is K + 1\n",
    "    • after cumsum, denominator = [1, 1 - w1, 1 - w1 - w2, ..., 1 - w1 - w2 - ... - wK] (length K + 1)\n",
    "    \n",
    "    output is [w1/1, w2/(1 - w1), w3/(1 - w1 - w2), ..., wK/(1 - w1 - ... - wK-1)]\n",
    "    • wK/(1 - w1 - ... - wK-1) = wK/wK = 1 by construction of wK (i.e. `last_column` in `generate_weights`)\n",
    "    • denominator[:, :-1] is necessary because the cumsum runs from 1 to j for the (j+1)th term\n",
    "    • output[:, :-1] (shape = [N, K-1]) is necessary to remove the column of 1's at the end\n",
    "    \"\"\"\n",
    "    shape = tuple(weights.shape or ())\n",
    "    \n",
    "    denominator = np.cumsum(\n",
    "        np.concatenate(\n",
    "            [\n",
    "                np.ones(shape=shape[:-1] + (1,)),\n",
    "                - weights,\n",
    "            ],\n",
    "            axis=-1,\n",
    "        ),\n",
    "        axis=-1,\n",
    "    )\n",
    "    \n",
    "    output = (weights/(denominator[..., :-1]))\n",
    "    \n",
    "    return output[..., :-1]"
   ]
  },
  {
   "cell_type": "markdown",
   "id": "3fb99a68",
   "metadata": {},
   "source": [
    "Most chunks up to this point are identical to `test-multiple-dp-samples.ipynb`"
   ]
  },
  {
   "cell_type": "code",
   "execution_count": 14,
   "id": "626275a4",
   "metadata": {},
   "outputs": [],
   "source": [
    "def create_dp_samples(M, rng, size, discard_null=True):\n",
    "    \n",
    "    \"\"\"\n",
    "    Just looking at the first weight vector with weights[0]\n",
    "    • Output temporarily does not include atoms\n",
    "    \"\"\"\n",
    "    \n",
    "    N, K = size\n",
    "    \n",
    "    global atoms\n",
    "    \n",
    "    atoms = rng.normal(loc=mu, scale=sigma, size=size)\n",
    "    weights = generate_weights(M, rng, size)\n",
    "\n",
    "    # concatenating everything\n",
    "    sampled_atoms = []\n",
    "    recovered_betas = []\n",
    "    \n",
    "    # global variables for debugging\n",
    "    global dp_sample\n",
    "    global n_null_cum\n",
    "    global attempts\n",
    "    \n",
    "    n_null_cum = 0 \n",
    "    attempts = 0\n",
    "    \n",
    "    for i, w in enumerate(weights):\n",
    "        dp_sample = rng.multinomial(n=N_dp, pvals=w)\n",
    "        \n",
    "        n_null_obs = (dp_sample == 0).sum()\n",
    "        \n",
    "        if discard_null:\n",
    "            while True:\n",
    "                if n_null_obs > 0:\n",
    "                    dp_sample = rng.multinomial(n=N_dp, pvals=w)\n",
    "        \n",
    "                    n_null_obs = (dp_sample == 0).sum()\n",
    "                \n",
    "                else:\n",
    "                    break\n",
    "                    \n",
    "                attempts += 1\n",
    "\n",
    "        sampled_atoms = np.append(sampled_atoms, atoms[i][dp_sample != 0])\n",
    "\n",
    "        dp_sample = np.where(dp_sample == 0, epsilon, dp_sample)\n",
    "\n",
    "        n_null_cum += n_null_obs\n",
    "\n",
    "        recovered_betas = np.append(recovered_betas, stick_glueing(dp_sample/(N_dp + n_null_obs*epsilon)))\n",
    "        \n",
    "    return sampled_atoms, recovered_betas"
   ]
  },
  {
   "cell_type": "code",
   "execution_count": 15,
   "id": "f05e35d8",
   "metadata": {},
   "outputs": [],
   "source": [
    "sampled_atoms, recovered_betas = create_dp_samples(M, rng, size=[N, K])"
   ]
  },
  {
   "cell_type": "code",
   "execution_count": 16,
   "id": "dfd7da32",
   "metadata": {},
   "outputs": [
    {
     "name": "stderr",
     "output_type": "stream",
     "text": [
      "Auto-assigning NUTS sampler...\n",
      "Initializing NUTS using jitter+adapt_diag...\n",
      "Sequential sampling (1 chains in 1 job)\n",
      "NUTS: [α, µ]\n"
     ]
    },
    {
     "data": {
      "text/html": [
       "\n",
       "    <div>\n",
       "        <style>\n",
       "            /* Turns off some styling */\n",
       "            progress {\n",
       "                /* gets rid of default border in Firefox and Opera. */\n",
       "                border: none;\n",
       "                /* Needs to be in here for Safari polyfill so background images work as expected. */\n",
       "                background-size: auto;\n",
       "            }\n",
       "            .progress-bar-interrupted, .progress-bar-interrupted::-webkit-progress-bar {\n",
       "                background: #F44336;\n",
       "            }\n",
       "        </style>\n",
       "      <progress value='3000' class='' max='3000' style='width:300px; height:20px; vertical-align: middle;'></progress>\n",
       "      100.00% [3000/3000 00:09<00:00 Sampling chain 0, 0 divergences]\n",
       "    </div>\n",
       "    "
      ],
      "text/plain": [
       "<IPython.core.display.HTML object>"
      ]
     },
     "metadata": {},
     "output_type": "display_data"
    },
    {
     "name": "stderr",
     "output_type": "stream",
     "text": [
      "Sampling 1 chain for 1_000 tune and 2_000 draw iterations (1_000 + 2_000 draws total) took 9 seconds.\n",
      "Only one chain was sampled, this makes it impossible to run some convergence checks\n"
     ]
    }
   ],
   "source": [
    "with pm.Model(rng_seeder=rng) as model:\n",
    "    α = pm.Uniform(\"α\", 0., 10.)\n",
    "\n",
    "    # no shape specified for β nor atoms\n",
    "    β = pm.Beta(\"β\", 1., α, observed=recovered_betas)\n",
    "    µ = pm.Normal(\"µ\", mu=0., sigma=5.)\n",
    "\n",
    "    G0 = pm.Normal(\"G0\", mu=µ, sigma=3., observed=sampled_atoms)\n",
    "\n",
    "    posterior = pm.sample(draws=2000, chains=1)"
   ]
  },
  {
   "cell_type": "code",
   "execution_count": null,
   "id": "cfa51208",
   "metadata": {},
   "outputs": [],
   "source": [
    "_ = pm.plot_trace(posterior)"
   ]
  },
  {
   "cell_type": "code",
   "execution_count": null,
   "id": "51b2b619",
   "metadata": {},
   "outputs": [],
   "source": [
    "posterior.to_dict()[\"posterior\"][\"α\"].mean(), posterior.to_dict()[\"posterior\"][\"µ\"].mean()"
   ]
  },
  {
   "cell_type": "code",
   "execution_count": null,
   "id": "787ed48b",
   "metadata": {},
   "outputs": [],
   "source": []
  }
 ],
 "metadata": {
  "kernelspec": {
   "display_name": "pymc3-dev-py38",
   "language": "python",
   "name": "pymc3-dev-py38"
  },
  "language_info": {
   "codemirror_mode": {
    "name": "ipython",
    "version": 3
   },
   "file_extension": ".py",
   "mimetype": "text/x-python",
   "name": "python",
   "nbconvert_exporter": "python",
   "pygments_lexer": "ipython3",
   "version": "3.8.10"
  }
 },
 "nbformat": 4,
 "nbformat_minor": 5
}
