{
 "cells": [
  {
   "cell_type": "code",
   "execution_count": 1,
   "id": "077acbc9",
   "metadata": {},
   "outputs": [
    {
     "name": "stderr",
     "output_type": "stream",
     "text": [
      "You are running the v4 development version of PyMC3 which currently still lacks key features. You probably want to use the stable v3 instead which you can either install via conda or find on the v3 GitHub branch: https://github.com/pymc-devs/pymc3/tree/v3\n"
     ]
    }
   ],
   "source": [
    "import numpy as np\n",
    "import pymc3 as pm\n",
    "import pandas as pd\n",
    "\n",
    "import matplotlib.pyplot as plt\n",
    "import seaborn as sns\n",
    "\n",
    "import aesara.tensor as at\n",
    "from aesara.tensor.random.op import RandomVariable\n",
    "\n",
    "from scipy import stats as st\n",
    "\n",
    "import aesara\n",
    "\n",
    "%config InlineBackend.figure_format = \"retina\"\n",
    "%matplotlib inline"
   ]
  },
  {
   "cell_type": "code",
   "execution_count": 2,
   "id": "b76542c3",
   "metadata": {},
   "outputs": [],
   "source": [
    "K = 10\n",
    "N = 1000\n",
    "N_dp = K*25\n",
    "\n",
    "# data-generating parameters\n",
    "M = 5\n",
    "mu = 2.\n",
    "sigma = 3.\n",
    "\n",
    "rng = np.random.RandomState(seed=1234)"
   ]
  },
  {
   "cell_type": "code",
   "execution_count": 3,
   "id": "2313ead1",
   "metadata": {},
   "outputs": [],
   "source": [
    "def generate_weights(M, rng, size):\n",
    "    \n",
    "    N, K = size\n",
    "    betas = rng.beta(1., M, size=[N, K-1])\n",
    "    \n",
    "    sticks = np.hstack(\n",
    "        [\n",
    "            np.ones(shape=[N, 1]),\n",
    "            np.cumprod(1 - betas[:, :-1], axis=1),\n",
    "        ]\n",
    "    )\n",
    "\n",
    "    product = betas * sticks\n",
    "    \n",
    "    last_column = 1 - product.sum(axis=1)[..., np.newaxis]\n",
    "    \n",
    "    return np.hstack((product, last_column))\n",
    "\n",
    "\n",
    "def stick_glueing(sticks):\n",
    "    \n",
    "    N = sticks.shape[0]\n",
    "    \n",
    "    \"\"\"\n",
    "    sticks = [w1, w2, ..., wK] such that:\n",
    "    • sticks.sum() = 1\n",
    "    • wK = 1 - w1 - w2 - ... - wK-1\n",
    "    \n",
    "    denominator = [1, -w1, -w2, ..., wK]\n",
    "    • length is K + 1\n",
    "    • after cumsum, denominator = [1, 1 - w1, 1 - w1 - w2, ..., 1 - w1 - w2 - ... - wK] (length K + 1)\n",
    "    \n",
    "    output is [w1/1, w2/(1 - w1), w3/(1 - w1 - w2), ..., wK/(1 - w1 - ... - wK-1)]\n",
    "    • wK/(1 - w1 - ... - wK-1) = wK/wK = 1 by construction of wK (i.e. `last_column` in `generate_weights`)\n",
    "    • denominator[:, :-1] is necessary because the cumsum runs from 1 to j for the (j+1)th term\n",
    "    • output[:, :-1] (shape = [N, K-1]) is necessary to remove the column of 1's at the end\n",
    "    \"\"\"\n",
    "    \n",
    "    if len(sticks.shape) == 1:\n",
    "        # testing for a non-matrix weight vector\n",
    "        denominator = np.cumsum(np.concatenate(([1], sticks)))\n",
    "        return (sticks/denominator[:-1])[:-1]\n",
    "    \n",
    "    denominator = np.cumsum(\n",
    "        np.hstack(\n",
    "            [\n",
    "                np.ones(shape=[N, 1]),\n",
    "                - sticks,\n",
    "            ]\n",
    "        ),\n",
    "        axis=1,\n",
    "    )\n",
    "    \n",
    "    output = (sticks/(denominator[:, :-1]))\n",
    "    \n",
    "    return output[:, :-1]"
   ]
  },
  {
   "cell_type": "markdown",
   "id": "a9fd7313",
   "metadata": {},
   "source": [
    "Everything up to this point is identical to `test-multiple-dp-samples.ipynb`"
   ]
  },
  {
   "cell_type": "code",
   "execution_count": 4,
   "id": "4d405ba2",
   "metadata": {},
   "outputs": [],
   "source": [
    "def create_dp_samples(M, rng, size):\n",
    "    \n",
    "    \"\"\"\n",
    "    Just looking at the first weight vector with weights[0]\n",
    "    • Output temporarily does not include atoms\n",
    "    \"\"\"\n",
    "    \n",
    "    N, K = size\n",
    "    \n",
    "    atoms = rng.normal(loc=mu, scale=sigma, size=size)\n",
    "    weights = generate_weights(M, rng, size)\n",
    "    \n",
    "    assert all([w_sum == 1 for w_sum in weights.sum(axis=1)])\n",
    "    assert np.all(weights >= 0)\n",
    "    assert np.all(weights <= 1)\n",
    "\n",
    "    return rng.multinomial(n=N_dp, pvals=weights[0])"
   ]
  },
  {
   "cell_type": "code",
   "execution_count": 5,
   "id": "b3aba369",
   "metadata": {},
   "outputs": [],
   "source": [
    "single_dp_sample = create_dp_samples(M, rng, size=[N, K])"
   ]
  },
  {
   "cell_type": "code",
   "execution_count": 6,
   "id": "bbc5e1ae",
   "metadata": {},
   "outputs": [
    {
     "data": {
      "text/plain": [
       "array([49,  7, 72, 34, 10, 29,  4,  0,  0, 45])"
      ]
     },
     "execution_count": 6,
     "metadata": {},
     "output_type": "execute_result"
    }
   ],
   "source": [
    "single_dp_sample"
   ]
  },
  {
   "cell_type": "code",
   "execution_count": 7,
   "id": "8bcb6e3e",
   "metadata": {},
   "outputs": [
    {
     "data": {
      "text/plain": [
       "array([0.288     , 0.15217391, 0.1212938 , 0.08173077, 0.06444444,\n",
       "       0.02087683, 0.01431493, 0.00806452, 0.        ])"
      ]
     },
     "execution_count": 7,
     "metadata": {},
     "output_type": "execute_result"
    }
   ],
   "source": [
    "empirical_frequency = np.sort(single_dp_sample)[::-1]/N_dp\n",
    "stick_glueing(empirical_frequency)"
   ]
  },
  {
   "cell_type": "code",
   "execution_count": null,
   "id": "782444d1",
   "metadata": {},
   "outputs": [],
   "source": []
  }
 ],
 "metadata": {
  "kernelspec": {
   "display_name": "pymc3-dev-py38",
   "language": "python",
   "name": "pymc3-dev-py38"
  },
  "language_info": {
   "codemirror_mode": {
    "name": "ipython",
    "version": 3
   },
   "file_extension": ".py",
   "mimetype": "text/x-python",
   "name": "python",
   "nbconvert_exporter": "python",
   "pygments_lexer": "ipython3",
   "version": "3.8.10"
  }
 },
 "nbformat": 4,
 "nbformat_minor": 5
}
