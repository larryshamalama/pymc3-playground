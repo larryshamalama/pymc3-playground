{
 "cells": [
  {
   "cell_type": "markdown",
   "metadata": {
    "papermill": {
     "duration": 0.021485,
     "end_time": "2020-12-18T15:39:09.385692",
     "exception": false,
     "start_time": "2020-12-18T15:39:09.364207",
     "status": "completed"
    },
    "tags": []
   },
   "source": [
    "# Dependent density regression\n",
    "In another [example](dp_mix.ipynb), we showed how to use Dirichlet processes to perform Bayesian nonparametric density estimation.  This example expands on the previous one, illustrating dependent density regression.\n",
    "\n",
    "Just as Dirichlet process mixtures can be thought of as infinite mixture models that select the number of active components as part of inference, dependent density regression can be thought of as infinite [mixtures of experts](https://en.wikipedia.org/wiki/Committee_machine) that select the active experts as part of inference.  Their flexibility and modularity make them powerful tools for performing nonparametric Bayesian Data analysis."
   ]
  },
  {
   "cell_type": "code",
   "execution_count": 2,
   "metadata": {
    "execution": {
     "iopub.execute_input": "2020-12-18T15:39:09.433230Z",
     "iopub.status.busy": "2020-12-18T15:39:09.432485Z",
     "iopub.status.idle": "2020-12-18T15:39:16.049724Z",
     "shell.execute_reply": "2020-12-18T15:39:16.048768Z"
    },
    "papermill": {
     "duration": 6.644193,
     "end_time": "2020-12-18T15:39:16.049848",
     "exception": false,
     "start_time": "2020-12-18T15:39:09.405655",
     "status": "completed"
    },
    "tags": []
   },
   "outputs": [
    {
     "name": "stdout",
     "output_type": "stream",
     "text": [
      "Running on PyMC3 v3.11.2\n"
     ]
    }
   ],
   "source": [
    "import arviz as az\n",
    "import numpy as np\n",
    "import pandas as pd\n",
    "import pymc3 as pm\n",
    "import seaborn as sns\n",
    "\n",
    "from IPython.display import HTML\n",
    "from matplotlib import animation as ani\n",
    "from matplotlib import pyplot as plt\n",
    "from aesara import tensor as at\n",
    "\n",
    "print(f\"Running on PyMC3 v{pm.__version__}\")"
   ]
  },
  {
   "cell_type": "code",
   "execution_count": 3,
   "metadata": {
    "execution": {
     "iopub.execute_input": "2020-12-18T15:39:16.118903Z",
     "iopub.status.busy": "2020-12-18T15:39:16.116655Z",
     "iopub.status.idle": "2020-12-18T15:39:16.119741Z",
     "shell.execute_reply": "2020-12-18T15:39:16.120266Z"
    },
    "papermill": {
     "duration": 0.048777,
     "end_time": "2020-12-18T15:39:16.120430",
     "exception": false,
     "start_time": "2020-12-18T15:39:16.071653",
     "status": "completed"
    },
    "tags": []
   },
   "outputs": [],
   "source": [
    "%config InlineBackend.figure_format = 'retina'\n",
    "plt.rc(\"animation\", writer=\"ffmpeg\")\n",
    "blue, *_ = sns.color_palette()\n",
    "az.style.use(\"arviz-darkgrid\")\n",
    "SEED = 972915  # from random.org; for reproducibility\n",
    "rng = np.random.default_rng(seed=SEED)"
   ]
  },
  {
   "cell_type": "markdown",
   "metadata": {
    "papermill": {
     "duration": 0.020257,
     "end_time": "2020-12-18T15:39:16.160652",
     "exception": false,
     "start_time": "2020-12-18T15:39:16.140395",
     "status": "completed"
    },
    "tags": []
   },
   "source": [
    "We will use the LIDAR data set from Larry Wasserman's excellent book, [_All of Nonparametric Statistics_](http://www.stat.cmu.edu/~larry/all-of-nonpar/).  We standardize the data set to improve the rate of convergence of our samples."
   ]
  },
  {
   "cell_type": "code",
   "execution_count": 4,
   "metadata": {
    "execution": {
     "iopub.execute_input": "2020-12-18T15:39:16.210611Z",
     "iopub.status.busy": "2020-12-18T15:39:16.209819Z",
     "iopub.status.idle": "2020-12-18T15:39:16.708850Z",
     "shell.execute_reply": "2020-12-18T15:39:16.708223Z"
    },
    "papermill": {
     "duration": 0.527789,
     "end_time": "2020-12-18T15:39:16.708982",
     "exception": false,
     "start_time": "2020-12-18T15:39:16.181193",
     "status": "completed"
    },
    "tags": []
   },
   "outputs": [],
   "source": [
    "DATA_URI = \"http://www.stat.cmu.edu/~larry/all-of-nonpar/=data/lidar.dat\"\n",
    "\n",
    "def standardize(x):\n",
    "    return (x - x.mean()) / x.std()\n",
    "\n",
    "\n",
    "df = pd.read_csv(DATA_URI, sep=r\"\\s{1,3}\", engine=\"python\").assign(\n",
    "    std_range=lambda df: standardize(df.range), std_logratio=lambda df: standardize(df.logratio)\n",
    ")"
   ]
  },
  {
   "cell_type": "code",
   "execution_count": 5,
   "metadata": {
    "execution": {
     "iopub.execute_input": "2020-12-18T15:39:16.761187Z",
     "iopub.status.busy": "2020-12-18T15:39:16.760225Z",
     "iopub.status.idle": "2020-12-18T15:39:16.769609Z",
     "shell.execute_reply": "2020-12-18T15:39:16.770070Z"
    },
    "papermill": {
     "duration": 0.040034,
     "end_time": "2020-12-18T15:39:16.770185",
     "exception": false,
     "start_time": "2020-12-18T15:39:16.730151",
     "status": "completed"
    },
    "tags": []
   },
   "outputs": [
    {
     "data": {
      "text/html": [
       "<div>\n",
       "<style scoped>\n",
       "    .dataframe tbody tr th:only-of-type {\n",
       "        vertical-align: middle;\n",
       "    }\n",
       "\n",
       "    .dataframe tbody tr th {\n",
       "        vertical-align: top;\n",
       "    }\n",
       "\n",
       "    .dataframe thead th {\n",
       "        text-align: right;\n",
       "    }\n",
       "</style>\n",
       "<table border=\"1\" class=\"dataframe\">\n",
       "  <thead>\n",
       "    <tr style=\"text-align: right;\">\n",
       "      <th></th>\n",
       "      <th>range</th>\n",
       "      <th>logratio</th>\n",
       "      <th>std_range</th>\n",
       "      <th>std_logratio</th>\n",
       "    </tr>\n",
       "  </thead>\n",
       "  <tbody>\n",
       "    <tr>\n",
       "      <th>0</th>\n",
       "      <td>390</td>\n",
       "      <td>-0.050356</td>\n",
       "      <td>-1.717725</td>\n",
       "      <td>0.852467</td>\n",
       "    </tr>\n",
       "    <tr>\n",
       "      <th>1</th>\n",
       "      <td>391</td>\n",
       "      <td>-0.060097</td>\n",
       "      <td>-1.707299</td>\n",
       "      <td>0.817981</td>\n",
       "    </tr>\n",
       "    <tr>\n",
       "      <th>2</th>\n",
       "      <td>393</td>\n",
       "      <td>-0.041901</td>\n",
       "      <td>-1.686447</td>\n",
       "      <td>0.882398</td>\n",
       "    </tr>\n",
       "    <tr>\n",
       "      <th>3</th>\n",
       "      <td>394</td>\n",
       "      <td>-0.050985</td>\n",
       "      <td>-1.676020</td>\n",
       "      <td>0.850240</td>\n",
       "    </tr>\n",
       "    <tr>\n",
       "      <th>4</th>\n",
       "      <td>396</td>\n",
       "      <td>-0.059913</td>\n",
       "      <td>-1.655168</td>\n",
       "      <td>0.818631</td>\n",
       "    </tr>\n",
       "  </tbody>\n",
       "</table>\n",
       "</div>"
      ],
      "text/plain": [
       "   range  logratio  std_range  std_logratio\n",
       "0    390 -0.050356  -1.717725      0.852467\n",
       "1    391 -0.060097  -1.707299      0.817981\n",
       "2    393 -0.041901  -1.686447      0.882398\n",
       "3    394 -0.050985  -1.676020      0.850240\n",
       "4    396 -0.059913  -1.655168      0.818631"
      ]
     },
     "execution_count": 5,
     "metadata": {},
     "output_type": "execute_result"
    }
   ],
   "source": [
    "df.head()"
   ]
  },
  {
   "cell_type": "markdown",
   "metadata": {
    "papermill": {
     "duration": 0.021121,
     "end_time": "2020-12-18T15:39:16.811381",
     "exception": false,
     "start_time": "2020-12-18T15:39:16.790260",
     "status": "completed"
    },
    "tags": []
   },
   "source": [
    "We plot the LIDAR data below."
   ]
  },
  {
   "cell_type": "code",
   "execution_count": 6,
   "metadata": {
    "execution": {
     "iopub.execute_input": "2020-12-18T15:39:16.858458Z",
     "iopub.status.busy": "2020-12-18T15:39:16.857709Z",
     "iopub.status.idle": "2020-12-18T15:39:17.276172Z",
     "shell.execute_reply": "2020-12-18T15:39:17.276774Z"
    },
    "papermill": {
     "duration": 0.444885,
     "end_time": "2020-12-18T15:39:17.276934",
     "exception": false,
     "start_time": "2020-12-18T15:39:16.832049",
     "status": "completed"
    },
    "tags": []
   },
   "outputs": [
    {
     "data": {
      "image/png": "[encoded data removed]",
      "text/plain": [
       "<Figure size 800x600 with 1 Axes>"
      ]
     },
     "metadata": {
      "image/png": {
       "height": 611,
       "width": 811
      }
     },
     "output_type": "display_data"
    }
   ],
   "source": [
    "fig, ax = plt.subplots(figsize=(8, 6))\n",
    "\n",
    "ax.scatter(df.std_range, df.std_logratio, color=blue)\n",
    "\n",
    "ax.set_xticklabels([])\n",
    "ax.set_xlabel(\"Standardized range\")\n",
    "\n",
    "ax.set_yticklabels([])\n",
    "ax.set_ylabel(\"Standardized log ratio\");"
   ]
  },
  {
   "cell_type": "markdown",
   "metadata": {
    "papermill": {
     "duration": 0.022903,
     "end_time": "2020-12-18T15:39:17.324348",
     "exception": false,
     "start_time": "2020-12-18T15:39:17.301445",
     "status": "completed"
    },
    "tags": []
   },
   "source": [
    "This data set has a two interesting properties that make it useful for illustrating dependent density regression.\n",
    "\n",
    "1. The relationship between range and log ratio is nonlinear, but has locally linear components.\n",
    "2. The observation noise is [heteroskedastic](https://en.wikipedia.org/wiki/Heteroscedasticity); that is, the magnitude of the variance varies with the range.\n",
    "\n",
    "The intuitive idea behind dependent density regression is to reduce the problem to many (related) density estimates, conditioned on fixed values of the predictors.  The following animation illustrates this intuition."
   ]
  },
  {
   "cell_type": "code",
   "execution_count": 7,
   "metadata": {
    "execution": {
     "iopub.execute_input": "2020-12-18T15:39:17.394681Z",
     "iopub.status.busy": "2020-12-18T15:39:17.393643Z",
     "iopub.status.idle": "2020-12-18T15:39:18.315621Z",
     "shell.execute_reply": "2020-12-18T15:39:18.314834Z"
    },
    "papermill": {
     "duration": 0.968079,
     "end_time": "2020-12-18T15:39:18.315769",
     "exception": false,
     "start_time": "2020-12-18T15:39:17.347690",
     "status": "completed"
    },
    "tags": []
   },
   "outputs": [],
   "source": [
    "fig, (scatter_ax, hist_ax) = plt.subplots(ncols=2, figsize=(16, 6))\n",
    "\n",
    "scatter_ax.scatter(df.std_range, df.std_logratio, color=blue, zorder=2)\n",
    "\n",
    "scatter_ax.set_xticklabels([])\n",
    "scatter_ax.set_xlabel(\"Standardized range\")\n",
    "\n",
    "scatter_ax.set_yticklabels([])\n",
    "scatter_ax.set_ylabel(\"Standardized log ratio\")\n",
    "\n",
    "bins = np.linspace(df.std_range.min(), df.std_range.max(), 25)\n",
    "\n",
    "hist_ax.hist(df.std_logratio, bins=bins, color=\"k\", lw=0, alpha=0.25, label=\"All data\")\n",
    "\n",
    "hist_ax.set_xticklabels([])\n",
    "hist_ax.set_xlabel(\"Standardized log ratio\")\n",
    "\n",
    "hist_ax.set_yticklabels([])\n",
    "hist_ax.set_ylabel(\"Frequency\")\n",
    "\n",
    "hist_ax.legend(loc=2)\n",
    "\n",
    "endpoints = np.linspace(1.05 * df.std_range.min(), 1.05 * df.std_range.max(), 15)\n",
    "\n",
    "frame_artists = []\n",
    "\n",
    "for low, high in zip(endpoints[:-1], endpoints[2:]):\n",
    "    interval = scatter_ax.axvspan(low, high, color=\"k\", alpha=0.5, lw=0, zorder=1)\n",
    "    *_, bars = hist_ax.hist(\n",
    "        df[df.std_range.between(low, high)].std_logratio, bins=bins, color=\"k\", lw=0, alpha=0.5\n",
    "    )\n",
    "\n",
    "    frame_artists.append((interval,) + tuple(bars))\n",
    "\n",
    "animation = ani.ArtistAnimation(fig, frame_artists, interval=500, repeat_delay=3000, blit=True)\n",
    "plt.close()\n",
    "# prevent the intermediate figure from showing"
   ]
  },
  {
   "cell_type": "markdown",
   "metadata": {
    "papermill": {
     "duration": 0.026205,
     "end_time": "2020-12-18T15:39:22.908143",
     "exception": false,
     "start_time": "2020-12-18T15:39:22.881938",
     "status": "completed"
    },
    "tags": []
   },
   "source": [
    "As we slice the data with a window sliding along the x-axis in the left plot, the empirical distribution of the y-values of the points in the window varies in the right plot.  An important aspect of this approach is that the density estimates that correspond to close values of the predictor are similar.\n",
    "\n",
    "In the previous example, we saw that a Dirichlet process estimates a probability density as a mixture model with infinitely many components.  In the case of normal component distributions,\n",
    "\n",
    "$$y \\sim \\sum_{i = 1}^{\\infty} w_i \\cdot N(\\mu_i, \\tau_i^{-1}),$$\n",
    "\n",
    "where the mixture weights, $w_1, w_2, \\ldots$, are generated by a [stick-breaking process](https://en.wikipedia.org/wiki/Dirichlet_process#The_stick-breaking_process).\n",
    "\n",
    "Dependent density regression generalizes this representation of the Dirichlet process mixture model by allowing the mixture weights and component means to vary conditioned on the value of the predictor, $x$.  That is,\n",
    "\n",
    "$$y\\ |\\ x \\sim \\sum_{i = 1}^{\\infty} w_i\\ |\\ x \\cdot N(\\mu_i\\ |\\ x, \\tau_i^{-1}).$$\n",
    "\n",
    "In this example, we will follow Chapter 23 of [_Bayesian Data Analysis_](http://www.stat.columbia.edu/~gelman/book/) and use a probit stick-breaking process to determine the conditional mixture weights, $w_i\\ |\\ x$.  The probit stick-breaking process starts by defining\n",
    "\n",
    "$$v_i\\ |\\ x = \\Phi(\\alpha_i + \\beta_i x),$$\n",
    "\n",
    "where $\\Phi$ is the cumulative distribution function of the standard normal distribution.  We then obtain $w_i\\ |\\ x$ by applying the stick breaking process to $v_i\\ |\\ x$.  That is,\n",
    "\n",
    "$$w_i\\ |\\ x = v_i\\ |\\ x \\cdot \\prod_{j = 1}^{i - 1} (1 - v_j\\ |\\ x).$$\n",
    "\n",
    "For the LIDAR data set, we use independent normal priors $\\alpha_i \\sim N(0, 5^2)$ and $\\beta_i \\sim N(0, 5^2)$.  We now express this this model for the conditional mixture weights using `PyMC3`."
   ]
  },
  {
   "cell_type": "code",
   "execution_count": 11,
   "metadata": {
    "execution": {
     "iopub.execute_input": "2020-12-18T15:39:22.972869Z",
     "iopub.status.busy": "2020-12-18T15:39:22.970896Z",
     "iopub.status.idle": "2020-12-18T15:39:22.973674Z",
     "shell.execute_reply": "2020-12-18T15:39:22.974219Z"
    },
    "papermill": {
     "duration": 0.038654,
     "end_time": "2020-12-18T15:39:22.974358",
     "exception": false,
     "start_time": "2020-12-18T15:39:22.935704",
     "status": "completed"
    },
    "tags": []
   },
   "outputs": [],
   "source": [
    "def norm_cdf(z):\n",
    "    return 0.5 * (1 + tt.erf(z / np.sqrt(2)))\n",
    "\n",
    "def stick_breaking(v):\n",
    "    return v * tt.concatenate(\n",
    "        [tt.ones_like(v[:, :1]), tt.extra_ops.cumprod(1 - v, axis=1)[:, :-1]], axis=1\n",
    "    )"
   ]
  },
  {
   "cell_type": "code",
   "execution_count": 12,
   "metadata": {
    "execution": {
     "iopub.execute_input": "2020-12-18T15:39:23.038435Z",
     "iopub.status.busy": "2020-12-18T15:39:23.037472Z",
     "iopub.status.idle": "2020-12-18T15:39:53.434884Z",
     "shell.execute_reply": "2020-12-18T15:39:53.433651Z"
    },
    "papermill": {
     "duration": 30.433368,
     "end_time": "2020-12-18T15:39:53.435014",
     "exception": false,
     "start_time": "2020-12-18T15:39:23.001646",
     "status": "completed"
    },
    "tags": []
   },
   "outputs": [
    {
     "ename": "NameError",
     "evalue": "name 'tt' is not defined",
     "output_type": "error",
     "traceback": [
      "\u001b[0;31m---------------------------------------------------------------------------\u001b[0m",
      "\u001b[0;31mNameError\u001b[0m                                 Traceback (most recent call last)",
      "\u001b[0;32m<ipython-input-12-d24ec49b3a53>\u001b[0m in \u001b[0;36m<module>\u001b[0;34m\u001b[0m\n\u001b[1;32m      9\u001b[0m     \u001b[0mbeta\u001b[0m \u001b[0;34m=\u001b[0m \u001b[0mpm\u001b[0m\u001b[0;34m.\u001b[0m\u001b[0mNormal\u001b[0m\u001b[0;34m(\u001b[0m\u001b[0;34m\"beta\"\u001b[0m\u001b[0;34m,\u001b[0m \u001b[0;36m0.0\u001b[0m\u001b[0;34m,\u001b[0m \u001b[0;36m5.0\u001b[0m\u001b[0;34m,\u001b[0m \u001b[0mshape\u001b[0m\u001b[0;34m=\u001b[0m\u001b[0;34m(\u001b[0m\u001b[0;36m1\u001b[0m\u001b[0;34m,\u001b[0m \u001b[0mK\u001b[0m\u001b[0;34m)\u001b[0m\u001b[0;34m)\u001b[0m\u001b[0;34m\u001b[0m\u001b[0;34m\u001b[0m\u001b[0m\n\u001b[1;32m     10\u001b[0m     \u001b[0mx\u001b[0m \u001b[0;34m=\u001b[0m \u001b[0mpm\u001b[0m\u001b[0;34m.\u001b[0m\u001b[0mData\u001b[0m\u001b[0;34m(\u001b[0m\u001b[0;34m\"x\"\u001b[0m\u001b[0;34m,\u001b[0m \u001b[0mstd_range\u001b[0m\u001b[0;34m)\u001b[0m\u001b[0;34m\u001b[0m\u001b[0;34m\u001b[0m\u001b[0m\n\u001b[0;32m---> 11\u001b[0;31m     \u001b[0mv\u001b[0m \u001b[0;34m=\u001b[0m \u001b[0mnorm_cdf\u001b[0m\u001b[0;34m(\u001b[0m\u001b[0malpha\u001b[0m \u001b[0;34m+\u001b[0m \u001b[0mpm\u001b[0m\u001b[0;34m.\u001b[0m\u001b[0mmath\u001b[0m\u001b[0;34m.\u001b[0m\u001b[0mdot\u001b[0m\u001b[0;34m(\u001b[0m\u001b[0mx\u001b[0m\u001b[0;34m,\u001b[0m \u001b[0mbeta\u001b[0m\u001b[0;34m)\u001b[0m\u001b[0;34m)\u001b[0m\u001b[0;34m\u001b[0m\u001b[0;34m\u001b[0m\u001b[0m\n\u001b[0m\u001b[1;32m     12\u001b[0m     \u001b[0mw\u001b[0m \u001b[0;34m=\u001b[0m \u001b[0mpm\u001b[0m\u001b[0;34m.\u001b[0m\u001b[0mDeterministic\u001b[0m\u001b[0;34m(\u001b[0m\u001b[0;34m\"w\"\u001b[0m\u001b[0;34m,\u001b[0m \u001b[0mstick_breaking\u001b[0m\u001b[0;34m(\u001b[0m\u001b[0mv\u001b[0m\u001b[0;34m)\u001b[0m\u001b[0;34m)\u001b[0m\u001b[0;34m\u001b[0m\u001b[0;34m\u001b[0m\u001b[0m\n",
      "\u001b[0;32m<ipython-input-11-4ac2101a67dd>\u001b[0m in \u001b[0;36mnorm_cdf\u001b[0;34m(z)\u001b[0m\n\u001b[1;32m      1\u001b[0m \u001b[0;32mdef\u001b[0m \u001b[0mnorm_cdf\u001b[0m\u001b[0;34m(\u001b[0m\u001b[0mz\u001b[0m\u001b[0;34m)\u001b[0m\u001b[0;34m:\u001b[0m\u001b[0;34m\u001b[0m\u001b[0;34m\u001b[0m\u001b[0m\n\u001b[0;32m----> 2\u001b[0;31m     \u001b[0;32mreturn\u001b[0m \u001b[0;36m0.5\u001b[0m \u001b[0;34m*\u001b[0m \u001b[0;34m(\u001b[0m\u001b[0;36m1\u001b[0m \u001b[0;34m+\u001b[0m \u001b[0mtt\u001b[0m\u001b[0;34m.\u001b[0m\u001b[0merf\u001b[0m\u001b[0;34m(\u001b[0m\u001b[0mz\u001b[0m \u001b[0;34m/\u001b[0m \u001b[0mnp\u001b[0m\u001b[0;34m.\u001b[0m\u001b[0msqrt\u001b[0m\u001b[0;34m(\u001b[0m\u001b[0;36m2\u001b[0m\u001b[0;34m)\u001b[0m\u001b[0;34m)\u001b[0m\u001b[0;34m)\u001b[0m\u001b[0;34m\u001b[0m\u001b[0;34m\u001b[0m\u001b[0m\n\u001b[0m\u001b[1;32m      3\u001b[0m \u001b[0;34m\u001b[0m\u001b[0m\n\u001b[1;32m      4\u001b[0m \u001b[0;32mdef\u001b[0m \u001b[0mstick_breaking\u001b[0m\u001b[0;34m(\u001b[0m\u001b[0mv\u001b[0m\u001b[0;34m)\u001b[0m\u001b[0;34m:\u001b[0m\u001b[0;34m\u001b[0m\u001b[0;34m\u001b[0m\u001b[0m\n\u001b[1;32m      5\u001b[0m     return v * at.concatenate(\n",
      "\u001b[0;31mNameError\u001b[0m: name 'tt' is not defined"
     ]
    }
   ],
   "source": [
    "N, _ = df.shape\n",
    "K = 20\n",
    "\n",
    "std_range = df.std_range.values[:, np.newaxis]\n",
    "std_logratio = df.std_logratio.values\n",
    "\n",
    "with pm.Model() as model:\n",
    "    alpha = pm.Normal(\"alpha\", 0.0, 5.0, shape=K)\n",
    "    beta = pm.Normal(\"beta\", 0.0, 5.0, shape=(1, K))\n",
    "    x = pm.Data(\"x\", std_range)\n",
    "    v = norm_cdf(alpha + pm.math.dot(x, beta))\n",
    "    w = pm.Deterministic(\"w\", stick_breaking(v))"
   ]
  },
  {
   "cell_type": "markdown",
   "metadata": {
    "papermill": {
     "duration": 0.026426,
     "end_time": "2020-12-18T15:39:53.491766",
     "exception": false,
     "start_time": "2020-12-18T15:39:53.465340",
     "status": "completed"
    },
    "tags": []
   },
   "source": [
    "We have defined `x` as a `pm.Data` container in order to use `PyMC3`'s posterior prediction capabilities later.\n",
    "\n",
    "While the dependent density regression model theoretically has infinitely many components, we must truncate the model to finitely many components (in this case, twenty) in order to express it using `PyMC3`.  After sampling from the model, we will verify that truncation did not unduly influence our results.\n",
    "\n",
    "Since the LIDAR data seems to have several linear components, we use the linear models\n",
    "\n",
    "$$\n",
    "\\begin{align*}\n",
    "\\mu_i\\ |\\ x\n",
    "    & \\sim \\gamma_i + \\delta_i x \\\\\n",
    "\\gamma_i\n",
    "    & \\sim N(0, 10^2) \\\\\n",
    "\\delta_i\n",
    "    & \\sim N(0, 10^2)\n",
    "\\end{align*}\n",
    "$$\n",
    "\n",
    "for the conditional component means."
   ]
  },
  {
   "cell_type": "code",
   "execution_count": 10,
   "metadata": {
    "execution": {
     "iopub.execute_input": "2020-12-18T15:39:53.557290Z",
     "iopub.status.busy": "2020-12-18T15:39:53.556204Z",
     "iopub.status.idle": "2020-12-18T15:39:53.787741Z",
     "shell.execute_reply": "2020-12-18T15:39:53.787110Z"
    },
    "papermill": {
     "duration": 0.26821,
     "end_time": "2020-12-18T15:39:53.787869",
     "exception": false,
     "start_time": "2020-12-18T15:39:53.519659",
     "status": "completed"
    },
    "tags": []
   },
   "outputs": [],
   "source": [
    "with model:\n",
    "    gamma = pm.Normal(\"gamma\", 0.0, 10.0, shape=K)\n",
    "    delta = pm.Normal(\"delta\", 0.0, 10.0, shape=(1, K))\n",
    "    mu = pm.Deterministic(\"mu\", gamma + pm.math.dot(x, delta))"
   ]
  },
  {
   "cell_type": "markdown",
   "metadata": {
    "papermill": {
     "duration": 0.030827,
     "end_time": "2020-12-18T15:39:53.849720",
     "exception": false,
     "start_time": "2020-12-18T15:39:53.818893",
     "status": "completed"
    },
    "tags": []
   },
   "source": [
    "Finally, we place the prior $\\tau_i \\sim \\textrm{Gamma}(1, 1)$ on the component precisions."
   ]
  },
  {
   "cell_type": "code",
   "execution_count": 11,
   "metadata": {
    "execution": {
     "iopub.execute_input": "2020-12-18T15:39:53.921597Z",
     "iopub.status.busy": "2020-12-18T15:39:53.920393Z",
     "iopub.status.idle": "2020-12-18T15:40:49.643976Z",
     "shell.execute_reply": "2020-12-18T15:40:49.644515Z"
    },
    "papermill": {
     "duration": 55.765002,
     "end_time": "2020-12-18T15:40:49.644639",
     "exception": false,
     "start_time": "2020-12-18T15:39:53.879637",
     "status": "completed"
    },
    "tags": []
   },
   "outputs": [
    {
     "ename": "TypeError",
     "evalue": "dist() takes 2 positional arguments but 3 positional arguments (and 1 keyword-only argument) were given",
     "output_type": "error",
     "traceback": [
      "\u001b[0;31m---------------------------------------------------------------------------\u001b[0m",
      "\u001b[0;31mTypeError\u001b[0m                                 Traceback (most recent call last)",
      "\u001b[0;32m<ipython-input-11-10f82b9590c0>\u001b[0m in \u001b[0;36m<module>\u001b[0;34m\u001b[0m\n\u001b[1;32m      2\u001b[0m     \u001b[0mtau\u001b[0m \u001b[0;34m=\u001b[0m \u001b[0mpm\u001b[0m\u001b[0;34m.\u001b[0m\u001b[0mGamma\u001b[0m\u001b[0;34m(\u001b[0m\u001b[0;34m\"tau\"\u001b[0m\u001b[0;34m,\u001b[0m \u001b[0;36m1.0\u001b[0m\u001b[0;34m,\u001b[0m \u001b[0;36m1.0\u001b[0m\u001b[0;34m,\u001b[0m \u001b[0mshape\u001b[0m\u001b[0;34m=\u001b[0m\u001b[0mK\u001b[0m\u001b[0;34m)\u001b[0m\u001b[0;34m\u001b[0m\u001b[0;34m\u001b[0m\u001b[0m\n\u001b[1;32m      3\u001b[0m     \u001b[0my\u001b[0m \u001b[0;34m=\u001b[0m \u001b[0mpm\u001b[0m\u001b[0;34m.\u001b[0m\u001b[0mData\u001b[0m\u001b[0;34m(\u001b[0m\u001b[0;34m\"y\"\u001b[0m\u001b[0;34m,\u001b[0m \u001b[0mstd_logratio\u001b[0m\u001b[0;34m)\u001b[0m\u001b[0;34m\u001b[0m\u001b[0;34m\u001b[0m\u001b[0m\n\u001b[0;32m----> 4\u001b[0;31m     \u001b[0mobs\u001b[0m \u001b[0;34m=\u001b[0m \u001b[0mpm\u001b[0m\u001b[0;34m.\u001b[0m\u001b[0mNormalMixture\u001b[0m\u001b[0;34m(\u001b[0m\u001b[0;34m\"obs\"\u001b[0m\u001b[0;34m,\u001b[0m \u001b[0mw\u001b[0m\u001b[0;34m,\u001b[0m \u001b[0mmu\u001b[0m\u001b[0;34m,\u001b[0m \u001b[0mtau\u001b[0m\u001b[0;34m=\u001b[0m\u001b[0mtau\u001b[0m\u001b[0;34m,\u001b[0m \u001b[0mobserved\u001b[0m\u001b[0;34m=\u001b[0m\u001b[0my\u001b[0m\u001b[0;34m)\u001b[0m\u001b[0;34m\u001b[0m\u001b[0;34m\u001b[0m\u001b[0m\n\u001b[0m\u001b[1;32m      5\u001b[0m \u001b[0;34m\u001b[0m\u001b[0m\n\u001b[1;32m      6\u001b[0m \u001b[0mpm\u001b[0m\u001b[0;34m.\u001b[0m\u001b[0mmodel_to_graphviz\u001b[0m\u001b[0;34m(\u001b[0m\u001b[0mmodel\u001b[0m\u001b[0;34m)\u001b[0m\u001b[0;34m\u001b[0m\u001b[0;34m\u001b[0m\u001b[0m\n",
      "\u001b[0;32m~/Dropbox/My Mac (Larrys-MBP)/Documents/GitHub/pymc3/pymc3/distributions/distribution.py\u001b[0m in \u001b[0;36m__new__\u001b[0;34m(cls, name, rng, dims, initval, observed, total_size, transform, *args, **kwargs)\u001b[0m\n\u001b[1;32m    205\u001b[0m         \u001b[0;31m# Create the RV without specifying initval, because the initval may have a shape\u001b[0m\u001b[0;34m\u001b[0m\u001b[0;34m\u001b[0m\u001b[0;34m\u001b[0m\u001b[0m\n\u001b[1;32m    206\u001b[0m         \u001b[0;31m# that only matches after replicating with a size implied by dims (see below).\u001b[0m\u001b[0;34m\u001b[0m\u001b[0;34m\u001b[0m\u001b[0;34m\u001b[0m\u001b[0m\n\u001b[0;32m--> 207\u001b[0;31m         \u001b[0mrv_out\u001b[0m \u001b[0;34m=\u001b[0m \u001b[0mcls\u001b[0m\u001b[0;34m.\u001b[0m\u001b[0mdist\u001b[0m\u001b[0;34m(\u001b[0m\u001b[0;34m*\u001b[0m\u001b[0margs\u001b[0m\u001b[0;34m,\u001b[0m \u001b[0mrng\u001b[0m\u001b[0;34m=\u001b[0m\u001b[0mrng\u001b[0m\u001b[0;34m,\u001b[0m \u001b[0minitval\u001b[0m\u001b[0;34m=\u001b[0m\u001b[0;32mNone\u001b[0m\u001b[0;34m,\u001b[0m \u001b[0;34m**\u001b[0m\u001b[0mkwargs\u001b[0m\u001b[0;34m)\u001b[0m\u001b[0;34m\u001b[0m\u001b[0;34m\u001b[0m\u001b[0m\n\u001b[0m\u001b[1;32m    208\u001b[0m         \u001b[0mndim_actual\u001b[0m \u001b[0;34m=\u001b[0m \u001b[0mrv_out\u001b[0m\u001b[0;34m.\u001b[0m\u001b[0mndim\u001b[0m\u001b[0;34m\u001b[0m\u001b[0;34m\u001b[0m\u001b[0m\n\u001b[1;32m    209\u001b[0m         \u001b[0mresize_shape\u001b[0m \u001b[0;34m=\u001b[0m \u001b[0;32mNone\u001b[0m\u001b[0;34m\u001b[0m\u001b[0;34m\u001b[0m\u001b[0m\n",
      "\u001b[0;31mTypeError\u001b[0m: dist() takes 2 positional arguments but 3 positional arguments (and 1 keyword-only argument) were given"
     ]
    }
   ],
   "source": [
    "with model:\n",
    "    tau = pm.Gamma(\"tau\", 1.0, 1.0, shape=K)\n",
    "    y = pm.Data(\"y\", std_logratio)\n",
    "    obs = pm.NormalMixture(\"obs\", w, mu, tau=tau, observed=y)\n",
    "\n",
    "pm.model_to_graphviz(model)"
   ]
  },
  {
   "cell_type": "markdown",
   "metadata": {
    "papermill": {
     "duration": 0.027851,
     "end_time": "2020-12-18T15:40:49.700524",
     "exception": false,
     "start_time": "2020-12-18T15:40:49.672673",
     "status": "completed"
    },
    "tags": []
   },
   "source": [
    "We now sample from the dependent density regression model."
   ]
  },
  {
   "cell_type": "code",
   "execution_count": null,
   "metadata": {
    "execution": {
     "iopub.execute_input": "2020-12-18T15:40:49.763101Z",
     "iopub.status.busy": "2020-12-18T15:40:49.762286Z",
     "iopub.status.idle": "2020-12-18T15:48:50.089080Z",
     "shell.execute_reply": "2020-12-18T15:48:50.087914Z"
    },
    "papermill": {
     "duration": 480.361556,
     "end_time": "2020-12-18T15:48:50.089232",
     "exception": false,
     "start_time": "2020-12-18T15:40:49.727676",
     "status": "completed"
    },
    "tags": []
   },
   "outputs": [],
   "source": [
    "SAMPLES = 20000\n",
    "BURN = 10000\n",
    "\n",
    "with model:\n",
    "    step = pm.Metropolis()\n",
    "    trace = pm.sample(SAMPLES, step=step, tune=BURN, random_seed=SEED, return_inferencedata=True)"
   ]
  },
  {
   "cell_type": "markdown",
   "metadata": {
    "papermill": {
     "duration": 0.029328,
     "end_time": "2020-12-18T15:48:50.149503",
     "exception": false,
     "start_time": "2020-12-18T15:48:50.120175",
     "status": "completed"
    },
    "tags": []
   },
   "source": [
    "To verify that truncation did not unduly influence our results, we plot the largest posterior expected mixture weight for each component.  (In this model, each point has a mixture weight for each component, so we plot the maximum mixture weight for each component across all data points in order to judge if the component exerts any influence on the posterior.)"
   ]
  },
  {
   "cell_type": "code",
   "execution_count": null,
   "metadata": {
    "execution": {
     "iopub.execute_input": "2020-12-18T15:48:50.215378Z",
     "iopub.status.busy": "2020-12-18T15:48:50.214431Z",
     "iopub.status.idle": "2020-12-18T15:48:50.218196Z",
     "shell.execute_reply": "2020-12-18T15:48:50.218804Z"
    },
    "papermill": {
     "duration": 0.040946,
     "end_time": "2020-12-18T15:48:50.218924",
     "exception": false,
     "start_time": "2020-12-18T15:48:50.177978",
     "status": "completed"
    },
    "tags": []
   },
   "outputs": [],
   "source": [
    "trace.posterior[\"w\"].shape  # (n_chains, n_samples, N, K)"
   ]
  },
  {
   "cell_type": "code",
   "execution_count": null,
   "metadata": {
    "execution": {
     "iopub.execute_input": "2020-12-18T15:48:50.285924Z",
     "iopub.status.busy": "2020-12-18T15:48:50.284921Z",
     "iopub.status.idle": "2020-12-18T15:48:50.844573Z",
     "shell.execute_reply": "2020-12-18T15:48:50.845231Z"
    },
    "papermill": {
     "duration": 0.5966,
     "end_time": "2020-12-18T15:48:50.845425",
     "exception": false,
     "start_time": "2020-12-18T15:48:50.248825",
     "status": "completed"
    },
    "tags": []
   },
   "outputs": [],
   "source": [
    "fig, ax = plt.subplots(figsize=(8, 6))\n",
    "\n",
    "w_posterior = trace.posterior[\"w\"].data\n",
    "# reshape to (n_chains*n_samples, N, K)\n",
    "w_posterior = w_posterior.reshape(-1, w_posterior.shape[2], w_posterior.shape[3])\n",
    "ax.bar(np.arange(K) + 1, w_posterior.mean(axis=0).max(axis=0))\n",
    "\n",
    "ax.set_xlim(1 - 0.5, K + 0.5)\n",
    "ax.set_xticks(np.arange(0, K, 2) + 1)\n",
    "ax.set_xlabel(\"Mixture component\")\n",
    "\n",
    "ax.set_ylabel(\"Largest posterior expected\\nmixture weight\");"
   ]
  },
  {
   "cell_type": "markdown",
   "metadata": {
    "papermill": {
     "duration": 0.031097,
     "end_time": "2020-12-18T15:48:50.911683",
     "exception": false,
     "start_time": "2020-12-18T15:48:50.880586",
     "status": "completed"
    },
    "tags": []
   },
   "source": [
    "Since only three mixture components have appreciable posterior expected weight for any data point, we can be fairly certain that truncation did not unduly influence our results.  (If most components had appreciable posterior expected weight, truncation may have influenced the results, and we would have increased the number of components and sampled again.)\n",
    "\n",
    "Visually, it is reasonable that the LIDAR data has three linear components, so these posterior expected weights seem to have identified the structure of the data well.  We now sample from the posterior predictive distribution to get a better understand the model's performance."
   ]
  },
  {
   "cell_type": "code",
   "execution_count": null,
   "metadata": {
    "execution": {
     "iopub.execute_input": "2020-12-18T15:48:51.606803Z",
     "iopub.status.busy": "2020-12-18T15:48:51.130587Z",
     "iopub.status.idle": "2020-12-18T15:52:56.720126Z",
     "shell.execute_reply": "2020-12-18T15:52:56.720612Z"
    },
    "papermill": {
     "duration": 245.777219,
     "end_time": "2020-12-18T15:52:56.720777",
     "exception": false,
     "start_time": "2020-12-18T15:48:50.943558",
     "status": "completed"
    },
    "tags": []
   },
   "outputs": [],
   "source": [
    "PP_SAMPLES = 5000\n",
    "\n",
    "lidar_pp_x = np.linspace(std_range.min() - 0.05, std_range.max() + 0.05, 100)\n",
    "\n",
    "with model:\n",
    "    pm.set_data({\"x\": lidar_pp_x[:, np.newaxis]})\n",
    "    pp_trace = pm.sample_posterior_predictive(trace, PP_SAMPLES, random_seed=SEED)"
   ]
  },
  {
   "cell_type": "markdown",
   "metadata": {
    "papermill": {
     "duration": 0.032508,
     "end_time": "2020-12-18T15:52:56.786756",
     "exception": false,
     "start_time": "2020-12-18T15:52:56.754248",
     "status": "completed"
    },
    "tags": []
   },
   "source": [
    "Below we plot the posterior expected value and the 95% posterior credible interval."
   ]
  },
  {
   "cell_type": "code",
   "execution_count": null,
   "metadata": {
    "execution": {
     "iopub.execute_input": "2020-12-18T15:52:56.864375Z",
     "iopub.status.busy": "2020-12-18T15:52:56.863260Z",
     "iopub.status.idle": "2020-12-18T15:52:57.294728Z",
     "shell.execute_reply": "2020-12-18T15:52:57.295278Z"
    },
    "papermill": {
     "duration": 0.475588,
     "end_time": "2020-12-18T15:52:57.295445",
     "exception": false,
     "start_time": "2020-12-18T15:52:56.819857",
     "status": "completed"
    },
    "tags": []
   },
   "outputs": [],
   "source": [
    "fig, ax = plt.subplots(figsize=(8, 6))\n",
    "\n",
    "ax.scatter(df.std_range, df.std_logratio, color=blue, zorder=10, label=None)\n",
    "\n",
    "low, high = np.percentile(pp_trace[\"obs\"], [2.5, 97.5], axis=0)\n",
    "ax.fill_between(\n",
    "    lidar_pp_x, low, high, color=\"k\", alpha=0.35, zorder=5, label=\"95% posterior credible interval\"\n",
    ")\n",
    "\n",
    "ax.plot(lidar_pp_x, pp_trace[\"obs\"].mean(axis=0), c=\"k\", zorder=6, label=\"Posterior expected value\")\n",
    "\n",
    "ax.set_xticklabels([])\n",
    "ax.set_xlabel(\"Standardized range\")\n",
    "\n",
    "ax.set_yticklabels([])\n",
    "ax.set_ylabel(\"Standardized log ratio\")\n",
    "\n",
    "ax.legend(loc=1)\n",
    "ax.set_title(\"LIDAR Data\");"
   ]
  },
  {
   "cell_type": "markdown",
   "metadata": {
    "papermill": {
     "duration": 0.037029,
     "end_time": "2020-12-18T15:52:57.371211",
     "exception": false,
     "start_time": "2020-12-18T15:52:57.334182",
     "status": "completed"
    },
    "tags": []
   },
   "source": [
    "The model has fit the linear components of the data well, and also accomodated its heteroskedasticity.  This flexibility, along with the ability to modularly specify the conditional mixture weights and conditional component densities, makes dependent density regression an extremely useful nonparametric Bayesian model.\n",
    "\n",
    "To learn more about depdendent density regression and related models, consult [_Bayesian Data Analysis_](http://www.stat.columbia.edu/~gelman/book/), [_Bayesian Nonparametric Data Analysis_](http://www.springer.com/us/book/9783319189673), or [_Bayesian Nonparametrics_](https://www.google.com/webhp?sourceid=chrome-instant&ion=1&espv=2&ie=UTF-8#q=bayesian+nonparametrics+book).\n",
    "\n",
    "This example first appeared [here](http://austinrochford.com/posts/2017-01-18-ddp-pymc3.html).\n",
    "\n",
    "Author: [Austin Rochford](https://github.com/AustinRochford/)"
   ]
  },
  {
   "cell_type": "code",
   "execution_count": null,
   "metadata": {
    "execution": {
     "iopub.execute_input": "2020-12-18T15:53:09.107982Z",
     "iopub.status.busy": "2020-12-18T15:53:09.106908Z",
     "iopub.status.idle": "2020-12-18T15:53:09.194464Z",
     "shell.execute_reply": "2020-12-18T15:53:09.193888Z"
    },
    "papermill": {
     "duration": 0.137799,
     "end_time": "2020-12-18T15:53:09.194592",
     "exception": false,
     "start_time": "2020-12-18T15:53:09.056793",
     "status": "completed"
    },
    "tags": []
   },
   "outputs": [],
   "source": [
    "%load_ext watermark\n",
    "%watermark -n -u -v -iv -w"
   ]
  },
  {
   "cell_type": "code",
   "execution_count": null,
   "metadata": {
    "papermill": {
     "duration": 0.042162,
     "end_time": "2020-12-18T15:53:09.280948",
     "exception": false,
     "start_time": "2020-12-18T15:53:09.238786",
     "status": "completed"
    },
    "tags": []
   },
   "outputs": [],
   "source": []
  }
 ],
 "metadata": {
  "kernelspec": {
   "display_name": "py38",
   "language": "python",
   "name": "py38"
  },
  "language_info": {
   "codemirror_mode": {
    "name": "ipython",
    "version": 3
   },
   "file_extension": ".py",
   "mimetype": "text/x-python",
   "name": "python",
   "nbconvert_exporter": "python",
   "pygments_lexer": "ipython3",
   "version": "3.8.10"
  },
  "papermill": {
   "duration": 844.57815,
   "end_time": "2020-12-18T15:53:09.535936",
   "environment_variables": {},
   "exception": null,
   "input_path": "__notebook__.ipynb",
   "output_path": "__notebook__.ipynb",
   "parameters": {},
   "start_time": "2020-12-18T15:39:04.957786",
   "version": "2.1.0"
  }
 },
 "nbformat": 4,
 "nbformat_minor": 4
}
