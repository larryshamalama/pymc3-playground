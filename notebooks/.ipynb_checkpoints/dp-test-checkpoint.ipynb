{
 "cells": [
  {
   "cell_type": "code",
   "execution_count": 1,
   "id": "fe2cf2ea",
   "metadata": {},
   "outputs": [],
   "source": [
    "import numpy as np\n",
    "import pandas as pd\n",
    "import pymc3 as pm\n",
    "import arviz as az\n",
    "\n",
    "from aesara import tensor as at\n",
    "from matplotlib import pyplot as plt"
   ]
  },
  {
   "cell_type": "code",
   "execution_count": 2,
   "id": "ac1c6643",
   "metadata": {},
   "outputs": [],
   "source": [
    "old_faithful_df = pd.read_csv(pm.get_data(\"old_faithful.csv\"))\n",
    "waiting_times = old_faithful_df[\"waiting\"]\n",
    "waiting_times = ((waiting_times - waiting_times.mean())/waiting_times.std()).values"
   ]
  },
  {
   "cell_type": "code",
   "execution_count": 3,
   "id": "19448be5",
   "metadata": {},
   "outputs": [],
   "source": [
    "K = 20"
   ]
  },
  {
   "cell_type": "code",
   "execution_count": null,
   "id": "19435586",
   "metadata": {},
   "outputs": [],
   "source": [
    "def stick_breaking(betas):\n",
    "    '''\n",
    "    betas is a K-vector of iid draws from a Beta distribution\n",
    "    '''\n",
    "    sticks = at.concatenate(\n",
    "        [\n",
    "            [1],\n",
    "            (1 - betas[:-1])\n",
    "        ]\n",
    "    )\n",
    "    \n",
    "    return at.mul(betas, at.cumprod(sticks))"
   ]
  },
  {
   "cell_type": "code",
   "execution_count": null,
   "id": "6db70dc1",
   "metadata": {},
   "outputs": [],
   "source": [
    "with pm.Model() as model:\n",
    "    alpha = pm.Gamma(name=\"alpha\", alpha=1, beta=1)\n",
    "    v = pm.Beta(name=\"v\", alpha=1, beta=alpha, shape=(K,)) # beta=alpha kinda confusing here\n",
    "    \n",
    "    w = pm.Deterministic(name=\"w\", var=stick_breaking(v))\n",
    "    mu = pm.Normal(name=\"mu\", mu=0, sigma=5)\n",
    "    sigma = pm.InverseGamma(name=\"sigma\", alpha=1, beta=1, shape=(K,))\n",
    "    obs = pm.NormalMixture(name=\"theta\", w=w, mu=mu, tau=1/sigma, observed=waiting_times)"
   ]
  },
  {
   "cell_type": "code",
   "execution_count": null,
   "id": "febee124",
   "metadata": {},
   "outputs": [],
   "source": [
    "SAMPLES = 20000\n",
    "BURN = 10000\n",
    "\n",
    "with model:\n",
    "    step = pm.Metropolis(target_accept=0.9)\n",
    "    trace = pm.sample(\n",
    "        SAMPLES, \n",
    "        step=step, \n",
    "        tune=BURN, \n",
    "        chains=4, \n",
    "        random_seed=123, \n",
    "        return_inferencedata=True, \n",
    "        init=\"advi\",\n",
    "    )"
   ]
  },
  {
   "cell_type": "code",
   "execution_count": null,
   "id": "a2bc57ff",
   "metadata": {},
   "outputs": [],
   "source": [
    "az.plot_trace(trace)"
   ]
  },
  {
   "cell_type": "code",
   "execution_count": 35,
   "id": "dc765e0f",
   "metadata": {},
   "outputs": [
    {
     "name": "stderr",
     "output_type": "stream",
     "text": [
      "<ipython-input-35-cb1d16c19db3>:3: FutureWarning: In v4.0, pm.sample will return an `arviz.InferenceData` object instead of a `MultiTrace` by default. You can pass return_inferencedata=True or return_inferencedata=False to be safe and silence this warning.\n",
      "  trace = pm.sample(10000)\n",
      "Auto-assigning NUTS sampler...\n",
      "Initializing NUTS using jitter+adapt_diag...\n",
      "Multiprocess sampling (2 chains in 2 jobs)\n",
      "NUTS: [w]\n"
     ]
    },
    {
     "data": {
      "text/html": [
       "\n",
       "    <div>\n",
       "        <style>\n",
       "            /* Turns off some styling */\n",
       "            progress {\n",
       "                /* gets rid of default border in Firefox and Opera. */\n",
       "                border: none;\n",
       "                /* Needs to be in here for Safari polyfill so background images work as expected. */\n",
       "                background-size: auto;\n",
       "            }\n",
       "            .progress-bar-interrupted, .progress-bar-interrupted::-webkit-progress-bar {\n",
       "                background: #F44336;\n",
       "            }\n",
       "        </style>\n",
       "      <progress value='22000' class='' max='22000' style='width:300px; height:20px; vertical-align: middle;'></progress>\n",
       "      100.00% [22000/22000 00:49<00:00 Sampling 2 chains, 5 divergences]\n",
       "    </div>\n",
       "    "
      ],
      "text/plain": [
       "<IPython.core.display.HTML object>"
      ]
     },
     "metadata": {},
     "output_type": "display_data"
    },
    {
     "name": "stderr",
     "output_type": "stream",
     "text": [
      "Sampling 2 chains for 1_000 tune and 10_000 draw iterations (2_000 + 20_000 draws total) took 67 seconds.\n",
      "There were 2 divergences after tuning. Increase `target_accept` or reparameterize.\n",
      "There were 3 divergences after tuning. Increase `target_accept` or reparameterize.\n",
      "The number of effective samples is smaller than 25% for some parameters.\n"
     ]
    }
   ],
   "source": [
    "with pm.Model() as model:\n",
    "    w = pm.Dirichlet(name=\"w\", a=[1]*30)\n",
    "    trace = pm.sample(10000)"
   ]
  },
  {
   "cell_type": "code",
   "execution_count": 42,
   "id": "38a84ad7",
   "metadata": {},
   "outputs": [
    {
     "data": {
      "text/plain": [
       "array([[0.00173831, 0.08497921, 0.05517845, ..., 0.00403032, 0.03469542,\n",
       "        0.01529772],\n",
       "       [0.00525818, 0.05597316, 0.04727625, ..., 0.05223651, 0.06529829,\n",
       "        0.02224548],\n",
       "       [0.00804903, 0.00866127, 0.06025815, ..., 0.03034349, 0.00897736,\n",
       "        0.01864374],\n",
       "       ...,\n",
       "       [0.00262708, 0.04504959, 0.00019336, ..., 0.07143613, 0.03380029,\n",
       "        0.04570397],\n",
       "       [0.13230428, 0.01677348, 0.09757534, ..., 0.01527133, 0.00908755,\n",
       "        0.02381493],\n",
       "       [0.00071193, 0.03728508, 0.00309891, ..., 0.06866954, 0.0317229 ,\n",
       "        0.02248025]])"
      ]
     },
     "execution_count": 42,
     "metadata": {},
     "output_type": "execute_result"
    }
   ],
   "source": [
    "trace.get_values(\"w\")"
   ]
  },
  {
   "cell_type": "code",
   "execution_count": null,
   "id": "ad7772d4",
   "metadata": {},
   "outputs": [],
   "source": []
  }
 ],
 "metadata": {
  "kernelspec": {
   "display_name": "py38",
   "language": "python",
   "name": "py38"
  },
  "language_info": {
   "codemirror_mode": {
    "name": "ipython",
    "version": 3
   },
   "file_extension": ".py",
   "mimetype": "text/x-python",
   "name": "python",
   "nbconvert_exporter": "python",
   "pygments_lexer": "ipython3",
   "version": "3.8.10"
  }
 },
 "nbformat": 4,
 "nbformat_minor": 5
}
