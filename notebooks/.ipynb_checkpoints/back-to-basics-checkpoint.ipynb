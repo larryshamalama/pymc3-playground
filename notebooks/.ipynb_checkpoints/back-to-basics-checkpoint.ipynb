{
 "cells": [
  {
   "cell_type": "code",
   "execution_count": 1,
   "id": "d375ed26",
   "metadata": {},
   "outputs": [
    {
     "name": "stderr",
     "output_type": "stream",
     "text": [
      "You are running the v4 development version of PyMC3 which currently still lacks key features. You probably want to use the stable v3 instead which you can either install via conda or find on the v3 GitHub branch: https://github.com/pymc-devs/pymc3/tree/v3\n"
     ]
    }
   ],
   "source": [
    "import pymc3 as pm\n",
    "import numpy as np\n",
    "\n",
    "from aesara import tensor as at\n",
    "\n",
    "from sklearn.linear_model import LinearRegression"
   ]
  },
  {
   "cell_type": "code",
   "execution_count": 2,
   "id": "ec1848d9",
   "metadata": {},
   "outputs": [],
   "source": [
    "rng = np.random.RandomState(seed=123)"
   ]
  },
  {
   "cell_type": "code",
   "execution_count": 3,
   "id": "bf9c7fef",
   "metadata": {},
   "outputs": [],
   "source": [
    "x = rng.normal(loc=0, scale=1, size=[30,]) # fixed\n",
    "y = 2*x + 1.5 + rng.normal(loc=0, scale=3.5, size=[30,])"
   ]
  },
  {
   "cell_type": "code",
   "execution_count": 4,
   "id": "e61e0815",
   "metadata": {},
   "outputs": [
    {
     "data": {
      "text/plain": [
       "(2.0166960433374506, 1.519217990346844)"
      ]
     },
     "execution_count": 4,
     "metadata": {},
     "output_type": "execute_result"
    }
   ],
   "source": [
    "lr = LinearRegression()\n",
    "lr.fit(x[..., np.newaxis], y)\n",
    "lr.intercept_, lr.coef_[0]"
   ]
  },
  {
   "cell_type": "code",
   "execution_count": 5,
   "id": "7c3b0ed3",
   "metadata": {},
   "outputs": [
    {
     "name": "stderr",
     "output_type": "stream",
     "text": [
      "Auto-assigning NUTS sampler...\n",
      "Initializing NUTS using jitter+adapt_diag...\n",
      "Sequential sampling (1 chains in 1 job)\n",
      "NUTS: [intercept, weight, noise]\n"
     ]
    },
    {
     "data": {
      "text/html": [
       "\n",
       "    <div>\n",
       "        <style>\n",
       "            /* Turns off some styling */\n",
       "            progress {\n",
       "                /* gets rid of default border in Firefox and Opera. */\n",
       "                border: none;\n",
       "                /* Needs to be in here for Safari polyfill so background images work as expected. */\n",
       "                background-size: auto;\n",
       "            }\n",
       "            .progress-bar-interrupted, .progress-bar-interrupted::-webkit-progress-bar {\n",
       "                background: #F44336;\n",
       "            }\n",
       "        </style>\n",
       "      <progress value='3000' class='' max='3000' style='width:300px; height:20px; vertical-align: middle;'></progress>\n",
       "      100.00% [3000/3000 00:05<00:00 Sampling chain 0, 0 divergences]\n",
       "    </div>\n",
       "    "
      ],
      "text/plain": [
       "<IPython.core.display.HTML object>"
      ]
     },
     "metadata": {},
     "output_type": "display_data"
    },
    {
     "name": "stderr",
     "output_type": "stream",
     "text": [
      "Sampling 1 chain for 1_000 tune and 2_000 draw iterations (1_000 + 2_000 draws total) took 6 seconds.\n",
      "Only one chain was sampled, this makes it impossible to run some convergence checks\n"
     ]
    },
    {
     "data": {
      "text/html": [
       "\n",
       "    <div>\n",
       "        <style>\n",
       "            /* Turns off some styling */\n",
       "            progress {\n",
       "                /* gets rid of default border in Firefox and Opera. */\n",
       "                border: none;\n",
       "                /* Needs to be in here for Safari polyfill so background images work as expected. */\n",
       "                background-size: auto;\n",
       "            }\n",
       "            .progress-bar-interrupted, .progress-bar-interrupted::-webkit-progress-bar {\n",
       "                background: #F44336;\n",
       "            }\n",
       "        </style>\n",
       "      <progress value='2000' class='' max='2000' style='width:300px; height:20px; vertical-align: middle;'></progress>\n",
       "      100.00% [2000/2000 00:00<00:00]\n",
       "    </div>\n",
       "    "
      ],
      "text/plain": [
       "<IPython.core.display.HTML object>"
      ]
     },
     "metadata": {},
     "output_type": "display_data"
    }
   ],
   "source": [
    "with pm.Model() as linear_model:\n",
    "    intercept = pm.Normal(\"intercept\", mu=0, sigma=5)\n",
    "    weight = pm.Normal(\"weight\", mu=0, sigma=5)\n",
    "    noise = pm.Gamma(\"noise\", alpha=1, beta=2)\n",
    "    y_observed = pm.Normal(\n",
    "        \"y_obs\",\n",
    "        mu=weight*x + intercept,\n",
    "        sigma=noise,\n",
    "        observed=y\n",
    "    )\n",
    "    \n",
    "    prior = pm.sample_prior_predictive()\n",
    "    posterior = pm.sample(draws=2000, chains=1)\n",
    "    posterior_pred = pm.sample_posterior_predictive(posterior)"
   ]
  },
  {
   "cell_type": "code",
   "execution_count": 6,
   "id": "35b515e2",
   "metadata": {},
   "outputs": [
    {
     "name": "stderr",
     "output_type": "stream",
     "text": [
      "/Users/larryshamalama/anaconda3/envs/pymc3-dev-py38/lib/python3.8/site-packages/arviz/data/inference_data.py:436: UserWarning: The attributes are not same for all groups. Considering only the first group `attrs`\n",
      "  warnings.warn(\n"
     ]
    },
    {
     "data": {
      "text/plain": [
       "array([1.98718119])"
      ]
     },
     "execution_count": 6,
     "metadata": {},
     "output_type": "execute_result"
    }
   ],
   "source": [
    "posterior.to_dict()[\"posterior\"][\"intercept\"].mean(axis=1)"
   ]
  },
  {
   "cell_type": "code",
   "execution_count": 7,
   "id": "25f321bf",
   "metadata": {},
   "outputs": [
    {
     "data": {
      "text/plain": [
       "array([1.47999423])"
      ]
     },
     "execution_count": 7,
     "metadata": {},
     "output_type": "execute_result"
    }
   ],
   "source": [
    "posterior.to_dict()[\"posterior\"][\"weight\"].mean(axis=1)"
   ]
  },
  {
   "cell_type": "code",
   "execution_count": 8,
   "id": "d6bb4415",
   "metadata": {},
   "outputs": [
    {
     "data": {
      "text/plain": [
       "array([3.97925795])"
      ]
     },
     "execution_count": 8,
     "metadata": {},
     "output_type": "execute_result"
    }
   ],
   "source": [
    "posterior.to_dict()[\"posterior\"][\"noise\"].mean(axis=1)"
   ]
  },
  {
   "cell_type": "code",
   "execution_count": 9,
   "id": "fa7c7958",
   "metadata": {},
   "outputs": [
    {
     "data": {
      "text/plain": [
       "0.41783702980220605"
      ]
     },
     "execution_count": 9,
     "metadata": {},
     "output_type": "execute_result"
    }
   ],
   "source": [
    "prior[\"weight\"].mean()"
   ]
  },
  {
   "cell_type": "code",
   "execution_count": 11,
   "id": "52ecf2b5",
   "metadata": {},
   "outputs": [],
   "source": [
    "class Test:\n",
    "    def __init__(self, num):\n",
    "        self.num = num\n",
    "        \n",
    "    @property\n",
    "    def num_inc(self):\n",
    "        \n",
    "        return self.num + 2"
   ]
  },
  {
   "cell_type": "code",
   "execution_count": 13,
   "id": "365a6943",
   "metadata": {},
   "outputs": [
    {
     "data": {
      "text/plain": [
       "6"
      ]
     },
     "execution_count": 13,
     "metadata": {},
     "output_type": "execute_result"
    }
   ],
   "source": [
    "a = Test(4)\n",
    "a.num_inc"
   ]
  },
  {
   "cell_type": "code",
   "execution_count": null,
   "id": "18af8d4e",
   "metadata": {},
   "outputs": [],
   "source": []
  }
 ],
 "metadata": {
  "kernelspec": {
   "display_name": "pymc3-dev-py39",
   "language": "python",
   "name": "pymc3-dev-py39"
  },
  "language_info": {
   "codemirror_mode": {
    "name": "ipython",
    "version": 3
   },
   "file_extension": ".py",
   "mimetype": "text/x-python",
   "name": "python",
   "nbconvert_exporter": "python",
   "pygments_lexer": "ipython3",
   "version": "3.9.4"
  }
 },
 "nbformat": 4,
 "nbformat_minor": 5
}
