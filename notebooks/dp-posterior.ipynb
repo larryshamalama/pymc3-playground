{
 "cells": [
  {
   "cell_type": "code",
   "execution_count": 1,
   "id": "6da85b9e",
   "metadata": {},
   "outputs": [
    {
     "name": "stderr",
     "output_type": "stream",
     "text": [
      "You are running the v4 development version of PyMC3 which currently still lacks key features. You probably want to use the stable v3 instead which you can either install via conda or find on the v3 GitHub branch: https://github.com/pymc-devs/pymc3/tree/v3\n"
     ]
    }
   ],
   "source": [
    "import numpy as np\n",
    "import pymc3 as pm\n",
    "\n",
    "from aesara import tensor as at\n",
    "from scipy import stats as st"
   ]
  },
  {
   "cell_type": "markdown",
   "id": "a8da48da",
   "metadata": {},
   "source": [
    "As recommended by Michael, all shapes consist of prime numbers"
   ]
  },
  {
   "cell_type": "code",
   "execution_count": 2,
   "id": "1303987f",
   "metadata": {},
   "outputs": [],
   "source": [
    "µ, σ = -0.5, 3 # true data-generating parameters\n",
    "\n",
    "Xs = np.random.normal(loc=µ, scale=σ, size=[5,])\n",
    "Xnew = np.array([-3, -1, 0.5, 3.2, 4]) # N' = 5\n",
    "\n",
    "Xs = Xs[..., np.newaxis]\n",
    "Xnew = Xnew[..., np.newaxis]\n",
    "    \n",
    "K = 19"
   ]
  },
  {
   "cell_type": "code",
   "execution_count": 3,
   "id": "ba85d1fc",
   "metadata": {},
   "outputs": [
    {
     "data": {
      "text/plain": [
       "array([0.20232838, 0.43381617, 0.63055866, 0.89127429, 0.9331928 ])"
      ]
     },
     "execution_count": 3,
     "metadata": {},
     "output_type": "execute_result"
    }
   ],
   "source": [
    "st.norm.cdf(Xnew.reshape(-1,), loc=µ, scale=σ)"
   ]
  },
  {
   "cell_type": "code",
   "execution_count": 4,
   "id": "dddbaa24",
   "metadata": {},
   "outputs": [
    {
     "name": "stderr",
     "output_type": "stream",
     "text": [
      "Auto-assigning NUTS sampler...\n",
      "Initializing NUTS using jitter+adapt_diag...\n",
      "Sequential sampling (1 chains in 1 job)\n",
      "NUTS: [G0, sticks]\n"
     ]
    },
    {
     "data": {
      "text/html": [
       "\n",
       "    <div>\n",
       "        <style>\n",
       "            /* Turns off some styling */\n",
       "            progress {\n",
       "                /* gets rid of default border in Firefox and Opera. */\n",
       "                border: none;\n",
       "                /* Needs to be in here for Safari polyfill so background images work as expected. */\n",
       "                background-size: auto;\n",
       "            }\n",
       "            .progress-bar-interrupted, .progress-bar-interrupted::-webkit-progress-bar {\n",
       "                background: #F44336;\n",
       "            }\n",
       "        </style>\n",
       "      <progress value='2000' class='' max='2000' style='width:300px; height:20px; vertical-align: middle;'></progress>\n",
       "      100.00% [2000/2000 00:10<00:00 Sampling chain 0, 0 divergences]\n",
       "    </div>\n",
       "    "
      ],
      "text/plain": [
       "<IPython.core.display.HTML object>"
      ]
     },
     "metadata": {},
     "output_type": "display_data"
    },
    {
     "name": "stderr",
     "output_type": "stream",
     "text": [
      "Sampling 1 chain for 1_000 tune and 1_000 draw iterations (1_000 + 1_000 draws total) took 11 seconds.\n",
      "Only one chain was sampled, this makes it impossible to run some convergence checks\n"
     ]
    }
   ],
   "source": [
    "with pm.Model() as model:\n",
    "    N = Xs.shape[0]\n",
    "    \n",
    "    dirac = at.sum(at.ge(Xnew, Xs.T), axis=1) # shape = (N',)\n",
    "    dirac = at.as_tensor_variable(dirac) # shape = (N',)\n",
    "    \n",
    "    base_dist = pm.Normal(\"G0\", 0, 3, shape=(K, 1)) # K draws\n",
    "    weights = pm.Dirichlet(\n",
    "        name=\"sticks\",\n",
    "        a=np.ones(shape=(K,)),\n",
    "    )\n",
    "    \n",
    "    empirical_base_cdf = at.le(base_dist, Xnew.T)\n",
    "    empirical_base_cdf = at.sum(at.mul(empirical_base_cdf.T, weights), axis=1)\n",
    "    \n",
    "    posterior_dp = pm.Deterministic(\n",
    "        name=\"posterior-dp\",\n",
    "        var=empirical_base_cdf/(1 + N) + dirac/(1 + N),\n",
    "    )\n",
    "    \n",
    "    trace = pm.sample(\n",
    "        draws=1000,\n",
    "        chains=1,\n",
    "    )"
   ]
  },
  {
   "cell_type": "code",
   "execution_count": 5,
   "id": "edb5005a",
   "metadata": {},
   "outputs": [
    {
     "name": "stderr",
     "output_type": "stream",
     "text": [
      "/Users/larryshamalama/anaconda3/envs/pymc3-dev-py38/lib/python3.8/site-packages/arviz/data/inference_data.py:436: UserWarning: The attributes are not same for all groups. Considering only the first group `attrs`\n",
      "  warnings.warn(\n"
     ]
    },
    {
     "data": {
      "text/plain": [
       "array([[0.17990969, 0.38615559, 0.76698384, 0.80085845, 0.97027592],\n",
       "       [0.17852485, 0.3495069 , 0.71265889, 0.80426872, 0.97093539],\n",
       "       [0.19908908, 0.38885517, 0.7573241 , 0.78406105, 0.95072771],\n",
       "       ...,\n",
       "       [0.2090297 , 0.3906765 , 0.73080114, 0.82236342, 0.99212991],\n",
       "       [0.20347505, 0.38909596, 0.75364982, 0.79642596, 0.97903922],\n",
       "       [0.24127624, 0.41206544, 0.75196055, 0.78147412, 0.97720056]])"
      ]
     },
     "execution_count": 5,
     "metadata": {},
     "output_type": "execute_result"
    }
   ],
   "source": [
    "trace.to_dict()[\"posterior\"][\"posterior-dp\"][0]"
   ]
  },
  {
   "cell_type": "code",
   "execution_count": 6,
   "id": "458e40d8",
   "metadata": {},
   "outputs": [
    {
     "name": "stdout",
     "output_type": "stream",
     "text": [
      "Last updated: Thu Jul 08 2021\n",
      "\n",
      "Python implementation: CPython\n",
      "Python version       : 3.8.10\n",
      "IPython version      : 7.25.0\n",
      "\n",
      "pymc3 : 4.0\n",
      "scipy : 1.7.0\n",
      "numpy : 1.21.0\n",
      "aesara: 2.0.12\n",
      "\n",
      "Watermark: 2.2.0\n",
      "\n"
     ]
    }
   ],
   "source": [
    "%load_ext watermark\n",
    "%watermark -n -u -v -iv -w"
   ]
  },
  {
   "cell_type": "code",
   "execution_count": null,
   "id": "55375841",
   "metadata": {},
   "outputs": [],
   "source": []
  }
 ],
 "metadata": {
  "kernelspec": {
   "display_name": "pymc3-dev-py38",
   "language": "python",
   "name": "pymc3-dev-py38"
  },
  "language_info": {
   "codemirror_mode": {
    "name": "ipython",
    "version": 3
   },
   "file_extension": ".py",
   "mimetype": "text/x-python",
   "name": "python",
   "nbconvert_exporter": "python",
   "pygments_lexer": "ipython3",
   "version": "3.8.10"
  }
 },
 "nbformat": 4,
 "nbformat_minor": 5
}
