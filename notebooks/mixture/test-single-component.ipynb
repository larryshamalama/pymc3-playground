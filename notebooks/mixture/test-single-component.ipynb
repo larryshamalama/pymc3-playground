{
 "cells": [
  {
   "cell_type": "code",
   "execution_count": 1,
   "id": "0fbdddb8",
   "metadata": {},
   "outputs": [],
   "source": [
    "import sys\n",
    "sys.path.insert(0, \"../../../pymc\")\n",
    "\n",
    "import pymc as pm\n",
    "import numpy as np\n",
    "\n",
    "import aesara.tensor as at\n",
    "import aesara\n",
    "\n",
    "from aesara.tensor import TensorVariable\n",
    "\n",
    "from pymc.distributions.logprob import logp\n",
    "\n",
    "from aeppl.abstract import MeasurableVariable\n",
    "from aesara.compile.builders import OpFromGraph"
   ]
  },
  {
   "cell_type": "markdown",
   "id": "4c7d3e60",
   "metadata": {},
   "source": [
    "Data and `rng`"
   ]
  },
  {
   "cell_type": "code",
   "execution_count": 2,
   "id": "b5d9d836",
   "metadata": {},
   "outputs": [],
   "source": [
    "rng = np.random.RandomState(seed=34)\n",
    "y_obs = np.concatenate(\n",
    "    (\n",
    "        rng.normal(loc=10, scale=2., size=[20,]),\n",
    "        rng.normal(loc=-10, scale=2., size=[20,]),\n",
    "    )\n",
    ")"
   ]
  },
  {
   "cell_type": "code",
   "execution_count": 3,
   "id": "f189152c",
   "metadata": {},
   "outputs": [],
   "source": [
    "def mixture_rv_op(weights, components):\n",
    "    single_component = (len(components) == 1)\n",
    "    mix_indexes_rng = aesara.shared(np.random.default_rng())\n",
    "\n",
    "    # Extract support and replication ndims from components and weights\n",
    "    component_ndim_supp = components[0].owner.op.ndim_supp\n",
    "    component_ndim_reps = components[0].ndim - component_ndim_supp\n",
    "    weights_ndim_reps = max(0, weights.ndim - component_ndim_reps - 1)\n",
    "\n",
    "    # Broadcast weights to (*replication dimensions, stack dimension),\n",
    "    # ignoring support dimensions\n",
    "    if single_component:\n",
    "        weights_broadcast_shape = at.concatenate(\n",
    "            [\n",
    "            weights.shape[:weights_ndim_reps],\n",
    "            components[0].shape[:component_ndim_reps],\n",
    "        ],\n",
    "        axis=-1,\n",
    "        )\n",
    "    else:\n",
    "        weights_broadcast_shape = at.concatenate(\n",
    "            [\n",
    "                weights.shape[:weights_ndim_reps],\n",
    "                components[0].shape[:component_ndim_reps],\n",
    "                [len(components)],\n",
    "            ],\n",
    "            axis=-1,\n",
    "        )\n",
    "\n",
    "    weights_broadcasted = at.broadcast_to(weights, weights_broadcast_shape)\n",
    "\n",
    "    # Draw mixture indexes\n",
    "    mix_indexes = at.random.categorical(weights_broadcasted, rng=mix_indexes_rng)\n",
    "\n",
    "    # Append (ndim_supp + stack) dimensions to the right of mix_indexes\n",
    "    mix_indexes_padded = at.shape_padright(mix_indexes, component_ndim_supp + 1)\n",
    "\n",
    "    # Append  missing dimensions (if any) to the left of stacked_components\n",
    "    if single_component:\n",
    "        mix_out = at.take_along_axis(components[0], mix_indexes_padded, axis=-1)\n",
    "    else:\n",
    "        stacked_components = at.stack(components, axis=-1)\n",
    "        stacked_components_padded = at.shape_padleft(\n",
    "            stacked_components,\n",
    "            mix_indexes_padded.ndim - stacked_components.ndim,\n",
    "        )\n",
    "\n",
    "        # Index components and squeeze stack dimension\n",
    "        mix_out = at.take_along_axis(stacked_components_padded, mix_indexes_padded, axis=-1)\n",
    "    # There is a Aeasara bug in squeeze with negative axis\n",
    "    # mix_out_ = at.squeeze(mix_out_, axis=-1)\n",
    "    mix_out = at.squeeze(mix_out, axis=mix_out.ndim - 1)\n",
    "    \n",
    "    return mix_out"
   ]
  },
  {
   "cell_type": "markdown",
   "id": "b01fa3f2",
   "metadata": {},
   "source": [
    "## Batched components"
   ]
  },
  {
   "cell_type": "code",
   "execution_count": 4,
   "id": "a2bd5e89",
   "metadata": {},
   "outputs": [
    {
     "data": {
      "text/plain": [
       "array(12.03703483)"
      ]
     },
     "execution_count": 4,
     "metadata": {},
     "output_type": "execute_result"
    }
   ],
   "source": [
    "with pm.Model():\n",
    "    weights = at.as_tensor_variable([0.5, 0.5])\n",
    "    \n",
    "    mu1 = pm.Normal(\"mu\", mu=-10, sigma=1)\n",
    "    mu2 = pm.Normal(\"mu2\", mu=10, sigma=1)\n",
    "    \n",
    "    norm_dist_1 = pm.Normal.dist(mu=mu1, sigma=2)\n",
    "    norm_dist_2 = pm.Normal.dist(mu=mu2, sigma=2)\n",
    "    \n",
    "    components = [norm_dist_1, norm_dist_2]\n",
    "    \n",
    "mixture_rv_op(weights, components).eval()"
   ]
  },
  {
   "cell_type": "markdown",
   "id": "f6840bdd",
   "metadata": {},
   "source": [
    "## Single Batched Component"
   ]
  },
  {
   "cell_type": "code",
   "execution_count": 5,
   "id": "bc6971c2",
   "metadata": {},
   "outputs": [
    {
     "data": {
      "text/plain": [
       "array(-15.24036013)"
      ]
     },
     "execution_count": 5,
     "metadata": {},
     "output_type": "execute_result"
    }
   ],
   "source": [
    "with pm.Model():\n",
    "    mu = pm.Normal(name=\"mu\", mu=0., sigma=5., shape=(2,))\n",
    "    components = [pm.Normal.dist(mu=mu, sigma=3., shape=(2,))]\n",
    "    \n",
    "    weights = at.as_tensor_variable([0.5, 0.5])\n",
    "    \n",
    "mixture_rv_op(weights, components).eval()"
   ]
  },
  {
   "cell_type": "markdown",
   "id": "cef54ca5",
   "metadata": {},
   "source": [
    "## Testing `pm.Mixture` API"
   ]
  },
  {
   "cell_type": "code",
   "execution_count": 6,
   "id": "5a567860",
   "metadata": {},
   "outputs": [
    {
     "data": {
      "text/plain": [
       "array(9.85778188)"
      ]
     },
     "execution_count": 6,
     "metadata": {},
     "output_type": "execute_result"
    }
   ],
   "source": [
    "with pm.Model() as single_batched_model:\n",
    "    mu = pm.Normal(name=\"mu\", mu=[-10, 10], sigma=0.1)\n",
    "    \n",
    "    weights = at.as_tensor_variable([0.5, 0.5])\n",
    "    \n",
    "    mix = pm.Mixture(\"mix\", weights, pm.Normal.dist(mu=mu, sigma=0.1, shape=(2,)))\n",
    "    \n",
    "mix.eval()"
   ]
  },
  {
   "cell_type": "code",
   "execution_count": 7,
   "id": "d6c1e733",
   "metadata": {},
   "outputs": [
    {
     "name": "stderr",
     "output_type": "stream",
     "text": [
      "Auto-assigning NUTS sampler...\n",
      "Initializing NUTS using jitter+adapt_diag...\n"
     ]
    },
    {
     "ename": "TypeError",
     "evalue": "Cannot convert Type TensorType(float64, (None,)) (of Variable Elemwise{add,no_inplace}.0) into Type TensorType(float64, ()). You can try to manually convert Elemwise{add,no_inplace}.0 into a TensorType(float64, ()).",
     "output_type": "error",
     "traceback": [
      "\u001b[0;31m---------------------------------------------------------------------------\u001b[0m",
      "\u001b[0;31mTypeError\u001b[0m                                 Traceback (most recent call last)",
      "Input \u001b[0;32mIn [7]\u001b[0m, in \u001b[0;36m<module>\u001b[0;34m\u001b[0m\n\u001b[1;32m      1\u001b[0m \u001b[38;5;28;01mwith\u001b[39;00m single_batched_model:\n\u001b[0;32m----> 2\u001b[0m     trace \u001b[38;5;241m=\u001b[39m \u001b[43mpm\u001b[49m\u001b[38;5;241;43m.\u001b[39;49m\u001b[43msample\u001b[49m\u001b[43m(\u001b[49m\u001b[43mchains\u001b[49m\u001b[38;5;241;43m=\u001b[39;49m\u001b[38;5;241;43m1\u001b[39;49m\u001b[43m,\u001b[49m\u001b[43m)\u001b[49m\n",
      "File \u001b[0;32m~/Documents/GitHub/pymc3-playground/notebooks/mixture/../../../pymc/pymc/sampling.py:497\u001b[0m, in \u001b[0;36msample\u001b[0;34m(draws, step, init, n_init, initvals, trace, chain_idx, chains, cores, tune, progressbar, model, random_seed, discard_tuned_samples, compute_convergence_checks, callback, jitter_max_retries, return_inferencedata, idata_kwargs, mp_ctx, **kwargs)\u001b[0m\n\u001b[1;32m    494\u001b[0m \u001b[38;5;28;01mtry\u001b[39;00m:\n\u001b[1;32m    495\u001b[0m     \u001b[38;5;66;03m# By default, try to use NUTS\u001b[39;00m\n\u001b[1;32m    496\u001b[0m     _log\u001b[38;5;241m.\u001b[39minfo(\u001b[38;5;124m\"\u001b[39m\u001b[38;5;124mAuto-assigning NUTS sampler...\u001b[39m\u001b[38;5;124m\"\u001b[39m)\n\u001b[0;32m--> 497\u001b[0m     initial_points, step \u001b[38;5;241m=\u001b[39m \u001b[43minit_nuts\u001b[49m\u001b[43m(\u001b[49m\n\u001b[1;32m    498\u001b[0m \u001b[43m        \u001b[49m\u001b[43minit\u001b[49m\u001b[38;5;241;43m=\u001b[39;49m\u001b[43minit\u001b[49m\u001b[43m,\u001b[49m\n\u001b[1;32m    499\u001b[0m \u001b[43m        \u001b[49m\u001b[43mchains\u001b[49m\u001b[38;5;241;43m=\u001b[39;49m\u001b[43mchains\u001b[49m\u001b[43m,\u001b[49m\n\u001b[1;32m    500\u001b[0m \u001b[43m        \u001b[49m\u001b[43mn_init\u001b[49m\u001b[38;5;241;43m=\u001b[39;49m\u001b[43mn_init\u001b[49m\u001b[43m,\u001b[49m\n\u001b[1;32m    501\u001b[0m \u001b[43m        \u001b[49m\u001b[43mmodel\u001b[49m\u001b[38;5;241;43m=\u001b[39;49m\u001b[43mmodel\u001b[49m\u001b[43m,\u001b[49m\n\u001b[1;32m    502\u001b[0m \u001b[43m        \u001b[49m\u001b[43mseeds\u001b[49m\u001b[38;5;241;43m=\u001b[39;49m\u001b[43mrandom_seed\u001b[49m\u001b[43m,\u001b[49m\n\u001b[1;32m    503\u001b[0m \u001b[43m        \u001b[49m\u001b[43mprogressbar\u001b[49m\u001b[38;5;241;43m=\u001b[39;49m\u001b[43mprogressbar\u001b[49m\u001b[43m,\u001b[49m\n\u001b[1;32m    504\u001b[0m \u001b[43m        \u001b[49m\u001b[43mjitter_max_retries\u001b[49m\u001b[38;5;241;43m=\u001b[39;49m\u001b[43mjitter_max_retries\u001b[49m\u001b[43m,\u001b[49m\n\u001b[1;32m    505\u001b[0m \u001b[43m        \u001b[49m\u001b[43mtune\u001b[49m\u001b[38;5;241;43m=\u001b[39;49m\u001b[43mtune\u001b[49m\u001b[43m,\u001b[49m\n\u001b[1;32m    506\u001b[0m \u001b[43m        \u001b[49m\u001b[43minitvals\u001b[49m\u001b[38;5;241;43m=\u001b[39;49m\u001b[43minitvals\u001b[49m\u001b[43m,\u001b[49m\n\u001b[1;32m    507\u001b[0m \u001b[43m        \u001b[49m\u001b[38;5;241;43m*\u001b[39;49m\u001b[38;5;241;43m*\u001b[39;49m\u001b[43mkwargs\u001b[49m\u001b[43m,\u001b[49m\n\u001b[1;32m    508\u001b[0m \u001b[43m    \u001b[49m\u001b[43m)\u001b[49m\n\u001b[1;32m    509\u001b[0m \u001b[38;5;28;01mexcept\u001b[39;00m (\u001b[38;5;167;01mAttributeError\u001b[39;00m, \u001b[38;5;167;01mNotImplementedError\u001b[39;00m, tg\u001b[38;5;241m.\u001b[39mNullTypeGradError):\n\u001b[1;32m    510\u001b[0m     \u001b[38;5;66;03m# gradient computation failed\u001b[39;00m\n\u001b[1;32m    511\u001b[0m     _log\u001b[38;5;241m.\u001b[39minfo(\u001b[38;5;124m\"\u001b[39m\u001b[38;5;124mInitializing NUTS failed. Falling back to elementwise auto-assignment.\u001b[39m\u001b[38;5;124m\"\u001b[39m)\n",
      "File \u001b[0;32m~/Documents/GitHub/pymc3-playground/notebooks/mixture/../../../pymc/pymc/sampling.py:2340\u001b[0m, in \u001b[0;36minit_nuts\u001b[0;34m(init, chains, n_init, model, seeds, progressbar, jitter_max_retries, tune, initvals, **kwargs)\u001b[0m\n\u001b[1;32m   2333\u001b[0m _log\u001b[38;5;241m.\u001b[39minfo(\u001b[38;5;124mf\u001b[39m\u001b[38;5;124m\"\u001b[39m\u001b[38;5;124mInitializing NUTS using \u001b[39m\u001b[38;5;132;01m{\u001b[39;00minit\u001b[38;5;132;01m}\u001b[39;00m\u001b[38;5;124m...\u001b[39m\u001b[38;5;124m\"\u001b[39m)\n\u001b[1;32m   2335\u001b[0m cb \u001b[38;5;241m=\u001b[39m [\n\u001b[1;32m   2336\u001b[0m     pm\u001b[38;5;241m.\u001b[39mcallbacks\u001b[38;5;241m.\u001b[39mCheckParametersConvergence(tolerance\u001b[38;5;241m=\u001b[39m\u001b[38;5;241m1e-2\u001b[39m, diff\u001b[38;5;241m=\u001b[39m\u001b[38;5;124m\"\u001b[39m\u001b[38;5;124mabsolute\u001b[39m\u001b[38;5;124m\"\u001b[39m),\n\u001b[1;32m   2337\u001b[0m     pm\u001b[38;5;241m.\u001b[39mcallbacks\u001b[38;5;241m.\u001b[39mCheckParametersConvergence(tolerance\u001b[38;5;241m=\u001b[39m\u001b[38;5;241m1e-2\u001b[39m, diff\u001b[38;5;241m=\u001b[39m\u001b[38;5;124m\"\u001b[39m\u001b[38;5;124mrelative\u001b[39m\u001b[38;5;124m\"\u001b[39m),\n\u001b[1;32m   2338\u001b[0m ]\n\u001b[0;32m-> 2340\u001b[0m initial_points \u001b[38;5;241m=\u001b[39m \u001b[43m_init_jitter\u001b[49m\u001b[43m(\u001b[49m\n\u001b[1;32m   2341\u001b[0m \u001b[43m    \u001b[49m\u001b[43mmodel\u001b[49m\u001b[43m,\u001b[49m\n\u001b[1;32m   2342\u001b[0m \u001b[43m    \u001b[49m\u001b[43minitvals\u001b[49m\u001b[43m,\u001b[49m\n\u001b[1;32m   2343\u001b[0m \u001b[43m    \u001b[49m\u001b[43mseeds\u001b[49m\u001b[38;5;241;43m=\u001b[39;49m\u001b[43mseeds\u001b[49m\u001b[43m,\u001b[49m\n\u001b[1;32m   2344\u001b[0m \u001b[43m    \u001b[49m\u001b[43mjitter\u001b[49m\u001b[38;5;241;43m=\u001b[39;49m\u001b[38;5;124;43m\"\u001b[39;49m\u001b[38;5;124;43mjitter\u001b[39;49m\u001b[38;5;124;43m\"\u001b[39;49m\u001b[43m \u001b[49m\u001b[38;5;129;43;01min\u001b[39;49;00m\u001b[43m \u001b[49m\u001b[43minit\u001b[49m\u001b[43m,\u001b[49m\n\u001b[1;32m   2345\u001b[0m \u001b[43m    \u001b[49m\u001b[43mjitter_max_retries\u001b[49m\u001b[38;5;241;43m=\u001b[39;49m\u001b[43mjitter_max_retries\u001b[49m\u001b[43m,\u001b[49m\n\u001b[1;32m   2346\u001b[0m \u001b[43m\u001b[49m\u001b[43m)\u001b[49m\n\u001b[1;32m   2348\u001b[0m apoints \u001b[38;5;241m=\u001b[39m [DictToArrayBijection\u001b[38;5;241m.\u001b[39mmap(point) \u001b[38;5;28;01mfor\u001b[39;00m point \u001b[38;5;129;01min\u001b[39;00m initial_points]\n\u001b[1;32m   2349\u001b[0m apoints_data \u001b[38;5;241m=\u001b[39m [apoint\u001b[38;5;241m.\u001b[39mdata \u001b[38;5;28;01mfor\u001b[39;00m apoint \u001b[38;5;129;01min\u001b[39;00m apoints]\n",
      "File \u001b[0;32m~/Documents/GitHub/pymc3-playground/notebooks/mixture/../../../pymc/pymc/sampling.py:2209\u001b[0m, in \u001b[0;36m_init_jitter\u001b[0;34m(model, initvals, seeds, jitter, jitter_max_retries)\u001b[0m\n\u001b[1;32m   2182\u001b[0m \u001b[38;5;28;01mdef\u001b[39;00m \u001b[38;5;21m_init_jitter\u001b[39m(\n\u001b[1;32m   2183\u001b[0m     model: Model,\n\u001b[1;32m   2184\u001b[0m     initvals: Optional[Union[StartDict, Sequence[Optional[StartDict]]]],\n\u001b[0;32m   (...)\u001b[0m\n\u001b[1;32m   2187\u001b[0m     jitter_max_retries: \u001b[38;5;28mint\u001b[39m,\n\u001b[1;32m   2188\u001b[0m ) \u001b[38;5;241m-\u001b[39m\u001b[38;5;241m>\u001b[39m PointType:\n\u001b[1;32m   2189\u001b[0m     \u001b[38;5;124;03m\"\"\"Apply a uniform jitter in [-1, 1] to the test value as starting point in each chain.\u001b[39;00m\n\u001b[1;32m   2190\u001b[0m \n\u001b[1;32m   2191\u001b[0m \u001b[38;5;124;03m    ``model.check_start_vals`` is used to test whether the jittered starting\u001b[39;00m\n\u001b[0;32m   (...)\u001b[0m\n\u001b[1;32m   2206\u001b[0m \u001b[38;5;124;03m        Starting point for sampler\u001b[39;00m\n\u001b[1;32m   2207\u001b[0m \u001b[38;5;124;03m    \"\"\"\u001b[39;00m\n\u001b[0;32m-> 2209\u001b[0m     ipfns \u001b[38;5;241m=\u001b[39m \u001b[43mmake_initial_point_fns_per_chain\u001b[49m\u001b[43m(\u001b[49m\n\u001b[1;32m   2210\u001b[0m \u001b[43m        \u001b[49m\u001b[43mmodel\u001b[49m\u001b[38;5;241;43m=\u001b[39;49m\u001b[43mmodel\u001b[49m\u001b[43m,\u001b[49m\n\u001b[1;32m   2211\u001b[0m \u001b[43m        \u001b[49m\u001b[43moverrides\u001b[49m\u001b[38;5;241;43m=\u001b[39;49m\u001b[43minitvals\u001b[49m\u001b[43m,\u001b[49m\n\u001b[1;32m   2212\u001b[0m \u001b[43m        \u001b[49m\u001b[43mjitter_rvs\u001b[49m\u001b[38;5;241;43m=\u001b[39;49m\u001b[38;5;28;43mset\u001b[39;49m\u001b[43m(\u001b[49m\u001b[43mmodel\u001b[49m\u001b[38;5;241;43m.\u001b[39;49m\u001b[43mfree_RVs\u001b[49m\u001b[43m)\u001b[49m\u001b[43m \u001b[49m\u001b[38;5;28;43;01mif\u001b[39;49;00m\u001b[43m \u001b[49m\u001b[43mjitter\u001b[49m\u001b[43m \u001b[49m\u001b[38;5;28;43;01melse\u001b[39;49;00m\u001b[43m \u001b[49m\u001b[43m{\u001b[49m\u001b[43m}\u001b[49m\u001b[43m,\u001b[49m\n\u001b[1;32m   2213\u001b[0m \u001b[43m        \u001b[49m\u001b[43mchains\u001b[49m\u001b[38;5;241;43m=\u001b[39;49m\u001b[38;5;28;43mlen\u001b[39;49m\u001b[43m(\u001b[49m\u001b[43mseeds\u001b[49m\u001b[43m)\u001b[49m\u001b[43m,\u001b[49m\n\u001b[1;32m   2214\u001b[0m \u001b[43m    \u001b[49m\u001b[43m)\u001b[49m\n\u001b[1;32m   2216\u001b[0m     \u001b[38;5;28;01mif\u001b[39;00m \u001b[38;5;129;01mnot\u001b[39;00m jitter:\n\u001b[1;32m   2217\u001b[0m         \u001b[38;5;28;01mreturn\u001b[39;00m [ipfn(seed) \u001b[38;5;28;01mfor\u001b[39;00m ipfn, seed \u001b[38;5;129;01min\u001b[39;00m \u001b[38;5;28mzip\u001b[39m(ipfns, seeds)]\n",
      "File \u001b[0;32m~/Documents/GitHub/pymc3-playground/notebooks/mixture/../../../pymc/pymc/initial_point.py:105\u001b[0m, in \u001b[0;36mmake_initial_point_fns_per_chain\u001b[0;34m(model, overrides, jitter_rvs, chains)\u001b[0m\n\u001b[1;32m     81\u001b[0m \u001b[38;5;124;03m\"\"\"Create an initial point function for each chain, as defined by initvals\u001b[39;00m\n\u001b[1;32m     82\u001b[0m \n\u001b[1;32m     83\u001b[0m \u001b[38;5;124;03mIf a single initval dictionary is passed, the function is replicated for each\u001b[39;00m\n\u001b[0;32m   (...)\u001b[0m\n\u001b[1;32m     99\u001b[0m \n\u001b[1;32m    100\u001b[0m \u001b[38;5;124;03m\"\"\"\u001b[39;00m\n\u001b[1;32m    101\u001b[0m \u001b[38;5;28;01mif\u001b[39;00m \u001b[38;5;28misinstance\u001b[39m(overrides, \u001b[38;5;28mdict\u001b[39m) \u001b[38;5;129;01mor\u001b[39;00m overrides \u001b[38;5;129;01mis\u001b[39;00m \u001b[38;5;28;01mNone\u001b[39;00m:\n\u001b[1;32m    102\u001b[0m     \u001b[38;5;66;03m# One strategy for all chains\u001b[39;00m\n\u001b[1;32m    103\u001b[0m     \u001b[38;5;66;03m# Only one function compilation is needed.\u001b[39;00m\n\u001b[1;32m    104\u001b[0m     ipfns \u001b[38;5;241m=\u001b[39m [\n\u001b[0;32m--> 105\u001b[0m         \u001b[43mmake_initial_point_fn\u001b[49m\u001b[43m(\u001b[49m\n\u001b[1;32m    106\u001b[0m \u001b[43m            \u001b[49m\u001b[43mmodel\u001b[49m\u001b[38;5;241;43m=\u001b[39;49m\u001b[43mmodel\u001b[49m\u001b[43m,\u001b[49m\n\u001b[1;32m    107\u001b[0m \u001b[43m            \u001b[49m\u001b[43moverrides\u001b[49m\u001b[38;5;241;43m=\u001b[39;49m\u001b[43moverrides\u001b[49m\u001b[43m,\u001b[49m\n\u001b[1;32m    108\u001b[0m \u001b[43m            \u001b[49m\u001b[43mjitter_rvs\u001b[49m\u001b[38;5;241;43m=\u001b[39;49m\u001b[43mjitter_rvs\u001b[49m\u001b[43m,\u001b[49m\n\u001b[1;32m    109\u001b[0m \u001b[43m            \u001b[49m\u001b[43mreturn_transformed\u001b[49m\u001b[38;5;241;43m=\u001b[39;49m\u001b[38;5;28;43;01mTrue\u001b[39;49;00m\u001b[43m,\u001b[49m\n\u001b[1;32m    110\u001b[0m \u001b[43m        \u001b[49m\u001b[43m)\u001b[49m\n\u001b[1;32m    111\u001b[0m     ] \u001b[38;5;241m*\u001b[39m chains\n\u001b[1;32m    112\u001b[0m \u001b[38;5;28;01melif\u001b[39;00m \u001b[38;5;28mlen\u001b[39m(overrides) \u001b[38;5;241m==\u001b[39m chains:\n\u001b[1;32m    113\u001b[0m     ipfns \u001b[38;5;241m=\u001b[39m [\n\u001b[1;32m    114\u001b[0m         make_initial_point_fn(\n\u001b[1;32m    115\u001b[0m             model\u001b[38;5;241m=\u001b[39mmodel,\n\u001b[0;32m   (...)\u001b[0m\n\u001b[1;32m    120\u001b[0m         \u001b[38;5;28;01mfor\u001b[39;00m chain_overrides \u001b[38;5;129;01min\u001b[39;00m overrides\n\u001b[1;32m    121\u001b[0m     ]\n",
      "File \u001b[0;32m~/Documents/GitHub/pymc3-playground/notebooks/mixture/../../../pymc/pymc/initial_point.py:168\u001b[0m, in \u001b[0;36mmake_initial_point_fn\u001b[0;34m(model, overrides, jitter_rvs, default_strategy, return_transformed)\u001b[0m\n\u001b[1;32m    154\u001b[0m     \u001b[38;5;28;01mreturn\u001b[39;00m [\n\u001b[1;32m    155\u001b[0m         node\n\u001b[1;32m    156\u001b[0m         \u001b[38;5;28;01mfor\u001b[39;00m node \u001b[38;5;129;01min\u001b[39;00m graph_inputs(variables)\n\u001b[0;32m   (...)\u001b[0m\n\u001b[1;32m    163\u001b[0m         )\n\u001b[1;32m    164\u001b[0m     ]\n\u001b[1;32m    166\u001b[0m overrides \u001b[38;5;241m=\u001b[39m convert_str_to_rv_dict(model, overrides \u001b[38;5;129;01mor\u001b[39;00m {})\n\u001b[0;32m--> 168\u001b[0m initial_values \u001b[38;5;241m=\u001b[39m \u001b[43mmake_initial_point_expression\u001b[49m\u001b[43m(\u001b[49m\n\u001b[1;32m    169\u001b[0m \u001b[43m    \u001b[49m\u001b[43mfree_rvs\u001b[49m\u001b[38;5;241;43m=\u001b[39;49m\u001b[43mmodel\u001b[49m\u001b[38;5;241;43m.\u001b[39;49m\u001b[43mfree_RVs\u001b[49m\u001b[43m,\u001b[49m\n\u001b[1;32m    170\u001b[0m \u001b[43m    \u001b[49m\u001b[43mrvs_to_values\u001b[49m\u001b[38;5;241;43m=\u001b[39;49m\u001b[43mmodel\u001b[49m\u001b[38;5;241;43m.\u001b[39;49m\u001b[43mrvs_to_values\u001b[49m\u001b[43m,\u001b[49m\n\u001b[1;32m    171\u001b[0m \u001b[43m    \u001b[49m\u001b[43minitval_strategies\u001b[49m\u001b[38;5;241;43m=\u001b[39;49m\u001b[43m{\u001b[49m\u001b[38;5;241;43m*\u001b[39;49m\u001b[38;5;241;43m*\u001b[39;49m\u001b[43mmodel\u001b[49m\u001b[38;5;241;43m.\u001b[39;49m\u001b[43minitial_values\u001b[49m\u001b[43m,\u001b[49m\u001b[43m \u001b[49m\u001b[38;5;241;43m*\u001b[39;49m\u001b[38;5;241;43m*\u001b[39;49m\u001b[43m(\u001b[49m\u001b[43moverrides\u001b[49m\u001b[43m \u001b[49m\u001b[38;5;129;43;01mor\u001b[39;49;00m\u001b[43m \u001b[49m\u001b[43m{\u001b[49m\u001b[43m}\u001b[49m\u001b[43m)\u001b[49m\u001b[43m}\u001b[49m\u001b[43m,\u001b[49m\n\u001b[1;32m    172\u001b[0m \u001b[43m    \u001b[49m\u001b[43mjitter_rvs\u001b[49m\u001b[38;5;241;43m=\u001b[39;49m\u001b[43mjitter_rvs\u001b[49m\u001b[43m,\u001b[49m\n\u001b[1;32m    173\u001b[0m \u001b[43m    \u001b[49m\u001b[43mdefault_strategy\u001b[49m\u001b[38;5;241;43m=\u001b[39;49m\u001b[43mdefault_strategy\u001b[49m\u001b[43m,\u001b[49m\n\u001b[1;32m    174\u001b[0m \u001b[43m    \u001b[49m\u001b[43mreturn_transformed\u001b[49m\u001b[38;5;241;43m=\u001b[39;49m\u001b[43mreturn_transformed\u001b[49m\u001b[43m,\u001b[49m\n\u001b[1;32m    175\u001b[0m \u001b[43m\u001b[49m\u001b[43m)\u001b[49m\n\u001b[1;32m    177\u001b[0m \u001b[38;5;66;03m# Replace original rng shared variables so that we don't mess with them\u001b[39;00m\n\u001b[1;32m    178\u001b[0m \u001b[38;5;66;03m# when calling the final seeded function\u001b[39;00m\n\u001b[1;32m    179\u001b[0m graph \u001b[38;5;241m=\u001b[39m FunctionGraph(outputs\u001b[38;5;241m=\u001b[39minitial_values, clone\u001b[38;5;241m=\u001b[39m\u001b[38;5;28;01mFalse\u001b[39;00m)\n",
      "File \u001b[0;32m~/Documents/GitHub/pymc3-playground/notebooks/mixture/../../../pymc/pymc/initial_point.py:331\u001b[0m, in \u001b[0;36mmake_initial_point_expression\u001b[0;34m(free_rvs, rvs_to_values, initval_strategies, jitter_rvs, default_strategy, return_transformed)\u001b[0m\n\u001b[1;32m    329\u001b[0m graph \u001b[38;5;241m=\u001b[39m FunctionGraph(outputs\u001b[38;5;241m=\u001b[39mfree_rvs_clone, clone\u001b[38;5;241m=\u001b[39m\u001b[38;5;28;01mFalse\u001b[39;00m)\n\u001b[1;32m    330\u001b[0m replacements \u001b[38;5;241m=\u001b[39m \u001b[38;5;28mreversed\u001b[39m(\u001b[38;5;28mlist\u001b[39m(\u001b[38;5;28mzip\u001b[39m(free_rvs_clone, initial_values_clone)))\n\u001b[0;32m--> 331\u001b[0m \u001b[43mgraph\u001b[49m\u001b[38;5;241;43m.\u001b[39;49m\u001b[43mreplace_all\u001b[49m\u001b[43m(\u001b[49m\u001b[43mreplacements\u001b[49m\u001b[43m,\u001b[49m\u001b[43m \u001b[49m\u001b[43mimport_missing\u001b[49m\u001b[38;5;241;43m=\u001b[39;49m\u001b[38;5;28;43;01mTrue\u001b[39;49;00m\u001b[43m)\u001b[49m\n\u001b[1;32m    333\u001b[0m \u001b[38;5;28;01mif\u001b[39;00m \u001b[38;5;129;01mnot\u001b[39;00m return_transformed:\n\u001b[1;32m    334\u001b[0m     \u001b[38;5;28;01mreturn\u001b[39;00m graph\u001b[38;5;241m.\u001b[39moutputs\n",
      "File \u001b[0;32m~/opt/anaconda3/envs/pymc-dev-py39/lib/python3.9/site-packages/aesara/graph/fg.py:557\u001b[0m, in \u001b[0;36mFunctionGraph.replace_all\u001b[0;34m(self, pairs, **kwargs)\u001b[0m\n\u001b[1;32m    555\u001b[0m \u001b[38;5;124;03m\"\"\"Replace variables in the `FunctionGraph` according to ``(var, new_var)`` pairs in a list.\"\"\"\u001b[39;00m\n\u001b[1;32m    556\u001b[0m \u001b[38;5;28;01mfor\u001b[39;00m var, new_var \u001b[38;5;129;01min\u001b[39;00m pairs:\n\u001b[0;32m--> 557\u001b[0m     \u001b[38;5;28;43mself\u001b[39;49m\u001b[38;5;241;43m.\u001b[39;49m\u001b[43mreplace\u001b[49m\u001b[43m(\u001b[49m\u001b[43mvar\u001b[49m\u001b[43m,\u001b[49m\u001b[43m \u001b[49m\u001b[43mnew_var\u001b[49m\u001b[43m,\u001b[49m\u001b[43m \u001b[49m\u001b[38;5;241;43m*\u001b[39;49m\u001b[38;5;241;43m*\u001b[39;49m\u001b[43mkwargs\u001b[49m\u001b[43m)\u001b[49m\n",
      "File \u001b[0;32m~/opt/anaconda3/envs/pymc-dev-py39/lib/python3.9/site-packages/aesara/graph/fg.py:518\u001b[0m, in \u001b[0;36mFunctionGraph.replace\u001b[0;34m(self, var, new_var, reason, verbose, import_missing)\u001b[0m\n\u001b[1;32m    515\u001b[0m \u001b[38;5;28;01mif\u001b[39;00m verbose:\n\u001b[1;32m    516\u001b[0m     \u001b[38;5;28mprint\u001b[39m(\u001b[38;5;124mf\u001b[39m\u001b[38;5;124m\"\u001b[39m\u001b[38;5;124moptimizer: rewrite \u001b[39m\u001b[38;5;132;01m{\u001b[39;00mreason\u001b[38;5;132;01m}\u001b[39;00m\u001b[38;5;124m replaces \u001b[39m\u001b[38;5;132;01m{\u001b[39;00mvar\u001b[38;5;132;01m}\u001b[39;00m\u001b[38;5;124m with \u001b[39m\u001b[38;5;132;01m{\u001b[39;00mnew_var\u001b[38;5;132;01m}\u001b[39;00m\u001b[38;5;124m\"\u001b[39m)\n\u001b[0;32m--> 518\u001b[0m new_var \u001b[38;5;241m=\u001b[39m \u001b[43mvar\u001b[49m\u001b[38;5;241;43m.\u001b[39;49m\u001b[43mtype\u001b[49m\u001b[38;5;241;43m.\u001b[39;49m\u001b[43mfilter_variable\u001b[49m\u001b[43m(\u001b[49m\u001b[43mnew_var\u001b[49m\u001b[43m,\u001b[49m\u001b[43m \u001b[49m\u001b[43mallow_convert\u001b[49m\u001b[38;5;241;43m=\u001b[39;49m\u001b[38;5;28;43;01mTrue\u001b[39;49;00m\u001b[43m)\u001b[49m\n\u001b[1;32m    520\u001b[0m \u001b[38;5;28;01mif\u001b[39;00m var \u001b[38;5;129;01mnot\u001b[39;00m \u001b[38;5;129;01min\u001b[39;00m \u001b[38;5;28mself\u001b[39m\u001b[38;5;241m.\u001b[39mvariables:\n\u001b[1;32m    521\u001b[0m     \u001b[38;5;66;03m# TODO: Raise an actual exception here.\u001b[39;00m\n\u001b[1;32m    522\u001b[0m     \u001b[38;5;66;03m# Old comment:\u001b[39;00m\n\u001b[0;32m   (...)\u001b[0m\n\u001b[1;32m    526\u001b[0m     \u001b[38;5;66;03m# multiple-output ops\u001b[39;00m\n\u001b[1;32m    527\u001b[0m     \u001b[38;5;66;03m# raise ValueError()\u001b[39;00m\n\u001b[1;32m    528\u001b[0m     \u001b[38;5;28;01mreturn\u001b[39;00m\n",
      "File \u001b[0;32m~/opt/anaconda3/envs/pymc-dev-py39/lib/python3.9/site-packages/aesara/tensor/type.py:258\u001b[0m, in \u001b[0;36mTensorType.filter_variable\u001b[0;34m(self, other, allow_convert)\u001b[0m\n\u001b[1;32m    255\u001b[0m     \u001b[38;5;28;01mif\u001b[39;00m other2 \u001b[38;5;129;01mis\u001b[39;00m \u001b[38;5;129;01mnot\u001b[39;00m \u001b[38;5;28;01mNone\u001b[39;00m:\n\u001b[1;32m    256\u001b[0m         \u001b[38;5;28;01mreturn\u001b[39;00m other2\n\u001b[0;32m--> 258\u001b[0m \u001b[38;5;28;01mraise\u001b[39;00m \u001b[38;5;167;01mTypeError\u001b[39;00m(\n\u001b[1;32m    259\u001b[0m     \u001b[38;5;124mf\u001b[39m\u001b[38;5;124m\"\u001b[39m\u001b[38;5;124mCannot convert Type \u001b[39m\u001b[38;5;132;01m{\u001b[39;00mother\u001b[38;5;241m.\u001b[39mtype\u001b[38;5;132;01m}\u001b[39;00m\u001b[38;5;124m \u001b[39m\u001b[38;5;124m\"\u001b[39m\n\u001b[1;32m    260\u001b[0m     \u001b[38;5;124mf\u001b[39m\u001b[38;5;124m\"\u001b[39m\u001b[38;5;124m(of Variable \u001b[39m\u001b[38;5;132;01m{\u001b[39;00mother\u001b[38;5;132;01m}\u001b[39;00m\u001b[38;5;124m) into Type \u001b[39m\u001b[38;5;132;01m{\u001b[39;00m\u001b[38;5;28mself\u001b[39m\u001b[38;5;132;01m}\u001b[39;00m\u001b[38;5;124m. \u001b[39m\u001b[38;5;124m\"\u001b[39m\n\u001b[1;32m    261\u001b[0m     \u001b[38;5;124mf\u001b[39m\u001b[38;5;124m\"\u001b[39m\u001b[38;5;124mYou can try to manually convert \u001b[39m\u001b[38;5;132;01m{\u001b[39;00mother\u001b[38;5;132;01m}\u001b[39;00m\u001b[38;5;124m into a \u001b[39m\u001b[38;5;132;01m{\u001b[39;00m\u001b[38;5;28mself\u001b[39m\u001b[38;5;132;01m}\u001b[39;00m\u001b[38;5;124m.\u001b[39m\u001b[38;5;124m\"\u001b[39m\n\u001b[1;32m    262\u001b[0m )\n",
      "\u001b[0;31mTypeError\u001b[0m: Cannot convert Type TensorType(float64, (None,)) (of Variable Elemwise{add,no_inplace}.0) into Type TensorType(float64, ()). You can try to manually convert Elemwise{add,no_inplace}.0 into a TensorType(float64, ())."
     ]
    }
   ],
   "source": [
    "with single_batched_model:\n",
    "    trace = pm.sample(chains=1,)"
   ]
  },
  {
   "cell_type": "code",
   "execution_count": null,
   "id": "7e03f5de",
   "metadata": {},
   "outputs": [],
   "source": []
  }
 ],
 "metadata": {
  "kernelspec": {
   "display_name": "Python 3 (ipykernel)",
   "language": "python",
   "name": "python3"
  },
  "language_info": {
   "codemirror_mode": {
    "name": "ipython",
    "version": 3
   },
   "file_extension": ".py",
   "mimetype": "text/x-python",
   "name": "python",
   "nbconvert_exporter": "python",
   "pygments_lexer": "ipython3",
   "version": "3.9.10"
  }
 },
 "nbformat": 4,
 "nbformat_minor": 5
}
