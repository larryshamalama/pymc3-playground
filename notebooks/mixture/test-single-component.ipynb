{
 "cells": [
  {
   "cell_type": "code",
   "execution_count": 1,
   "id": "0fbdddb8",
   "metadata": {},
   "outputs": [],
   "source": [
    "import sys\n",
    "sys.path.insert(0, \"../../../pymc\")\n",
    "\n",
    "import pymc as pm\n",
    "import numpy as np\n",
    "\n",
    "import aesara.tensor as at\n",
    "import aesara\n",
    "\n",
    "from aesara.tensor import TensorVariable\n",
    "\n",
    "from pymc.distributions.logprob import logp\n",
    "\n",
    "from aeppl.abstract import MeasurableVariable\n",
    "from aesara.compile.builders import OpFromGraph"
   ]
  },
  {
   "cell_type": "code",
   "execution_count": 2,
   "id": "b5d9d836",
   "metadata": {},
   "outputs": [],
   "source": [
    "rng = np.random.RandomState(seed=34)\n",
    "y_obs = np.concatenate(\n",
    "    (\n",
    "        rng.normal(loc=5, scale=2., size=[20,]),\n",
    "        rng.normal(loc=-5, scale=2., size=[20,]),\n",
    "    )\n",
    ")"
   ]
  },
  {
   "cell_type": "markdown",
   "id": "fd95c53c",
   "metadata": {},
   "source": [
    "## Single Batched Component"
   ]
  },
  {
   "cell_type": "code",
   "execution_count": 3,
   "id": "48b29232",
   "metadata": {},
   "outputs": [
    {
     "data": {
      "text/plain": [
       "__main__.MarginalMixtureSingleComponentRV"
      ]
     },
     "execution_count": 3,
     "metadata": {},
     "output_type": "execute_result"
    }
   ],
   "source": [
    "class MarginalMixtureSingleComponentRV(OpFromGraph):\n",
    "    \"\"\"A placeholder used to specify a log-likelihood for a mixture of components from the\n",
    "    same distribution family\"\"\"\n",
    "    \n",
    "MeasurableVariable.register(MarginalMixtureSingleComponentRV)"
   ]
  },
  {
   "cell_type": "code",
   "execution_count": 4,
   "id": "f9716bf8",
   "metadata": {},
   "outputs": [
    {
     "ename": "NameError",
     "evalue": "name 'mu' is not defined",
     "output_type": "error",
     "traceback": [
      "\u001b[0;31m---------------------------------------------------------------------------\u001b[0m",
      "\u001b[0;31mNameError\u001b[0m                                 Traceback (most recent call last)",
      "Input \u001b[0;32mIn [4]\u001b[0m, in \u001b[0;36m<module>\u001b[0;34m\u001b[0m\n\u001b[0;32m----> 1\u001b[0m components \u001b[38;5;241m=\u001b[39m [pm\u001b[38;5;241m.\u001b[39mNormal\u001b[38;5;241m.\u001b[39mdist(mu\u001b[38;5;241m=\u001b[39m\u001b[43mmu\u001b[49m, sigma\u001b[38;5;241m=\u001b[39m\u001b[38;5;241m3.\u001b[39m, shape\u001b[38;5;241m=\u001b[39m(\u001b[38;5;241m2\u001b[39m,))]\n\u001b[1;32m      2\u001b[0m single_component \u001b[38;5;241m=\u001b[39m (\u001b[38;5;28mlen\u001b[39m(components) \u001b[38;5;241m==\u001b[39m \u001b[38;5;241m1\u001b[39m)\n\u001b[1;32m      4\u001b[0m mix_indexes_rng \u001b[38;5;241m=\u001b[39m aesara\u001b[38;5;241m.\u001b[39mshared(np\u001b[38;5;241m.\u001b[39mrandom\u001b[38;5;241m.\u001b[39mdefault_rng())\n",
      "\u001b[0;31mNameError\u001b[0m: name 'mu' is not defined"
     ]
    }
   ],
   "source": [
    "components = [pm.Normal.dist(mu=mu, sigma=3., shape=(2,))]\n",
    "single_component = (len(components) == 1)\n",
    "\n",
    "mix_indexes_rng = aesara.shared(np.random.default_rng())\n",
    "\n",
    "# Extract support and replication ndims from components and weights\n",
    "component_ndim_supp = components[0].owner.op.ndim_supp\n",
    "component_ndim_reps = components[0].ndim - component_ndim_supp\n",
    "weights_ndim_reps = max(0, weights.ndim - component_ndim_reps - 1)\n",
    "\n",
    "# Create a OpFromGraph that encapsulates the random generating process\n",
    "# Create dummy input variables with the same type as the ones provided\n",
    "weights_ = weights.type()\n",
    "mix_indexes_rng_ = mix_indexes_rng.type()\n",
    "\n",
    "if single_component:\n",
    "    # single batched component, i.e. components = [pm.SomeDist.dist(..., shape=(K,))]\n",
    "    components_ = [components[0].type()]\n",
    "    num_components = components[0].shape[-1]\n",
    "else:\n",
    "    components_ = [component.type() for component in components]\n",
    "    num_components = len(components_)\n",
    "\n",
    "# Broadcast weights to (*replication dimensions, stack dimension),\n",
    "# ignoring support dimensions\n",
    "weights_broadcast_shape_ = at.concatenate(\n",
    "    [\n",
    "        weights_.shape[:weights_ndim_reps],\n",
    "        components_[0].shape[:component_ndim_reps],\n",
    "        [num_components],\n",
    "    ],\n",
    "    axis=-1,\n",
    ")\n",
    "weights_broadcasted_ = at.broadcast_to(weights_, weights_broadcast_shape_)\n",
    "\n",
    "# Draw mixture indexes\n",
    "mix_indexes_ = at.random.categorical(weights_broadcasted_, rng=mix_indexes_rng_)\n",
    "\n",
    "# Append (ndim_supp + stack) dimensions to the right of mix_indexes\n",
    "mix_indexes_padded = at.shape_padright(mix_indexes_, component_ndim_supp + 1)\n",
    "\n",
    "# Append  missing dimensions (if any) to the left of stacked_components\n",
    "stacked_components_ = at.stack(components_, axis=-1)\n",
    "stacked_components_padded_ = at.shape_padleft(\n",
    "    stacked_components_,\n",
    "    mix_indexes_padded.ndim - stacked_components_.ndim,\n",
    ")\n",
    "\n",
    "# Index components and squeeze stack dimension\n",
    "mix_out_ = at.take_along_axis(stacked_components_padded_, mix_indexes_padded, axis=-1)\n",
    "# There is a Aeasara bug in squeeze with negative axis\n",
    "# mix_out_ = at.squeeze(mix_out_, axis=-1)\n",
    "mix_out_ = at.squeeze(mix_out_, axis=mix_out_.ndim - 1)\n",
    "\n",
    "# Output choices_ rng update so that it can be updated in place\n",
    "mix_indexes_rng_next_ = mix_indexes_.owner.outputs[0]\n",
    "\n",
    "if single_component:\n",
    "    mix_op = MarginalMixtureSingleComponentRV(\n",
    "        inputs=[mix_indexes_rng_, weights_, components_[0]],\n",
    "        outputs=[mix_indexes_rng_next_, mix_out_],\n",
    "    )\n",
    "else:\n",
    "    mix_op = MarginalMixtureRV(\n",
    "        inputs=[mix_indexes_rng_, weights_, *components_],\n",
    "        outputs=[mix_indexes_rng_next_, mix_out_],\n",
    "    )\n",
    "\n",
    "# Create the actual MarginalMixture variable\n",
    "mix_indexes_rng_next, mix_out = mix_op(mix_indexes_rng, weights, *components)\n",
    "\n",
    "# We need to set_default_updates ourselves, because the choices RV is hidden\n",
    "# inside OpFromGraph and PyMC will never find it otherwise\n",
    "mix_indexes_rng.default_update = mix_indexes_rng_next\n",
    "\n",
    "# Reference nodes to facilitate identification in other classmethods\n",
    "mix_out.tag.weights = weights\n",
    "mix_out.tag.components = components\n",
    "mix_out.tag.choices_rng = mix_indexes_rng"
   ]
  },
  {
   "cell_type": "code",
   "execution_count": null,
   "id": "2abee507",
   "metadata": {},
   "outputs": [],
   "source": [
    "aesara.dprint(weights_broadcast_shape_)"
   ]
  },
  {
   "cell_type": "code",
   "execution_count": null,
   "id": "ca7bba07",
   "metadata": {},
   "outputs": [],
   "source": [
    "fn = aesara.function([weights_, components_[0]], [weights_broadcast_shape_])"
   ]
  },
  {
   "cell_type": "code",
   "execution_count": null,
   "id": "82a5aa81",
   "metadata": {},
   "outputs": [],
   "source": [
    "with pm.Model():\n",
    "    weights = at.as_tensor_variable([0.5, 0.5])\n",
    "    \n",
    "    mu = pm.Normal(\"mu\", mu=0, sigma=5., shape=(2,))\n",
    "    \n",
    "    norm_dist = pm.Normal.dist(mu=mu, sigma=3., shape=(2,))\n",
    "    \n",
    "    mix = pm.Mixture(\"mix\", weights, norm_dist, observed=y_obs)\n",
    "    \n",
    "    prior = pm.sample_prior_predictive()"
   ]
  },
  {
   "cell_type": "markdown",
   "id": "3fdf14b5",
   "metadata": {},
   "source": [
    "## Batched components"
   ]
  },
  {
   "cell_type": "code",
   "execution_count": null,
   "id": "40f932ee",
   "metadata": {},
   "outputs": [],
   "source": [
    "with pm.Model():\n",
    "    weights = at.as_tensor_variable([0.5, 0.5])\n",
    "    \n",
    "    mu1 = pm.Normal(\"mu\", mu=0, sigma=8.)\n",
    "    mu2 = pm.Normal(\"mu2\", mu=0, sigma=8.)\n",
    "    \n",
    "    norm_dist_1 = pm.Normal.dist(mu=mu1, sigma=2)\n",
    "    norm_dist_2 = pm.Normal.dist(mu=mu2, sigma=2)\n",
    "    \n",
    "    mix = pm.Mixture(\"mix\", weights, [norm_dist_1, norm_dist_2], observed=y_obs)\n",
    "    \n",
    "    prior = pm.sample_prior_predictive()\n",
    "    trace = pm.sample(chains=1)"
   ]
  },
  {
   "cell_type": "code",
   "execution_count": null,
   "id": "6f699372",
   "metadata": {},
   "outputs": [],
   "source": [
    "with pm.Model() as model:\n",
    "    weights = at.as_tensor_variable([0.5, 0.5])\n",
    "    \n",
    "    mu = pm.Normal(\"mu\", mu=0, sigma=5, size=(2,))\n",
    "    \n",
    "    norm_dist = pm.Normal.dist(mu=mu, sigma=2)\n",
    "    class_dist = getattr(pm, norm_dist.owner.op.name.capitalize())\n",
    "    comp_dists = class_dist.dist(*norm_dist[0].get_parents[0].get_parents()[3:])\n",
    "\n",
    "    mix = pm.Mixture(\"mix\", weights, comp_dists, observed=y_obs)\n",
    "    \n",
    "    trace = pm.sample(chains=1)"
   ]
  },
  {
   "cell_type": "code",
   "execution_count": null,
   "id": "28768075",
   "metadata": {},
   "outputs": [],
   "source": []
  }
 ],
 "metadata": {
  "kernelspec": {
   "display_name": "Python 3 (ipykernel)",
   "language": "python",
   "name": "python3"
  },
  "language_info": {
   "codemirror_mode": {
    "name": "ipython",
    "version": 3
   },
   "file_extension": ".py",
   "mimetype": "text/x-python",
   "name": "python",
   "nbconvert_exporter": "python",
   "pygments_lexer": "ipython3",
   "version": "3.9.10"
  }
 },
 "nbformat": 4,
 "nbformat_minor": 5
}
