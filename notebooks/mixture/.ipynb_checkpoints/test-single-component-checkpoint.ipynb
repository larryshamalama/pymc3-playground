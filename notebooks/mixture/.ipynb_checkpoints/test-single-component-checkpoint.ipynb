{
 "cells": [
  {
   "cell_type": "code",
   "execution_count": 1,
   "id": "0fbdddb8",
   "metadata": {},
   "outputs": [],
   "source": [
    "import sys\n",
    "sys.path.insert(0, \"../../../pymc\")\n",
    "\n",
    "import pymc as pm\n",
    "import numpy as np\n",
    "\n",
    "import aesara.tensor as at\n",
    "import aesara\n",
    "\n",
    "from aesara.tensor import TensorVariable\n",
    "\n",
    "from pymc.distributions.logprob import logp\n",
    "\n",
    "from aeppl.abstract import MeasurableVariable\n",
    "from aesara.compile.builders import OpFromGraph"
   ]
  },
  {
   "cell_type": "markdown",
   "id": "fcb6a909",
   "metadata": {},
   "source": [
    "Data and `rng`"
   ]
  },
  {
   "cell_type": "code",
   "execution_count": 2,
   "id": "b5d9d836",
   "metadata": {},
   "outputs": [],
   "source": [
    "rng = np.random.RandomState(seed=34)\n",
    "y_obs = np.concatenate(\n",
    "    (\n",
    "        rng.normal(loc=5, scale=2., size=[20,]),\n",
    "        rng.normal(loc=-5, scale=2., size=[20,]),\n",
    "    )\n",
    ")"
   ]
  },
  {
   "cell_type": "markdown",
   "id": "f6840bdd",
   "metadata": {},
   "source": [
    "## Single Batched Component"
   ]
  },
  {
   "cell_type": "code",
   "execution_count": 3,
   "id": "ace50a82",
   "metadata": {},
   "outputs": [
    {
     "data": {
      "text/plain": [
       "__main__.MarginalMixtureSingleComponentRV"
      ]
     },
     "execution_count": 3,
     "metadata": {},
     "output_type": "execute_result"
    }
   ],
   "source": [
    "class MarginalMixtureSingleComponentRV(OpFromGraph):\n",
    "    \"\"\"A placeholder used to specify a log-likelihood for a mixture of components from the\n",
    "    same distribution family\"\"\"\n",
    "    \n",
    "MeasurableVariable.register(MarginalMixtureSingleComponentRV)"
   ]
  },
  {
   "cell_type": "code",
   "execution_count": 4,
   "id": "166523bb",
   "metadata": {},
   "outputs": [],
   "source": [
    "with pm.Model():\n",
    "    mu = pm.Normal(name=\"mu\", mu=0., sigma=5., shape=(2,))\n",
    "    components = [pm.Normal.dist(mu=mu, sigma=3., shape=(2,))]\n",
    "    \n",
    "    weights = at.as_tensor_variable([0.5, 0.5])"
   ]
  },
  {
   "cell_type": "code",
   "execution_count": 5,
   "id": "aa87d263",
   "metadata": {},
   "outputs": [],
   "source": [
    "single_component = (len(components) == 1)\n",
    "\n",
    "mix_indexes_rng = aesara.shared(np.random.default_rng())\n",
    "\n",
    "# Extract support and replication ndims from components and weights\n",
    "component_ndim_supp = components[0].owner.op.ndim_supp\n",
    "component_ndim_reps = components[0].ndim - component_ndim_supp\n",
    "weights_ndim_reps = max(0, weights.ndim - component_ndim_reps - 1)\n",
    "\n",
    "# Create a OpFromGraph that encapsulates the random generating process\n",
    "# Create dummy input variables with the same type as the ones provided\n",
    "weights_ = weights.type()\n",
    "mix_indexes_rng_ = mix_indexes_rng.type()\n",
    "\n",
    "if single_component:\n",
    "    # single batched component, i.e. components = [pm.SomeDist.dist(..., shape=(K,))]\n",
    "    components_ = [components[0].type()]\n",
    "    num_components = components[0].shape[-1]\n",
    "else:\n",
    "    components_ = [component.type() for component in components]\n",
    "    num_components = len(components_)\n",
    "\n",
    "# Broadcast weights to (*replication dimensions, stack dimension),\n",
    "# ignoring support dimensions\n",
    "weights_broadcast_shape_ = at.concatenate(\n",
    "    [\n",
    "        weights_.shape[:weights_ndim_reps],\n",
    "        components_[0].shape[:component_ndim_reps],\n",
    "        [num_components],\n",
    "    ],\n",
    "    axis=-1,\n",
    ")\n",
    "weights_broadcasted_ = at.broadcast_to(weights_, weights_broadcast_shape_)\n",
    "\n",
    "# Draw mixture indexes\n",
    "mix_indexes_ = at.random.categorical(weights_broadcasted_, rng=mix_indexes_rng_)\n",
    "\n",
    "# Append (ndim_supp + stack) dimensions to the right of mix_indexes\n",
    "mix_indexes_padded = at.shape_padright(mix_indexes_, component_ndim_supp + 1)\n",
    "\n",
    "# Append  missing dimensions (if any) to the left of stacked_components\n",
    "stacked_components_ = at.stack(components_, axis=-1)\n",
    "stacked_components_padded_ = at.shape_padleft(\n",
    "    stacked_components_,\n",
    "    mix_indexes_padded.ndim - stacked_components_.ndim,\n",
    ")\n",
    "\n",
    "# Index components and squeeze stack dimension\n",
    "mix_out_ = at.take_along_axis(stacked_components_padded_, mix_indexes_padded, axis=-1)\n",
    "# There is a Aeasara bug in squeeze with negative axis\n",
    "# mix_out_ = at.squeeze(mix_out_, axis=-1)\n",
    "mix_out_ = at.squeeze(mix_out_, axis=mix_out_.ndim - 1)\n",
    "\n",
    "# Output choices_ rng update so that it can be updated in place\n",
    "mix_indexes_rng_next_ = mix_indexes_.owner.outputs[0]\n",
    "\n",
    "if single_component:\n",
    "    mix_op = MarginalMixtureSingleComponentRV(\n",
    "        inputs=[mix_indexes_rng_, weights_, components_[0]],\n",
    "        outputs=[mix_indexes_rng_next_, mix_out_],\n",
    "    )\n",
    "else:\n",
    "    mix_op = MarginalMixtureRV(\n",
    "        inputs=[mix_indexes_rng_, weights_, *components_],\n",
    "        outputs=[mix_indexes_rng_next_, mix_out_],\n",
    "    )\n",
    "\n",
    "# Create the actual MarginalMixture variable\n",
    "mix_indexes_rng_next, mix_out = mix_op(mix_indexes_rng, weights, *components)\n",
    "\n",
    "# We need to set_default_updates ourselves, because the choices RV is hidden\n",
    "# inside OpFromGraph and PyMC will never find it otherwise\n",
    "mix_indexes_rng.default_update = mix_indexes_rng_next\n",
    "\n",
    "# Reference nodes to facilitate identification in other classmethods\n",
    "mix_out.tag.weights = weights\n",
    "mix_out.tag.components = components\n",
    "mix_out.tag.choices_rng = mix_indexes_rng"
   ]
  },
  {
   "cell_type": "code",
   "execution_count": 6,
   "id": "b5fc57ab",
   "metadata": {},
   "outputs": [
    {
     "ename": "UnusedInputError",
     "evalue": "aesara.function was asked to create a function computing outputs given certain inputs, but the provided input variable at index 0 is not part of the computational graph needed to compute the outputs: <TensorType(float64, (2,))>.\nTo make this error into a warning, you can pass the parameter on_unused_input='warn' to aesara.function. To disable it completely, use on_unused_input='ignore'.",
     "output_type": "error",
     "traceback": [
      "\u001b[0;31m---------------------------------------------------------------------------\u001b[0m",
      "\u001b[0;31mUnusedInputError\u001b[0m                          Traceback (most recent call last)",
      "Input \u001b[0;32mIn [6]\u001b[0m, in \u001b[0;36m<module>\u001b[0;34m\u001b[0m\n\u001b[0;32m----> 1\u001b[0m fn \u001b[38;5;241m=\u001b[39m \u001b[43maesara\u001b[49m\u001b[38;5;241;43m.\u001b[39;49m\u001b[43mfunction\u001b[49m\u001b[43m(\u001b[49m\u001b[43m[\u001b[49m\u001b[43mweights_\u001b[49m\u001b[43m,\u001b[49m\u001b[43m \u001b[49m\u001b[43mcomponents_\u001b[49m\u001b[43m[\u001b[49m\u001b[38;5;241;43m0\u001b[39;49m\u001b[43m]\u001b[49m\u001b[43m]\u001b[49m\u001b[43m,\u001b[49m\u001b[43m \u001b[49m\u001b[43m[\u001b[49m\u001b[43mweights_broadcast_shape_\u001b[49m\u001b[43m]\u001b[49m\u001b[43m)\u001b[49m\n",
      "File \u001b[0;32m~/opt/anaconda3/envs/pymc-dev-py39/lib/python3.9/site-packages/aesara/compile/function/__init__.py:337\u001b[0m, in \u001b[0;36mfunction\u001b[0;34m(inputs, outputs, mode, updates, givens, no_default_updates, accept_inplace, name, rebuild_strict, allow_input_downcast, profile, on_unused_input)\u001b[0m\n\u001b[1;32m    331\u001b[0m     fn \u001b[38;5;241m=\u001b[39m orig_function(\n\u001b[1;32m    332\u001b[0m         inputs, outputs, mode\u001b[38;5;241m=\u001b[39mmode, accept_inplace\u001b[38;5;241m=\u001b[39maccept_inplace, name\u001b[38;5;241m=\u001b[39mname\n\u001b[1;32m    333\u001b[0m     )\n\u001b[1;32m    334\u001b[0m \u001b[38;5;28;01melse\u001b[39;00m:\n\u001b[1;32m    335\u001b[0m     \u001b[38;5;66;03m# note: pfunc will also call orig_function -- orig_function is\u001b[39;00m\n\u001b[1;32m    336\u001b[0m     \u001b[38;5;66;03m#      a choke point that all compilation must pass through\u001b[39;00m\n\u001b[0;32m--> 337\u001b[0m     fn \u001b[38;5;241m=\u001b[39m \u001b[43mpfunc\u001b[49m\u001b[43m(\u001b[49m\n\u001b[1;32m    338\u001b[0m \u001b[43m        \u001b[49m\u001b[43mparams\u001b[49m\u001b[38;5;241;43m=\u001b[39;49m\u001b[43minputs\u001b[49m\u001b[43m,\u001b[49m\n\u001b[1;32m    339\u001b[0m \u001b[43m        \u001b[49m\u001b[43moutputs\u001b[49m\u001b[38;5;241;43m=\u001b[39;49m\u001b[43moutputs\u001b[49m\u001b[43m,\u001b[49m\n\u001b[1;32m    340\u001b[0m \u001b[43m        \u001b[49m\u001b[43mmode\u001b[49m\u001b[38;5;241;43m=\u001b[39;49m\u001b[43mmode\u001b[49m\u001b[43m,\u001b[49m\n\u001b[1;32m    341\u001b[0m \u001b[43m        \u001b[49m\u001b[43mupdates\u001b[49m\u001b[38;5;241;43m=\u001b[39;49m\u001b[43mupdates\u001b[49m\u001b[43m,\u001b[49m\n\u001b[1;32m    342\u001b[0m \u001b[43m        \u001b[49m\u001b[43mgivens\u001b[49m\u001b[38;5;241;43m=\u001b[39;49m\u001b[43mgivens\u001b[49m\u001b[43m,\u001b[49m\n\u001b[1;32m    343\u001b[0m \u001b[43m        \u001b[49m\u001b[43mno_default_updates\u001b[49m\u001b[38;5;241;43m=\u001b[39;49m\u001b[43mno_default_updates\u001b[49m\u001b[43m,\u001b[49m\n\u001b[1;32m    344\u001b[0m \u001b[43m        \u001b[49m\u001b[43maccept_inplace\u001b[49m\u001b[38;5;241;43m=\u001b[39;49m\u001b[43maccept_inplace\u001b[49m\u001b[43m,\u001b[49m\n\u001b[1;32m    345\u001b[0m \u001b[43m        \u001b[49m\u001b[43mname\u001b[49m\u001b[38;5;241;43m=\u001b[39;49m\u001b[43mname\u001b[49m\u001b[43m,\u001b[49m\n\u001b[1;32m    346\u001b[0m \u001b[43m        \u001b[49m\u001b[43mrebuild_strict\u001b[49m\u001b[38;5;241;43m=\u001b[39;49m\u001b[43mrebuild_strict\u001b[49m\u001b[43m,\u001b[49m\n\u001b[1;32m    347\u001b[0m \u001b[43m        \u001b[49m\u001b[43mallow_input_downcast\u001b[49m\u001b[38;5;241;43m=\u001b[39;49m\u001b[43mallow_input_downcast\u001b[49m\u001b[43m,\u001b[49m\n\u001b[1;32m    348\u001b[0m \u001b[43m        \u001b[49m\u001b[43mon_unused_input\u001b[49m\u001b[38;5;241;43m=\u001b[39;49m\u001b[43mon_unused_input\u001b[49m\u001b[43m,\u001b[49m\n\u001b[1;32m    349\u001b[0m \u001b[43m        \u001b[49m\u001b[43mprofile\u001b[49m\u001b[38;5;241;43m=\u001b[39;49m\u001b[43mprofile\u001b[49m\u001b[43m,\u001b[49m\n\u001b[1;32m    350\u001b[0m \u001b[43m        \u001b[49m\u001b[43moutput_keys\u001b[49m\u001b[38;5;241;43m=\u001b[39;49m\u001b[43moutput_keys\u001b[49m\u001b[43m,\u001b[49m\n\u001b[1;32m    351\u001b[0m \u001b[43m    \u001b[49m\u001b[43m)\u001b[49m\n\u001b[1;32m    352\u001b[0m \u001b[38;5;28;01mreturn\u001b[39;00m fn\n",
      "File \u001b[0;32m~/opt/anaconda3/envs/pymc-dev-py39/lib/python3.9/site-packages/aesara/compile/function/pfunc.py:401\u001b[0m, in \u001b[0;36mpfunc\u001b[0;34m(params, outputs, mode, updates, givens, no_default_updates, accept_inplace, name, rebuild_strict, allow_input_downcast, profile, on_unused_input, output_keys)\u001b[0m\n\u001b[1;32m    386\u001b[0m \u001b[38;5;66;03m# profile is typically either False or an object at this point.\u001b[39;00m\n\u001b[1;32m    387\u001b[0m \u001b[38;5;66;03m# No need to block other objects being passed through though. It might be\u001b[39;00m\n\u001b[1;32m    388\u001b[0m \u001b[38;5;66;03m# useful.\u001b[39;00m\n\u001b[1;32m    390\u001b[0m inputs, cloned_outputs \u001b[38;5;241m=\u001b[39m construct_pfunc_ins_and_outs(\n\u001b[1;32m    391\u001b[0m     params,\n\u001b[1;32m    392\u001b[0m     outputs,\n\u001b[0;32m   (...)\u001b[0m\n\u001b[1;32m    398\u001b[0m     allow_input_downcast,\n\u001b[1;32m    399\u001b[0m )\n\u001b[0;32m--> 401\u001b[0m \u001b[38;5;28;01mreturn\u001b[39;00m \u001b[43morig_function\u001b[49m\u001b[43m(\u001b[49m\n\u001b[1;32m    402\u001b[0m \u001b[43m    \u001b[49m\u001b[43minputs\u001b[49m\u001b[43m,\u001b[49m\n\u001b[1;32m    403\u001b[0m \u001b[43m    \u001b[49m\u001b[43mcloned_outputs\u001b[49m\u001b[43m,\u001b[49m\n\u001b[1;32m    404\u001b[0m \u001b[43m    \u001b[49m\u001b[43mmode\u001b[49m\u001b[43m,\u001b[49m\n\u001b[1;32m    405\u001b[0m \u001b[43m    \u001b[49m\u001b[43maccept_inplace\u001b[49m\u001b[38;5;241;43m=\u001b[39;49m\u001b[43maccept_inplace\u001b[49m\u001b[43m,\u001b[49m\n\u001b[1;32m    406\u001b[0m \u001b[43m    \u001b[49m\u001b[43mname\u001b[49m\u001b[38;5;241;43m=\u001b[39;49m\u001b[43mname\u001b[49m\u001b[43m,\u001b[49m\n\u001b[1;32m    407\u001b[0m \u001b[43m    \u001b[49m\u001b[43mprofile\u001b[49m\u001b[38;5;241;43m=\u001b[39;49m\u001b[43mprofile\u001b[49m\u001b[43m,\u001b[49m\n\u001b[1;32m    408\u001b[0m \u001b[43m    \u001b[49m\u001b[43mon_unused_input\u001b[49m\u001b[38;5;241;43m=\u001b[39;49m\u001b[43mon_unused_input\u001b[49m\u001b[43m,\u001b[49m\n\u001b[1;32m    409\u001b[0m \u001b[43m    \u001b[49m\u001b[43moutput_keys\u001b[49m\u001b[38;5;241;43m=\u001b[39;49m\u001b[43moutput_keys\u001b[49m\u001b[43m,\u001b[49m\n\u001b[1;32m    410\u001b[0m \u001b[43m\u001b[49m\u001b[43m)\u001b[49m\n",
      "File \u001b[0;32m~/opt/anaconda3/envs/pymc-dev-py39/lib/python3.9/site-packages/aesara/compile/function/types.py:1808\u001b[0m, in \u001b[0;36morig_function\u001b[0;34m(inputs, outputs, mode, accept_inplace, name, profile, on_unused_input, output_keys)\u001b[0m\n\u001b[1;32m   1806\u001b[0m \u001b[38;5;28;01mtry\u001b[39;00m:\n\u001b[1;32m   1807\u001b[0m     Maker \u001b[38;5;241m=\u001b[39m \u001b[38;5;28mgetattr\u001b[39m(mode, \u001b[38;5;124m\"\u001b[39m\u001b[38;5;124mfunction_maker\u001b[39m\u001b[38;5;124m\"\u001b[39m, FunctionMaker)\n\u001b[0;32m-> 1808\u001b[0m     m \u001b[38;5;241m=\u001b[39m \u001b[43mMaker\u001b[49m\u001b[43m(\u001b[49m\n\u001b[1;32m   1809\u001b[0m \u001b[43m        \u001b[49m\u001b[43minputs\u001b[49m\u001b[43m,\u001b[49m\n\u001b[1;32m   1810\u001b[0m \u001b[43m        \u001b[49m\u001b[43moutputs\u001b[49m\u001b[43m,\u001b[49m\n\u001b[1;32m   1811\u001b[0m \u001b[43m        \u001b[49m\u001b[43mmode\u001b[49m\u001b[43m,\u001b[49m\n\u001b[1;32m   1812\u001b[0m \u001b[43m        \u001b[49m\u001b[43maccept_inplace\u001b[49m\u001b[38;5;241;43m=\u001b[39;49m\u001b[43maccept_inplace\u001b[49m\u001b[43m,\u001b[49m\n\u001b[1;32m   1813\u001b[0m \u001b[43m        \u001b[49m\u001b[43mprofile\u001b[49m\u001b[38;5;241;43m=\u001b[39;49m\u001b[43mprofile\u001b[49m\u001b[43m,\u001b[49m\n\u001b[1;32m   1814\u001b[0m \u001b[43m        \u001b[49m\u001b[43mon_unused_input\u001b[49m\u001b[38;5;241;43m=\u001b[39;49m\u001b[43mon_unused_input\u001b[49m\u001b[43m,\u001b[49m\n\u001b[1;32m   1815\u001b[0m \u001b[43m        \u001b[49m\u001b[43moutput_keys\u001b[49m\u001b[38;5;241;43m=\u001b[39;49m\u001b[43moutput_keys\u001b[49m\u001b[43m,\u001b[49m\n\u001b[1;32m   1816\u001b[0m \u001b[43m        \u001b[49m\u001b[43mname\u001b[49m\u001b[38;5;241;43m=\u001b[39;49m\u001b[43mname\u001b[49m\u001b[43m,\u001b[49m\n\u001b[1;32m   1817\u001b[0m \u001b[43m    \u001b[49m\u001b[43m)\u001b[49m\n\u001b[1;32m   1818\u001b[0m     \u001b[38;5;28;01mwith\u001b[39;00m config\u001b[38;5;241m.\u001b[39mchange_flags(compute_test_value\u001b[38;5;241m=\u001b[39m\u001b[38;5;124m\"\u001b[39m\u001b[38;5;124moff\u001b[39m\u001b[38;5;124m\"\u001b[39m):\n\u001b[1;32m   1819\u001b[0m         fn \u001b[38;5;241m=\u001b[39m m\u001b[38;5;241m.\u001b[39mcreate(defaults)\n",
      "File \u001b[0;32m~/opt/anaconda3/envs/pymc-dev-py39/lib/python3.9/site-packages/aesara/compile/function/types.py:1418\u001b[0m, in \u001b[0;36mFunctionMaker.__init__\u001b[0;34m(self, inputs, outputs, mode, accept_inplace, function_builder, profile, on_unused_input, fgraph, output_keys, name)\u001b[0m\n\u001b[1;32m   1410\u001b[0m _inputs \u001b[38;5;241m=\u001b[39m \u001b[38;5;28mlist\u001b[39m(\n\u001b[1;32m   1411\u001b[0m     graph_inputs(\n\u001b[1;32m   1412\u001b[0m         [o\u001b[38;5;241m.\u001b[39mvariable \u001b[38;5;28;01mfor\u001b[39;00m o \u001b[38;5;129;01min\u001b[39;00m outputs]\n\u001b[1;32m   1413\u001b[0m         \u001b[38;5;241m+\u001b[39m [i\u001b[38;5;241m.\u001b[39mupdate \u001b[38;5;28;01mfor\u001b[39;00m i \u001b[38;5;129;01min\u001b[39;00m inputs \u001b[38;5;28;01mif\u001b[39;00m \u001b[38;5;28mgetattr\u001b[39m(i, \u001b[38;5;124m\"\u001b[39m\u001b[38;5;124mupdate\u001b[39m\u001b[38;5;124m\"\u001b[39m, \u001b[38;5;28;01mFalse\u001b[39;00m)]\n\u001b[1;32m   1414\u001b[0m     )\n\u001b[1;32m   1415\u001b[0m )\n\u001b[1;32m   1417\u001b[0m \u001b[38;5;66;03m# Check if some input variables are unused\u001b[39;00m\n\u001b[0;32m-> 1418\u001b[0m \u001b[38;5;28;43mself\u001b[39;49m\u001b[38;5;241;43m.\u001b[39;49m\u001b[43m_check_unused_inputs\u001b[49m\u001b[43m(\u001b[49m\u001b[43minputs\u001b[49m\u001b[43m,\u001b[49m\u001b[43m \u001b[49m\u001b[43moutputs\u001b[49m\u001b[43m,\u001b[49m\u001b[43m \u001b[49m\u001b[43mon_unused_input\u001b[49m\u001b[43m)\u001b[49m\n\u001b[1;32m   1420\u001b[0m \u001b[38;5;66;03m# Make a list of (SymbolicInput|SymblicInputKits, indices,\u001b[39;00m\n\u001b[1;32m   1421\u001b[0m \u001b[38;5;66;03m# [SymbolicInput,...]), one tuple for each input. (See\u001b[39;00m\n\u001b[1;32m   1422\u001b[0m \u001b[38;5;66;03m# Function.indices for more details)\u001b[39;00m\n\u001b[1;32m   1423\u001b[0m indices \u001b[38;5;241m=\u001b[39m [[\u001b[38;5;28minput\u001b[39m] \u001b[38;5;241m+\u001b[39m \u001b[38;5;28mself\u001b[39m\u001b[38;5;241m.\u001b[39mexpand_in(\u001b[38;5;28minput\u001b[39m, _inputs) \u001b[38;5;28;01mfor\u001b[39;00m \u001b[38;5;28minput\u001b[39m \u001b[38;5;129;01min\u001b[39;00m inputs]\n",
      "File \u001b[0;32m~/opt/anaconda3/envs/pymc-dev-py39/lib/python3.9/site-packages/aesara/compile/function/types.py:1584\u001b[0m, in \u001b[0;36mFunctionMaker._check_unused_inputs\u001b[0;34m(self, inputs, outputs, on_unused_input)\u001b[0m\n\u001b[1;32m   1580\u001b[0m     warnings\u001b[38;5;241m.\u001b[39mwarn(\n\u001b[1;32m   1581\u001b[0m         msg \u001b[38;5;241m%\u001b[39m (inputs\u001b[38;5;241m.\u001b[39mindex(i), i\u001b[38;5;241m.\u001b[39mvariable, warn_msg), stacklevel\u001b[38;5;241m=\u001b[39m\u001b[38;5;241m6\u001b[39m\n\u001b[1;32m   1582\u001b[0m     )\n\u001b[1;32m   1583\u001b[0m \u001b[38;5;28;01melif\u001b[39;00m on_unused_input \u001b[38;5;241m==\u001b[39m \u001b[38;5;124m\"\u001b[39m\u001b[38;5;124mraise\u001b[39m\u001b[38;5;124m\"\u001b[39m:\n\u001b[0;32m-> 1584\u001b[0m     \u001b[38;5;28;01mraise\u001b[39;00m UnusedInputError(msg \u001b[38;5;241m%\u001b[39m (inputs\u001b[38;5;241m.\u001b[39mindex(i), i\u001b[38;5;241m.\u001b[39mvariable, err_msg))\n\u001b[1;32m   1585\u001b[0m \u001b[38;5;28;01melse\u001b[39;00m:\n\u001b[1;32m   1586\u001b[0m     \u001b[38;5;28;01mraise\u001b[39;00m \u001b[38;5;167;01mValueError\u001b[39;00m(\n\u001b[1;32m   1587\u001b[0m         \u001b[38;5;124m\"\u001b[39m\u001b[38;5;124mInvalid value for keyword on_unused_input of aesara.function: \u001b[39m\u001b[38;5;124m\"\u001b[39m\n\u001b[1;32m   1588\u001b[0m         \u001b[38;5;124mf\u001b[39m\u001b[38;5;124m\"\u001b[39m\u001b[38;5;124m'\u001b[39m\u001b[38;5;132;01m{\u001b[39;00mon_unused_input\u001b[38;5;132;01m}\u001b[39;00m\u001b[38;5;124m'\u001b[39m\u001b[38;5;124m.\u001b[39m\u001b[38;5;130;01m\\n\u001b[39;00m\u001b[38;5;124m\"\u001b[39m\n\u001b[1;32m   1589\u001b[0m         \u001b[38;5;124m\"\u001b[39m\u001b[38;5;124mValid values are \u001b[39m\u001b[38;5;124m'\u001b[39m\u001b[38;5;124mraise\u001b[39m\u001b[38;5;124m'\u001b[39m\u001b[38;5;124m, \u001b[39m\u001b[38;5;124m'\u001b[39m\u001b[38;5;124mwarn\u001b[39m\u001b[38;5;124m'\u001b[39m\u001b[38;5;124m, and \u001b[39m\u001b[38;5;124m'\u001b[39m\u001b[38;5;124mignore\u001b[39m\u001b[38;5;124m'\u001b[39m\u001b[38;5;124m.\u001b[39m\u001b[38;5;124m\"\u001b[39m\n\u001b[1;32m   1590\u001b[0m     )\n",
      "\u001b[0;31mUnusedInputError\u001b[0m: aesara.function was asked to create a function computing outputs given certain inputs, but the provided input variable at index 0 is not part of the computational graph needed to compute the outputs: <TensorType(float64, (2,))>.\nTo make this error into a warning, you can pass the parameter on_unused_input='warn' to aesara.function. To disable it completely, use on_unused_input='ignore'."
     ]
    }
   ],
   "source": [
    "fn = aesara.function([weights_, components_[0]], [weights_broadcast_shape_])"
   ]
  },
  {
   "cell_type": "code",
   "execution_count": null,
   "id": "2e5cdebb",
   "metadata": {},
   "outputs": [],
   "source": [
    "with pm.Model():\n",
    "    weights = at.as_tensor_variable([0.5, 0.5])\n",
    "    \n",
    "    mu = pm.Normal(\"mu\", mu=0, sigma=5., shape=(2,))\n",
    "    \n",
    "    norm_dist = pm.Normal.dist(mu=mu, sigma=3., shape=(2,))\n",
    "    \n",
    "    mix = pm.Mixture(\"mix\", weights, norm_dist, observed=y_obs)\n",
    "    \n",
    "    prior = pm.sample_prior_predictive()"
   ]
  },
  {
   "cell_type": "markdown",
   "id": "b01fa3f2",
   "metadata": {},
   "source": [
    "## Batched components"
   ]
  },
  {
   "cell_type": "code",
   "execution_count": null,
   "id": "40f932ee",
   "metadata": {},
   "outputs": [],
   "source": [
    "with pm.Model():\n",
    "    weights = at.as_tensor_variable([0.5, 0.5])\n",
    "    \n",
    "    mu1 = pm.Normal(\"mu\", mu=0, sigma=8.)\n",
    "    mu2 = pm.Normal(\"mu2\", mu=0, sigma=8.)\n",
    "    \n",
    "    norm_dist_1 = pm.Normal.dist(mu=mu1, sigma=2)\n",
    "    norm_dist_2 = pm.Normal.dist(mu=mu2, sigma=2)\n",
    "    \n",
    "    mix = pm.Mixture(\"mix\", weights, [norm_dist_1, norm_dist_2], observed=y_obs)\n",
    "    \n",
    "    prior = pm.sample_prior_predictive()\n",
    "    trace = pm.sample(chains=1)"
   ]
  },
  {
   "cell_type": "code",
   "execution_count": null,
   "id": "6f699372",
   "metadata": {},
   "outputs": [],
   "source": [
    "with pm.Model() as model:\n",
    "    weights = at.as_tensor_variable([0.5, 0.5])\n",
    "    \n",
    "    mu = pm.Normal(\"mu\", mu=0, sigma=5, size=(2,))\n",
    "    \n",
    "    norm_dist = pm.Normal.dist(mu=mu, sigma=2)\n",
    "    class_dist = getattr(pm, norm_dist.owner.op.name.capitalize())\n",
    "    comp_dists = class_dist.dist(*norm_dist[0].get_parents[0].get_parents()[3:])\n",
    "\n",
    "    mix = pm.Mixture(\"mix\", weights, comp_dists, observed=y_obs)\n",
    "    \n",
    "    trace = pm.sample(chains=1)"
   ]
  },
  {
   "cell_type": "code",
   "execution_count": null,
   "id": "28768075",
   "metadata": {},
   "outputs": [],
   "source": []
  }
 ],
 "metadata": {
  "kernelspec": {
   "display_name": "Python 3 (ipykernel)",
   "language": "python",
   "name": "python3"
  },
  "language_info": {
   "codemirror_mode": {
    "name": "ipython",
    "version": 3
   },
   "file_extension": ".py",
   "mimetype": "text/x-python",
   "name": "python",
   "nbconvert_exporter": "python",
   "pygments_lexer": "ipython3",
   "version": "3.9.10"
  }
 },
 "nbformat": 4,
 "nbformat_minor": 5
}
