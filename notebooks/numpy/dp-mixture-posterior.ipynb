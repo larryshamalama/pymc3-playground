{
 "cells": [
  {
   "cell_type": "code",
   "execution_count": 1,
   "id": "ebd8cba1",
   "metadata": {},
   "outputs": [],
   "source": [
    "import numpy as np\n",
    "import matplotlib.pyplot as plt\n",
    "from scipy.stats import norm\n",
    "\n",
    "import pandas as pd\n",
    "\n",
    "%config InlineBackend.figure_format = \"retina\"\n",
    "%matplotlib inline"
   ]
  },
  {
   "cell_type": "code",
   "execution_count": 2,
   "id": "0137da28",
   "metadata": {},
   "outputs": [],
   "source": [
    "data = pd.read_csv(\"EIG.txt\", delimiter=\"\\s+\", header=0)\n",
    "\n",
    "y = data[\"recorded-EIG121\"].values\n",
    "y = y[~np.isnan(y)]\n",
    "y = np.log(y)"
   ]
  },
  {
   "cell_type": "code",
   "execution_count": 3,
   "id": "2d88326e",
   "metadata": {},
   "outputs": [
    {
     "data": {
      "image/png": "[encoded data removed]",
      "text/plain": [
       "<Figure size 432x288 with 1 Axes>"
      ]
     },
     "metadata": {
      "image/png": {
       "height": 248,
       "width": 368
      },
      "needs_background": "light"
     },
     "output_type": "display_data"
    }
   ],
   "source": [
    "_ = plt.hist(y, bins=11, range=(-10, 1))"
   ]
  },
  {
   "cell_type": "code",
   "execution_count": 4,
   "id": "f3877410",
   "metadata": {},
   "outputs": [],
   "source": [
    "rng = np.random.RandomState(seed=34)\n",
    "NUM_ITER = 100\n",
    "\n",
    "M = 15\n",
    "m = -5; B = 3\n",
    "sigma_sq = 3 # known variance\n",
    "\n",
    "x_grid = np.linspace(start=-10, stop=1, num=1001)"
   ]
  },
  {
   "cell_type": "code",
   "execution_count": 5,
   "id": "02e62b7a",
   "metadata": {},
   "outputs": [],
   "source": [
    "G0 = lambda: rng.normal(loc=-5, scale=np.sqrt(B))\n",
    "\n",
    "def h(yi):\n",
    "    return norm.pdf(yi, loc=m, scale=np.sqrt(B + sigma_sq))\n",
    "\n",
    "def sample_s(yi, y_minus, s_minus, G0, rng=rng):\n",
    "    \n",
    "    global prob\n",
    "    prob = []\n",
    "    \n",
    "    for urn_id in np.unique(s_minus):\n",
    "        nj_minus = np.sum(s_minus == urn_id)\n",
    "        Vj_minus = 1/(1/B + nj_minus/sigma_sq)\n",
    "        mj_minus = Vj_minus*(m/B + np.sum(y_minus[s_minus == urn_id])/sigma_sq)\n",
    "\n",
    "        prob = np.append(\n",
    "            prob, \n",
    "            nj_minus*norm.pdf(yi, loc=mj_minus, scale=np.sqrt(Vj_minus + sigma_sq)),\n",
    "        )\n",
    "    \n",
    "    prob = np.append(prob, M*h(yi)) # compute hyi\n",
    "    prob = prob/prob.sum()\n",
    "\n",
    "    s_draw = rng.choice(range(len(prob)), p=prob)\n",
    "    \n",
    "    assert len(theta_star_minus) == len(np.unique(s_minus))\n",
    "    \n",
    "    if s_draw == len(theta_star_minus):\n",
    "        return G0()\n",
    "    \n",
    "    else:\n",
    "        return theta_star_minus[s_draw]\n",
    "    \n",
    "\n",
    "def sample_theta_star(yj_star_minus, G0=G0, rng=rng):\n",
    "    \"\"\"\n",
    "    yj_star: array of observations assigned to urn j\n",
    "    \"\"\"\n",
    "    nj_minus = len(yj_star_minus)\n",
    "    \n",
    "    if nj_minus == 0:\n",
    "        return G0()\n",
    "    \n",
    "    return rng.normal( \n",
    "        loc=(B*np.sum(yj_star_minus) + sigma_sq*m)/(nj_minus*B + sigma_sq), \n",
    "        scale=np.sqrt((B*sigma_sq)/(nj_minus*B + sigma_sq)),\n",
    "    )\n",
    "\n",
    "\n",
    "def sample_density(grid, thetas):\n",
    "    f = []\n",
    "    for x in grid:\n",
    "        f.append(norm.pdf(x, loc=thetas, scale=np.sqrt(sigma_sq)).sum())\n",
    "        \n",
    "    return f"
   ]
  },
  {
   "cell_type": "code",
   "execution_count": 6,
   "id": "b4b9d0fd",
   "metadata": {},
   "outputs": [
    {
     "ename": "NameError",
     "evalue": "name 'f_acc' is not defined",
     "output_type": "error",
     "traceback": [
      "\u001b[0;31m---------------------------------------------------------------------------\u001b[0m",
      "\u001b[0;31mNameError\u001b[0m                                 Traceback (most recent call last)",
      "\u001b[0;32m/var/folders/wd/mvn7fc5s33s6zd4ttj9fvtd40000gn/T/ipykernel_17146/486797138.py\u001b[0m in \u001b[0;36m<module>\u001b[0;34m\u001b[0m\n\u001b[0;32m----> 1\u001b[0;31m \u001b[0;32mfor\u001b[0m \u001b[0mf\u001b[0m \u001b[0;32min\u001b[0m \u001b[0mf_acc\u001b[0m\u001b[0;34m:\u001b[0m\u001b[0;34m\u001b[0m\u001b[0;34m\u001b[0m\u001b[0m\n\u001b[0m\u001b[1;32m      2\u001b[0m     \u001b[0mplt\u001b[0m\u001b[0;34m.\u001b[0m\u001b[0mplot\u001b[0m\u001b[0;34m(\u001b[0m\u001b[0mx_grid\u001b[0m\u001b[0;34m,\u001b[0m \u001b[0mf\u001b[0m\u001b[0;34m,\u001b[0m \u001b[0mc\u001b[0m\u001b[0;34m=\u001b[0m\u001b[0;34m\"gray\"\u001b[0m\u001b[0;34m)\u001b[0m\u001b[0;34m\u001b[0m\u001b[0;34m\u001b[0m\u001b[0m\n",
      "\u001b[0;31mNameError\u001b[0m: name 'f_acc' is not defined"
     ]
    }
   ],
   "source": [
    "for f in f_acc:\n",
    "    plt.plot(x_grid, f, c=\"gray\")"
   ]
  }
 ],
 "metadata": {
  "kernelspec": {
   "display_name": "pymc3-dev-py38",
   "language": "python",
   "name": "pymc3-dev-py38"
  },
  "language_info": {
   "codemirror_mode": {
    "name": "ipython",
    "version": 3
   },
   "file_extension": ".py",
   "mimetype": "text/x-python",
   "name": "python",
   "nbconvert_exporter": "python",
   "pygments_lexer": "ipython3",
   "version": "3.8.10"
  }
 },
 "nbformat": 4,
 "nbformat_minor": 5
}
