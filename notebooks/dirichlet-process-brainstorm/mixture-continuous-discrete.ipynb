{
 "cells": [
  {
   "cell_type": "code",
   "execution_count": 1,
   "id": "a2a015f0",
   "metadata": {},
   "outputs": [],
   "source": [
    "import sys\n",
    "sys.path.insert(0, \"../../../pymc\")\n",
    "\n",
    "import numpy as np\n",
    "import pymc as pm"
   ]
  },
  {
   "cell_type": "code",
   "execution_count": null,
   "id": "bc6846e2",
   "metadata": {},
   "outputs": [],
   "source": [
    "with pm.Model():\n",
    "    weights = [0.4, 0.6]\n",
    "    components = [\n",
    "        pm.Normal.dist(mu=-10., sigma=3.),\n",
    "        pm.DiscreteUniform.dist(lower=0, upper=5),\n",
    "    ]\n",
    "    mix = pm.Mixture(\"mix\", weights, components)\n",
    "    \n",
    "    prior = pm.sample_prior_predictive(samples=1000)\n",
    "    trace = pm.sample(draws=1000, chains=1)"
   ]
  },
  {
   "cell_type": "code",
   "execution_count": null,
   "id": "048fea89",
   "metadata": {},
   "outputs": [],
   "source": [
    "trace.to_dict()[\"posterior\"]"
   ]
  },
  {
   "cell_type": "code",
   "execution_count": null,
   "id": "5d44c694",
   "metadata": {},
   "outputs": [],
   "source": [
    "prior.to_dict()[\"prior\"][\"mix\"][0]"
   ]
  },
  {
   "cell_type": "code",
   "execution_count": 4,
   "id": "64661b2a",
   "metadata": {},
   "outputs": [
    {
     "name": "stderr",
     "output_type": "stream",
     "text": [
      "Sequential sampling (1 chains in 1 job)\n",
      "Metropolis: [mix]\n"
     ]
    },
    {
     "data": {
      "text/html": [
       "\n",
       "    <div>\n",
       "        <style>\n",
       "            /* Turns off some styling */\n",
       "            progress {\n",
       "                /* gets rid of default border in Firefox and Opera. */\n",
       "                border: none;\n",
       "                /* Needs to be in here for Safari polyfill so background images work as expected. */\n",
       "                background-size: auto;\n",
       "            }\n",
       "            .progress-bar-interrupted, .progress-bar-interrupted::-webkit-progress-bar {\n",
       "                background: #F44336;\n",
       "            }\n",
       "        </style>\n",
       "      <progress value='2000' class='' max='2000' style='width:300px; height:20px; vertical-align: middle;'></progress>\n",
       "      100.00% [2000/2000 00:01<00:00 Sampling chain 0, 0 divergences]\n",
       "    </div>\n",
       "    "
      ],
      "text/plain": [
       "<IPython.core.display.HTML object>"
      ]
     },
     "metadata": {},
     "output_type": "display_data"
    },
    {
     "name": "stderr",
     "output_type": "stream",
     "text": [
      "Sampling 1 chain for 1_000 tune and 1_000 draw iterations (1_000 + 1_000 draws total) took 2 seconds.\n",
      "Only one chain was sampled, this makes it impossible to run some convergence checks\n"
     ]
    }
   ],
   "source": [
    "with pm.Model():\n",
    "    weights = [0.4, 0.6]\n",
    "    components = [\n",
    "        pm.Normal.dist(mu=-10., sigma=3.),\n",
    "        pm.DiscreteUniform.dist(lower=0, upper=10),\n",
    "    ]\n",
    "    mix = pm.Mixture(\"mix\", weights, components)\n",
    "    \n",
    "    prior = pm.sample_prior_predictive(samples=1000)\n",
    "    \n",
    "    step = pm.Metropolis()\n",
    "    trace = pm.sample(draws=1000, step=step, chains=1)"
   ]
  },
  {
   "cell_type": "code",
   "execution_count": null,
   "id": "c441394f",
   "metadata": {},
   "outputs": [],
   "source": []
  }
 ],
 "metadata": {
  "kernelspec": {
   "display_name": "pymc3-dev-py38",
   "language": "python",
   "name": "pymc3-dev-py38"
  },
  "language_info": {
   "codemirror_mode": {
    "name": "ipython",
    "version": 3
   },
   "file_extension": ".py",
   "mimetype": "text/x-python",
   "name": "python",
   "nbconvert_exporter": "python",
   "pygments_lexer": "ipython3",
   "version": "3.8.10"
  }
 },
 "nbformat": 4,
 "nbformat_minor": 5
}
