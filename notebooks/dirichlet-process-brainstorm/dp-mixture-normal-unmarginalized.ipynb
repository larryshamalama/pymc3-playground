{
 "cells": [
  {
   "cell_type": "code",
   "execution_count": 1,
   "id": "aff17639",
   "metadata": {},
   "outputs": [],
   "source": [
    "import sys\n",
    "sys.path.insert(0, \"../../../pymc\")\n",
    "\n",
    "import pymc as pm\n",
    "import numpy as np\n",
    "import pandas as pd\n",
    "import scipy as sp\n",
    "\n",
    "import matplotlib.pyplot as plt"
   ]
  },
  {
   "cell_type": "code",
   "execution_count": 2,
   "id": "aca68f5b",
   "metadata": {},
   "outputs": [
    {
     "data": {
      "image/png": "[encoded data removed]",
      "text/plain": [
       "<Figure size 432x288 with 1 Axes>"
      ]
     },
     "metadata": {
      "needs_background": "light"
     },
     "output_type": "display_data"
    }
   ],
   "source": [
    "data = pd.read_csv(\"../../data/old_faithful.tsv\", sep=\"\\t\")\n",
    "data = data[\"waiting\"].values\n",
    "data = (data - data.mean())/data.std()\n",
    "\n",
    "_ = plt.hist(data, bins=20)"
   ]
  },
  {
   "cell_type": "code",
   "execution_count": 3,
   "id": "695b1ef4",
   "metadata": {},
   "outputs": [],
   "source": [
    "K = 30"
   ]
  },
  {
   "cell_type": "code",
   "execution_count": 4,
   "id": "aaba7513",
   "metadata": {},
   "outputs": [
    {
     "name": "stderr",
     "output_type": "stream",
     "text": [
      "Sequential sampling (1 chains in 1 job)\n",
      "CompoundStep\n",
      ">NUTS: [alpha, sbw, µ, σ, λ]\n",
      ">CategoricalGibbsMetropolis: [component]\n"
     ]
    },
    {
     "data": {
      "text/html": [
       "\n",
       "    <div>\n",
       "        <style>\n",
       "            /* Turns off some styling */\n",
       "            progress {\n",
       "                /* gets rid of default border in Firefox and Opera. */\n",
       "                border: none;\n",
       "                /* Needs to be in here for Safari polyfill so background images work as expected. */\n",
       "                background-size: auto;\n",
       "            }\n",
       "            .progress-bar-interrupted, .progress-bar-interrupted::-webkit-progress-bar {\n",
       "                background: #F44336;\n",
       "            }\n",
       "        </style>\n",
       "      <progress value='7000' class='' max='7000' style='width:300px; height:20px; vertical-align: middle;'></progress>\n",
       "      100.00% [7000/7000 40:16<00:00 Sampling chain 0, 2,401 divergences]\n",
       "    </div>\n",
       "    "
      ],
      "text/plain": [
       "<IPython.core.display.HTML object>"
      ]
     },
     "metadata": {},
     "output_type": "display_data"
    },
    {
     "name": "stderr",
     "output_type": "stream",
     "text": [
      "Sampling 1 chain for 2_000 tune and 5_000 draw iterations (2_000 + 5_000 draws total) took 2417 seconds.\n",
      "There were 2402 divergences after tuning. Increase `target_accept` or reparameterize.\n",
      "The acceptance probability does not match the target. It is 0.8251, but should be close to 0.9. Try to increase the number of tuning steps.\n",
      "Only one chain was sampled, this makes it impossible to run some convergence checks\n"
     ]
    }
   ],
   "source": [
    "with pm.Model() as model:\n",
    "    alpha = pm.Gamma(\"alpha\", 1., 1.)\n",
    "    sbw = pm.StickBreakingWeights(\"sbw\", alpha, K=K)\n",
    "    \n",
    "    component = pm.Categorical(\"component\", sbw, shape=len(data))\n",
    "    \n",
    "    σ = pm.Gamma(\"σ\", 1., 1., shape=(K+1))\n",
    "    λ = pm.Uniform(\"λ\", 0., 5., shape=(K+1))\n",
    "    µ = pm.Normal(\"µ\", 0., σ*λ, shape=(K+1), initval=np.arange(-3, 3, step=6/(K+1)))\n",
    "    \n",
    "    obs = pm.Normal(\n",
    "        \"obs\", \n",
    "        µ[component], \n",
    "        σ[component]*λ[component], \n",
    "        observed=data,\n",
    "    )\n",
    "    \n",
    "    step1 = pm.NUTS([alpha, sbw, µ, σ, λ], target_accept=0.9)\n",
    "    step2 = pm.(\n",
    "        [component],\n",
    "    )\n",
    "    trace = pm.sample(\n",
    "        draws=5000, \n",
    "        chains=1, \n",
    "        tune=2000, \n",
    "        step=[step1, step2],\n",
    "    )"
   ]
  },
  {
   "cell_type": "code",
   "execution_count": 9,
   "id": "44744cfb",
   "metadata": {},
   "outputs": [
    {
     "ename": "AttributeError",
     "evalue": "'dict' object has no attribute 'to_dict'",
     "output_type": "error",
     "traceback": [
      "\u001b[0;31m---------------------------------------------------------------------------\u001b[0m",
      "\u001b[0;31mAttributeError\u001b[0m                            Traceback (most recent call last)",
      "\u001b[0;32m/var/folders/wd/mvn7fc5s33s6zd4ttj9fvtd40000gn/T/ipykernel_14086/1813076019.py\u001b[0m in \u001b[0;36m<module>\u001b[0;34m\u001b[0m\n\u001b[0;32m----> 1\u001b[0;31m \u001b[0mcomponent_post\u001b[0m \u001b[0;34m=\u001b[0m \u001b[0mtrace\u001b[0m\u001b[0;34m.\u001b[0m\u001b[0mto_dict\u001b[0m\u001b[0;34m(\u001b[0m\u001b[0;34m)\u001b[0m\u001b[0;34m[\u001b[0m\u001b[0;34m\"posterior\"\u001b[0m\u001b[0;34m]\u001b[0m\u001b[0;34m[\u001b[0m\u001b[0;34m\"component\"\u001b[0m\u001b[0;34m]\u001b[0m\u001b[0;34m\u001b[0m\u001b[0;34m\u001b[0m\u001b[0m\n\u001b[0m\u001b[1;32m      2\u001b[0m \u001b[0mn_components_used\u001b[0m \u001b[0;34m=\u001b[0m \u001b[0mnp\u001b[0m\u001b[0;34m.\u001b[0m\u001b[0mapply_along_axis\u001b[0m\u001b[0;34m(\u001b[0m\u001b[0;32mlambda\u001b[0m \u001b[0mx\u001b[0m\u001b[0;34m:\u001b[0m \u001b[0mnp\u001b[0m\u001b[0;34m.\u001b[0m\u001b[0munique\u001b[0m\u001b[0;34m(\u001b[0m\u001b[0mx\u001b[0m\u001b[0;34m)\u001b[0m\u001b[0;34m.\u001b[0m\u001b[0msize\u001b[0m\u001b[0;34m,\u001b[0m \u001b[0;36m1\u001b[0m\u001b[0;34m,\u001b[0m \u001b[0mcomponent_post\u001b[0m\u001b[0;34m)\u001b[0m\u001b[0;34m\u001b[0m\u001b[0;34m\u001b[0m\u001b[0m\n",
      "\u001b[0;31mAttributeError\u001b[0m: 'dict' object has no attribute 'to_dict'"
     ]
    }
   ],
   "source": [
    "component_post = trace.to_dict()[\"posterior\"][\"component\"]\n",
    "n_components_used = np.apply_along_axis(lambda x: np.unique(x).size, 1, component_post)"
   ]
  },
  {
   "cell_type": "code",
   "execution_count": null,
   "id": "adf0baa1",
   "metadata": {},
   "outputs": [],
   "source": [
    "trace = trace.to_dict()[\"posterior\"]"
   ]
  },
  {
   "cell_type": "code",
   "execution_count": null,
   "id": "5b695f62",
   "metadata": {},
   "outputs": [],
   "source": [
    "x_plot = np.linspace(-3, 3, 200)\n",
    "post_pdf_contribs = sp.stats.norm.pdf(np.atleast_3d(x_plot),\n",
    "                                      trace[\"µ\"][0, :, np.newaxis, :],\n",
    "                                      1. / np.sqrt(trace[\"λ\"] * trace[\"σ\"])[0, :, np.newaxis, :])\n",
    "post_pdfs = (trace[\"sbw\"][0, :, np.newaxis, :] * post_pdf_contribs).sum(axis=-1)\n",
    "\n",
    "post_pdf_low, post_pdf_high = np.percentile(post_pdfs, [2.5, 97.5], axis=0)"
   ]
  },
  {
   "cell_type": "code",
   "execution_count": 10,
   "id": "6eeede73",
   "metadata": {},
   "outputs": [
    {
     "data": {
      "image/png": "[encoded data removed]",
      "text/plain": [
       "<Figure size 576x432 with 1 Axes>"
      ]
     },
     "metadata": {
      "needs_background": "light"
     },
     "output_type": "display_data"
    }
   ],
   "source": [
    "fig, ax = plt.subplots(figsize=(8, 6))\n",
    "\n",
    "n_bins = 20\n",
    "ax.hist(data, bins=n_bins, density=True,\n",
    "        color=\"blue\", lw=0, alpha=0.5);\n",
    "\n",
    "ax.fill_between(x_plot, post_pdf_low, post_pdf_high,\n",
    "                color='gray', alpha=0.45);\n",
    "ax.plot(x_plot, post_pdfs[0],\n",
    "        c='gray', label='Posterior sample densities');\n",
    "ax.plot(x_plot, post_pdfs[::100].T, c='gray');\n",
    "ax.plot(x_plot, post_pdfs.mean(axis=0),\n",
    "        c='k', label='Posterior expected density');\n",
    "\n",
    "ax.set_xlabel('Standardized waiting time between eruptions');\n",
    "\n",
    "ax.set_yticklabels([]);\n",
    "ax.set_ylabel('Density');\n",
    "\n",
    "ax.legend(loc=2);"
   ]
  },
  {
   "cell_type": "code",
   "execution_count": null,
   "id": "d73faa28",
   "metadata": {},
   "outputs": [],
   "source": []
  }
 ],
 "metadata": {
  "kernelspec": {
   "display_name": "pymc3-dev-py38",
   "language": "python",
   "name": "pymc3-dev-py38"
  },
  "language_info": {
   "codemirror_mode": {
    "name": "ipython",
    "version": 3
   },
   "file_extension": ".py",
   "mimetype": "text/x-python",
   "name": "python",
   "nbconvert_exporter": "python",
   "pygments_lexer": "ipython3",
   "version": "3.8.10"
  }
 },
 "nbformat": 4,
 "nbformat_minor": 5
}
