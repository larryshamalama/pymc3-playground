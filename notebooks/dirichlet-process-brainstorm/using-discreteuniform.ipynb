{
 "cells": [
  {
   "cell_type": "code",
   "execution_count": 1,
   "id": "c3f133fb",
   "metadata": {},
   "outputs": [],
   "source": [
    "import sys\n",
    "sys.path.insert(0, \"../../../pymc\")\n",
    "\n",
    "import pymc as pm\n",
    "import numpy as np"
   ]
  },
  {
   "cell_type": "code",
   "execution_count": 18,
   "id": "2c541225",
   "metadata": {},
   "outputs": [],
   "source": [
    "class DirichletProcess:\n",
    "    def __init__(self, alpha, G0, K, observed=None):\n",
    "        \"\"\"\n",
    "        alpha: concentration parameter\n",
    "        G0: base distribution\n",
    "        K: truncation parameter\n",
    "        \"\"\"\n",
    "        self.weights = pm.StickBreakingWeights(name=\"sbw-weights\", alpha=alpha, K=K)\n",
    "        \n",
    "        if observed is not None:\n",
    "#             model = pm.modelcontext(None)\n",
    "#             model.register_rv(\n",
    "#                 rv_var=G0,\n",
    "#                 name=\"G0\",\n",
    "#                 data=observed\n",
    "#             )\n",
    "            Gn_mix_weights = [pm.Constant(\"Gn-weight-1\", 0.3), pm.Constant(\"Gn-weight-2\", 0.7)]\n",
    "            Gn_components = [G0, pm.DiscreteUniform.dist(lower=0, upper=len(observed))]\n",
    "            Gn = pm.Mixture(\"Gn\", Gn_mix_weights, Gn_components)"
   ]
  },
  {
   "cell_type": "code",
   "execution_count": 13,
   "id": "9367cc93",
   "metadata": {},
   "outputs": [],
   "source": [
    "with pm.Model():\n",
    "    weights = pm.StickBreakingWeights(name=\"sbw\", alpha=5, K=13)\n",
    "    G0 = pm.Normal.dist(mu=0, sigma=3)\n",
    "    prior = pm.sample_prior_predictive()"
   ]
  },
  {
   "cell_type": "code",
   "execution_count": null,
   "id": "a7f41d0c",
   "metadata": {},
   "outputs": [],
   "source": []
  }
 ],
 "metadata": {
  "kernelspec": {
   "display_name": "pymc3-dev-py38",
   "language": "python",
   "name": "pymc3-dev-py38"
  },
  "language_info": {
   "codemirror_mode": {
    "name": "ipython",
    "version": 3
   },
   "file_extension": ".py",
   "mimetype": "text/x-python",
   "name": "python",
   "nbconvert_exporter": "python",
   "pygments_lexer": "ipython3",
   "version": "3.8.10"
  }
 },
 "nbformat": 4,
 "nbformat_minor": 5
}
