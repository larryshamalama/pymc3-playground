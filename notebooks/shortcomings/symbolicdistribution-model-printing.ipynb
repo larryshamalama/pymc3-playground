{
 "cells": [
  {
   "cell_type": "code",
   "execution_count": 1,
   "id": "c702bb99",
   "metadata": {},
   "outputs": [
    {
     "data": {
      "text/plain": [
       "'4.0.0b4'"
      ]
     },
     "execution_count": 1,
     "metadata": {},
     "output_type": "execute_result"
    }
   ],
   "source": [
    "import pymc as pm\n",
    "pm.__version__"
   ]
  },
  {
   "cell_type": "code",
   "execution_count": 2,
   "id": "d6ae3634",
   "metadata": {},
   "outputs": [
    {
     "name": "stdout",
     "output_type": "stream",
     "text": [
      "<pymc.model.Model object at 0x14b20d850>\n"
     ]
    }
   ],
   "source": [
    "with pm.Model() as model:\n",
    "    x = pm.ZeroInflatedPoisson(\"x\", 0.5, 5)\n",
    "\n",
    "print(model)"
   ]
  },
  {
   "cell_type": "code",
   "execution_count": 3,
   "id": "907bce2f",
   "metadata": {},
   "outputs": [
    {
     "data": {
      "text/latex": [
       "$$\n",
       "            \\begin{array}{rcl}\n",
       "            x\n",
       "            \\end{array}\n",
       "            $$"
      ],
      "text/plain": [
       "<pymc.model.Model at 0x14b20d850>"
      ]
     },
     "execution_count": 3,
     "metadata": {},
     "output_type": "execute_result"
    }
   ],
   "source": [
    "model"
   ]
  },
  {
   "cell_type": "code",
   "execution_count": 4,
   "id": "037b531d",
   "metadata": {},
   "outputs": [
    {
     "name": "stdout",
     "output_type": "stream",
     "text": [
      "<pymc.model.Model object at 0x14cbd3cd0>\n"
     ]
    }
   ],
   "source": [
    "with pm.Model() as norm_model:\n",
    "    norm = pm.Normal(\"norm\")\n",
    "    \n",
    "print(norm_model)"
   ]
  },
  {
   "cell_type": "code",
   "execution_count": 5,
   "id": "2d612dd7",
   "metadata": {},
   "outputs": [
    {
     "data": {
      "text/latex": [
       "$$\n",
       "            \\begin{array}{rcl}\n",
       "            \\text{norm} &\\sim & \\operatorname{N}(0,~1)\n",
       "            \\end{array}\n",
       "            $$"
      ],
      "text/plain": [
       "<pymc.model.Model at 0x14cbd3cd0>"
      ]
     },
     "execution_count": 5,
     "metadata": {},
     "output_type": "execute_result"
    }
   ],
   "source": [
    "norm_model"
   ]
  },
  {
   "cell_type": "code",
   "execution_count": null,
   "id": "64eff275",
   "metadata": {},
   "outputs": [],
   "source": []
  }
 ],
 "metadata": {
  "kernelspec": {
   "display_name": "pymc-dev-py39",
   "language": "python",
   "name": "pymc-dev-py39"
  },
  "language_info": {
   "codemirror_mode": {
    "name": "ipython",
    "version": 3
   },
   "file_extension": ".py",
   "mimetype": "text/x-python",
   "name": "python",
   "nbconvert_exporter": "python",
   "pygments_lexer": "ipython3",
   "version": "3.9.10"
  }
 },
 "nbformat": 4,
 "nbformat_minor": 5
}
