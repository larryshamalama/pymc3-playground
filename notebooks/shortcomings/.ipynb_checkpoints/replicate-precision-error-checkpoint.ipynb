{
 "cells": [
  {
   "cell_type": "code",
   "execution_count": 1,
   "id": "524849d6",
   "metadata": {},
   "outputs": [],
   "source": [
    "import numpy as np"
   ]
  },
  {
   "cell_type": "code",
   "execution_count": 2,
   "id": "b4eef31a",
   "metadata": {},
   "outputs": [],
   "source": [
    "K = 19\n",
    "M = 0.5\n",
    "rng = np.random.RandomState(seed=34)"
   ]
  },
  {
   "cell_type": "code",
   "execution_count": 3,
   "id": "4fee6721",
   "metadata": {},
   "outputs": [],
   "source": [
    "def generate_sticks(M, rng, size):\n",
    "    \n",
    "    N = size[0]\n",
    "    betas = rng.beta(1., M, size=size)\n",
    "    \n",
    "    sticks = np.hstack(\n",
    "        [\n",
    "            np.ones(shape=[N, 1]),\n",
    "            np.cumprod(1 - betas[:, :-1], axis=1),\n",
    "        ]\n",
    "    )\n",
    "\n",
    "    product = betas * sticks\n",
    "    \n",
    "    last_column = 1 - product.sum(axis=1)[..., np.newaxis] # adding last column to sampler seems to cause problems?\n",
    "    \n",
    "    return product\n",
    "\n",
    "def stick_glueing(sticks):\n",
    "    \n",
    "    N = sticks.shape[0]\n",
    "    \n",
    "    # sticks = [w1, w2, ..., wK]\n",
    "    # denominator = [1, -w1, -w2, ..., wK]\n",
    "    denominator = np.hstack(\n",
    "        [\n",
    "            np.ones(shape=[N, 1]),\n",
    "            - sticks,\n",
    "        ]\n",
    "    )\n",
    "    \n",
    "    denominator = np.cumsum(denominator, axis=1)\n",
    "    \n",
    "    # after cumsum, denominator = [1, 1 - w1, 1 - w1 - w2, ..., 1 - w1 - w2 - ... - wK]\n",
    "    \n",
    "    # output is now [w1/1, w2/(1 - w1), w3/(1 - w1 - w2), ..., wK/(1 - w1 - ... - wK-1)]\n",
    "    \n",
    "    return sticks/(denominator[:, :-1])"
   ]
  },
  {
   "cell_type": "code",
   "execution_count": 4,
   "id": "8edc6713",
   "metadata": {},
   "outputs": [],
   "source": [
    "sticks = generate_sticks(M, rng, size=[1000, K])"
   ]
  },
  {
   "cell_type": "code",
   "execution_count": 5,
   "id": "df378c0d",
   "metadata": {},
   "outputs": [],
   "source": [
    "denominator = np.hstack(\n",
    "    [\n",
    "            np.ones(shape=[1000, 1]),\n",
    "            - sticks,\n",
    "    ]\n",
    ")\n",
    "    \n",
    "denominator = np.cumsum(denominator, axis=1)"
   ]
  },
  {
   "cell_type": "code",
   "execution_count": 6,
   "id": "201497ca",
   "metadata": {},
   "outputs": [
    {
     "data": {
      "text/plain": [
       "dtype('float64')"
      ]
     },
     "execution_count": 6,
     "metadata": {},
     "output_type": "execute_result"
    }
   ],
   "source": [
    "denominator.dtype"
   ]
  },
  {
   "cell_type": "markdown",
   "id": "413701e3",
   "metadata": {},
   "source": [
    "#### $\\sum_{\\ell < h} w_\\ell$"
   ]
  },
  {
   "cell_type": "code",
   "execution_count": 7,
   "id": "206548f6",
   "metadata": {},
   "outputs": [
    {
     "data": {
      "text/plain": [
       "array([0.81991071, 0.98505847, 0.99698764, 0.99826655, 0.99860702,\n",
       "       0.99871993, 0.99999997, 1.        , 1.        , 1.        ,\n",
       "       1.        , 1.        , 1.        , 1.        , 1.        ,\n",
       "       1.        , 1.        , 1.        , 1.        ])"
      ]
     },
     "execution_count": 7,
     "metadata": {},
     "output_type": "execute_result"
    }
   ],
   "source": [
    "np.cumsum(sticks[103])"
   ]
  },
  {
   "cell_type": "markdown",
   "id": "787d0f10",
   "metadata": {},
   "source": [
    "#### $1 - \\sum_{\\ell < h} w_\\ell$"
   ]
  },
  {
   "cell_type": "code",
   "execution_count": 8,
   "id": "3ba5efda",
   "metadata": {},
   "outputs": [
    {
     "data": {
      "text/plain": [
       "array([1.80089293e-01, 1.49415257e-02, 3.01235691e-03, 1.73345246e-03,\n",
       "       1.39298192e-03, 1.28006867e-03, 2.95100887e-08, 4.93831642e-11,\n",
       "       2.51096921e-11, 3.17523785e-13, 1.11022302e-16, 0.00000000e+00,\n",
       "       0.00000000e+00, 0.00000000e+00, 0.00000000e+00, 0.00000000e+00,\n",
       "       0.00000000e+00, 0.00000000e+00, 0.00000000e+00])"
      ]
     },
     "execution_count": 8,
     "metadata": {},
     "output_type": "execute_result"
    }
   ],
   "source": [
    "1 - np.cumsum(sticks[103])"
   ]
  },
  {
   "cell_type": "markdown",
   "id": "f264832e",
   "metadata": {},
   "source": [
    "#### $1 - \\sum_{\\ell < h} w_\\ell$, but with a column of ones in front"
   ]
  },
  {
   "cell_type": "code",
   "execution_count": 9,
   "id": "0fe6ca43",
   "metadata": {},
   "outputs": [
    {
     "data": {
      "text/plain": [
       "array([ 1.80089293e-01,  1.49415257e-02,  3.01235691e-03,  1.73345246e-03,\n",
       "        1.39298192e-03,  1.28006867e-03,  2.95100888e-08,  4.93832688e-11,\n",
       "        2.51097428e-11,  3.17532423e-13,  1.52659119e-16, -1.35175325e-17,\n",
       "       -1.41372713e-17, -1.41754840e-17, -1.41839428e-17, -1.41894030e-17,\n",
       "       -1.41895716e-17, -1.41896098e-17, -1.41896114e-17])"
      ]
     },
     "execution_count": 9,
     "metadata": {},
     "output_type": "execute_result"
    }
   ],
   "source": [
    "denominator[103, 1:] # yields negative beta values, hence -inf log-likelihood"
   ]
  },
  {
   "cell_type": "code",
   "execution_count": 10,
   "id": "9d87d9f5",
   "metadata": {},
   "outputs": [
    {
     "data": {
      "text/plain": [
       "array([0.81991071, 0.98505847, 0.99698764, 0.99826655, 0.99860702,\n",
       "       0.99871993, 0.99999997, 1.        , 1.        , 1.        ,\n",
       "       1.        , 1.        , 1.        , 1.        , 1.        ,\n",
       "       1.        , 1.        , 1.        , 1.        ])"
      ]
     },
     "execution_count": 10,
     "metadata": {},
     "output_type": "execute_result"
    }
   ],
   "source": [
    "1 - denominator[103, 1:]"
   ]
  },
  {
   "cell_type": "markdown",
   "id": "87951aea",
   "metadata": {},
   "source": [
    "The same numerical imprecision can be observed for recovering beta realizations (pretty much same code as above).\n",
    "\n",
    "\n",
    "Some variable names are used twice..."
   ]
  },
  {
   "cell_type": "code",
   "execution_count": null,
   "id": "a5ca4b4f",
   "metadata": {},
   "outputs": [],
   "source": [
    "betas = rng.beta(1., M, size=[3, 19])\n",
    "\n",
    "sticks = np.hstack(\n",
    "        [\n",
    "            np.ones(shape=[3, 1]),\n",
    "            np.cumprod(1 - betas[:, :-1], axis=1),\n",
    "        ]\n",
    "    )\n",
    "sticks = sticks*betas\n",
    "\n",
    "denominator = np.hstack(\n",
    "        [\n",
    "            np.ones(shape=[3, 1]),\n",
    "            - sticks,\n",
    "        ]\n",
    "    )\n",
    "denominator = np.cumsum(denominator, axis=1)\n",
    "\n",
    "recovered_betas = sticks/denominator[:, :-1]"
   ]
  },
  {
   "cell_type": "code",
   "execution_count": null,
   "id": "1cf4208b",
   "metadata": {},
   "outputs": [],
   "source": [
    "betas[2]"
   ]
  },
  {
   "cell_type": "code",
   "execution_count": null,
   "id": "c4c899d4",
   "metadata": {},
   "outputs": [],
   "source": [
    "recovered_betas[2] # precision lost starting at [13:]"
   ]
  },
  {
   "cell_type": "markdown",
   "id": "ad3b5f6e",
   "metadata": {},
   "source": [
    "### An attempt to find a reasonable upper bound for `K`\n",
    "\n",
    "For numerical stability purposes. Recall the definition of our stick-breaking weights $w_h$ with respect to Beta random variables which we denote by $v_h \\stackrel{\\text{i.i.d.}}{\\sim} \\text{Beta}(1, M)$:\n",
    "\n",
    "\\begin{align*}\n",
    "    w_h = v_h \\prod_{\\ell < h} (1 - v_\\ell)\n",
    "\\end{align*}\n",
    "\n",
    "According to my naked eye, numerical instability issues seem to occur when weights fall below a value of $10^{-4}$ (see above). To be safe, I require that all $\\mathbb{E}[w_h] > 10^{-3}$ for all $h = 1, \\dots, K$, especially for $h = K$ since the weights form a strictly decreasing sequences in their expectation. A more formal argument can perhaps be divised using CLT and the Delta Method.\n",
    "\n",
    "\\begin{align*}\n",
    "    \\mathbb{E}(w_K) &= \\mathbb{E}(v_K) \\prod_{\\ell < K} \\left(1 - \\mathbb{E}(v_\\ell)\\right) \\qquad \\text{by independence}\\\\\n",
    "    &= \\frac{1}{1 + M} \\left(\\frac{M}{M + 1}\\right)^{K - 1}\\\\\n",
    "    &\\stackrel{\\text{set}}{>} 10^{-3}\\\\\n",
    "    \\Leftrightarrow K &< \\frac{\\log(10^{-3}) + \\log(M+1) + \\log\\left(\\frac{M}{M+1}\\right)}{\\log\\left(\\frac{M}{M+1}\\right)}\\\\\n",
    "    &= \\frac{\\log(10^{-3}) + \\log(M+1)}{\\log\\left(\\frac{M}{M+1}\\right)} + 1\n",
    "\\end{align*}\n",
    "\n",
    "A quick attempt at implementing this shows that it still doesn't work very well for $M = 0.2, 0.01$..."
   ]
  },
  {
   "cell_type": "code",
   "execution_count": null,
   "id": "e319b1f2",
   "metadata": {},
   "outputs": [],
   "source": []
  }
 ],
 "metadata": {
  "kernelspec": {
   "display_name": "pymc3-dev-py38",
   "language": "python",
   "name": "pymc3-dev-py38"
  },
  "language_info": {
   "codemirror_mode": {
    "name": "ipython",
    "version": 3
   },
   "file_extension": ".py",
   "mimetype": "text/x-python",
   "name": "python",
   "nbconvert_exporter": "python",
   "pygments_lexer": "ipython3",
   "version": "3.8.10"
  }
 },
 "nbformat": 4,
 "nbformat_minor": 5
}
