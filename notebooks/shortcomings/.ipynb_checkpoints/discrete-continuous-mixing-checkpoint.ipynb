{
 "cells": [
  {
   "cell_type": "code",
   "execution_count": 27,
   "id": "c88ce1f3",
   "metadata": {},
   "outputs": [
    {
     "data": {
      "text/plain": [
       "'4.0.0b4'"
      ]
     },
     "execution_count": 27,
     "metadata": {},
     "output_type": "execute_result"
    }
   ],
   "source": [
    "import pymc as pm\n",
    "import numpy as np\n",
    "\n",
    "from aesara.tensor.random.op import RandomVariable\n",
    "from pymc.vartypes import continuous_types, discrete_types\n",
    "\n",
    "pm.__version__"
   ]
  },
  {
   "cell_type": "code",
   "execution_count": 57,
   "id": "b729f7a9",
   "metadata": {},
   "outputs": [
    {
     "name": "stderr",
     "output_type": "stream",
     "text": [
      "Sequential sampling (1 chains in 1 job)\n",
      "NUTS: [mu, lam, mix]\n"
     ]
    },
    {
     "data": {
      "text/html": [
       "\n",
       "<style>\n",
       "    /* Turns off some styling */\n",
       "    progress {\n",
       "        /* gets rid of default border in Firefox and Opera. */\n",
       "        border: none;\n",
       "        /* Needs to be in here for Safari polyfill so background images work as expected. */\n",
       "        background-size: auto;\n",
       "    }\n",
       "    .progress-bar-interrupted, .progress-bar-interrupted::-webkit-progress-bar {\n",
       "        background: #F44336;\n",
       "    }\n",
       "</style>\n"
      ],
      "text/plain": [
       "<IPython.core.display.HTML object>"
      ]
     },
     "metadata": {},
     "output_type": "display_data"
    },
    {
     "data": {
      "text/html": [
       "\n",
       "    <div>\n",
       "      <progress value='2000' class='' max='2000' style='width:300px; height:20px; vertical-align: middle;'></progress>\n",
       "      100.00% [2000/2000 00:02<00:00 Sampling chain 0, 0 divergences]\n",
       "    </div>\n",
       "    "
      ],
      "text/plain": [
       "<IPython.core.display.HTML object>"
      ]
     },
     "metadata": {},
     "output_type": "display_data"
    },
    {
     "name": "stderr",
     "output_type": "stream",
     "text": [
      "Sampling 1 chain for 1_000 tune and 1_000 draw iterations (1_000 + 1_000 draws total) took 2 seconds.\n",
      "Only one chain was sampled, this makes it impossible to run some convergence checks\n"
     ]
    }
   ],
   "source": [
    "with pm.Model() as model:\n",
    "    mu = pm.Normal(\"mu\", 0., 5.)\n",
    "    lam = pm.Gamma(\"lam\", 1., 1.)\n",
    "    norm = pm.Normal.dist(mu, 1)\n",
    "    pois = pm.Poisson.dist(lam)\n",
    "    mix = pm.Mixture(\"mix\", w=[0.5, 0.5], comp_dists=[norm, pois], shape=1)\n",
    "    \n",
    "    trace = pm.sample(chains=1,)"
   ]
  },
  {
   "cell_type": "code",
   "execution_count": 62,
   "id": "5af5015c",
   "metadata": {},
   "outputs": [],
   "source": [
    "assert True or False"
   ]
  },
  {
   "cell_type": "code",
   "execution_count": 64,
   "id": "82e65b35",
   "metadata": {},
   "outputs": [
    {
     "data": {
      "text/plain": [
       "False"
      ]
     },
     "execution_count": 64,
     "metadata": {},
     "output_type": "execute_result"
    }
   ],
   "source": [
    "False or False"
   ]
  },
  {
   "cell_type": "code",
   "execution_count": 66,
   "id": "a5ab2851",
   "metadata": {},
   "outputs": [
    {
     "data": {
      "text/plain": [
       "{'a', 'b', 'c', 'd'}"
      ]
     },
     "execution_count": 66,
     "metadata": {},
     "output_type": "execute_result"
    }
   ],
   "source": [
    "{\"a\", \"b\"} | {\"c\", \"d\"}"
   ]
  },
  {
   "cell_type": "code",
   "execution_count": 69,
   "id": "8ed247a2",
   "metadata": {},
   "outputs": [
    {
     "ename": "SyntaxError",
     "evalue": "named arguments must follow bare * (39717242.py, line 1)",
     "output_type": "error",
     "traceback": [
      "\u001b[0;36m  Input \u001b[0;32mIn [69]\u001b[0;36m\u001b[0m\n\u001b[0;31m    def f(a, *, **kwargs):\u001b[0m\n\u001b[0m                ^\u001b[0m\n\u001b[0;31mSyntaxError\u001b[0m\u001b[0;31m:\u001b[0m named arguments must follow bare *\n"
     ]
    }
   ],
   "source": [
    "def f(a, *, **kwargs):\n",
    "    if \"hello\" in kwargs:\n",
    "        return kwargs[\"hello\"]\n",
    "    return a + 1\n",
    "\n",
    "f(1, 2, 3, 4, *, hello=5)"
   ]
  },
  {
   "cell_type": "code",
   "execution_count": null,
   "id": "6a4b5534",
   "metadata": {},
   "outputs": [],
   "source": []
  }
 ],
 "metadata": {
  "kernelspec": {
   "display_name": "pymc-dev-py39",
   "language": "python",
   "name": "pymc-dev-py39"
  },
  "language_info": {
   "codemirror_mode": {
    "name": "ipython",
    "version": 3
   },
   "file_extension": ".py",
   "mimetype": "text/x-python",
   "name": "python",
   "nbconvert_exporter": "python",
   "pygments_lexer": "ipython3",
   "version": "3.9.10"
  }
 },
 "nbformat": 4,
 "nbformat_minor": 5
}
