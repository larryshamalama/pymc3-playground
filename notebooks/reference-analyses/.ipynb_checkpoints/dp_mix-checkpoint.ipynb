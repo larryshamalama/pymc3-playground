{
 "cells": [
  {
   "cell_type": "markdown",
   "metadata": {
    "toc": true
   },
   "source": [
    "<h1>Agenda<span class=\"tocSkip\"></span></h1>\n",
    "<div class=\"toc\"><ul class=\"toc-item\"><li><span><a href=\"#Dirichlet-process-mixtures-for-density-estimation\" data-toc-modified-id=\"Dirichlet-process-mixtures-for-density-estimation-1\"><span class=\"toc-item-num\">1&nbsp;&nbsp;</span>Dirichlet process mixtures for density estimation</a></span><ul class=\"toc-item\"><li><span><a href=\"#Dirichlet-processes\" data-toc-modified-id=\"Dirichlet-processes-1.1\"><span class=\"toc-item-num\">1.1&nbsp;&nbsp;</span>Dirichlet processes</a></span></li><li><span><a href=\"#Dirichlet-process-mixtures\" data-toc-modified-id=\"Dirichlet-process-mixtures-1.2\"><span class=\"toc-item-num\">1.2&nbsp;&nbsp;</span>Dirichlet process mixtures</a></span></li></ul></li></ul></div>"
   ]
  },
  {
   "cell_type": "markdown",
   "metadata": {},
   "source": [
    "# Dirichlet process mixtures for density estimation\n",
    "Author: [Austin Rochford](https://github.com/AustinRochford/)\n",
    "\n",
    "## Dirichlet processes\n",
    "\n",
    "The [Dirichlet process](https://en.wikipedia.org/wiki/Dirichlet_process) is a flexible probability distribution over the space of distributions.  Most generally, a probability distribution, $P$, on a set $\\Omega$ is a [measure](https://en.wikipedia.org/wiki/Measure_(mathematics%29) that assigns measure one to the entire space ($P(\\Omega) = 1$).  A Dirichlet process $P \\sim \\textrm{DP}(\\alpha, P_0)$ is a measure that has the property that, for every finite [disjoint](https://en.wikipedia.org/wiki/Disjoint_sets) partition $S_1, \\ldots, S_n$ of $\\Omega$,\n",
    "\n",
    "$$(P(S_1), \\ldots, P(S_n)) \\sim \\textrm{Dir}(\\alpha P_0(S_1), \\ldots, \\alpha P_0(S_n)).$$\n",
    "\n",
    "Here $P_0$ is the base probability measure on the space $\\Omega$.  The precision parameter $\\alpha > 0$ controls how close samples from the Dirichlet process are to the base measure, $P_0$.  As $\\alpha \\to \\infty$, samples from the Dirichlet process approach the base measure $P_0$.\n",
    "\n",
    "Dirichlet processes have several properties that make them quite suitable to [MCMC](https://en.wikipedia.org/wiki/Markov_chain_Monte_Carlo) simulation.\n",
    "\n",
    "1.  The posterior given [i.i.d.](https://en.wikipedia.org/wiki/Independent_and_identically_distributed_random_variables) observations $\\omega_1, \\ldots, \\omega_n$ from a Dirichlet process $P \\sim \\textrm{DP}(\\alpha, P_0)$ is also a Dirichlet process with\n",
    "\n",
    "    $$P\\ |\\ \\omega_1, \\ldots, \\omega_n \\sim \\textrm{DP}\\left(\\alpha + n, \\frac{\\alpha}{\\alpha + n} P_0 + \\frac{1}{\\alpha + n} \\sum_{i = 1}^n \\delta_{\\omega_i}\\right),$$\n",
    "    \n",
    " where $\\delta$ is the [Dirac delta measure](https://en.wikipedia.org/wiki/Dirac_delta_function)\n",
    " \n",
    " $$\\begin{align*}\n",
    "     \\delta_{\\omega}(S)\n",
    "         & = \\begin{cases}\n",
    "                 1 & \\textrm{if } \\omega \\in S \\\\\n",
    "                 0 & \\textrm{if } \\omega \\not \\in S\n",
    "             \\end{cases}\n",
    " \\end{align*}.$$\n",
    "\n",
    "2. The posterior predictive distribution of a new observation is a compromise between the base measure and the observations,\n",
    "\n",
    "    $$\\omega\\ |\\ \\omega_1, \\ldots, \\omega_n \\sim \\frac{\\alpha}{\\alpha + n} P_0 + \\frac{1}{\\alpha + n} \\sum_{i = 1}^n \\delta_{\\omega_i}.$$\n",
    "\n",
    " We see that the prior precision $\\alpha$ can naturally be interpreted as a prior sample size.  The form of this posterior predictive distribution also lends itself to Gibbs sampling.\n",
    "    \n",
    "2. Samples, $P \\sim \\textrm{DP}(\\alpha, P_0)$, from a Dirichlet process are discrete with probability one.  That is, there are elements $\\omega_1, \\omega_2, \\ldots$ in $\\Omega$ and weights $w_1, w_2, \\ldots$ with $\\sum_{i = 1}^{\\infty} w_i = 1$ such that\n",
    "\n",
    "    $$P = \\sum_{i = 1}^\\infty w_i \\delta_{\\omega_i}.$$\n",
    "\n",
    "3. The [stick-breaking process](https://en.wikipedia.org/wiki/Dirichlet_process#The_stick-breaking_process) gives an explicit construction of the weights $w_i$ and samples $\\omega_i$ above that is straightforward to sample from.  If $\\beta_1, \\beta_2, \\ldots \\sim \\textrm{Beta}(1, \\alpha)$, then $w_i = \\beta_i \\prod_{j = 1}^{n - 1} (1 - \\beta_j)$.  The relationship between this representation and stick breaking may be illustrated as follows:\n",
    "    1. Start with a stick of length one.\n",
    "    2. Break the stick into two portions, the first of proportion $w_1 = \\beta_1$ and the second of proportion $1 - w_1$.\n",
    "    3. Further break the second portion into two portions, the first of proportion $\\beta_2$ and the second of proportion $1 - \\beta_2$.  The length of the first portion of this stick is $\\beta_2 (1 - \\beta_1)$; the length of the second portion is $(1 - \\beta_1) (1 - \\beta_2)$.\n",
    "    4. Continue breaking the second portion from the previous break in this manner forever.  If $\\omega_1, \\omega_2, \\ldots \\sim P_0$, then\n",
    "\n",
    "    $$P = \\sum_{i = 1}^\\infty w_i \\delta_{\\omega_i} \\sim \\textrm{DP}(\\alpha, P_0).$$\n",
    "    \n",
    "[Suggested Further Reading]: (http://mlg.eng.cam.ac.uk/tutorials/07/ywt.pdf) and (https://www.stats.ox.ac.uk/~teh/research/npbayes/Teh2010a.pdf) for a brief introduction to other flavours of Dirichlet Processes, and their applications.\n",
    "\n",
    "We can use the stick-breaking process above to easily sample from a Dirichlet process in Python.  For this example, $\\alpha = 2$ and the base distribution is $N(0, 1)$."
   ]
  },
  {
   "cell_type": "code",
   "execution_count": 1,
   "metadata": {},
   "outputs": [
    {
     "ename": "ModuleNotFoundError",
     "evalue": "No module named 'seaborn'",
     "output_type": "error",
     "traceback": [
      "\u001b[0;31m---------------------------------------------------------------------------\u001b[0m",
      "\u001b[0;31mModuleNotFoundError\u001b[0m                       Traceback (most recent call last)",
      "Input \u001b[0;32mIn [1]\u001b[0m, in \u001b[0;36m<module>\u001b[0;34m\u001b[0m\n\u001b[1;32m      4\u001b[0m \u001b[38;5;28;01mimport\u001b[39;00m \u001b[38;5;21;01mpymc3\u001b[39;00m \u001b[38;5;28;01mas\u001b[39;00m \u001b[38;5;21;01mpm\u001b[39;00m\n\u001b[1;32m      5\u001b[0m \u001b[38;5;28;01mimport\u001b[39;00m \u001b[38;5;21;01mscipy\u001b[39;00m \u001b[38;5;28;01mas\u001b[39;00m \u001b[38;5;21;01msp\u001b[39;00m\n\u001b[0;32m----> 6\u001b[0m \u001b[38;5;28;01mimport\u001b[39;00m \u001b[38;5;21;01mseaborn\u001b[39;00m \u001b[38;5;28;01mas\u001b[39;00m \u001b[38;5;21;01msns\u001b[39;00m\n\u001b[1;32m      8\u001b[0m \u001b[38;5;28;01mfrom\u001b[39;00m \u001b[38;5;21;01mmatplotlib\u001b[39;00m \u001b[38;5;28;01mimport\u001b[39;00m pyplot \u001b[38;5;28;01mas\u001b[39;00m plt\n\u001b[1;32m      9\u001b[0m \u001b[38;5;28;01mfrom\u001b[39;00m \u001b[38;5;21;01mtheano\u001b[39;00m \u001b[38;5;28;01mimport\u001b[39;00m tensor \u001b[38;5;28;01mas\u001b[39;00m tt\n",
      "\u001b[0;31mModuleNotFoundError\u001b[0m: No module named 'seaborn'"
     ]
    }
   ],
   "source": [
    "import arviz as az\n",
    "import numpy as np\n",
    "import pandas as pd\n",
    "import pymc3 as pm\n",
    "import scipy as sp\n",
    "import seaborn as sns\n",
    "\n",
    "from matplotlib import pyplot as plt\n",
    "from theano import tensor as tt\n",
    "\n",
    "print(f\"Running on PyMC3 v{pm.__version__}\")"
   ]
  },
  {
   "cell_type": "code",
   "execution_count": null,
   "metadata": {},
   "outputs": [],
   "source": [
    "%config InlineBackend.figure_format = 'retina'\n",
    "blue, *_ = sns.color_palette()\n",
    "az.style.use(\"arviz-darkgrid\")\n",
    "SEED = 5132290  # from random.org\n",
    "np.random.seed(SEED)"
   ]
  },
  {
   "cell_type": "code",
   "execution_count": null,
   "metadata": {},
   "outputs": [],
   "source": [
    "N = 20\n",
    "K = 30\n",
    "\n",
    "alpha = 2.0\n",
    "P0 = sp.stats.norm"
   ]
  },
  {
   "cell_type": "markdown",
   "metadata": {},
   "source": [
    "We draw and plot samples from the stick-breaking process."
   ]
  },
  {
   "cell_type": "code",
   "execution_count": null,
   "metadata": {},
   "outputs": [],
   "source": [
    "beta = sp.stats.beta.rvs(1, alpha, size=(N, K))\n",
    "w = np.empty_like(beta)\n",
    "w[:, 0] = beta[:, 0]\n",
    "w[:, 1:] = beta[:, 1:] * (1 - beta[:, :-1]).cumprod(axis=1)\n",
    "\n",
    "omega = P0.rvs(size=(N, K))\n",
    "\n",
    "x_plot = np.linspace(-3, 3, 200)\n",
    "\n",
    "sample_cdfs = (w[..., np.newaxis] * np.less.outer(omega, x_plot)).sum(axis=1)"
   ]
  },
  {
   "cell_type": "code",
   "execution_count": null,
   "metadata": {},
   "outputs": [],
   "source": [
    "np.less.outer(np.array([0, 1, 2]), np.array([-1, 2, 3]))"
   ]
  },
  {
   "cell_type": "code",
   "execution_count": null,
   "metadata": {},
   "outputs": [],
   "source": [
    "fig, ax = plt.subplots(figsize=(8, 6))\n",
    "\n",
    "ax.plot(x_plot, sample_cdfs[0], c=\"gray\", alpha=0.75, label=\"DP sample CDFs\")\n",
    "ax.plot(x_plot, sample_cdfs[1:].T, c=\"gray\", alpha=0.75)\n",
    "ax.plot(x_plot, P0.cdf(x_plot), c=\"k\", label=\"Base CDF\")\n",
    "\n",
    "ax.set_title(fr\"$\\alpha = {alpha}$\")\n",
    "ax.legend(loc=2);"
   ]
  },
  {
   "cell_type": "markdown",
   "metadata": {},
   "source": [
    "As stated above, as $\\alpha \\to \\infty$, samples from the Dirichlet process converge to the base distribution."
   ]
  },
  {
   "cell_type": "code",
   "execution_count": null,
   "metadata": {},
   "outputs": [],
   "source": [
    "fig, (l_ax, r_ax) = plt.subplots(ncols=2, sharex=True, sharey=True, figsize=(16, 6))\n",
    "\n",
    "K = 50\n",
    "alpha = 10.0\n",
    "\n",
    "beta = sp.stats.beta.rvs(1, alpha, size=(N, K))\n",
    "w = np.empty_like(beta)\n",
    "w[:, 0] = beta[:, 0]\n",
    "w[:, 1:] = beta[:, 1:] * (1 - beta[:, :-1]).cumprod(axis=1)\n",
    "\n",
    "omega = P0.rvs(size=(N, K))\n",
    "\n",
    "sample_cdfs = (w[..., np.newaxis] * np.less.outer(omega, x_plot)).sum(axis=1)\n",
    "\n",
    "l_ax.plot(x_plot, sample_cdfs[0], c=\"gray\", alpha=0.75, label=\"DP sample CDFs\")\n",
    "l_ax.plot(x_plot, sample_cdfs[1:].T, c=\"gray\", alpha=0.75)\n",
    "l_ax.plot(x_plot, P0.cdf(x_plot), c=\"k\", label=\"Base CDF\")\n",
    "\n",
    "l_ax.set_title(fr\"$\\alpha = {alpha}$\")\n",
    "l_ax.legend(loc=2)\n",
    "\n",
    "K = 200\n",
    "alpha = 50.0\n",
    "\n",
    "beta = sp.stats.beta.rvs(1, alpha, size=(N, K))\n",
    "w = np.empty_like(beta)\n",
    "w[:, 0] = beta[:, 0]\n",
    "w[:, 1:] = beta[:, 1:] * (1 - beta[:, :-1]).cumprod(axis=1)\n",
    "\n",
    "omega = P0.rvs(size=(N, K))\n",
    "\n",
    "sample_cdfs = (w[..., np.newaxis] * np.less.outer(omega, x_plot)).sum(axis=1)\n",
    "\n",
    "r_ax.plot(x_plot, sample_cdfs[0], c=\"gray\", alpha=0.75, label=\"DP sample CDFs\")\n",
    "r_ax.plot(x_plot, sample_cdfs[1:].T, c=\"gray\", alpha=0.75)\n",
    "r_ax.plot(x_plot, P0.cdf(x_plot), c=\"k\", label=\"Base CDF\")\n",
    "\n",
    "r_ax.set_title(fr\"$\\alpha = {alpha}$\")\n",
    "r_ax.legend(loc=2);"
   ]
  },
  {
   "cell_type": "markdown",
   "metadata": {},
   "source": [
    "## Dirichlet process mixtures\n",
    "\n",
    "For the task of density estimation, the (almost sure) discreteness of samples from the Dirichlet process is a significant drawback.  This problem can be solved with another level of indirection by using Dirichlet process mixtures for density estimation.  A Dirichlet process mixture uses component densities from a parametric family $\\mathcal{F} = \\{f_{\\theta}\\ |\\ \\theta \\in \\Theta\\}$ and represents the mixture weights as a Dirichlet process.  If $P_0$ is a probability measure on the parameter space $\\Theta$, a Dirichlet process mixture is the hierarchical model\n",
    "\n",
    "$$\n",
    "\\begin{align*}\n",
    "    x_i\\ |\\ \\theta_i\n",
    "        & \\sim f_{\\theta_i} \\\\\n",
    "    \\theta_1, \\ldots, \\theta_n\n",
    "        & \\sim P \\\\\n",
    "    P\n",
    "        & \\sim \\textrm{DP}(\\alpha, P_0).\n",
    "\\end{align*}\n",
    "$$\n",
    "\n",
    "To illustrate this model, we simulate draws from a Dirichlet process mixture with $\\alpha = 2$, $\\theta \\sim N(0, 1)$, $x\\ |\\ \\theta \\sim N(\\theta, (0.3)^2)$."
   ]
  },
  {
   "cell_type": "code",
   "execution_count": null,
   "metadata": {},
   "outputs": [],
   "source": [
    "N = 5\n",
    "K = 30\n",
    "\n",
    "alpha = 2\n",
    "P0 = sp.stats.norm\n",
    "f = lambda x, theta: sp.stats.norm.pdf(x, theta, 0.3)"
   ]
  },
  {
   "cell_type": "code",
   "execution_count": null,
   "metadata": {},
   "outputs": [],
   "source": [
    "beta = sp.stats.beta.rvs(1, alpha, size=(N, K))\n",
    "w = np.empty_like(beta)\n",
    "w[:, 0] = beta[:, 0]\n",
    "w[:, 1:] = beta[:, 1:] * (1 - beta[:, :-1]).cumprod(axis=1)\n",
    "\n",
    "theta = P0.rvs(size=(N, K))\n",
    "\n",
    "dpm_pdf_components = f(x_plot[np.newaxis, np.newaxis, :], theta[..., np.newaxis])\n",
    "dpm_pdfs = (w[..., np.newaxis] * dpm_pdf_components).sum(axis=1)"
   ]
  },
  {
   "cell_type": "code",
   "execution_count": null,
   "metadata": {},
   "outputs": [],
   "source": [
    "fig, ax = plt.subplots(figsize=(8, 6))\n",
    "\n",
    "ax.plot(x_plot, dpm_pdfs.T, c=\"gray\")\n",
    "\n",
    "ax.set_yticklabels([]);"
   ]
  },
  {
   "cell_type": "markdown",
   "metadata": {},
   "source": [
    "We now focus on a single mixture and decompose it into its individual (weighted) mixture components."
   ]
  },
  {
   "cell_type": "code",
   "execution_count": null,
   "metadata": {},
   "outputs": [],
   "source": [
    "fig, ax = plt.subplots(figsize=(8, 6))\n",
    "\n",
    "ix = 1\n",
    "\n",
    "ax.plot(x_plot, dpm_pdfs[ix], c=\"k\", label=\"Density\")\n",
    "ax.plot(\n",
    "    x_plot,\n",
    "    (w[..., np.newaxis] * dpm_pdf_components)[ix, 0],\n",
    "    \"--\",\n",
    "    c=\"k\",\n",
    "    label=\"Mixture components (weighted)\",\n",
    ")\n",
    "ax.plot(x_plot, (w[..., np.newaxis] * dpm_pdf_components)[ix].T, \"--\", c=\"k\")\n",
    "\n",
    "ax.set_yticklabels([])\n",
    "ax.legend(loc=1);"
   ]
  },
  {
   "cell_type": "markdown",
   "metadata": {},
   "source": [
    "Sampling from these stochastic processes is fun, but these ideas become truly useful when we fit them to data.  The discreteness of samples and the stick-breaking representation of the Dirichlet process lend themselves nicely to Markov chain Monte Carlo simulation of posterior distributions.  We will perform this sampling using `PyMC3`.\n",
    "\n",
    "Our first example uses a Dirichlet process mixture to estimate the density of waiting times between eruptions of the [Old Faithful](https://en.wikipedia.org/wiki/Old_Faithful) geyser in [Yellowstone National Park](https://en.wikipedia.org/wiki/Yellowstone_National_Park)."
   ]
  },
  {
   "cell_type": "code",
   "execution_count": null,
   "metadata": {},
   "outputs": [],
   "source": [
    "old_faithful_df = pd.read_csv(pm.get_data(\"old_faithful.csv\"))"
   ]
  },
  {
   "cell_type": "markdown",
   "metadata": {},
   "source": [
    "For convenience in specifying the prior, we standardize the waiting time between eruptions."
   ]
  },
  {
   "cell_type": "code",
   "execution_count": null,
   "metadata": {},
   "outputs": [],
   "source": [
    "old_faithful_df[\"std_waiting\"] = (\n",
    "    old_faithful_df.waiting - old_faithful_df.waiting.mean()\n",
    ") / old_faithful_df.waiting.std()"
   ]
  },
  {
   "cell_type": "code",
   "execution_count": null,
   "metadata": {},
   "outputs": [],
   "source": [
    "old_faithful_df.head()"
   ]
  },
  {
   "cell_type": "code",
   "execution_count": null,
   "metadata": {},
   "outputs": [],
   "source": [
    "fig, ax = plt.subplots(figsize=(8, 6))\n",
    "\n",
    "n_bins = 20\n",
    "ax.hist(old_faithful_df.std_waiting, bins=n_bins, color=blue, lw=0, alpha=0.5)\n",
    "\n",
    "ax.set_xlabel(\"Standardized waiting time between eruptions\")\n",
    "ax.set_ylabel(\"Number of eruptions\");"
   ]
  },
  {
   "cell_type": "markdown",
   "metadata": {},
   "source": [
    "Observant readers will have noted that we have not been continuing the stick-breaking process indefinitely as indicated by its definition, but rather have been truncating this process after a finite number of breaks.  Obviously, when computing with Dirichlet processes, it is necessary to only store a finite number of its point masses and weights in memory.  This restriction is not terribly onerous, since with a finite number of observations, it seems quite likely that the number of mixture components that contribute non-neglible mass to the mixture will grow slower than the number of samples.  This intuition can be formalized to show that the (expected) number of components that contribute non-negligible mass to the mixture approaches $\\alpha \\log N$, where $N$ is the sample size.\n",
    "\n",
    "There are various clever [Gibbs sampling](https://en.wikipedia.org/wiki/Gibbs_sampling) techniques for Dirichlet processes that allow the number of components stored to grow as needed.  [Stochastic memoization](http://danroy.org/papers/RoyManGooTen-ICMLNPB-2008.pdf) is another powerful technique for simulating Dirichlet processes while only storing finitely many components in memory.  In this introductory example, we take the much less sophistocated approach of simply truncating the Dirichlet process components that are stored after a fixed number, $K$, of components.  [Ohlssen, et al.](http://fisher.osu.edu/~schroeder.9/AMIS900/Ohlssen2006.pdf) provide justification for truncation, showing that $K > 5 \\alpha + 2$ is most likely sufficient to capture almost all of the mixture weight ($\\sum_{i = 1}^{K} w_i > 0.99$).  In practice, we can verify the suitability of our truncated approximation to the Dirichlet process by checking the number of components that contribute non-negligible mass to the mixture.  If, in our simulations, all components contribute non-negligible mass to the mixture, we have truncated the Dirichlet process too early.\n",
    "\n",
    "Our (truncated) Dirichlet process mixture model for the standardized waiting times is\n",
    "\n",
    "$$\n",
    "\\begin{align*}\n",
    "    \\alpha\n",
    "        & \\sim \\textrm{Gamma}(1, 1) \\\\\n",
    "    \\beta_1, \\ldots, \\beta_K\n",
    "        & \\sim \\textrm{Beta}(1, \\alpha) \\\\\n",
    "    w_i\n",
    "        & = \\beta_i \\prod_{j = i - 1}^i (1 - \\beta_j) \\\\\n",
    "    \\\\\n",
    "    \\lambda_1, \\ldots, \\lambda_K\n",
    "        & \\sim \\textrm{Gamma}(10, 1) \\\\\n",
    "    \\tau_1, \\ldots, \\tau_K\n",
    "        & \\sim \\textrm{Gamma}(10, 1) \\\\\n",
    "    \\mu_i\\ |\\ \\lambda_i, \\tau_i\n",
    "        & \\sim N\\left(0, (\\lambda_i \\tau_i)^{-1}\\right) \\\\\n",
    "    \\\\\n",
    "    x\\ |\\ w_i, \\lambda_i, \\tau_i, \\mu_i\n",
    "        & \\sim \\sum_{i = 1}^K w_i\\ N(\\mu_i, (\\lambda_i \\tau_i)^{-1})\n",
    "\\end{align*}\n",
    "$$\n",
    "\n",
    "Note that instead of fixing a value of $\\alpha$, as in our previous simulations, we specify a prior on $\\alpha$, so that we may learn its posterior distribution from the observations.\n",
    "\n",
    "We now construct this model using `pymc3`."
   ]
  },
  {
   "cell_type": "code",
   "execution_count": null,
   "metadata": {},
   "outputs": [],
   "source": [
    "N = old_faithful_df.shape[0]\n",
    "\n",
    "K = 30"
   ]
  },
  {
   "cell_type": "code",
   "execution_count": null,
   "metadata": {},
   "outputs": [],
   "source": [
    "def stick_breaking(beta):\n",
    "    portion_remaining = tt.concatenate([[1], tt.extra_ops.cumprod(1 - beta)[:-1]])\n",
    "\n",
    "    return beta * portion_remaining"
   ]
  },
  {
   "cell_type": "code",
   "execution_count": null,
   "metadata": {},
   "outputs": [],
   "source": [
    "with pm.Model() as model:\n",
    "    alpha = pm.Gamma(\"alpha\", 1.0, 1.0)\n",
    "    beta = pm.Beta(\"beta\", 1.0, alpha, shape=K)\n",
    "    w = pm.Deterministic(\"w\", stick_breaking(beta))\n",
    "\n",
    "    tau = pm.Gamma(\"tau\", 1.0, 1.0, shape=K)\n",
    "    lambda_ = pm.Gamma(\"lambda_\", 10.0, 1.0, shape=K)\n",
    "    mu = pm.Normal(\"mu\", 0, tau=lambda_ * tau, shape=K)\n",
    "    obs = pm.NormalMixture(\n",
    "        \"obs\", w, mu, tau=lambda_ * tau, observed=old_faithful_df.std_waiting.values\n",
    "    )"
   ]
  },
  {
   "cell_type": "markdown",
   "metadata": {},
   "source": [
    "We sample from the model 1,000 times using NUTS initialized with ADVI."
   ]
  },
  {
   "cell_type": "code",
   "execution_count": null,
   "metadata": {},
   "outputs": [],
   "source": [
    "with model:\n",
    "    trace = pm.sample(1000, tune=2500, chains=2, init=\"advi\", target_accept=0.9, random_seed=SEED)"
   ]
  },
  {
   "cell_type": "markdown",
   "metadata": {},
   "source": [
    "The posterior distribution of $\\alpha$ is highly concentrated between 0.25 and 1."
   ]
  },
  {
   "cell_type": "code",
   "execution_count": null,
   "metadata": {
    "scrolled": true
   },
   "outputs": [],
   "source": [
    "az.plot_trace(trace, var_names=[\"alpha\"]);"
   ]
  },
  {
   "cell_type": "markdown",
   "metadata": {},
   "source": [
    "To verify that truncation is not biasing our results, we plot the posterior expected mixture weight of each component."
   ]
  },
  {
   "cell_type": "code",
   "execution_count": null,
   "metadata": {},
   "outputs": [],
   "source": [
    "fig, ax = plt.subplots(figsize=(8, 6))\n",
    "\n",
    "plot_w = np.arange(K) + 1\n",
    "\n",
    "ax.bar(plot_w - 0.5, trace[\"w\"].mean(axis=0), width=1.0, lw=0)\n",
    "\n",
    "ax.set_xlim(0.5, K)\n",
    "ax.set_xlabel(\"Component\")\n",
    "\n",
    "ax.set_ylabel(\"Posterior expected mixture weight\");"
   ]
  },
  {
   "cell_type": "markdown",
   "metadata": {},
   "source": [
    "We see that only three mixture components have appreciable posterior expected weights, so we conclude that truncating the Dirichlet process to forty components has not appreciably affected our estimates.\n",
    "\n",
    "We now compute and plot our posterior density estimate."
   ]
  },
  {
   "cell_type": "code",
   "execution_count": null,
   "metadata": {},
   "outputs": [],
   "source": [
    "post_pdf_contribs = sp.stats.norm.pdf(\n",
    "    np.atleast_3d(x_plot),\n",
    "    trace[\"mu\"][:, np.newaxis, :],\n",
    "    1.0 / np.sqrt(trace[\"lambda_\"] * trace[\"tau\"])[:, np.newaxis, :],\n",
    ")\n",
    "post_pdfs = (trace[\"w\"][:, np.newaxis, :] * post_pdf_contribs).sum(axis=-1)\n",
    "\n",
    "post_pdf_low, post_pdf_high = np.percentile(post_pdfs, [2.5, 97.5], axis=0)"
   ]
  },
  {
   "cell_type": "code",
   "execution_count": null,
   "metadata": {},
   "outputs": [],
   "source": [
    "fig, ax = plt.subplots(figsize=(8, 6))\n",
    "\n",
    "n_bins = 20\n",
    "ax.hist(old_faithful_df.std_waiting.values, bins=n_bins, density=True, color=blue, lw=0, alpha=0.5)\n",
    "\n",
    "ax.fill_between(x_plot, post_pdf_low, post_pdf_high, color=\"gray\", alpha=0.45)\n",
    "ax.plot(x_plot, post_pdfs[0], c=\"gray\", label=\"Posterior sample densities\")\n",
    "ax.plot(x_plot, post_pdfs[::100].T, c=\"gray\")\n",
    "ax.plot(x_plot, post_pdfs.mean(axis=0), c=\"k\", label=\"Posterior expected density\")\n",
    "\n",
    "ax.set_xlabel(\"Standardized waiting time between eruptions\")\n",
    "\n",
    "ax.set_yticklabels([])\n",
    "ax.set_ylabel(\"Density\")\n",
    "\n",
    "ax.legend(loc=2);"
   ]
  },
  {
   "cell_type": "markdown",
   "metadata": {},
   "source": [
    "As above, we can decompose this density estimate into its (weighted) mixture components."
   ]
  },
  {
   "cell_type": "code",
   "execution_count": null,
   "metadata": {},
   "outputs": [],
   "source": [
    "fig, ax = plt.subplots(figsize=(8, 6))\n",
    "\n",
    "n_bins = 20\n",
    "ax.hist(old_faithful_df.std_waiting.values, bins=n_bins, density=True, color=blue, lw=0, alpha=0.5)\n",
    "\n",
    "ax.plot(x_plot, post_pdfs.mean(axis=0), c=\"k\", label=\"Posterior expected density\")\n",
    "ax.plot(\n",
    "    x_plot,\n",
    "    (trace[\"w\"][:, np.newaxis, :] * post_pdf_contribs).mean(axis=0)[:, 0],\n",
    "    \"--\",\n",
    "    c=\"k\",\n",
    "    label=\"Posterior expected mixture\\ncomponents\\n(weighted)\",\n",
    ")\n",
    "ax.plot(x_plot, (trace[\"w\"][:, np.newaxis, :] * post_pdf_contribs).mean(axis=0), \"--\", c=\"k\")\n",
    "\n",
    "ax.set_xlabel(\"Standardized waiting time between eruptions\")\n",
    "\n",
    "ax.set_yticklabels([])\n",
    "ax.set_ylabel(\"Density\")\n",
    "\n",
    "ax.legend(loc=2);"
   ]
  },
  {
   "cell_type": "markdown",
   "metadata": {},
   "source": [
    "The Dirichlet process mixture model is incredibly flexible in terms of the family of parametric component distributions $\\{f_{\\theta}\\ |\\ f_{\\theta} \\in \\Theta\\}$.  We illustrate this flexibility below by using Poisson component distributions to estimate the density of sunspots per year. This dataset can be downloaded from http://www.sidc.be/silso/datafiles. Source: WDC-SILSO, Royal Observatory of Belgium, Brussels."
   ]
  },
  {
   "cell_type": "code",
   "execution_count": null,
   "metadata": {},
   "outputs": [],
   "source": [
    "sunspot_df = pd.read_csv(\n",
    "    pm.get_data(\"sunspot.csv\"), sep=\";\", names=[\"time\", \"sunspot.year\"], usecols=[0, 1]\n",
    ")"
   ]
  },
  {
   "cell_type": "code",
   "execution_count": null,
   "metadata": {},
   "outputs": [],
   "source": [
    "sunspot_df.head()"
   ]
  },
  {
   "cell_type": "markdown",
   "metadata": {},
   "source": [
    "For this example, the model is\n",
    "\n",
    "$$\n",
    "\\begin{align*}\n",
    "    \\alpha\n",
    "        & \\sim \\textrm{Gamma}(1, 1) \\\\\n",
    "    \\beta_1, \\ldots, \\beta_K\n",
    "        & \\sim \\textrm{Beta}(1, \\alpha) \\\\\n",
    "    w_i\n",
    "        & = \\beta_i \\prod_{j = i - 1}^i (1 - \\beta_j) \\\\\n",
    "    \\\\\n",
    "    \\lambda_i, \\ldots, \\lambda_K\n",
    "        & \\sim \\textrm{Gamma}(300, 2)\n",
    "    \\\\\n",
    "    x\\ |\\ w_i, \\lambda_i\n",
    "        & \\sim \\sum_{i = 1}^K w_i\\ \\textrm{Poisson}(\\lambda_i).\n",
    "\\end{align*}\n",
    "$$"
   ]
  },
  {
   "cell_type": "code",
   "execution_count": null,
   "metadata": {},
   "outputs": [],
   "source": [
    "K = 50\n",
    "N = sunspot_df.shape[0]"
   ]
  },
  {
   "cell_type": "code",
   "execution_count": null,
   "metadata": {},
   "outputs": [],
   "source": [
    "with pm.Model() as model:\n",
    "    alpha = pm.Gamma(\"alpha\", 1.0, 1.0)\n",
    "    beta = pm.Beta(\"beta\", 1, alpha, shape=K)\n",
    "    w = pm.Deterministic(\"w\", stick_breaking(beta))\n",
    "    # Gamma is conjugate prior to Poisson\n",
    "    lambda_ = pm.Gamma(\"lambda_\", 300.0, 2.0, shape=K)\n",
    "    obs = pm.Mixture(\"obs\", w, pm.Poisson.dist(lambda_), observed=sunspot_df[\"sunspot.year\"])"
   ]
  },
  {
   "cell_type": "code",
   "execution_count": null,
   "metadata": {},
   "outputs": [],
   "source": [
    "with model:\n",
    "    trace = pm.sample(2000, tune=5000, chains=4, init=\"advi\", target_accept=0.8, random_seed=SEED)"
   ]
  },
  {
   "cell_type": "markdown",
   "metadata": {},
   "source": [
    "For the sunspot model, the posterior distribution of $\\alpha$ is concentrated between 0.6 and 1.2, indicating that we should expect more components to contribute non-negligible amounts to the mixture than for the Old Faithful waiting time model."
   ]
  },
  {
   "cell_type": "code",
   "execution_count": null,
   "metadata": {
    "scrolled": true
   },
   "outputs": [],
   "source": [
    "az.plot_trace(trace, var_names=[\"alpha\"]);"
   ]
  },
  {
   "cell_type": "markdown",
   "metadata": {},
   "source": [
    "Indeed, we see that between ten and fifteen mixture components have appreciable posterior expected weight."
   ]
  },
  {
   "cell_type": "code",
   "execution_count": null,
   "metadata": {},
   "outputs": [],
   "source": [
    "fig, ax = plt.subplots(figsize=(8, 6))\n",
    "\n",
    "plot_w = np.arange(K) + 1\n",
    "\n",
    "ax.bar(plot_w - 0.5, trace[\"w\"].mean(axis=0), width=1.0, lw=0)\n",
    "\n",
    "ax.set_xlim(0.5, K)\n",
    "ax.set_xlabel(\"Component\")\n",
    "\n",
    "ax.set_ylabel(\"Posterior expected mixture weight\");"
   ]
  },
  {
   "cell_type": "markdown",
   "metadata": {},
   "source": [
    "We now calculate and plot the fitted density estimate."
   ]
  },
  {
   "cell_type": "code",
   "execution_count": null,
   "metadata": {},
   "outputs": [],
   "source": [
    "x_plot = np.arange(250)"
   ]
  },
  {
   "cell_type": "code",
   "execution_count": null,
   "metadata": {},
   "outputs": [],
   "source": [
    "post_pmf_contribs = sp.stats.poisson.pmf(np.atleast_3d(x_plot), trace[\"lambda_\"][:, np.newaxis, :])\n",
    "post_pmfs = (trace[\"w\"][:, np.newaxis, :] * post_pmf_contribs).sum(axis=-1)\n",
    "\n",
    "post_pmf_low, post_pmf_high = np.percentile(post_pmfs, [2.5, 97.5], axis=0)"
   ]
  },
  {
   "cell_type": "code",
   "execution_count": null,
   "metadata": {},
   "outputs": [],
   "source": [
    "fig, ax = plt.subplots(figsize=(8, 6))\n",
    "\n",
    "ax.hist(sunspot_df[\"sunspot.year\"].values, bins=40, density=True, lw=0, alpha=0.75)\n",
    "\n",
    "ax.fill_between(x_plot, post_pmf_low, post_pmf_high, color=\"gray\", alpha=0.45)\n",
    "ax.plot(x_plot, post_pmfs[0], c=\"gray\", label=\"Posterior sample densities\")\n",
    "ax.plot(x_plot, post_pmfs[::200].T, c=\"gray\")\n",
    "ax.plot(x_plot, post_pmfs.mean(axis=0), c=\"k\", label=\"Posterior expected density\")\n",
    "\n",
    "ax.set_xlabel(\"Yearly sunspot count\")\n",
    "ax.set_yticklabels([])\n",
    "ax.legend(loc=1);"
   ]
  },
  {
   "cell_type": "markdown",
   "metadata": {},
   "source": [
    "Again, we can decompose the posterior expected density into weighted mixture densities."
   ]
  },
  {
   "cell_type": "code",
   "execution_count": null,
   "metadata": {},
   "outputs": [],
   "source": [
    "fig, ax = plt.subplots(figsize=(8, 6))\n",
    "\n",
    "ax.hist(sunspot_df[\"sunspot.year\"].values, bins=40, density=True, lw=0, alpha=0.75)\n",
    "ax.plot(x_plot, post_pmfs.mean(axis=0), c=\"k\", label=\"Posterior expected density\")\n",
    "ax.plot(\n",
    "    x_plot,\n",
    "    (trace[\"w\"][:, np.newaxis, :] * post_pmf_contribs).mean(axis=0)[:, 0],\n",
    "    \"--\",\n",
    "    c=\"k\",\n",
    "    label=\"Posterior expected\\nmixture components\\n(weighted)\",\n",
    ")\n",
    "ax.plot(x_plot, (trace[\"w\"][:, np.newaxis, :] * post_pmf_contribs).mean(axis=0), \"--\", c=\"k\")\n",
    "\n",
    "ax.set_xlabel(\"Yearly sunspot count\")\n",
    "ax.set_yticklabels([])\n",
    "ax.legend(loc=1);"
   ]
  },
  {
   "cell_type": "markdown",
   "metadata": {},
   "source": [
    "An earlier version of this example first appeared [here](http://austinrochford.com/posts/2016-02-25-density-estimation-dpm.html)."
   ]
  },
  {
   "cell_type": "code",
   "execution_count": null,
   "metadata": {},
   "outputs": [],
   "source": [
    "%load_ext watermark\n",
    "%watermark -n -u -v -iv -w"
   ]
  },
  {
   "cell_type": "code",
   "execution_count": null,
   "metadata": {},
   "outputs": [],
   "source": []
  }
 ],
 "metadata": {
  "anaconda-cloud": {},
  "kernelspec": {
   "display_name": "pymc-v3",
   "language": "python",
   "name": "pymc-v3"
  },
  "language_info": {
   "codemirror_mode": {
    "name": "ipython",
    "version": 3
   },
   "file_extension": ".py",
   "mimetype": "text/x-python",
   "name": "python",
   "nbconvert_exporter": "python",
   "pygments_lexer": "ipython3",
   "version": "3.9.9"
  },
  "toc": {
   "base_numbering": 1,
   "nav_menu": {},
   "number_sections": true,
   "sideBar": true,
   "skip_h1_title": false,
   "title_cell": "Agenda",
   "title_sidebar": "Agenda",
   "toc_cell": true,
   "toc_position": {},
   "toc_section_display": true,
   "toc_window_display": true
  },
  "widgets": {
   "state": {},
   "version": "1.1.2"
  }
 },
 "nbformat": 4,
 "nbformat_minor": 4
}
