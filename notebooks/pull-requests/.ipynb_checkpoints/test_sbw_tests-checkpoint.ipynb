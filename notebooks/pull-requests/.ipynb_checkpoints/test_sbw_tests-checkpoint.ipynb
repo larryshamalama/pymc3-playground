{
 "cells": [
  {
   "cell_type": "code",
   "execution_count": 1,
   "id": "76b48961",
   "metadata": {},
   "outputs": [],
   "source": [
    "import sys\n",
    "sys.path.insert(0, \"../../../pymc\")\n",
    "\n",
    "import numpy as np\n",
    "import pymc as pm\n",
    "\n",
    "import aesara.tensor as at\n",
    "\n",
    "from pymc.aesaraf import intX"
   ]
  },
  {
   "cell_type": "code",
   "execution_count": 2,
   "id": "995b12b1",
   "metadata": {},
   "outputs": [
    {
     "data": {
      "text/plain": [
       "array(-inf)"
      ]
     },
     "execution_count": 2,
     "metadata": {},
     "output_type": "execute_result"
    }
   ],
   "source": [
    "value = np.array([0.4, 0.3, 0.2, 0.15])\n",
    "pm.StickBreakingWeights.logp(value, 3., 4).eval()"
   ]
  },
  {
   "cell_type": "code",
   "execution_count": null,
   "id": "18e5f592",
   "metadata": {},
   "outputs": [],
   "source": []
  }
 ],
 "metadata": {
  "kernelspec": {
   "display_name": "pymc3-dev-py38",
   "language": "python",
   "name": "pymc3-dev-py38"
  },
  "language_info": {
   "codemirror_mode": {
    "name": "ipython",
    "version": 3
   },
   "file_extension": ".py",
   "mimetype": "text/x-python",
   "name": "python",
   "nbconvert_exporter": "python",
   "pygments_lexer": "ipython3",
   "version": "3.8.10"
  }
 },
 "nbformat": 4,
 "nbformat_minor": 5
}
