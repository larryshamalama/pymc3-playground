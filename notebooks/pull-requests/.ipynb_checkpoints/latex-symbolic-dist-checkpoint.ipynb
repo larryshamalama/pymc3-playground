{
 "cells": [
  {
   "cell_type": "code",
   "execution_count": 1,
   "id": "8e830bdb",
   "metadata": {},
   "outputs": [],
   "source": [
    "import pymc as pm\n",
    "import itertools\n",
    "\n",
    "from functools import singledispatch\n",
    "\n",
    "%matplotlib inline"
   ]
  },
  {
   "cell_type": "code",
   "execution_count": 2,
   "id": "1a08b569",
   "metadata": {},
   "outputs": [],
   "source": [
    "class SomeRV:\n",
    "    def __init__(self):\n",
    "        some_instance = \"hello world\"\n",
    "    \n",
    "    @property\n",
    "    def repr_str(self):\n",
    "        raise ValueError(\"repr_str not yet initialized\")\n",
    "    \n",
    "    def set_repr_str(self, some_class):\n",
    "        print(some_class == SymbolicDist)\n",
    "        return _set_repr_str(some_class)\n",
    "\n",
    "class SymbolicDist:\n",
    "    \n",
    "    def __new__(cls):\n",
    "        a = SomeRV()\n",
    "        print(cls == SymbolicDist)\n",
    "        a.set_repr_str(cls)\n",
    "        \n",
    "        return a\n",
    "\n",
    "@singledispatch\n",
    "def _set_repr_str(obj):\n",
    "    obj.repr_str = \"hello world\"\n",
    "    \n",
    "@_set_repr_str.register(object) # or SymbolicDist here...?\n",
    "def _set_repr_str_test(obj):\n",
    "    obj.repr_str = \"object is SymbolicDist\""
   ]
  },
  {
   "cell_type": "code",
   "execution_count": 3,
   "id": "270557d9",
   "metadata": {},
   "outputs": [
    {
     "name": "stdout",
     "output_type": "stream",
     "text": [
      "True\n",
      "True\n"
     ]
    }
   ],
   "source": [
    "b = SymbolicDist()"
   ]
  },
  {
   "cell_type": "code",
   "execution_count": 4,
   "id": "0bfba4d3",
   "metadata": {},
   "outputs": [
    {
     "ename": "ValueError",
     "evalue": "repr_str not yet initialized",
     "output_type": "error",
     "traceback": [
      "\u001b[0;31m---------------------------------------------------------------------------\u001b[0m",
      "\u001b[0;31mValueError\u001b[0m                                Traceback (most recent call last)",
      "Input \u001b[0;32mIn [4]\u001b[0m, in \u001b[0;36m<cell line: 1>\u001b[0;34m()\u001b[0m\n\u001b[0;32m----> 1\u001b[0m \u001b[43mb\u001b[49m\u001b[38;5;241;43m.\u001b[39;49m\u001b[43mrepr_str\u001b[49m\n",
      "Input \u001b[0;32mIn [2]\u001b[0m, in \u001b[0;36mSomeRV.repr_str\u001b[0;34m(self)\u001b[0m\n\u001b[1;32m      5\u001b[0m \u001b[38;5;129m@property\u001b[39m\n\u001b[1;32m      6\u001b[0m \u001b[38;5;28;01mdef\u001b[39;00m \u001b[38;5;21mrepr_str\u001b[39m(\u001b[38;5;28mself\u001b[39m):\n\u001b[0;32m----> 7\u001b[0m     \u001b[38;5;28;01mraise\u001b[39;00m \u001b[38;5;167;01mValueError\u001b[39;00m(\u001b[38;5;124m\"\u001b[39m\u001b[38;5;124mrepr_str not yet initialized\u001b[39m\u001b[38;5;124m\"\u001b[39m)\n",
      "\u001b[0;31mValueError\u001b[0m: repr_str not yet initialized"
     ]
    }
   ],
   "source": [
    "b.repr_str"
   ]
  },
  {
   "cell_type": "code",
   "execution_count": null,
   "id": "943cb9be",
   "metadata": {},
   "outputs": [],
   "source": []
  }
 ],
 "metadata": {
  "kernelspec": {
   "display_name": "py39",
   "language": "python",
   "name": "py39"
  },
  "language_info": {
   "codemirror_mode": {
    "name": "ipython",
    "version": 3
   },
   "file_extension": ".py",
   "mimetype": "text/x-python",
   "name": "python",
   "nbconvert_exporter": "python",
   "pygments_lexer": "ipython3",
   "version": "3.9.12"
  }
 },
 "nbformat": 4,
 "nbformat_minor": 5
}
