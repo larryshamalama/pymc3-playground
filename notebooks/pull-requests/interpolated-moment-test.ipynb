{
 "cells": [
  {
   "cell_type": "code",
   "execution_count": 1,
   "id": "147f75cc",
   "metadata": {},
   "outputs": [],
   "source": [
    "import numpy as np\n",
    "\n",
    "from scipy.interpolate import InterpolatedUnivariateSpline"
   ]
  },
  {
   "cell_type": "code",
   "execution_count": 2,
   "id": "9520d660",
   "metadata": {},
   "outputs": [],
   "source": [
    "interpolated_tests = [\n",
    "    (np.array([-1, 1]), np.array([0.4, 0.6]), None, 0.2),\n",
    "    (np.array([-4, -1, 3, 9, 19]), np.array([0.1 , 0.15, 0.2 , 0.25, 0.3]), None, 8),\n",
    "    (np.array([-22, -4, 0, 8, 13]), np.tile(1 / 5, 5), (5, 3), -np.ones((5, 3))),\n",
    "    (\n",
    "        np.arange(-100, 10),\n",
    "        np.arange(1, 111) / 6105,\n",
    "        (2, 5, 3),\n",
    "        np.broadcast_to(-82 / 3, (2, 5, 3)),\n",
    "    ),\n",
    "]"
   ]
  },
  {
   "cell_type": "code",
   "execution_count": 3,
   "id": "b4d12bf2",
   "metadata": {},
   "outputs": [],
   "source": [
    "def get_interpolated_pdf(x_points, pdf_points):\n",
    "\n",
    "    interp = InterpolatedUnivariateSpline(x_points, pdf_points, k=1, ext=\"zeros\")\n",
    "\n",
    "    Z = interp.integral(x_points[0], x_points[-1])\n",
    "    cdf_points = interp.antiderivative()(x_points) / Z\n",
    "    pdf_points = pdf_points / Z\n",
    "    \n",
    "    return pdf_points"
   ]
  },
  {
   "cell_type": "code",
   "execution_count": 4,
   "id": "55bd5975",
   "metadata": {},
   "outputs": [
    {
     "name": "stdout",
     "output_type": "stream",
     "text": [
      "0.19999999999999996\n",
      "1.5458937198067635\n",
      "-0.14285714285714296\n",
      "-27.584097859327223\n"
     ]
    }
   ],
   "source": [
    "for (x, pdf, _, _) in interpolated_tests:\n",
    "    print(x@get_interpolated_pdf(x, pdf))"
   ]
  },
  {
   "cell_type": "code",
   "execution_count": null,
   "id": "efa04efb",
   "metadata": {},
   "outputs": [],
   "source": []
  }
 ],
 "metadata": {
  "kernelspec": {
   "display_name": "pymc3-dev-py38",
   "language": "python",
   "name": "pymc3-dev-py38"
  },
  "language_info": {
   "codemirror_mode": {
    "name": "ipython",
    "version": 3
   },
   "file_extension": ".py",
   "mimetype": "text/x-python",
   "name": "python",
   "nbconvert_exporter": "python",
   "pygments_lexer": "ipython3",
   "version": "3.8.10"
  }
 },
 "nbformat": 4,
 "nbformat_minor": 5
}
